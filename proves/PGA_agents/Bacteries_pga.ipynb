{
 "cells": [
  {
   "attachments": {},
   "cell_type": "markdown",
   "metadata": {},
   "source": [
    "# [Bacterial Colony Growth](@id Bacteries)\n",
    "\n",
    "In this example, we are going to create a bacterial model and grow a colony using it.\n",
    "\n",
    " - The implementation of the force interaction dynamics is the one presented by [Volfson et al. (2008)](https://www.pnas.org/doi/abs/10.1073/pnas.0706805105)\n",
    " - We use GPU accelerated dynamics\n",
    "\n",
    "As described in other models, it is advised that the models are constructed by parts to avoid having to find bugs in a very complex system. Hence, we will split the model in two parts:\n",
    "\n",
    " - Forces model\n",
    " - Growth model"
   ]
  },
  {
   "cell_type": "markdown",
   "metadata": {},
   "source": [
    "## Load the packages"
   ]
  },
  {
   "cell_type": "code",
   "execution_count": 1,
   "metadata": {},
   "outputs": [
    {
     "name": "stderr",
     "output_type": "stream",
     "text": [
      "\u001b[32m\u001b[1m  Activating\u001b[22m\u001b[39m project at `c:\\Users\\u256063\\Desktop\\Projects\\ABM_2\\ABM_CBM`\n"
     ]
    }
   ],
   "source": [
    "import Pkg\n",
    "Pkg.activate(\"../\")\n",
    "Pkg.instantiate()\n"
   ]
  },
  {
   "cell_type": "code",
   "execution_count": 2,
   "metadata": {},
   "outputs": [
    {
     "name": "stderr",
     "output_type": "stream",
     "text": [
      "\u001b[32m\u001b[1m   Resolving\u001b[22m\u001b[39m package versions...\n",
      "\u001b[32m\u001b[1m  No Changes\u001b[22m\u001b[39m to `C:\\Users\\u256063\\Desktop\\Projects\\ABM_2\\ABM_CBM\\Project.toml`\n",
      "\u001b[32m\u001b[1m  No Changes\u001b[22m\u001b[39m to `C:\\Users\\u256063\\Desktop\\Projects\\ABM_2\\ABM_CBM\\Manifest.toml`\n"
     ]
    }
   ],
   "source": [
    "import Pkg; Pkg.add([\"Revise\", \"GLMakie\"])"
   ]
  },
  {
   "cell_type": "code",
   "execution_count": 3,
   "metadata": {},
   "outputs": [
    {
     "name": "stderr",
     "output_type": "stream",
     "text": [
      "\u001b[33m\u001b[1m┌ \u001b[22m\u001b[39m\u001b[33m\u001b[1mWarning: \u001b[22m\u001b[39mCUDA runtime library nvrtc64_112_0.dll was loaded from a system path. This may cause errors.\n",
      "\u001b[33m\u001b[1m│ \u001b[22m\u001b[39mEnsure that you have not set the LD_LIBRARY_PATH environment variable, or that it does not contain paths to CUDA libraries.\n",
      "\u001b[33m\u001b[1m└ \u001b[22m\u001b[39m\u001b[90m@ CUDA C:\\Users\\u256063\\.julia\\packages\\CUDA\\jdJ7Z\\src\\initialization.jl:187\u001b[39m\n"
     ]
    }
   ],
   "source": [
    "using Revise\n",
    "using CellBasedModels\n",
    "using CUDA\n",
    "using Distributions\n",
    "using GLMakie\n",
    "# using GeometryBasics\n",
    "import GLMakie: Point3f, Cylinder, Sphere, NoShading #Can be changes to Cairo or CLMakie"
   ]
  },
  {
   "attachments": {},
   "cell_type": "markdown",
   "metadata": {},
   "source": [
    "## Forces model\n",
    "\n",
    "We already use the defined forces model that is implemented in CBMModels. This is an exact copy of the rod model that you can find already predefined in `Models/rods.jl`. You can check the `Models` section of the documentation for more details.\n"
   ]
  },
  {
   "cell_type": "code",
   "execution_count": 4,
   "metadata": {},
   "outputs": [],
   "source": [
    "rod2D = ABM(2,\n",
    "    agent = Dict(\n",
    "            :theta=>Float64,\n",
    "            :d=>Float64,\n",
    "            :l=>Float64,\n",
    "            :fx=>Float64,\n",
    "            :fy=>Float64,\n",
    "            :W=>Float64,\n",
    "            :pressure=>Float64,\n",
    "            :type=>Int,\n",
    "        ),    #Local Interaction Parameters\n",
    "\n",
    "    model = Dict(\n",
    "            :n=>Int,\n",
    "            :Ebb=>Float64,\n",
    "            :Ebg=>Float64,\n",
    "            :Egg=>Float64,\n",
    "            :epsbb=>Float64,\n",
    "            :epsbg=>Float64,\n",
    "            :epsgg=>Float64,\n",
    "            :etab=>Float64,\n",
    "            :etag=>Float64,\n",
    "        ),        #Global parameters\n",
    "\n",
    "    agentODE = quote\n",
    "\n",
    "        fx = 0\n",
    "        fy = 0\n",
    "        W = 0\n",
    "        pressure = 0\n",
    "        @loopOverNeighbors i2 begin\n",
    "\n",
    "            #Use the model provided in the documentation\n",
    "            Fijx, Fijy, Wij = CBMModels.repulsiveForces(x,y,d,l,theta,etab,type, \n",
    "                                    x[i2],y[i2],d[i2],l[i2],theta[i2],etag,type[i2], Ebb, Ebg, Egg)\n",
    "\n",
    "            #Append the repulsive forces\n",
    "            fx += Fijx\n",
    "            fy += Fijy\n",
    "            W += Wij\n",
    "\n",
    "            #Keep track of preassure in the media\n",
    "            pressure += sqrt(Fijx^2+Fijy^2)\n",
    "            #Use the model provided in the documentation\n",
    "            Fijx, Fijy, Wij = CBMModels.attractiveForces(x,y,d,l,theta,etab,type, \n",
    "                                    x[i2],y[i2],d[i2],l[i2],theta[i2],etag,type[i2], epsbb, epsbg, epsgg)\n",
    "\n",
    "            \n",
    "            \n",
    "            #Append the repulsive forces\n",
    "            fx += Fijx\n",
    "            fy += Fijy\n",
    "            W += Wij\n",
    "            #Keep track of preassure in the media\n",
    "            pressure += sqrt(Fijx^2+Fijy^2)\n",
    "            \n",
    "        end\n",
    "\n",
    "        #Equations\n",
    "        dt(x) =  fx \n",
    "        dt(y) =  fy \n",
    "        dt(theta) =  W\n",
    "    end,\n",
    "\n",
    "    neighborsAlg=CBMNeighbors.CellLinked(cellEdge=4),\n",
    "    platform=GPU(),\n",
    "    agentAlg = CBMIntegrators.Heun()\n",
    ");\n"
   ]
  },
  {
   "attachments": {},
   "cell_type": "markdown",
   "metadata": {},
   "source": [
    "### Initialize a community with two bacteries and check forces"
   ]
  },
  {
   "cell_type": "code",
   "execution_count": 5,
   "metadata": {},
   "outputs": [
    {
     "data": {
      "text/plain": [
       "1.8000000000000003"
      ]
     },
     "execution_count": 5,
     "metadata": {},
     "output_type": "execute_result"
    }
   ],
   "source": [
    "com = Community(rod2D,\n",
    "            N=30,\n",
    "            dt=1.,\n",
    "            simBox = [-10 10;-10 10.],\n",
    "            );\n",
    "\n",
    "#Natural units scales\n",
    "m = 1.E-12 #ng\n",
    "t = 1/(60*60) # h\n",
    "d = 1.E-6 #um\n",
    "\n",
    "\n",
    "com.n=30\n",
    "com.Ebb=100. *m/(t^2*d)*1.E-3 #kPa\n",
    "com.Ebg=100. *m/(t^2*d)*1.E-3 #kPa\n",
    "com.Egg=100. *m/(t^2*d)*1.E-3 #kPa\n",
    "\n",
    "com.epsbb=3.E8 *m*d/t^2 #Pa um^2\n",
    "com.epsbg=28. *m*d/t^2 #Pa um^2\n",
    "com.epsgg=18. *m*d/t^2 #Pa um^2\n",
    "\n",
    "com.etab=500 *m/(t*d) #Pa h\n",
    "com.etag=500 *m/(t*d) #Pa h\n"
   ]
  },
  {
   "cell_type": "code",
   "execution_count": 6,
   "metadata": {},
   "outputs": [
    {
     "data": {
      "text/plain": [
       "([1.296], [0.003887999999999999], [1.8000000000000003])"
      ]
     },
     "execution_count": 6,
     "metadata": {},
     "output_type": "execute_result"
    }
   ],
   "source": [
    "com.Ebb, com.epsbb, com.etab"
   ]
  },
  {
   "cell_type": "code",
   "execution_count": 7,
   "metadata": {},
   "outputs": [],
   "source": [
    "for i in 1:com.N\n",
    "    com.theta[i] = rand() * 2π\n",
    "    com.x[i] = rand()*16-8\n",
    "    com.y[i] = rand()*16-8\n",
    "    if i <= com.n[1]  # agentes del 0 al 4 (long rods)\n",
    "        com.type[i] = 0\n",
    "        com.l[i] = 3.0\n",
    "        com.d[i] = 1.0\n",
    "    else       # agentes del 5 al 9 (puntos o discos)\n",
    "        com.type[i] = 1\n",
    "        com.l[i] = 0\n",
    "        com.d[i] = 0.8\n",
    "    end\n",
    "end"
   ]
  },
  {
   "cell_type": "code",
   "execution_count": 8,
   "metadata": {},
   "outputs": [],
   "source": [
    "evolve!(com,steps=8000,saveEach=100,preallocateAgents=com.N)"
   ]
  },
  {
   "cell_type": "code",
   "execution_count": 9,
   "metadata": {},
   "outputs": [
    {
     "data": {
      "text/plain": [
       "plotMixedAgents2D! (generic function with 1 method)"
      ]
     },
     "execution_count": 9,
     "metadata": {},
     "output_type": "execute_result"
    }
   ],
   "source": [
    "function plotMixedAgents2D!(ax, x, y, d, l, angle, type, p; kargs...)\n",
    "    for (xi, yi, li, di, ai, ti, pi) in zip(x, y, l, d, angle, type, p)\n",
    "\n",
    "\n",
    "        if ti== 0  # rods\n",
    "            colorval = pi\n",
    "            colormap = :inferno\n",
    "            meshscatter!(ax,\n",
    "                [xi + li/2 * cos(ai)],\n",
    "                [yi + li/2 * sin(ai)];\n",
    "                marker = Sphere(Point3f(0, 0, 0), Float32(1)),\n",
    "                markersize = [Point3f(di/2, di/2, di/2)],\n",
    "                color = [colorval],\n",
    "                colormap = colormap,\n",
    "                kargs...\n",
    "            )\n",
    "            meshscatter!(ax,\n",
    "                [xi - li/2 * cos(ai)],\n",
    "                [yi - li/2 * sin(ai)];\n",
    "                marker = Sphere(Point3f(0, 0, 0), Float32(1)),\n",
    "                markersize = [Point3f(di/2, di/2, di/2)],\n",
    "                color = [colorval],\n",
    "                colormap = colormap,\n",
    "                kargs...\n",
    "            )\n",
    "            meshscatter!(ax,\n",
    "                [xi],\n",
    "                [yi];\n",
    "                marker = Cylinder(Point3f(-.5, 0, 0), Point3f(.5, 0, 0), Float32(1)),\n",
    "                markersize = [Point3f(li, di/2, di/2)],\n",
    "                rotation = [ai],\n",
    "                color = [colorval],\n",
    "                colormap = colormap,\n",
    "                kargs...\n",
    "            )\n",
    "        else  # puntos\n",
    "            colorval = RGBf(0, 1, 1)  # rojo puro\n",
    "            meshscatter!(ax,\n",
    "                [Point3f(xi, yi, 0.0)];  # ¡usar coordenadas 3D!\n",
    "                marker = Sphere(Point3f(0, 0, 0), Float32(1)),\n",
    "                markersize = [Point3f(di/2, di/2, di/2)],  # ¡tamaño real 3D!\n",
    "                color = [colorval],\n",
    "                kargs...\n",
    "            )\n",
    "        end\n",
    "\n",
    "    end\n",
    "    return\n",
    "end\n"
   ]
  },
  {
   "cell_type": "code",
   "execution_count": 10,
   "metadata": {},
   "outputs": [
    {
     "data": {
      "text/plain": [
       "GLMakie.Screen(...)"
      ]
     },
     "execution_count": 10,
     "metadata": {},
     "output_type": "execute_result"
    }
   ],
   "source": [
    "fig = Figure(size=(1500,300))\n",
    "\n",
    "for (i,j) in enumerate([1:round(Int,length(com)/4):length(com);length(com)])\n",
    "    ax = Axis3(fig[1,i],\n",
    "                azimuth=3*π/2,\n",
    "                elevation=π/2,\n",
    "                zlabelvisible=false,\n",
    "                zticklabelsvisible=false,\n",
    "                zgridvisible=false,\n",
    "                zspinesvisible=false\n",
    "            )\n",
    "\n",
    "    plotMixedAgents2D!(\n",
    "    ax,\n",
    "    com[j][:x],\n",
    "    com[j][:y],\n",
    "    com[j][:d],\n",
    "    com[j][:l],\n",
    "    com[j][:theta],\n",
    "    com[j][:type],\n",
    "    com[j][:pressure],\n",
    "    colorrange = (0, maximum(com.pressure))\n",
    ")\n",
    "    xlims!(-10,10)\n",
    "    ylims!(-10,10)\n",
    "end\n",
    "\n",
    "display(fig)"
   ]
  },
  {
   "attachments": {},
   "cell_type": "markdown",
   "metadata": {},
   "source": [
    "## Growth model\n",
    "\n",
    "We construct over the forces model to add bacterial growth and cell division rules."
   ]
  },
  {
   "cell_type": "code",
   "execution_count": 11,
   "metadata": {},
   "outputs": [],
   "source": [
    "rods2dGrowth = ABM(2,\n",
    "    baseModelInit = [rod2D],\n",
    "\n",
    "    agent = Dict(\n",
    "                :lTarget => Float64,\n",
    "            ),\n",
    "\n",
    "    model = Dict(\n",
    "                :growth=>Float64,\n",
    "                :σlTarget=>Float64,\n",
    "                :lMax=>Float64,\n",
    "                :α=>Float64,\n",
    "                :σ=>Float64,\n",
    "                :p_half=>Float64,\n",
    "            ),\n",
    "\n",
    " \n",
    "    agentODE = quote\n",
    "        if type == 0\n",
    "            dt(l) = growth/(1+α*pressure) #linear growth with growth dependent on the pressure over the cell\n",
    "        end\n",
    "        \n",
    "    end,\n",
    "\n",
    "    agentRule = quote #Bound cells\n",
    "        #Add division\n",
    "        if l > lTarget\n",
    "            ww = CBMDistributions.uniform(-.1,.1)/10000 #To add some random torque at division time\n",
    "            # ww = 0 #To add some random torque at division time\n",
    "            #Add a new cell\n",
    "            @addAgent(\n",
    "                    x=(l+d)/4*cos(theta)+x,\n",
    "                    y=(l+d)/4*sin(theta)+y,\n",
    "                    l=(l-d)/2,\n",
    "                    W=ww,\n",
    "                    lTarget = CBMDistributions.uniform(lMax-σlTarget,lMax+σlTarget), #New target length at which the bactery should divide\n",
    "                    type=0)\n",
    "            #Add a second cell\n",
    "            @addAgent(\n",
    "                    x=-(l+d)/4*cos(theta)+x,\n",
    "                    y=-(l+d)/4*sin(theta)+y,\n",
    "                    l=(l-d)/2,\n",
    "                    lTarget = CBMDistributions.uniform(lMax-σlTarget,lMax+σlTarget), #New target length at which the bactery should divide\n",
    "                    W=ww,\n",
    "                    type=0)\n",
    "            #Remove the old cell\n",
    "            @removeAgent()\n",
    "        end\n",
    "        # Probability of releasing PGA with a saturating function\n",
    "        prelease = σ * pressure^5 / (p_half^5 + pressure^5)\n",
    "\n",
    "        if CBMDistributions.uniform(0, 1) < prelease\n",
    "            # PGA release!\n",
    "            # You could mark it, count it, or log it here\n",
    "            # @info \"PGA released at step $(step) by agent ID $(id)\"\n",
    "            aux=CBMDistributions.rand_pm()\n",
    "            @addAgent(\n",
    "                    # x=((l+d)*(rand()-1/2)+aux*d/2)*cos(theta)+x,\n",
    "                    # y=((l+d)*(rand()-1/2)-aux*d/2)*sin(theta)+y,\n",
    "                    x=(CBMDistributions.uniform(-1,1)*(l+d)/2+aux*d/2)*cos(theta)+x,\n",
    "                    y=(CBMDistributions.uniform(-1,1)*(l+d)/2-aux*d/2)*sin(theta)+y,\n",
    "                    l=0,\n",
    "                    d=0.5,\n",
    "                    lTarget = CBMDistributions.uniform(lMax-σlTarget,lMax+σlTarget), #New target length at which the bactery should divide\n",
    "                    type=1)\n",
    "\n",
    "        end\n",
    "\n",
    "\n",
    "           \n",
    "\n",
    "    end,\n",
    "\n",
    "    neighborsAlg=CBMNeighbors.CellLinked(cellEdge=4),\n",
    "    platform=GPU(),\n",
    "    agentAlg=CBMIntegrators.Heun()\n",
    ");"
   ]
  },
  {
   "cell_type": "markdown",
   "metadata": {},
   "source": [
    "## Grow colony from one cell"
   ]
  },
  {
   "cell_type": "code",
   "execution_count": 12,
   "metadata": {},
   "outputs": [],
   "source": [
    "com = Community(rods2dGrowth,\n",
    "            N=1,\n",
    "            dt=1.,\n",
    "            simBox = [-100 100;-100 100.],\n",
    "            );\n",
    "\n",
    "#Natural units scales\n",
    "m = 1.E-12 #ng\n",
    "t = 1/(60*60) # h\n",
    "d = 1.E-6 #um\n",
    "\n",
    "\n",
    "com.n=30\n",
    "com.Ebb=20. *m/(t^2*d)*1.E-3 #kPa\n",
    "com.Ebg=10. *m/(t^2*d)*1.E-3 #kPa\n",
    "com.Egg=5. *m/(t^2*d)*1.E-3 #kPa\n",
    "\n",
    "com.epsbb=2.E7 *m*d/t^2 #Pa um^2\n",
    "com.epsbg=18. *m*d/t^2 #Pa um^2\n",
    "com.epsgg=18. *m*d/t^2 #Pa um^2\n",
    "\n",
    "com.etab=500 *m/(t*d) #Pa h\n",
    "com.etag=500 *m/(t*d) #Pa h\n",
    "\n",
    "\n",
    "\n",
    "\n",
    "com.growth = 0.5 * t\n",
    "com.lMax = 3.     \n",
    "com.σlTarget = .2 \n",
    "com.α = 200\n",
    "com.σ = 1E-2\n",
    "com.type=0\n",
    "\n",
    "com.d = 1.        \n",
    "com.l = 2.99      \n",
    "com.lTarget = 3.  \n",
    "\n",
    "com.p_half=0.07\n",
    "\n",
    "com.x = 0\n",
    "com.y = 0\n",
    "com.theta = 0;"
   ]
  },
  {
   "cell_type": "code",
   "execution_count": 13,
   "metadata": {},
   "outputs": [
    {
     "name": "stdout",
     "output_type": "stream",
     "text": [
      "Step: 10000 N: 2\n",
      "Step: 20000 N: 4\n",
      "Step: 30000 N: 6\n",
      "Step: 40000 N: 8\n",
      "Step: 50000 N: 16\n",
      "Step: 60000 N: 23\n",
      "Step: 70000 N: 33\n",
      "Step: 80000 N: 56\n",
      "Step: 90000 N: 69\n",
      "Step: 100000 N: 114\n",
      "Step: 110000 N: 160\n",
      "Step: 120000 N: 215\n",
      "Step: 130000 N: 324\n",
      "Step: 140000 N: 403\n",
      "Step: 150000 N: 548\n"
     ]
    }
   ],
   "source": [
    "evolve!(com,\n",
    "        steps=150000,saveEach=1000,\n",
    "        preallocateAgents=5000,\n",
    "        saveCurrentState=true,\n",
    "        progressMessage=(com)->if round(Int,com.t/com.dt)%10000 == 0; println(\"Step: \",round(Int,com.t/com.dt), \" N: \", com.N); end)"
   ]
  },
  {
   "cell_type": "code",
   "execution_count": 18,
   "metadata": {},
   "outputs": [
    {
     "name": "stdout",
     "output_type": "stream",
     "text": [
      "Step: 210000 N: 3481\n",
      "Step: 220000 N: 22279\n"
     ]
    }
   ],
   "source": [
    "evolve!(com,\n",
    "        steps=20000,saveEach=1000,\n",
    "        preallocateAgents=20000,\n",
    "        saveCurrentState=true,\n",
    "        progressMessage=(com)->if round(Int,com.t/com.dt)%10000 == 0; println(\"Step: \",round(Int,com.t/com.dt), \" N: \", com.N); end)"
   ]
  },
  {
   "cell_type": "code",
   "execution_count": 15,
   "metadata": {},
   "outputs": [
    {
     "data": {
      "image/png": "[encoded data removed]",
      "text/html": [
       "<img width=600 height=400 style='object-fit: contain; height: auto;' src=\"data:image/png;base64, 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\"/>"
      ]
     },
     "execution_count": 15,
     "metadata": {},
     "output_type": "execute_result"
    }
   ],
   "source": [
    "# Elegimos un frame, por ejemplo el último\n",
    "p = com[end][:pressure]\n",
    "\n",
    "# Creamos la figura y el eje\n",
    "fig = Figure(size = (600, 400))\n",
    "ax = Axis(fig[1, 1]; xlabel = \"Presión\", ylabel = \"Frecuencia\", title = \"Histograma de presión\")\n",
    "\n",
    "# Dibujamos el histograma\n",
    "hist!(ax, p; bins = 30, color = :slateblue)\n",
    "\n",
    "fig  # Esto muestra la figura en una ventana interactiva"
   ]
  },
  {
   "cell_type": "code",
   "execution_count": 19,
   "metadata": {},
   "outputs": [
    {
     "data": {
      "text/plain": [
       "GLMakie.Screen(...)"
      ]
     },
     "execution_count": 19,
     "metadata": {},
     "output_type": "execute_result"
    }
   ],
   "source": [
    "fig = Figure(size=(1500,300))\n",
    "\n",
    "for (i,j) in enumerate([1:round(Int,length(com)/4):length(com);length(com)])\n",
    "    ax = Axis3(fig[1,i],\n",
    "                azimuth=3*π/2,\n",
    "                elevation=π/2,\n",
    "                zlabelvisible=false,\n",
    "                zticklabelsvisible=false,\n",
    "                zgridvisible=false,\n",
    "                zspinesvisible=false\n",
    "            )\n",
    "\n",
    "    plotMixedAgents2D!(\n",
    "    ax,\n",
    "    com[j][:x],\n",
    "    com[j][:y],\n",
    "    com[j][:d],\n",
    "    com[j][:l],\n",
    "    com[j][:theta],\n",
    "    com[j][:type],\n",
    "    com[j][:pressure],\n",
    "    colorrange = (0, 0.03)\n",
    "    )\n",
    "\n",
    "    xlims!(-50,50)\n",
    "    ylims!(-50,50)\n",
    "end\n",
    "\n",
    "display(fig)"
   ]
  },
  {
   "cell_type": "code",
   "execution_count": 21,
   "metadata": {},
   "outputs": [
    {
     "data": {
      "text/plain": [
       "\"bacterias_video_pressure_pga_proves.mp4\""
      ]
     },
     "execution_count": 21,
     "metadata": {},
     "output_type": "execute_result"
    }
   ],
   "source": [
    "\n",
    "\n",
    "fig = Figure(size = (600, 600))\n",
    "ax = Axis(fig[1, 1]; aspect = DataAspect())\n",
    "\n",
    "# Cálculo del máximo de presión en todos los frames\n",
    "max_pressure = maximum(com.pressure)\n",
    "\n",
    "GLMakie.record(fig, \"bacterias_video_pressure_pga_proves.mp4\", 1:length(com); framerate = 15) do j\n",
    "    # Limpiar el eje\n",
    "    Makie.empty!(ax)\n",
    "\n",
    "    # Dibujar los agentes (usando tu función personalizada)\n",
    "    plotMixedAgents2D!(\n",
    "        ax,\n",
    "        com[j][:x],\n",
    "        com[j][:y],\n",
    "        com[j][:d],\n",
    "        com[j][:l],\n",
    "        com[j][:theta],\n",
    "        com[j][:type],\n",
    "        com[j][:pressure],\n",
    "        colorrange = (0, 0.03)\n",
    "    )\n",
    "\n",
    "    xlims!(ax, -50, 50)\n",
    "    ylims!(ax, -50, 50)\n",
    "end\n"
   ]
  }
 ],
 "metadata": {
  "kernelspec": {
   "display_name": "Julia 1.10.4 1.10.4",
   "language": "julia",
   "name": "julia-1.10.4-1.10"
  },
  "language_info": {
   "file_extension": ".jl",
   "mimetype": "application/julia",
   "name": "julia",
   "version": "1.10.4"
  },
  "orig_nbformat": 4
 },
 "nbformat": 4,
 "nbformat_minor": 2
}
