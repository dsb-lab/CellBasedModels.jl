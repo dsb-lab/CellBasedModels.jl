{
 "cells": [
  {
   "attachments": {},
   "cell_type": "markdown",
   "metadata": {},
   "source": [
    "# [Bacterial Colony Growth](@id Bacteries)\n",
    "\n",
    "In this example, we are going to create a bacterial model and grow a colony using it.\n",
    "\n",
    " - The implementation of the force interaction dynamics is the one presented by [Volfson et al. (2008)](https://www.pnas.org/doi/abs/10.1073/pnas.0706805105)\n",
    " - We use GPU accelerated dynamics\n",
    "\n",
    "As described in other models, it is advised that the models are constructed by parts to avoid having to find bugs in a very complex system. Hence, we will split the model in two parts:\n",
    "\n",
    " - Forces model\n",
    " - Growth model"
   ]
  },
  {
   "cell_type": "markdown",
   "metadata": {},
   "source": [
    "## Load the packages"
   ]
  },
  {
   "cell_type": "code",
   "execution_count": 2,
   "metadata": {},
   "outputs": [
    {
     "name": "stderr",
     "output_type": "stream",
     "text": [
      "\u001b[32m\u001b[1m  Activating\u001b[22m\u001b[39m project at `c:\\Users\\u256063\\Desktop\\Projects\\ABM_2\\ABM_CBM`\n"
     ]
    }
   ],
   "source": [
    "import Pkg\n",
    "Pkg.activate(\"../\")\n",
    "Pkg.instantiate()\n"
   ]
  },
  {
   "cell_type": "code",
   "execution_count": 3,
   "metadata": {},
   "outputs": [
    {
     "name": "stderr",
     "output_type": "stream",
     "text": [
      "\u001b[32m\u001b[1m   Resolving\u001b[22m\u001b[39m package versions...\n",
      "\u001b[32m\u001b[1m  No Changes\u001b[22m\u001b[39m to `C:\\Users\\u256063\\Desktop\\Projects\\ABM_2\\ABM_CBM\\Project.toml`\n",
      "\u001b[32m\u001b[1m  No Changes\u001b[22m\u001b[39m to `C:\\Users\\u256063\\Desktop\\Projects\\ABM_2\\ABM_CBM\\Manifest.toml`\n"
     ]
    }
   ],
   "source": [
    "import Pkg; Pkg.add([\"Revise\", \"GLMakie\"])"
   ]
  },
  {
   "cell_type": "code",
   "execution_count": 4,
   "metadata": {},
   "outputs": [
    {
     "name": "stderr",
     "output_type": "stream",
     "text": [
      "\u001b[33m\u001b[1m┌ \u001b[22m\u001b[39m\u001b[33m\u001b[1mWarning: \u001b[22m\u001b[39mCUDA runtime library nvrtc64_112_0.dll was loaded from a system path. This may cause errors.\n",
      "\u001b[33m\u001b[1m│ \u001b[22m\u001b[39mEnsure that you have not set the LD_LIBRARY_PATH environment variable, or that it does not contain paths to CUDA libraries.\n",
      "\u001b[33m\u001b[1m└ \u001b[22m\u001b[39m\u001b[90m@ CUDA C:\\Users\\u256063\\.julia\\packages\\CUDA\\jdJ7Z\\src\\initialization.jl:187\u001b[39m\n"
     ]
    }
   ],
   "source": [
    "using Revise\n",
    "using CellBasedModels\n",
    "using CUDA\n",
    "using Distributions\n",
    "using GLMakie\n",
    "# using GeometryBasics\n",
    "import GLMakie: Point3f, Cylinder, Sphere, NoShading #Can be changes to Cairo or CLMakie"
   ]
  },
  {
   "attachments": {},
   "cell_type": "markdown",
   "metadata": {},
   "source": [
    "## Forces model\n",
    "\n",
    "We already use the defined forces model that is implemented in CBMModels. This is an exact copy of the rod model that you can find already predefined in `Models/rods.jl`. You can check the `Models` section of the documentation for more details.\n"
   ]
  },
  {
   "cell_type": "code",
   "execution_count": 5,
   "metadata": {},
   "outputs": [],
   "source": [
    "rod2D = ABM(2,\n",
    "    agent = Dict(\n",
    "            :theta=>Float64,\n",
    "            :d=>Float64,\n",
    "            :l=>Float64,\n",
    "            :fx=>Float64,\n",
    "            :fy=>Float64,\n",
    "            :W=>Float64,\n",
    "            :pressure=>Float64,\n",
    "            :type=>Int,\n",
    "        ),    #Local Interaction Parameters\n",
    "\n",
    "    model = Dict(\n",
    "            :n=>Int,\n",
    "            :Ebb=>Float64,\n",
    "            :Ebg=>Float64,\n",
    "            :Egg=>Float64,\n",
    "            :epsbb=>Float64,\n",
    "            :epsbg=>Float64,\n",
    "            :epsgg=>Float64,\n",
    "            :etab=>Float64,\n",
    "            :etag=>Float64,\n",
    "        ),        #Global parameters\n",
    "\n",
    "    agentODE = quote\n",
    "\n",
    "        fx = 0\n",
    "        fy = 0\n",
    "        W = 0\n",
    "        pressure = 0\n",
    "        @loopOverNeighbors i2 begin\n",
    "\n",
    "            #Use the model provided in the documentation\n",
    "            Fijx, Fijy, Wij = CBMModels.repulsiveForces(x,y,d,l,theta,etab,type, \n",
    "                                    x[i2],y[i2],d[i2],l[i2],theta[i2],etag,type[i2], Ebb, Ebg, Egg)\n",
    "\n",
    "            #Append the repulsive forces\n",
    "            fx += Fijx\n",
    "            fy += Fijy\n",
    "            W += Wij\n",
    "\n",
    "            #Keep track of preassure in the media\n",
    "            pressure += sqrt(Fijx^2+Fijy^2)\n",
    "            #Use the model provided in the documentation\n",
    "            Fijx, Fijy, Wij = CBMModels.attractiveForces(x,y,d,l,theta,etab,type, \n",
    "                                    x[i2],y[i2],d[i2],l[i2],theta[i2],etag,type[i2], epsbb, epsbg, epsgg)\n",
    "\n",
    "            \n",
    "            \n",
    "            #Append the repulsive forces\n",
    "            fx += Fijx\n",
    "            fy += Fijy\n",
    "            W += Wij\n",
    "            #Keep track of preassure in the media\n",
    "            pressure += sqrt(Fijx^2+Fijy^2)\n",
    "            \n",
    "        end\n",
    "\n",
    "        #Equations\n",
    "        dt(x) =  fx \n",
    "        dt(y) =  fy \n",
    "        dt(theta) =  W\n",
    "    end,\n",
    "\n",
    "    neighborsAlg=CBMNeighbors.CellLinked(cellEdge=4),\n",
    "    platform=GPU(),\n",
    "    agentAlg = CBMIntegrators.Heun()\n",
    ");\n"
   ]
  },
  {
   "attachments": {},
   "cell_type": "markdown",
   "metadata": {},
   "source": [
    "### Initialize a community with two bacteries and check forces"
   ]
  },
  {
   "cell_type": "code",
   "execution_count": 6,
   "metadata": {},
   "outputs": [
    {
     "data": {
      "text/plain": [
       "1.8000000000000003"
      ]
     },
     "execution_count": 6,
     "metadata": {},
     "output_type": "execute_result"
    }
   ],
   "source": [
    "com = Community(rod2D,\n",
    "            N=30,\n",
    "            dt=1.,\n",
    "            simBox = [-10 10;-10 10.],\n",
    "            );\n",
    "\n",
    "#Natural units scales\n",
    "m = 1.E-12 #ng\n",
    "t = 1/(60*60) # h\n",
    "d = 1.E-6 #um\n",
    "\n",
    "\n",
    "com.n=30\n",
    "com.Ebb=100. *m/(t^2*d)*1.E-3 #kPa\n",
    "com.Ebg=100. *m/(t^2*d)*1.E-3 #kPa\n",
    "com.Egg=100. *m/(t^2*d)*1.E-3 #kPa\n",
    "\n",
    "com.epsbb=3.E8 *m*d/t^2 #Pa um^2\n",
    "com.epsbg=28. *m*d/t^2 #Pa um^2\n",
    "com.epsgg=18. *m*d/t^2 #Pa um^2\n",
    "\n",
    "com.etab=500 *m/(t*d) #Pa h\n",
    "com.etag=500 *m/(t*d) #Pa h\n"
   ]
  },
  {
   "cell_type": "code",
   "execution_count": 7,
   "metadata": {},
   "outputs": [
    {
     "data": {
      "text/plain": [
       "([1.296], [0.003887999999999999], [1.8000000000000003])"
      ]
     },
     "execution_count": 7,
     "metadata": {},
     "output_type": "execute_result"
    }
   ],
   "source": [
    "com.Ebb, com.epsbb, com.etab"
   ]
  },
  {
   "cell_type": "code",
   "execution_count": 8,
   "metadata": {},
   "outputs": [],
   "source": [
    "for i in 1:com.N\n",
    "    com.theta[i] = rand() * 2π\n",
    "    com.x[i] = rand()*16-8\n",
    "    com.y[i] = rand()*16-8\n",
    "    if i <= com.n[1]  # agentes del 0 al 4 (long rods)\n",
    "        com.type[i] = 0\n",
    "        com.l[i] = 3.0\n",
    "        com.d[i] = 1.0\n",
    "    else       # agentes del 5 al 9 (puntos o discos)\n",
    "        com.type[i] = 1\n",
    "        com.l[i] = 0\n",
    "        com.d[i] = 0.8\n",
    "    end\n",
    "end"
   ]
  },
  {
   "cell_type": "code",
   "execution_count": 9,
   "metadata": {},
   "outputs": [],
   "source": [
    "evolve!(com,steps=8000,saveEach=100,preallocateAgents=com.N)"
   ]
  },
  {
   "cell_type": "code",
   "execution_count": 10,
   "metadata": {},
   "outputs": [
    {
     "data": {
      "text/plain": [
       "plotMixedAgents2D! (generic function with 1 method)"
      ]
     },
     "execution_count": 10,
     "metadata": {},
     "output_type": "execute_result"
    }
   ],
   "source": [
    "function plotMixedAgents2D!(ax, x, y, d, l, angle, type, p; kargs...)\n",
    "    for (xi, yi, li, di, ai, ti, pi) in zip(x, y, l, d, angle, type, p)\n",
    "\n",
    "\n",
    "        if ti== 0  # rods\n",
    "            colorval = pi\n",
    "            colormap = :inferno\n",
    "            meshscatter!(ax,\n",
    "                [xi + li/2 * cos(ai)],\n",
    "                [yi + li/2 * sin(ai)];\n",
    "                marker = Sphere(Point3f(0, 0, 0), Float32(1)),\n",
    "                markersize = [Point3f(di/2, di/2, di/2)],\n",
    "                color = [colorval],\n",
    "                colormap = colormap,\n",
    "                kargs...\n",
    "            )\n",
    "            meshscatter!(ax,\n",
    "                [xi - li/2 * cos(ai)],\n",
    "                [yi - li/2 * sin(ai)];\n",
    "                marker = Sphere(Point3f(0, 0, 0), Float32(1)),\n",
    "                markersize = [Point3f(di/2, di/2, di/2)],\n",
    "                color = [colorval],\n",
    "                colormap = colormap,\n",
    "                kargs...\n",
    "            )\n",
    "            meshscatter!(ax,\n",
    "                [xi],\n",
    "                [yi];\n",
    "                marker = Cylinder(Point3f(-.5, 0, 0), Point3f(.5, 0, 0), Float32(1)),\n",
    "                markersize = [Point3f(li, di/2, di/2)],\n",
    "                rotation = [ai],\n",
    "                color = [colorval],\n",
    "                colormap = colormap,\n",
    "                kargs...\n",
    "            )\n",
    "        else  # puntos\n",
    "            colorval = RGBf(0, 1, 1)  # rojo puro\n",
    "            meshscatter!(ax,\n",
    "                [Point3f(xi, yi, 0.0)];  # ¡usar coordenadas 3D!\n",
    "                marker = Sphere(Point3f(0, 0, 0), Float32(1)),\n",
    "                markersize = [Point3f(di/2, di/2, di/2)],  # ¡tamaño real 3D!\n",
    "                color = [colorval],\n",
    "                kargs...\n",
    "            )\n",
    "        end\n",
    "\n",
    "    end\n",
    "    return\n",
    "end\n"
   ]
  },
  {
   "cell_type": "code",
   "execution_count": 11,
   "metadata": {},
   "outputs": [
    {
     "data": {
      "text/plain": [
       "GLMakie.Screen(...)"
      ]
     },
     "execution_count": 11,
     "metadata": {},
     "output_type": "execute_result"
    }
   ],
   "source": [
    "fig = Figure(size=(1500,300))\n",
    "\n",
    "for (i,j) in enumerate([1:round(Int,length(com)/4):length(com);length(com)])\n",
    "    ax = Axis3(fig[1,i],\n",
    "                azimuth=3*π/2,\n",
    "                elevation=π/2,\n",
    "                zlabelvisible=false,\n",
    "                zticklabelsvisible=false,\n",
    "                zgridvisible=false,\n",
    "                zspinesvisible=false\n",
    "            )\n",
    "\n",
    "    plotMixedAgents2D!(\n",
    "    ax,\n",
    "    com[j][:x],\n",
    "    com[j][:y],\n",
    "    com[j][:d],\n",
    "    com[j][:l],\n",
    "    com[j][:theta],\n",
    "    com[j][:type],\n",
    "    com[j][:pressure],\n",
    "    colorrange = (0, maximum(com.pressure))\n",
    ")\n",
    "    xlims!(-10,10)\n",
    "    ylims!(-10,10)\n",
    "end\n",
    "\n",
    "display(fig)"
   ]
  },
  {
   "attachments": {},
   "cell_type": "markdown",
   "metadata": {},
   "source": [
    "## Growth model\n",
    "\n",
    "We construct over the forces model to add bacterial growth and cell division rules."
   ]
  },
  {
   "cell_type": "code",
   "execution_count": 12,
   "metadata": {},
   "outputs": [],
   "source": [
    "rods2dGrowth = ABM(2,\n",
    "    baseModelInit = [rod2D],\n",
    "\n",
    "    agent = Dict(\n",
    "                :lTarget => Float64,\n",
    "            ),\n",
    "\n",
    "    model = Dict(\n",
    "                :growth=>Float64,\n",
    "                :σlTarget=>Float64,\n",
    "                :lMax=>Float64,\n",
    "                :α=>Float64,\n",
    "                :σ=>Float64,\n",
    "                :p_half=>Float64,\n",
    "            ),\n",
    "\n",
    " \n",
    "    agentODE = quote\n",
    "        if type == 0\n",
    "            dt(l) = growth/(1+α*pressure) #linear growth with growth dependent on the pressure over the cell\n",
    "        end\n",
    "        \n",
    "    end,\n",
    "\n",
    "    agentRule = quote #Bound cells\n",
    "        #Add division\n",
    "        if l > lTarget\n",
    "            ww = CBMDistributions.uniform(-.1,.1)/10000 #To add some random torque at division time\n",
    "            # ww = 0 #To add some random torque at division time\n",
    "            #Add a new cell\n",
    "            @addAgent(\n",
    "                    x=(l+d)/4*cos(theta)+x,\n",
    "                    y=(l+d)/4*sin(theta)+y,\n",
    "                    l=(l-d)/2,\n",
    "                    W=ww,\n",
    "                    lTarget = CBMDistributions.uniform(lMax-σlTarget,lMax+σlTarget), #New target length at which the bactery should divide\n",
    "                    type=0)\n",
    "            #Add a second cell\n",
    "            @addAgent(\n",
    "                    x=-(l+d)/4*cos(theta)+x,\n",
    "                    y=-(l+d)/4*sin(theta)+y,\n",
    "                    l=(l-d)/2,\n",
    "                    lTarget = CBMDistributions.uniform(lMax-σlTarget,lMax+σlTarget), #New target length at which the bactery should divide\n",
    "                    W=ww,\n",
    "                    type=0)\n",
    "            #Remove the old cell\n",
    "            @removeAgent()\n",
    "        end\n",
    "        # Probability of releasing PGA with a saturating function\n",
    "        prelease = σ * pressure / (p_half + pressure)\n",
    "\n",
    "        if CBMDistributions.uniform(0, 1) < prelease\n",
    "            # PGA release!\n",
    "            # You could mark it, count it, or log it here\n",
    "            # @info \"PGA released at step $(step) by agent ID $(id)\"\n",
    "            aux=CBMDistributions.rand_pm()\n",
    "            @addAgent(\n",
    "                    # x=((l+d)*(rand()-1/2)+aux*d/2)*cos(theta)+x,\n",
    "                    # y=((l+d)*(rand()-1/2)-aux*d/2)*sin(theta)+y,\n",
    "                    x=(CBMDistributions.uniform(-1,1)*(l+d)/2+aux*d/2)*cos(theta)+x,\n",
    "                    y=(CBMDistributions.uniform(-1,1)*(l+d)/2-aux*d/2)*sin(theta)+y,\n",
    "                    l=0,\n",
    "                    d=0.5,\n",
    "                    lTarget = CBMDistributions.uniform(lMax-σlTarget,lMax+σlTarget), #New target length at which the bactery should divide\n",
    "                    type=1)\n",
    "\n",
    "        end\n",
    "\n",
    "\n",
    "           \n",
    "\n",
    "    end,\n",
    "\n",
    "    neighborsAlg=CBMNeighbors.CellLinked(cellEdge=4),\n",
    "    platform=GPU(),\n",
    "    agentAlg=CBMIntegrators.Heun()\n",
    ");"
   ]
  },
  {
   "cell_type": "markdown",
   "metadata": {},
   "source": [
    "## Grow colony from one cell"
   ]
  },
  {
   "cell_type": "code",
   "execution_count": 13,
   "metadata": {},
   "outputs": [],
   "source": [
    "com = Community(rods2dGrowth,\n",
    "            N=1,\n",
    "            dt=1.,\n",
    "            simBox = [-100 100;-100 100.],\n",
    "            );\n",
    "\n",
    "#Natural units scales\n",
    "m = 1.E-12 #ng\n",
    "t = 1/(60*60) # h\n",
    "d = 1.E-6 #um\n",
    "\n",
    "\n",
    "com.n=30\n",
    "com.Ebb=10. *m/(t^2*d)*1.E-3 #kPa\n",
    "com.Ebg=100. *m/(t^2*d)*1.E-3 #kPa\n",
    "com.Egg=100. *m/(t^2*d)*1.E-3 #kPa\n",
    "\n",
    "com.epsbb=2.E7 *m*d/t^2 #Pa um^2\n",
    "com.epsbg=18. *m*d/t^2 #Pa um^2\n",
    "com.epsgg=18. *m*d/t^2 #Pa um^2\n",
    "\n",
    "com.etab=500 *m/(t*d) #Pa h\n",
    "com.etag=500 *m/(t*d) #Pa h\n",
    "\n",
    "\n",
    "\n",
    "\n",
    "com.growth = 0.5 * t\n",
    "com.lMax = 3.     \n",
    "com.σlTarget = .2 \n",
    "com.α = 200\n",
    "com.σ = 5E-3\n",
    "com.type=0\n",
    "\n",
    "com.d = 1.        \n",
    "com.l = 2.99      \n",
    "com.lTarget = 3.  \n",
    "\n",
    "com.p_half=8\n",
    "\n",
    "com.x = 0\n",
    "com.y = 0\n",
    "com.theta = 0;"
   ]
  },
  {
   "cell_type": "code",
   "execution_count": 14,
   "metadata": {},
   "outputs": [
    {
     "name": "stdout",
     "output_type": "stream",
     "text": [
      "Step: 10000 N: 2\n",
      "Step: 20000 N: 4\n",
      "Step: 30000 N: 5\n",
      "Step: 40000 N: 8\n",
      "Step: 50000 N: 16\n",
      "Step: 60000 N: 17\n",
      "Step: 70000 N: 32\n",
      "Step: 80000 N: 53\n",
      "Step: 90000 N: 65\n",
      "Step: 100000 N: 112\n",
      "Step: 110000 N: 154\n",
      "Step: 120000 N: 216\n",
      "Step: 130000 N: 312\n",
      "Step: 140000 N: 398\n",
      "Step: 150000 N: 544\n"
     ]
    }
   ],
   "source": [
    "evolve!(com,\n",
    "        steps=150000,saveEach=1000,\n",
    "        preallocateAgents=5000,\n",
    "        saveCurrentState=true,\n",
    "        progressMessage=(com)->if round(Int,com.t/com.dt)%10000 == 0; println(\"Step: \",round(Int,com.t/com.dt), \" N: \", com.N); end)"
   ]
  },
  {
   "cell_type": "code",
   "execution_count": null,
   "metadata": {},
   "outputs": [
    {
     "name": "stdout",
     "output_type": "stream",
     "text": [
      "Step: 160000 N: 727\n",
      "Step: 170000 N: 952\n"
     ]
    }
   ],
   "source": [
    "evolve!(com,\n",
    "        steps=50000,saveEach=1000,\n",
    "        preallocateAgents=5000,\n",
    "        saveCurrentState=true,\n",
    "        progressMessage=(com)->if round(Int,com.t/com.dt)%10000 == 0; println(\"Step: \",round(Int,com.t/com.dt), \" N: \", com.N); end)"
   ]
  },
  {
   "cell_type": "code",
   "execution_count": 15,
   "metadata": {},
   "outputs": [
    {
     "data": {
      "image/png": "[encoded data removed]",
      "text/html": [
       "<img width=600 height=400 style='object-fit: contain; height: auto;' src=\"data:image/png;base64, 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\"/>"
      ]
     },
     "execution_count": 15,
     "metadata": {},
     "output_type": "execute_result"
    }
   ],
   "source": [
    "# Elegimos un frame, por ejemplo el último\n",
    "p = com[end][:pressure]\n",
    "\n",
    "# Creamos la figura y el eje\n",
    "fig = Figure(size = (600, 400))\n",
    "ax = Axis(fig[1, 1]; xlabel = \"Presión\", ylabel = \"Frecuencia\", title = \"Histograma de presión\")\n",
    "\n",
    "# Dibujamos el histograma\n",
    "hist!(ax, p; bins = 30, color = :slateblue)\n",
    "\n",
    "fig  # Esto muestra la figura en una ventana interactiva"
   ]
  },
  {
   "cell_type": "code",
   "execution_count": 16,
   "metadata": {},
   "outputs": [
    {
     "data": {
      "text/plain": [
       "GLMakie.Screen(...)"
      ]
     },
     "execution_count": 16,
     "metadata": {},
     "output_type": "execute_result"
    }
   ],
   "source": [
    "fig = Figure(size=(1500,300))\n",
    "\n",
    "for (i,j) in enumerate([1:round(Int,length(com)/4):length(com);length(com)])\n",
    "    ax = Axis3(fig[1,i],\n",
    "                azimuth=3*π/2,\n",
    "                elevation=π/2,\n",
    "                zlabelvisible=false,\n",
    "                zticklabelsvisible=false,\n",
    "                zgridvisible=false,\n",
    "                zspinesvisible=false\n",
    "            )\n",
    "\n",
    "    plotMixedAgents2D!(\n",
    "    ax,\n",
    "    com[j][:x],\n",
    "    com[j][:y],\n",
    "    com[j][:d],\n",
    "    com[j][:l],\n",
    "    com[j][:theta],\n",
    "    com[j][:type],\n",
    "    com[j][:pressure],\n",
    "    colorrange = (0, maximum(com.pressure))\n",
    "    )\n",
    "\n",
    "    xlims!(-20,20)\n",
    "    ylims!(-20,20)\n",
    "end\n",
    "\n",
    "display(fig)"
   ]
  },
  {
   "cell_type": "code",
   "execution_count": 18,
   "metadata": {},
   "outputs": [
    {
     "data": {
      "text/plain": [
       "\"bacterias_video_pressure_pga_proves.mp4\""
      ]
     },
     "execution_count": 18,
     "metadata": {},
     "output_type": "execute_result"
    }
   ],
   "source": [
    "using GLMakie\n",
    "\n",
    "fig = Figure(size = (600, 600))\n",
    "ax = Axis(fig[1, 1]; aspect = DataAspect())\n",
    "\n",
    "# Cálculo del máximo de presión en todos los frames\n",
    "max_pressure = maximum(com.pressure)\n",
    "\n",
    "GLMakie.record(fig, \"bacterias_video_pressure_pga_proves.mp4\", 1:length(com); framerate = 15) do j\n",
    "    # Limpiar el eje\n",
    "    Makie.empty!(ax)\n",
    "\n",
    "    # Dibujar los agentes (usando tu función personalizada)\n",
    "    plotMixedAgents2D!(\n",
    "        ax,\n",
    "        com[j][:x],\n",
    "        com[j][:y],\n",
    "        com[j][:d],\n",
    "        com[j][:l],\n",
    "        com[j][:theta],\n",
    "        com[j][:type],\n",
    "        com[j][:pressure],\n",
    "        colorrange = (0, max_pressure)\n",
    "    )\n",
    "\n",
    "    xlims!(ax, -50, 50)\n",
    "    ylims!(ax, -50, 50)\n",
    "end\n"
   ]
  }
 ],
 "metadata": {
  "kernelspec": {
   "display_name": "Julia 1.10.4 1.10.4",
   "language": "julia",
   "name": "julia-1.10.4-1.10"
  },
  "language_info": {
   "file_extension": ".jl",
   "mimetype": "application/julia",
   "name": "julia",
   "version": "1.10.4"
  },
  "orig_nbformat": 4
 },
 "nbformat": 4,
 "nbformat_minor": 2
}
