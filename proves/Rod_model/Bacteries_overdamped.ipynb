{
 "cells": [
  {
   "attachments": {},
   "cell_type": "markdown",
   "metadata": {},
   "source": [
    "# [Bacterial Colony Growth](@id Bacteries)\n",
    "\n",
    "In this example, we are going to create a bacterial model and grow a colony using it.\n",
    "\n",
    " - The implementation of the force interaction dynamics is the one presented by [Volfson et al. (2008)](https://www.pnas.org/doi/abs/10.1073/pnas.0706805105)\n",
    " - We use GPU accelerated dynamics\n",
    "\n",
    "As described in other models, it is advised that the models are constructed by parts to avoid having to find bugs in a very complex system. Hence, we will split the model in two parts:\n",
    "\n",
    " - Forces model\n",
    " - Growth model"
   ]
  },
  {
   "cell_type": "markdown",
   "metadata": {},
   "source": [
    "## Load the packages"
   ]
  },
  {
   "cell_type": "code",
   "execution_count": 1,
   "metadata": {},
   "outputs": [],
   "source": [
    "# function repulsiveForces(\n",
    "#     x,y,d,l,theta,etab,type,\n",
    "#     x2,y2,d2,l2,theta2,etag,type2, Ebb, Ebg, Egg\n",
    "    \n",
    "# )\n",
    "\n",
    "#     Fijx = 0.\n",
    "#     Fijy = 0.\n",
    "#     Wij = 0.\n",
    "\n",
    "#     if type==type2 && type==1\n",
    "#         xiAux,yiAux,xjAux,yjAux=x,y,x2,y2\n",
    "#     else\n",
    "#         #Function that finds the virtual spheres of contact between both rods\n",
    "#         xiAux,yiAux,xjAux,yjAux = CBMMetrics.rodIntersection(x,y,l,theta,x2,y2,l2,theta2)\n",
    "#     end\n",
    "\n",
    "#     #Compute distance between virtual spheres\n",
    "#     rij = sqrt((xiAux-xjAux)^2 +(yiAux-yjAux)^2)\n",
    "#     if rij > 0. && rij < (d+d2)/2 #If it is smaller than a diameter compute forces\n",
    "#         #Compute auxiliar\n",
    "#         hAux = (d+d2)/2 - rij\n",
    "#         #Compute direction\n",
    "#         nijx = (xiAux-xjAux)/rij\n",
    "#         nijy = (yiAux-yjAux)/rij\n",
    "#         if type==0 #rod\n",
    "\n",
    "#             #Compute the forces\n",
    "#             if type2==0 #rod-rod\n",
    "#                 FnAux = Ebb*d2^(1/2)*hAux^(3/2)/(etab*(l+d))\n",
    "#             else #rod-gel\n",
    "#                 FnAux = Ebg*d2^(1/2)*hAux^(3/2)/(etab*(l+d)) \n",
    "#             end\n",
    "#             #Compute the interaction forces\n",
    "#             Fijx = FnAux*nijx\n",
    "#             Fijy = FnAux*nijy\n",
    "#             #Append radial forces\n",
    "#             Wij = ((xiAux-x)*Fijy - (yiAux-y)*Fijx)*12/(etab*(l+d)^3)\n",
    "#         else # gel\n",
    "#              #Compute the forces\n",
    "#             if type2==0 #gel-rod\n",
    "#                 FnAux = Ebg*d2^(1/2)*hAux^(3/2)/(etag*d)  #d2??\n",
    "\n",
    "#             else #gel-gel\n",
    "#                 FnAux = Egg*d2^(1/2)*hAux^(3/2)/(etag*d)\n",
    "#             end\n",
    "#             #Compute the interaction forces\n",
    "#             Fijx = FnAux*nijx\n",
    "#             Fijy = FnAux*nijy\n",
    "#             #No radial forces\n",
    "#         end\n",
    "#     end\n",
    "\n",
    "#     return Fijx, Fijy, Wij\n",
    "\n",
    "# end"
   ]
  },
  {
   "cell_type": "code",
   "execution_count": 2,
   "metadata": {},
   "outputs": [],
   "source": [
    "# function attractiveForces(\n",
    "#     x,y,d,l,theta,etab,type,\n",
    "#     x2,y2,d2,l2,theta2,etag,type2, epsbb, epsbg, epsgg\n",
    "    \n",
    "# )\n",
    "\n",
    "  \n",
    "#     Fijx = 0.\n",
    "#     Fijy = 0.\n",
    "#     Wij = 0.\n",
    "\n",
    "#     xiAux,yiAux,xjAux,yjAux=x,y,x2,y2\n",
    "#     #Compute distance between central masses\n",
    "#     rij = sqrt((xiAux-xjAux)^2 +(yiAux-yjAux)^2)\n",
    "#     if rij > (d+d2)/2 && rij < (2*d+l) #If it is smaller than a diameter compute forces\n",
    "#         #Compute direction\n",
    "#         nijx = (xiAux-xjAux)/rij\n",
    "#         nijy = (yiAux-yjAux)/rij\n",
    "#         M=(d+d2)/2\n",
    "#         D=(2*d+l)\n",
    "#         if type==0 #rod\n",
    "\n",
    "#             #Compute the forces\n",
    "#             if type2==0 #rod-rod\n",
    "               \n",
    "#                 FnAux = epsbb*(rij/D-1)*(rij/M-1)*(rij/D)/(etab*d) \n",
    "                \n",
    "#             else #rod-gel\n",
    "#                 FnAux = epsbg*(rij/D-1)*(rij/M-1)*(rij/D)/(etab*d) \n",
    "          \n",
    "#             end\n",
    "#             #Compute the interaction forces\n",
    "#             Fijx = FnAux*nijx\n",
    "#             Fijy = FnAux*nijy\n",
    "#             #Append radial forces\n",
    "#             Wij = ((xiAux-x)*Fijy - (yiAux-y)*Fijx)/(etab*(l+d)^3)\n",
    "#         else # gel\n",
    "#             #Compute the forces\n",
    "#             if type2==0 #gel-rod\n",
    "#                 FnAux = epsbg*(rij/D-1)*(rij/M-1)*(rij/D)/(etag*d) \n",
    "#             else #gel-gel\n",
    "#                 FnAux = epsgg*(rij/D-1)*(rij/M-1)*(rij/D)/(etag*d) \n",
    "#             end\n",
    "#             #Compute the interaction forces\n",
    "#             Fijx = FnAux*nijx\n",
    "#             Fijy = FnAux*nijy\n",
    "#             #No radial forces\n",
    "#         end\n",
    "#     end\n",
    "\n",
    "#     return Fijx, Fijy, Wij\n",
    "\n",
    "# end"
   ]
  },
  {
   "cell_type": "code",
   "execution_count": 3,
   "metadata": {},
   "outputs": [],
   "source": [
    "# function attractiveForces(\n",
    "#     x,y,d,l,theta,etab,type,\n",
    "#     x2,y2,d2,l2,theta2,etag,type2, epsbb, epsbg, epsgg\n",
    "    \n",
    "# )\n",
    "\n",
    "  \n",
    "#     Fijx = 0.\n",
    "#     Fijy = 0.\n",
    "#     Wij = 0.\n",
    "\n",
    "#     gamma=24\n",
    "#     xiAux,yiAux,xjAux,yjAux=x,y,x2,y2\n",
    "#     #Compute distance between central masses\n",
    "#     rij = sqrt((xiAux-xjAux)^2 +(yiAux-yjAux)^2)\n",
    "#     if rij > 0. && rij < (d+d2+l2+l)*2 #If it is smaller than a diameter compute forces\n",
    "#         #Compute direction\n",
    "#         nijx = (xiAux-xjAux)/rij\n",
    "#         nijy = (yiAux-yjAux)/rij\n",
    "#         if type==0 #rod\n",
    "\n",
    "#             #Compute the forces\n",
    "#             if type2==0 #rod-rod\n",
    "#                 FnAux = -gamma*epsbb*((d+d2+l2+l)/(2*(rij)))^6/rij/(etab*(l+d))\n",
    "                \n",
    "#             else #rod-gel\n",
    "#                 FnAux = -gamma*epsbg*((d+d2+l2+l)/(2*(rij)))^6/rij/(etab*(l+d))\n",
    "          \n",
    "#             end\n",
    "#             #Compute the interaction forces\n",
    "#             Fijx = FnAux*nijx\n",
    "#             Fijy = FnAux*nijy\n",
    "#             #Append radial forces\n",
    "#             Wij = ((xiAux-x)*Fijy - (yiAux-y)*Fijx)/(etab*(l+d)^3)\n",
    "#         else # gel\n",
    "#             #Compute the forces\n",
    "#             if type2==0 #gel-rod\n",
    "#                 FnAux = -gamma*epsbg*((d+d2+l2+l)/(2*(rij)))^6/rij/(etag*d) \n",
    "#             else #gel-gel\n",
    "#                 FnAux = -gamma*epsgg*((d+d2+l2+l)/(2*(rij)))^6/rij/(etag*d) \n",
    "#             end\n",
    "#             #Compute the interaction forces\n",
    "#             Fijx = FnAux*nijx\n",
    "#             Fijy = FnAux*nijy\n",
    "#             #No radial forces\n",
    "#         end\n",
    "#     end\n",
    "\n",
    "#     return Fijx, Fijy, Wij\n",
    "\n",
    "# end"
   ]
  },
  {
   "cell_type": "code",
   "execution_count": 4,
   "metadata": {},
   "outputs": [
    {
     "name": "stderr",
     "output_type": "stream",
     "text": [
      "\u001b[32m\u001b[1m  Activating\u001b[22m\u001b[39m project at `c:\\Users\\u256063\\Desktop\\Projects\\ABM_2\\ABM_CBM`\n"
     ]
    }
   ],
   "source": [
    "import Pkg\n",
    "Pkg.activate(\"../\")\n",
    "Pkg.instantiate()\n"
   ]
  },
  {
   "cell_type": "code",
   "execution_count": 5,
   "metadata": {},
   "outputs": [
    {
     "name": "stderr",
     "output_type": "stream",
     "text": [
      "\u001b[32m\u001b[1m   Resolving\u001b[22m\u001b[39m package versions...\n",
      "\u001b[32m\u001b[1m  No Changes\u001b[22m\u001b[39m to `C:\\Users\\u256063\\Desktop\\Projects\\ABM_2\\ABM_CBM\\Project.toml`\n",
      "\u001b[32m\u001b[1m  No Changes\u001b[22m\u001b[39m to `C:\\Users\\u256063\\Desktop\\Projects\\ABM_2\\ABM_CBM\\Manifest.toml`\n"
     ]
    }
   ],
   "source": [
    "import Pkg; Pkg.add([\"Revise\", \"GLMakie\"])"
   ]
  },
  {
   "cell_type": "code",
   "execution_count": 6,
   "metadata": {},
   "outputs": [
    {
     "name": "stderr",
     "output_type": "stream",
     "text": [
      "\u001b[33m\u001b[1m┌ \u001b[22m\u001b[39m\u001b[33m\u001b[1mWarning: \u001b[22m\u001b[39mCUDA runtime library nvrtc64_112_0.dll was loaded from a system path. This may cause errors.\n",
      "\u001b[33m\u001b[1m│ \u001b[22m\u001b[39mEnsure that you have not set the LD_LIBRARY_PATH environment variable, or that it does not contain paths to CUDA libraries.\n",
      "\u001b[33m\u001b[1m└ \u001b[22m\u001b[39m\u001b[90m@ CUDA C:\\Users\\u256063\\.julia\\packages\\CUDA\\jdJ7Z\\src\\initialization.jl:187\u001b[39m\n"
     ]
    }
   ],
   "source": [
    "using Revise\n",
    "using CellBasedModels\n",
    "using CUDA\n",
    "using Distributions\n",
    "using GLMakie\n",
    "# using GeometryBasics\n",
    "import GLMakie: Point3f, Cylinder, Sphere, NoShading #Can be changes to Cairo or CLMakie"
   ]
  },
  {
   "attachments": {},
   "cell_type": "markdown",
   "metadata": {},
   "source": [
    "## Forces model\n",
    "\n",
    "We already use the defined forces model that is implemented in CBMModels. This is an exact copy of the rod model that you can find already predefined in `Models/rods.jl`. You can check the `Models` section of the documentation for more details.\n"
   ]
  },
  {
   "cell_type": "code",
   "execution_count": 7,
   "metadata": {},
   "outputs": [],
   "source": [
    "rod2D = ABM(2,\n",
    "    agent = Dict(\n",
    "            :theta=>Float64,\n",
    "            :d=>Float64,\n",
    "            :l=>Float64,\n",
    "            :fx=>Float64,\n",
    "            :fy=>Float64,\n",
    "            :W=>Float64,\n",
    "            :pressure=>Float64,\n",
    "            :type=>Int,\n",
    "        ),    #Local Interaction Parameters\n",
    "\n",
    "    model = Dict(\n",
    "            :n=>Int,\n",
    "            :Ebb=>Float64,\n",
    "            :Ebg=>Float64,\n",
    "            :Egg=>Float64,\n",
    "            :epsbb=>Float64,\n",
    "            :epsbg=>Float64,\n",
    "            :epsgg=>Float64,\n",
    "            :etab=>Float64,\n",
    "            :etag=>Float64,\n",
    "        ),        #Global parameters\n",
    "\n",
    "    agentODE = quote\n",
    "\n",
    "        fx = 0\n",
    "        fy = 0\n",
    "        W = 0\n",
    "        pressure = 0\n",
    "        @loopOverNeighbors i2 begin\n",
    "\n",
    "            #Use the model provided in the documentation\n",
    "            Fijx, Fijy, Wij = CBMModels.repulsiveForces(x,y,d,l,theta,etab,type, \n",
    "                                    x[i2],y[i2],d[i2],l[i2],theta[i2],etag,type[i2], Ebb, Ebg, Egg)\n",
    "\n",
    "            #Append the repulsive forces\n",
    "            fx += Fijx\n",
    "            fy += Fijy\n",
    "            W += Wij\n",
    "\n",
    "            #Keep track of preassure in the media\n",
    "            pressure += sqrt(Fijx^2+Fijy^2)\n",
    "            #Use the model provided in the documentation\n",
    "            Fijx, Fijy, Wij = CBMModels.attractiveForces(x,y,d,l,theta,etab,type, \n",
    "                                    x[i2],y[i2],d[i2],l[i2],theta[i2],etag,type[i2], epsbb, epsbg, epsgg)\n",
    "\n",
    "            \n",
    "            \n",
    "            #Append the repulsive forces\n",
    "            fx += Fijx\n",
    "            fy += Fijy\n",
    "            W += Wij\n",
    "            #Keep track of preassure in the media\n",
    "            pressure += sqrt(Fijx^2+Fijy^2)\n",
    "            \n",
    "        end\n",
    "\n",
    "        #Equations\n",
    "        dt(x) =  fx \n",
    "        dt(y) =  fy \n",
    "        dt(theta) =  W\n",
    "    end,\n",
    "\n",
    "    neighborsAlg=CBMNeighbors.CellLinked(cellEdge=4),\n",
    "    platform=GPU(),\n",
    "    agentAlg = CBMIntegrators.Heun()\n",
    ");\n"
   ]
  },
  {
   "attachments": {},
   "cell_type": "markdown",
   "metadata": {},
   "source": [
    "### Initialize a community with two bacteries and check forces"
   ]
  },
  {
   "cell_type": "code",
   "execution_count": 8,
   "metadata": {},
   "outputs": [
    {
     "data": {
      "text/plain": [
       "1.8000000000000003"
      ]
     },
     "execution_count": 8,
     "metadata": {},
     "output_type": "execute_result"
    }
   ],
   "source": [
    "com = Community(rod2D,\n",
    "            N=30,\n",
    "            dt=1.,\n",
    "            simBox = [-10 10;-10 10.],\n",
    "            );\n",
    "\n",
    "#Natural units scales\n",
    "m = 1.E-12 #ng\n",
    "t = 1/(60*60) # h\n",
    "d = 1.E-6 #um\n",
    "\n",
    "\n",
    "com.n=30\n",
    "com.Ebb=100. *m/(t^2*d)*1.E-3 #kPa\n",
    "com.Ebg=100. *m/(t^2*d)*1.E-3 #kPa\n",
    "com.Egg=100. *m/(t^2*d)*1.E-3 #kPa\n",
    "\n",
    "com.epsbb=3.E8 *m*d/t^2 #Pa um^2\n",
    "com.epsbg=28. *m*d/t^2 #Pa um^2\n",
    "com.epsgg=18. *m*d/t^2 #Pa um^2\n",
    "\n",
    "com.etab=500 *m/(t*d) #Pa h\n",
    "com.etag=500 *m/(t*d) #Pa h\n"
   ]
  },
  {
   "cell_type": "code",
   "execution_count": 9,
   "metadata": {},
   "outputs": [
    {
     "data": {
      "text/plain": [
       "([1.296], [0.003887999999999999], [1.8000000000000003])"
      ]
     },
     "execution_count": 9,
     "metadata": {},
     "output_type": "execute_result"
    }
   ],
   "source": [
    "com.Ebb, com.epsbb, com.etab"
   ]
  },
  {
   "cell_type": "code",
   "execution_count": 10,
   "metadata": {},
   "outputs": [],
   "source": [
    "for i in 1:com.N\n",
    "    com.theta[i] = rand() * 2π\n",
    "    com.x[i] = rand()*16-8\n",
    "    com.y[i] = rand()*16-8\n",
    "    if i <= com.n[1]  # agentes del 0 al 4 (long rods)\n",
    "        com.type[i] = 0\n",
    "        com.l[i] = 3.0\n",
    "        com.d[i] = 1.0\n",
    "    else       # agentes del 5 al 9 (puntos o discos)\n",
    "        com.type[i] = 1\n",
    "        com.l[i] = 0\n",
    "        com.d[i] = 0.8\n",
    "    end\n",
    "end"
   ]
  },
  {
   "cell_type": "code",
   "execution_count": 11,
   "metadata": {},
   "outputs": [],
   "source": [
    "evolve!(com,steps=8000,saveEach=100,preallocateAgents=com.N)"
   ]
  },
  {
   "cell_type": "code",
   "execution_count": 12,
   "metadata": {},
   "outputs": [
    {
     "data": {
      "text/plain": [
       "plotMixedAgents2D! (generic function with 1 method)"
      ]
     },
     "execution_count": 12,
     "metadata": {},
     "output_type": "execute_result"
    }
   ],
   "source": [
    "function plotMixedAgents2D!(ax, x, y, d, l, angle, type, p; kargs...)\n",
    "    for (xi, yi, li, di, ai, ti, pi) in zip(x, y, l, d, angle, type, p)\n",
    "\n",
    "\n",
    "        if ti== 0  # rods\n",
    "            colorval = pi\n",
    "            colormap = :inferno\n",
    "            meshscatter!(ax,\n",
    "                [xi + li/2 * cos(ai)],\n",
    "                [yi + li/2 * sin(ai)];\n",
    "                marker = Sphere(Point3f(0, 0, 0), Float32(1)),\n",
    "                markersize = [Point3f(di/2, di/2, di/2)],\n",
    "                color = [colorval],\n",
    "                colormap = colormap,\n",
    "                kargs...\n",
    "            )\n",
    "            meshscatter!(ax,\n",
    "                [xi - li/2 * cos(ai)],\n",
    "                [yi - li/2 * sin(ai)];\n",
    "                marker = Sphere(Point3f(0, 0, 0), Float32(1)),\n",
    "                markersize = [Point3f(di/2, di/2, di/2)],\n",
    "                color = [colorval],\n",
    "                colormap = colormap,\n",
    "                kargs...\n",
    "            )\n",
    "            meshscatter!(ax,\n",
    "                [xi],\n",
    "                [yi];\n",
    "                marker = Cylinder(Point3f(-.5, 0, 0), Point3f(.5, 0, 0), Float32(1)),\n",
    "                markersize = [Point3f(li, di/2, di/2)],\n",
    "                rotation = [ai],\n",
    "                color = [colorval],\n",
    "                colormap = colormap,\n",
    "                kargs...\n",
    "            )\n",
    "        else  # puntos\n",
    "            colorval = RGBf(0, 1, 1)  # rojo puro\n",
    "            meshscatter!(ax,\n",
    "                [Point3f(xi, yi, 0.0)];  # ¡usar coordenadas 3D!\n",
    "                marker = Sphere(Point3f(0, 0, 0), Float32(1)),\n",
    "                markersize = [Point3f(di/2, di/2, di/2)],  # ¡tamaño real 3D!\n",
    "                color = [colorval],\n",
    "                kargs...\n",
    "            )\n",
    "        end\n",
    "\n",
    "    end\n",
    "    return\n",
    "end\n"
   ]
  },
  {
   "cell_type": "code",
   "execution_count": 13,
   "metadata": {},
   "outputs": [
    {
     "data": {
      "text/plain": [
       "GLMakie.Screen(...)"
      ]
     },
     "execution_count": 13,
     "metadata": {},
     "output_type": "execute_result"
    }
   ],
   "source": [
    "fig = Figure(size=(1500,300))\n",
    "\n",
    "for (i,j) in enumerate([1:round(Int,length(com)/4):length(com);length(com)])\n",
    "    ax = Axis3(fig[1,i],\n",
    "                azimuth=3*π/2,\n",
    "                elevation=π/2,\n",
    "                zlabelvisible=false,\n",
    "                zticklabelsvisible=false,\n",
    "                zgridvisible=false,\n",
    "                zspinesvisible=false\n",
    "            )\n",
    "\n",
    "    plotMixedAgents2D!(\n",
    "    ax,\n",
    "    com[j][:x],\n",
    "    com[j][:y],\n",
    "    com[j][:d],\n",
    "    com[j][:l],\n",
    "    com[j][:theta],\n",
    "    com[j][:type],\n",
    "    com[j][:pressure],\n",
    "    colorrange = (0, maximum(com.pressure))\n",
    ")\n",
    "    xlims!(-10,10)\n",
    "    ylims!(-10,10)\n",
    "end\n",
    "\n",
    "display(fig)"
   ]
  },
  {
   "attachments": {},
   "cell_type": "markdown",
   "metadata": {},
   "source": [
    "## Growth model\n",
    "\n",
    "We construct over the forces model to add bacterial growth and cell division rules."
   ]
  },
  {
   "cell_type": "code",
   "execution_count": null,
   "metadata": {},
   "outputs": [],
   "source": [
    "rods2dGrowth = ABM(2,\n",
    "    baseModelInit = [rod2D],\n",
    "\n",
    "    agent = Dict(\n",
    "                :lTarget => Float64,\n",
    "            ),\n",
    "\n",
    "    model = Dict(\n",
    "                :growth=>Float64,\n",
    "                :σlTarget=>Float64,\n",
    "                :lMax=>Float64,\n",
    "                :α=>Float64,\n",
    "                :σ=>Float64,\n",
    "                :p_half=>Float64,\n",
    "            ),\n",
    "\n",
    " \n",
    "    agentODE = quote\n",
    "        if type == 0\n",
    "            dt(l) = growth/(1+α*pressure) #linear growth with growth dependent on the pressure over the cell\n",
    "        end\n",
    "        \n",
    "    end,\n",
    "\n",
    "    agentRule = quote #Bound cells\n",
    "        #Add division\n",
    "        if l > lTarget\n",
    "            ww = CBMDistributions.uniform(-.1,.1)/1000 #To add some random torque at division time\n",
    "            # ww = 0 #To add some random torque at division time\n",
    "            #Add a new cell\n",
    "            @addAgent(\n",
    "                    x=(l+d)/4*cos(theta)+x,\n",
    "                    y=(l+d)/4*sin(theta)+y,\n",
    "                    l=(l-d)/2,\n",
    "                    W=ww,\n",
    "                    lTarget = CBMDistributions.uniform(lMax-σlTarget,lMax+σlTarget), #New target length at which the bactery should divide\n",
    "                    type=0)\n",
    "            #Add a second cell\n",
    "            @addAgent(\n",
    "                    x=-(l+d)/4*cos(theta)+x,\n",
    "                    y=-(l+d)/4*sin(theta)+y,\n",
    "                    l=(l-d)/2,\n",
    "                    lTarget = CBMDistributions.uniform(lMax-σlTarget,lMax+σlTarget), #New target length at which the bactery should divide\n",
    "                    W=ww,\n",
    "                    type=0)\n",
    "            #Remove the old cell\n",
    "            @removeAgent()\n",
    "        end\n",
    "        # Probability of releasing PGA with a saturating function\n",
    "        # prelease = σ * pressure / (p_half + pressure)\n",
    "\n",
    "        # if CBMDistributions.uniform(0, 1) < prelease\n",
    "        #     # PGA release!\n",
    "        #     # You could mark it, count it, or log it here\n",
    "        #     # @info \"PGA released at step $(step) by agent ID $(id)\"\n",
    "        #     aux=CBMDistributions.rand_pm()\n",
    "        #     @addAgent(\n",
    "        #             # x=((l+d)*(rand()-1/2)+aux*d/2)*cos(theta)+x,\n",
    "        #             # y=((l+d)*(rand()-1/2)-aux*d/2)*sin(theta)+y,\n",
    "        #             x=(CBMDistributions.uniform(-1,1)*(l+d)/2+aux*d/2)*cos(theta)+x,\n",
    "        #             y=(CBMDistributions.uniform(-1,1)*(l+d)/2-aux*d/2)*sin(theta)+y,\n",
    "        #             l=0,\n",
    "        #             d=0.5,\n",
    "        #             lTarget = CBMDistributions.uniform(lMax-σlTarget,lMax+σlTarget), #New target length at which the bactery should divide\n",
    "        #             type=1)\n",
    "\n",
    "        # end\n",
    "\n",
    "\n",
    "           \n",
    "\n",
    "    end,\n",
    "\n",
    "    neighborsAlg=CBMNeighbors.CellLinked(cellEdge=4),\n",
    "    platform=GPU(),\n",
    "    agentAlg=CBMIntegrators.Heun()\n",
    ");"
   ]
  },
  {
   "cell_type": "markdown",
   "metadata": {},
   "source": [
    "## Grow colony from one cell"
   ]
  },
  {
   "cell_type": "code",
   "execution_count": 15,
   "metadata": {},
   "outputs": [],
   "source": [
    "com = Community(rods2dGrowth,\n",
    "            N=1,\n",
    "            dt=1.,\n",
    "            simBox = [-100 100;-100 100.],\n",
    "            );\n",
    "\n",
    "#Natural units scales\n",
    "m = 1.E-12 #ng\n",
    "t = 1/(60*60) # h\n",
    "d = 1.E-6 #um\n",
    "\n",
    "\n",
    "com.n=30\n",
    "com.Ebb=10. *m/(t^2*d)*1.E-3 #kPa\n",
    "com.Ebg=100. *m/(t^2*d)*1.E-3 #kPa\n",
    "com.Egg=100. *m/(t^2*d)*1.E-3 #kPa\n",
    "\n",
    "com.epsbb=2.E7 *m*d/t^2 #Pa um^2\n",
    "com.epsbb=0. *m*d/t^2 #Pa um^2\n",
    "com.epsbg=18. *m*d/t^2 #Pa um^2\n",
    "com.epsgg=18. *m*d/t^2 #Pa um^2\n",
    "\n",
    "com.etab=500 *m/(t*d) #Pa h\n",
    "com.etag=500 *m/(t*d) #Pa h\n",
    "\n",
    "\n",
    "\n",
    "\n",
    "com.growth = 0.5 * t\n",
    "com.lMax = 3.     \n",
    "com.σlTarget = .2 \n",
    "com.α = 200\n",
    "com.σ = 5E-3\n",
    "com.type=0\n",
    "\n",
    "com.d = 1.        \n",
    "com.l = 2.99      \n",
    "com.lTarget = 3.  \n",
    "\n",
    "com.p_half=8\n",
    "\n",
    "com.x = 0\n",
    "com.y = 0\n",
    "com.theta = 0;"
   ]
  },
  {
   "cell_type": "code",
   "execution_count": 16,
   "metadata": {},
   "outputs": [
    {
     "name": "stdout",
     "output_type": "stream",
     "text": [
      "Step: 10000 N: 2\n",
      "Step: 20000 N: 4\n",
      "Step: 30000 N: 8\n",
      "Step: 40000 N: 8\n",
      "Step: 50000 N: 16\n",
      "Step: 60000 N: 32\n",
      "Step: 70000 N: 32\n",
      "Step: 80000 N: 64\n",
      "Step: 90000 N: 98\n",
      "Step: 100000 N: 128\n",
      "Step: 110000 N: 201\n",
      "Step: 120000 N: 284\n",
      "Step: 130000 N: 380\n",
      "Step: 140000 N: 545\n",
      "Step: 150000 N: 702\n"
     ]
    }
   ],
   "source": [
    "evolve!(com,\n",
    "        steps=150000,saveEach=1000,\n",
    "        preallocateAgents=5000,\n",
    "        saveCurrentState=true,\n",
    "        progressMessage=(com)->if round(Int,com.t/com.dt)%10000 == 0; println(\"Step: \",round(Int,com.t/com.dt), \" N: \", com.N); end)"
   ]
  },
  {
   "cell_type": "code",
   "execution_count": 17,
   "metadata": {},
   "outputs": [
    {
     "name": "stdout",
     "output_type": "stream",
     "text": [
      "Step: 160000 N: 913\n",
      "Step: 170000 N: 1182\n",
      "Step: 180000 N: 1513\n",
      "Step: 190000 N: 1911\n",
      "Step: 200000 N: 2313\n"
     ]
    }
   ],
   "source": [
    "evolve!(com,\n",
    "        steps=50000,saveEach=1000,\n",
    "        preallocateAgents=5000,\n",
    "        saveCurrentState=true,\n",
    "        progressMessage=(com)->if round(Int,com.t/com.dt)%10000 == 0; println(\"Step: \",round(Int,com.t/com.dt), \" N: \", com.N); end)"
   ]
  },
  {
   "cell_type": "code",
   "execution_count": 18,
   "metadata": {},
   "outputs": [
    {
     "data": {
      "image/png": "[encoded data removed]",
      "text/html": [
       "<img width=600 height=400 style='object-fit: contain; height: auto;' src=\"data:image/png;base64, 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\"/>"
      ]
     },
     "execution_count": 18,
     "metadata": {},
     "output_type": "execute_result"
    }
   ],
   "source": [
    "# Elegimos un frame, por ejemplo el último\n",
    "p = com[end][:pressure]\n",
    "\n",
    "# Creamos la figura y el eje\n",
    "fig = Figure(size = (600, 400))\n",
    "ax = Axis(fig[1, 1]; xlabel = \"Presión\", ylabel = \"Frecuencia\", title = \"Histograma de presión\")\n",
    "\n",
    "# Dibujamos el histograma\n",
    "hist!(ax, p; bins = 30, color = :slateblue)\n",
    "\n",
    "fig  # Esto muestra la figura en una ventana interactiva"
   ]
  },
  {
   "cell_type": "code",
   "execution_count": 19,
   "metadata": {},
   "outputs": [
    {
     "data": {
      "text/plain": [
       "GLMakie.Screen(...)"
      ]
     },
     "execution_count": 19,
     "metadata": {},
     "output_type": "execute_result"
    }
   ],
   "source": [
    "fig = Figure(size=(1500,300))\n",
    "\n",
    "for (i,j) in enumerate([1:round(Int,length(com)/4):length(com);length(com)])\n",
    "    ax = Axis3(fig[1,i],\n",
    "                azimuth=3*π/2,\n",
    "                elevation=π/2,\n",
    "                zlabelvisible=false,\n",
    "                zticklabelsvisible=false,\n",
    "                zgridvisible=false,\n",
    "                zspinesvisible=false\n",
    "            )\n",
    "\n",
    "    plotMixedAgents2D!(\n",
    "    ax,\n",
    "    com[j][:x],\n",
    "    com[j][:y],\n",
    "    com[j][:d],\n",
    "    com[j][:l],\n",
    "    com[j][:theta],\n",
    "    com[j][:type],\n",
    "    com[j][:pressure],\n",
    "    colorrange = (0, maximum(com.pressure))\n",
    "    )\n",
    "\n",
    "    xlims!(-20,20)\n",
    "    ylims!(-20,20)\n",
    "end\n",
    "\n",
    "display(fig)"
   ]
  },
  {
   "cell_type": "code",
   "execution_count": 21,
   "metadata": {},
   "outputs": [
    {
     "data": {
      "text/plain": [
       "\"bacterias_video_pressure_atract_proves.mp4\""
      ]
     },
     "execution_count": 21,
     "metadata": {},
     "output_type": "execute_result"
    }
   ],
   "source": [
    "\n",
    "fig = Figure(size = (600, 600))\n",
    "ax = Axis(fig[1, 1]; aspect = DataAspect())\n",
    "\n",
    "# Cálculo del máximo de presión en todos los frames\n",
    "max_pressure = maximum(com.pressure)\n",
    "\n",
    "GLMakie.record(fig, \"bacterias_video_pressure_atract_proves.mp4\", 1:length(com); framerate = 15) do j\n",
    "    # Limpiar el eje\n",
    "    Makie.empty!(ax)\n",
    "\n",
    "    # Dibujar los agentes (usando tu función personalizada)\n",
    "    plotMixedAgents2D!(\n",
    "        ax,\n",
    "        com[j][:x],\n",
    "        com[j][:y],\n",
    "        com[j][:d],\n",
    "        com[j][:l],\n",
    "        com[j][:theta],\n",
    "        com[j][:type],\n",
    "        com[j][:pressure],\n",
    "        colorrange = (0, max_pressure)\n",
    "    )\n",
    "\n",
    "    xlims!(ax, -50, 50)\n",
    "    ylims!(ax, -50, 50)\n",
    "end\n"
   ]
  }
 ],
 "metadata": {
  "kernelspec": {
   "display_name": "Julia 1.10.4 1.10.4",
   "language": "julia",
   "name": "julia-1.10.4-1.10"
  },
  "language_info": {
   "file_extension": ".jl",
   "mimetype": "application/julia",
   "name": "julia",
   "version": "1.10.4"
  },
  "orig_nbformat": 4
 },
 "nbformat": 4,
 "nbformat_minor": 2
}
