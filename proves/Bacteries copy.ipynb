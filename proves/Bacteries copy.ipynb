{
 "cells": [
  {
   "attachments": {},
   "cell_type": "markdown",
   "metadata": {},
   "source": [
    "# [Bacterial Colony Growth](@id Bacteries)\n",
    "\n",
    "In this example, we are going to create a bacterial model and grow a colony using it.\n",
    "\n",
    " - The implementation of the force interaction dynamics is the one presented by [Volfson et al. (2008)](https://www.pnas.org/doi/abs/10.1073/pnas.0706805105)\n",
    " - We use GPU accelerated dynamics\n",
    "\n",
    "As described in other models, it is advised that the models are constructed by parts to avoid having to find bugs in a very complex system. Hence, we will split the model in two parts:\n",
    "\n",
    " - Forces model\n",
    " - Growth model"
   ]
  },
  {
   "cell_type": "markdown",
   "metadata": {},
   "source": [
    "## Load the packages"
   ]
  },
  {
   "cell_type": "code",
   "execution_count": null,
   "metadata": {},
   "outputs": [
    {
     "ename": "LoadError",
     "evalue": "ParseError:\n\u001b[90m# Error @ \u001b[0;0m\u001b]8;;file://c:/Users/u256063/Desktop/Projects/ABM_2/ABM_CBM/proves/In[1]#64:4\u001b\\\u001b[90mIn[1]:64:4\u001b[0;0m\u001b]8;;\u001b\\\n\nend\u001b[48;2;120;70;70m\u001b[0;0m\n\u001b[90m#  └ ── \u001b[0;0m\u001b[91mExpected `end`\u001b[0;0m",
     "output_type": "error",
     "traceback": [
      "ParseError:\n\u001b[90m# Error @ \u001b[0;0m\u001b]8;;file://c:/Users/u256063/Desktop/Projects/ABM_2/ABM_CBM/proves/In[1]#64:4\u001b\\\u001b[90mIn[1]:64:4\u001b[0;0m\u001b]8;;\u001b\\\n\nend\u001b[48;2;120;70;70m\u001b[0;0m\n\u001b[90m#  └ ── \u001b[0;0m\u001b[91mExpected `end`\u001b[0;0m",
      "",
      "Stacktrace:",
      " [1] top-level scope",
      "   @ In[1]:64"
     ]
    }
   ],
   "source": [
    "function repulsiveForces(\n",
    "    x,y,d,l,theta,eta,type,\n",
    "    x2,y2,d2,l2,theta2,eta2,type2, Ebb, Ebg, Egg\n",
    "    \n",
    ")\n",
    "\n",
    "    Fijx = 0.\n",
    "    Fijy = 0.\n",
    "    Wij = 0.\n",
    "\n",
    "    if type==type2 && type==1\n",
    "        xiAux,yiAux,xjAux,yjAux=x,y,x1,x2\n",
    "    else\n",
    "        #Function that finds the virtual spheres of contact between both rods\n",
    "        xiAux,yiAux,xjAux,yjAux = CBMMetrics.rodIntersection(x,y,l,theta,x2,y2,l2,theta2)\n",
    "    end\n",
    "\n",
    "    #Compute distance between virtual spheres\n",
    "    rij = sqrt((xiAux-xjAux)^2 +(yiAux-yjAux)^2)\n",
    "    if rij > 0. && rij < (d+d2)/2 #If it is smaller than a diameter compute forces\n",
    "        #Compute auxiliar\n",
    "        hAux = (d+d2)/2 - rij\n",
    "        #Compute direction\n",
    "        nijx = (xiAux-xjAux)/rij\n",
    "        nijy = (yiAux-yjAux)/rij\n",
    "        if type==0 #rod\n",
    "\n",
    "            #Compute the forces\n",
    "            if type2==0 #rod-rod\n",
    "                FnAux = Ebb*d2^(1/2)*hAux^(3/2)\n",
    "                #Compute the interaction forces\n",
    "                Fijx = FnAux*nijx/(eta*(l+d)) \n",
    "                Fijy = FnAux*nijy/(eta*(l+d)) \n",
    "                #Append radial forces\n",
    "                Wij = ((xiAux-x)*Fijy - (yiAux-y)*Fijx)*12/(eta*l^3)\n",
    "            end\n",
    "\n",
    "            if type2==1 #rod-gel\n",
    "                FnAux = Ebg*d2^(1/2)*hAux^(3/2)\n",
    "                #Compute the interaction forces\n",
    "                Fijx = FnAux*nijx/(eta*(l+d)) \n",
    "                Fijy = FnAux*nijy/(eta*(l+d)) \n",
    "                #Append radial forces\n",
    "                Wij = ((xiAux-x)*Fijy - (yiAux-y)*Fijx)*12/(eta*(l+d)^3)\n",
    "            end\n",
    "        else # gel\n",
    "             #Compute the forces\n",
    "            if type2==0 #gel-rod\n",
    "                FnAux = Ebg*d2^(1/2)*hAux^(3/2) #d2??\n",
    "                #Compute the interaction forces\n",
    "                Fijx = FnAux*nijx/(eta2*d) \n",
    "                Fijy = FnAux*nijy/(eta2*d) \n",
    "                #No radial forces\n",
    "            end\n",
    "\n",
    "            if type2==1 #gel-gel\n",
    "                FnAux = Egg*d2^(1/2)*hAux^(3/2)\n",
    "                #Compute the interaction forces\n",
    "                Fijx = FnAux*nijx/(eta*d) \n",
    "                Fijy = FnAux*nijy/(eta*d) \n",
    "                #No radial forces\n",
    "\n",
    "            end\n",
    "    end\n",
    "\n",
    "    return Fijx, Fijy, Wij\n",
    "\n",
    "end"
   ]
  },
  {
   "cell_type": "code",
   "execution_count": null,
   "metadata": {},
   "outputs": [],
   "source": [
    "function attractiveForces(\n",
    "    x,y,d,l,theta,eta,type,\n",
    "    x2,y2,d2,l2,theta2,eta2,type2, epsbb, epsbg, epsgg\n",
    "    \n",
    ")\n",
    "\n",
    "    Fijx = 0.\n",
    "    Fijy = 0.\n",
    "    Wij = 0.\n",
    "\n",
    "    #Function that finds the virtual spheres of contact between both rods\n",
    "    xiAux,yiAux,xjAux,yjAux = CBMMetrics.rodIntersection(x,y,l,theta,x2,y2,l2,theta2)\n",
    "\n",
    "    #Compute distance between virtual spheres\n",
    "    rij = sqrt((xiAux-xjAux)^2 +(yiAux-yjAux)^2)\n",
    "    if rij > 0. && rij < (d+d2)/2 #If it is smaller than a diameter compute forces\n",
    "        #Compute auxiliar\n",
    "        hAux = (d+d2)/2 - rij\n",
    "        #Compute direction\n",
    "        nijx = (xiAux-xjAux)/rij\n",
    "        nijy = (yiAux-yjAux)/rij\n",
    "        if type==0 #rod\n",
    "\n",
    "            #Compute the forces\n",
    "            if type2==0 #rod-rod\n",
    "                FnAux = Ebb*d2^(1/2)*hAux^(3/2)\n",
    "                #Compute the interaction forces\n",
    "                Fijx = FnAux*nijx/(eta*(l+d)) \n",
    "                Fijy = FnAux*nijy/(eta*(l+d)) \n",
    "                #Append radial forces\n",
    "                Wij = ((xiAux-x)*Fijy - (yiAux-y)*Fijx)*12/(eta*l^3)\n",
    "            end\n",
    "\n",
    "            if type2==1 #rod-gel\n",
    "                FnAux = Ebg*d2^(1/2)*hAux^(3/2)\n",
    "                #Compute the interaction forces\n",
    "                Fijx = FnAux*nijx/(eta*(l+d)) \n",
    "                Fijy = FnAux*nijy/(eta*(l+d)) \n",
    "                #Append radial forces\n",
    "                Wij = ((xiAux-x)*Fijy - (yiAux-y)*Fijx)*12/(eta*(l+d)^3)\n",
    "            end\n",
    "        else # gel\n",
    "             #Compute the forces\n",
    "            if type2==0 #gel-rod\n",
    "                FnAux = Ebg*d2^(1/2)*hAux^(3/2) #d2??\n",
    "                #Compute the interaction forces\n",
    "                Fijx = FnAux*nijx/(eta2*d) \n",
    "                Fijy = FnAux*nijy/(eta2*d) \n",
    "                #No radial forces\n",
    "            end\n",
    "\n",
    "            if type2==1 #gel-gel\n",
    "                FnAux = Egg*d2^(1/2)*hAux^(3/2)\n",
    "                #Compute the interaction forces\n",
    "                Fijx = FnAux*nijx/(eta*d) \n",
    "                Fijy = FnAux*nijy/(eta*d) \n",
    "                #No radial forces\n",
    "\n",
    "            end\n",
    "    end\n",
    "\n",
    "    return Fijx, Fijy, Wij\n",
    "\n",
    "end"
   ]
  },
  {
   "cell_type": "code",
   "execution_count": 1,
   "metadata": {},
   "outputs": [
    {
     "name": "stderr",
     "output_type": "stream",
     "text": [
      "\u001b[32m\u001b[1m  Activating\u001b[22m\u001b[39m project at `c:\\Users\\u256063\\Desktop\\Projects\\ABM_2\\ABM_CBM`\n"
     ]
    }
   ],
   "source": [
    "import Pkg\n",
    "Pkg.activate(\"../\")\n",
    "Pkg.instantiate()\n"
   ]
  },
  {
   "cell_type": "code",
   "execution_count": 2,
   "metadata": {},
   "outputs": [
    {
     "name": "stderr",
     "output_type": "stream",
     "text": [
      "\u001b[32m\u001b[1m   Resolving\u001b[22m\u001b[39m package versions...\n",
      "\u001b[32m\u001b[1m  No Changes\u001b[22m\u001b[39m to `C:\\Users\\u256063\\Desktop\\Projects\\ABM_2\\ABM_CBM\\Project.toml`\n",
      "\u001b[32m\u001b[1m  No Changes\u001b[22m\u001b[39m to `C:\\Users\\u256063\\Desktop\\Projects\\ABM_2\\ABM_CBM\\Manifest.toml`\n"
     ]
    }
   ],
   "source": [
    "import Pkg; Pkg.add([\"Revise\", \"GLMakie\"])"
   ]
  },
  {
   "cell_type": "code",
   "execution_count": 3,
   "metadata": {},
   "outputs": [
    {
     "name": "stderr",
     "output_type": "stream",
     "text": [
      "\u001b[33m\u001b[1m┌ \u001b[22m\u001b[39m\u001b[33m\u001b[1mWarning: \u001b[22m\u001b[39mCUDA runtime library nvrtc64_112_0.dll was loaded from a system path. This may cause errors.\n",
      "\u001b[33m\u001b[1m│ \u001b[22m\u001b[39mEnsure that you have not set the LD_LIBRARY_PATH environment variable, or that it does not contain paths to CUDA libraries.\n",
      "\u001b[33m\u001b[1m└ \u001b[22m\u001b[39m\u001b[90m@ CUDA C:\\Users\\u256063\\.julia\\packages\\CUDA\\jdJ7Z\\src\\initialization.jl:187\u001b[39m\n"
     ]
    }
   ],
   "source": [
    "using Revise\n",
    "using CellBasedModels\n",
    "using CUDA\n",
    "using Distributions\n",
    "using GLMakie\n",
    "# using GeometryBasics\n",
    "import GLMakie: Point3f, Cylinder, Sphere, NoShading #Can be changes to Cairo or CLMakie"
   ]
  },
  {
   "attachments": {},
   "cell_type": "markdown",
   "metadata": {},
   "source": [
    "## Forces model\n",
    "\n",
    "We already use the defined forces model that is implemented in CBMModels. This is an exact copy of the rod model that you can find already predefined in `Models/rods.jl`. You can check the `Models` section of the documentation for more details.\n"
   ]
  },
  {
   "cell_type": "code",
   "execution_count": 4,
   "metadata": {},
   "outputs": [],
   "source": [
    "rod2D = ABM(2,\n",
    "    agent = Dict(\n",
    "            :vx=>Float64,\n",
    "            :vy=>Float64,\n",
    "            :theta=>Float64,\n",
    "            :ω=>Float64,\n",
    "            :d=>Float64,\n",
    "            :l=>Float64,\n",
    "            :m=>Float64,\n",
    "            :fx=>Float64,\n",
    "            :fy=>Float64,\n",
    "            :W=>Float64,\n",
    "            :pressure=>Float64,\n",
    "            :type=>Int,\n",
    "        ),    #Local Interaction Parameters\n",
    "\n",
    "    model = Dict(\n",
    "            :n=>Int,\n",
    "            :kn=>Float64,\n",
    "            :γn=>Float64,\n",
    "            :γt=>Float64,\n",
    "            :μcc=>Float64,\n",
    "            :μcw=>Float64,\n",
    "            :β=>Float64,\n",
    "            :βω=>Float64\n",
    "        ),        #Global parameters\n",
    "\n",
    "    agentODE = quote\n",
    "\n",
    "        fx = 0\n",
    "        fy = 0\n",
    "        W = 0\n",
    "        pressure = 0\n",
    "        @loopOverNeighbors i2 begin\n",
    "\n",
    "            #Use the model provided in the documentation\n",
    "            Fijx, Fijy, Wij = CBMModels.rodForces(\n",
    "                                    x,y,d,l,theta,vx,vy,m,\n",
    "                                    x[i2],y[i2],d[i2],l[i2],theta[i2],vx[i2],vy[i2],m[i2],\n",
    "                                    kn,γn,γt,μcc,μcw\n",
    "                                )\n",
    "\n",
    "            #Append the interaction forces\n",
    "            fx += Fijx\n",
    "            fy += Fijy\n",
    "            #Append radial forces\n",
    "            W += Wij\n",
    "            #Keep track of preassure in the media\n",
    "            pressure += sqrt(Fijx^2+Fijy^2)\n",
    "            \n",
    "        end\n",
    "\n",
    "        #Equations\n",
    "        dt(x) =  vx \n",
    "        dt(y) =  vy \n",
    "        dt(vx) =  -β*vx+fx/m \n",
    "        dt(vy) =  -β*vy+fy/m \n",
    "        dt(theta) =  ω \n",
    "        dt(ω) =  W/(m*(d+l)^2/12+m*d^2)-βω*ω \n",
    "        \n",
    "    end,\n",
    "\n",
    "    neighborsAlg=CBMNeighbors.CellLinked(cellEdge=4),\n",
    "    platform=GPU(),\n",
    "    agentAlg = CBMIntegrators.Heun()\n",
    ");\n"
   ]
  },
  {
   "attachments": {},
   "cell_type": "markdown",
   "metadata": {},
   "source": [
    "### Initialize a community with two bacteries and check forces"
   ]
  },
  {
   "cell_type": "code",
   "execution_count": 5,
   "metadata": {},
   "outputs": [
    {
     "data": {
      "text/plain": [
       "20"
      ]
     },
     "execution_count": 5,
     "metadata": {},
     "output_type": "execute_result"
    }
   ],
   "source": [
    "com = Community(rod2D,\n",
    "            N=30,\n",
    "            dt=0.1,\n",
    "            simBox = [-10 10;-10 10.],\n",
    "            );\n",
    "\n",
    "#Natural units scales\n",
    "m = 1/100\n",
    "g = 1/10000\n",
    "d = 1\n",
    "#Model constants\n",
    "com.kn = 2E6      * (m*g/d)\n",
    "com.γn = 2.2E2    * sqrt(g/d)\n",
    "com.γt = 2.2E2    * sqrt(g/d)\n",
    "com.μcc = 0.1\n",
    "com.μcw = 0.8\n",
    "com.β = .8\n",
    "com.βω = .8\n",
    "com.n=20\n",
    "#Agent parameters\n",
    "# com.m = 1\n",
    "# com.d = 1\n",
    "# com.l = 3;\n",
    "#     # You can play to put different positions and angles here and see the behaviour of the interacting bacteries\n",
    "# com.x = [0.,1]\n",
    "# com.y = [0.,1]\n",
    "# com.theta = [0,π/2];"
   ]
  },
  {
   "cell_type": "code",
   "execution_count": 6,
   "metadata": {},
   "outputs": [],
   "source": [
    "for i in 1:com.N\n",
    "    com.theta[i] = rand() * 2π\n",
    "    com.x[i] = rand()*16-8\n",
    "    com.y[i] = rand()*16-8\n",
    "    if i <= com.n[1]  # agentes del 0 al 4 (long rods)\n",
    "        com.type[i] = 0\n",
    "        com.l[i] = 3.0\n",
    "        com.m[i] = 1.0\n",
    "        com.d[i] = 1.0\n",
    "    else       # agentes del 5 al 9 (puntos o discos)\n",
    "        com.type[i] = 1\n",
    "        com.l[i] = 0\n",
    "        com.m[i] = 0.2\n",
    "        com.d[i] = 0.8\n",
    "    end\n",
    "end"
   ]
  },
  {
   "cell_type": "code",
   "execution_count": 7,
   "metadata": {},
   "outputs": [],
   "source": [
    "evolve!(com,steps=50,saveEach=1,preallocateAgents=0)"
   ]
  },
  {
   "cell_type": "code",
   "execution_count": 8,
   "metadata": {},
   "outputs": [
    {
     "data": {
      "text/plain": [
       "plotMixedAgents2D! (generic function with 1 method)"
      ]
     },
     "execution_count": 8,
     "metadata": {},
     "output_type": "execute_result"
    }
   ],
   "source": [
    "function plotMixedAgents2D!(ax, x, y, d, l, angle, type, p; kargs...)\n",
    "    for (xi, yi, li, di, ai, ti, pi) in zip(x, y, l, d, angle, type, p)\n",
    "\n",
    "\n",
    "        if ti== 0  # rods\n",
    "            colorval = pi\n",
    "            colormap = :inferno\n",
    "            meshscatter!(ax,\n",
    "                [xi + li/2 * cos(ai)],\n",
    "                [yi + li/2 * sin(ai)];\n",
    "                marker = Sphere(Point3f(0, 0, 0), Float32(1)),\n",
    "                markersize = [Point3f(di/2, di/2, di/2)],\n",
    "                color = [colorval],\n",
    "                colormap = colormap,\n",
    "                kargs...\n",
    "            )\n",
    "            meshscatter!(ax,\n",
    "                [xi - li/2 * cos(ai)],\n",
    "                [yi - li/2 * sin(ai)];\n",
    "                marker = Sphere(Point3f(0, 0, 0), Float32(1)),\n",
    "                markersize = [Point3f(di/2, di/2, di/2)],\n",
    "                color = [colorval],\n",
    "                colormap = colormap,\n",
    "                kargs...\n",
    "            )\n",
    "            meshscatter!(ax,\n",
    "                [xi],\n",
    "                [yi];\n",
    "                marker = Cylinder(Point3f(-.5, 0, 0), Point3f(.5, 0, 0), Float32(1)),\n",
    "                markersize = [Point3f(li, di/2, di/2)],\n",
    "                rotation = [ai],\n",
    "                color = [colorval],\n",
    "                colormap = colormap,\n",
    "                kargs...\n",
    "            )\n",
    "        else  # puntos\n",
    "            colorval = RGBf(0, 1, 1)  # rojo puro\n",
    "            meshscatter!(ax,\n",
    "                [Point3f(xi, yi, 0.0)];  # ¡usar coordenadas 3D!\n",
    "                marker = Sphere(Point3f(0, 0, 0), Float32(1)),\n",
    "                markersize = [Point3f(di/2, di/2, di/2)],  # ¡tamaño real 3D!\n",
    "                color = [colorval],\n",
    "                kargs...\n",
    "            )\n",
    "        end\n",
    "\n",
    "    end\n",
    "    return\n",
    "end\n"
   ]
  },
  {
   "cell_type": "code",
   "execution_count": 9,
   "metadata": {},
   "outputs": [
    {
     "data": {
      "text/plain": [
       "GLMakie.Screen(...)"
      ]
     },
     "execution_count": 9,
     "metadata": {},
     "output_type": "execute_result"
    }
   ],
   "source": [
    "fig = Figure(size=(1500,300))\n",
    "\n",
    "for (i,j) in enumerate([1:round(Int,length(com)/4):length(com);length(com)])\n",
    "    ax = Axis3(fig[1,i],\n",
    "                azimuth=3*π/2,\n",
    "                elevation=π/2,\n",
    "                zlabelvisible=false,\n",
    "                zticklabelsvisible=false,\n",
    "                zgridvisible=false,\n",
    "                zspinesvisible=false\n",
    "            )\n",
    "\n",
    "    plotMixedAgents2D!(\n",
    "    ax,\n",
    "    com[j][:x],\n",
    "    com[j][:y],\n",
    "    com[j][:d],\n",
    "    com[j][:l],\n",
    "    com[j][:theta],\n",
    "    com[j][:type],\n",
    "    com[j][:pressure],\n",
    "    colorrange = (0, 0.05)\n",
    ")\n",
    "    xlims!(-10,10)\n",
    "    ylims!(-10,10)\n",
    "end\n",
    "\n",
    "display(fig)"
   ]
  },
  {
   "attachments": {},
   "cell_type": "markdown",
   "metadata": {},
   "source": [
    "## Growth model\n",
    "\n",
    "We construct over the forces model to add bacterial growth and cell division rules."
   ]
  },
  {
   "cell_type": "code",
   "execution_count": 10,
   "metadata": {},
   "outputs": [],
   "source": [
    "rods2dGrowth = ABM(2,\n",
    "    baseModelInit = [rod2D],\n",
    "\n",
    "    agent = Dict(\n",
    "                :lTarget => Float64,\n",
    "            ),\n",
    "\n",
    "    model = Dict(\n",
    "                :growth=>Float64,\n",
    "                :σlTarget=>Float64,\n",
    "                :lMax=>Float64,\n",
    "                :α=>Float64,\n",
    "                :σ=>Float64,\n",
    "                :p_half=>Float64,\n",
    "            ),\n",
    "\n",
    " \n",
    "    agentODE = quote\n",
    "        if type == 0\n",
    "            dt(l) = growth/(1+α*pressure) #linear growth with growth dependent on the pressure over the cell\n",
    "        end\n",
    "        \n",
    "    end,\n",
    "\n",
    "    agentRule = quote #Bound cells\n",
    "        #Add division\n",
    "        if l > lTarget\n",
    "            ww = CBMDistributions.uniform(-.1,.1)/10 #To add some random torque at division time\n",
    "            # ww = 0 #To add some random torque at division time\n",
    "            #Add a new cell\n",
    "            @addAgent(\n",
    "                    x=(l+d)/4*cos(theta)+x,\n",
    "                    y=(l+d)/4*sin(theta)+y,\n",
    "                    l=(l-d)/2,\n",
    "                    ω = ww,\n",
    "                    lTarget = CBMDistributions.uniform(lMax-σlTarget,lMax+σlTarget), #New target length at which the bactery should divide\n",
    "                    type=0)\n",
    "            #Add a second cell\n",
    "            @addAgent(\n",
    "                    x=-(l+d)/4*cos(theta)+x,\n",
    "                    y=-(l+d)/4*sin(theta)+y,\n",
    "                    l=(l-d)/2,\n",
    "                    ω = -ww,\n",
    "                    lTarget = CBMDistributions.uniform(lMax-σlTarget,lMax+σlTarget), #New target length at which the bactery should divide\n",
    "                    type=0)\n",
    "            #Remove the old cell\n",
    "            @removeAgent()\n",
    "        end\n",
    "        # Probability of releasing PGA with a saturating function\n",
    "        prelease = σ * pressure / (p_half + pressure)\n",
    "\n",
    "        if CBMDistributions.uniform(0, 1) < prelease\n",
    "            # PGA release!\n",
    "            # You could mark it, count it, or log it here\n",
    "            # @info \"PGA released at step $(step) by agent ID $(id)\"\n",
    "            aux=CBMDistributions.rand_pm()\n",
    "            @addAgent(\n",
    "                    # x=((l+d)*(rand()-1/2)+aux*d/2)*cos(theta)+x,\n",
    "                    # y=((l+d)*(rand()-1/2)-aux*d/2)*sin(theta)+y,\n",
    "                    x=(CBMDistributions.uniform(-1,1)*(l+d)/2+aux*d/2)*cos(theta)+x,\n",
    "                    y=(CBMDistributions.uniform(-1,1)*(l+d)/2-aux*d/2)*sin(theta)+y,\n",
    "                    l=0,\n",
    "                    d=0.5,\n",
    "                    ω = 0,\n",
    "                    lTarget = CBMDistributions.uniform(lMax-σlTarget,lMax+σlTarget), #New target length at which the bactery should divide\n",
    "                    type=1)\n",
    "\n",
    "        end\n",
    "\n",
    "\n",
    "           \n",
    "\n",
    "    end,\n",
    "\n",
    "    neighborsAlg=CBMNeighbors.CellLinked(cellEdge=4),\n",
    "    platform=GPU(),\n",
    "    agentAlg=CBMIntegrators.Heun()\n",
    ");"
   ]
  },
  {
   "cell_type": "markdown",
   "metadata": {},
   "source": [
    "## Grow colony from one cell"
   ]
  },
  {
   "cell_type": "code",
   "execution_count": 13,
   "metadata": {},
   "outputs": [],
   "source": [
    "com = Community(rods2dGrowth,\n",
    "            N=1,\n",
    "            dt=0.1,\n",
    "            simBox = [-100 100;-100 100.],\n",
    "            );\n",
    "\n",
    "m = 1/100\n",
    "g = 1/10000\n",
    "d = 1\n",
    "com.kn = 2E6      * (m*g/d)\n",
    "com.γn = 2.2E2    * sqrt(g/d)\n",
    "com.γt = 2.2E2    * sqrt(g/d)\n",
    "com.μcc = 0.1\n",
    "com.μcw = 0.8\n",
    "com.β = .8\n",
    "com.βω = .8\n",
    "com.growth = 1E-6 * (sqrt(g*d)) *100000\n",
    "com.lMax = 3.     \n",
    "com.σlTarget = .2 \n",
    "com.α = 50\n",
    "com.σ = 5E-3\n",
    "com.type=0\n",
    "\n",
    "com.m = 1.        \n",
    "com.d = 1.        \n",
    "com.l = 2.99      \n",
    "com.lTarget = 3.  \n",
    "\n",
    "com.p_half=8\n",
    "\n",
    "com.x = 0\n",
    "com.y = 0\n",
    "com.theta = 0;"
   ]
  },
  {
   "cell_type": "code",
   "execution_count": null,
   "metadata": {},
   "outputs": [
    {
     "name": "stdout",
     "output_type": "stream",
     "text": [
      "Step: 260000 N: 4172\n",
      "Step: 270000 N: 6390\n"
     ]
    }
   ],
   "source": [
    "evolve!(com,\n",
    "        steps=150000,saveEach=1000,\n",
    "        preallocateAgents=50000,\n",
    "        saveCurrentState=true,\n",
    "        progressMessage=(com)->if round(Int,com.t/com.dt)%10000 == 0; println(\"Step: \",round(Int,com.t/com.dt), \" N: \", com.N); end)"
   ]
  },
  {
   "cell_type": "code",
   "execution_count": 25,
   "metadata": {},
   "outputs": [
    {
     "data": {
      "image/png": "[encoded data removed]",
      "text/html": [
       "<img width=600 height=400 style='object-fit: contain; height: auto;' src=\"data:image/png;base64, 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\"/>"
      ]
     },
     "execution_count": 25,
     "metadata": {},
     "output_type": "execute_result"
    }
   ],
   "source": [
    "# Elegimos un frame, por ejemplo el último\n",
    "p = com[end][:pressure]\n",
    "\n",
    "# Creamos la figura y el eje\n",
    "fig = Figure(size = (600, 400))\n",
    "ax = Axis(fig[1, 1]; xlabel = \"Presión\", ylabel = \"Frecuencia\", title = \"Histograma de presión\")\n",
    "\n",
    "# Dibujamos el histograma\n",
    "hist!(ax, p; bins = 30, color = :slateblue)\n",
    "\n",
    "fig  # Esto muestra la figura en una ventana interactiva"
   ]
  },
  {
   "cell_type": "code",
   "execution_count": 26,
   "metadata": {},
   "outputs": [
    {
     "data": {
      "text/plain": [
       "GLMakie.Screen(...)"
      ]
     },
     "execution_count": 26,
     "metadata": {},
     "output_type": "execute_result"
    }
   ],
   "source": [
    "fig = Figure(size=(1500,300))\n",
    "\n",
    "for (i,j) in enumerate([1:round(Int,length(com)/4):length(com);length(com)])\n",
    "    ax = Axis3(fig[1,i],\n",
    "                azimuth=3*π/2,\n",
    "                elevation=π/2,\n",
    "                zlabelvisible=false,\n",
    "                zticklabelsvisible=false,\n",
    "                zgridvisible=false,\n",
    "                zspinesvisible=false\n",
    "            )\n",
    "\n",
    "    plotMixedAgents2D!(\n",
    "    ax,\n",
    "    com[j][:x],\n",
    "    com[j][:y],\n",
    "    com[j][:d],\n",
    "    com[j][:l],\n",
    "    com[j][:theta],\n",
    "    com[j][:type],\n",
    "    com[j][:pressure],\n",
    "    colorrange = (0, maximum(com.pressure))\n",
    "    )\n",
    "\n",
    "    xlims!(-50,50)\n",
    "    ylims!(-50,50)\n",
    "end\n",
    "\n",
    "display(fig)"
   ]
  },
  {
   "cell_type": "code",
   "execution_count": 28,
   "metadata": {},
   "outputs": [
    {
     "data": {
      "text/plain": [
       "\"bacterias_video_pressure_long_2.mp4\""
      ]
     },
     "execution_count": 28,
     "metadata": {},
     "output_type": "execute_result"
    }
   ],
   "source": [
    "using GLMakie\n",
    "\n",
    "fig = Figure(size = (600, 600))\n",
    "ax = Axis(fig[1, 1]; aspect = DataAspect())\n",
    "\n",
    "# Cálculo del máximo de presión en todos los frames\n",
    "max_pressure = maximum(com.pressure)\n",
    "\n",
    "GLMakie.record(fig, \"bacterias_video_pressure_long_2.mp4\", 1:length(com); framerate = 15) do j\n",
    "    # Limpiar el eje\n",
    "    Makie.empty!(ax)\n",
    "\n",
    "    # Dibujar los agentes (usando tu función personalizada)\n",
    "    plotMixedAgents2D!(\n",
    "        ax,\n",
    "        com[j][:x],\n",
    "        com[j][:y],\n",
    "        com[j][:d],\n",
    "        com[j][:l],\n",
    "        com[j][:theta],\n",
    "        com[j][:type],\n",
    "        com[j][:pressure],\n",
    "        colorrange = (0, max_pressure)\n",
    "    )\n",
    "\n",
    "    xlims!(ax, -50, 50)\n",
    "    ylims!(ax, -50, 50)\n",
    "end\n"
   ]
  }
 ],
 "metadata": {
  "kernelspec": {
   "display_name": "Julia 1.10.4 1.10.4",
   "language": "julia",
   "name": "julia-1.10.4-1.10"
  },
  "language_info": {
   "file_extension": ".jl",
   "mimetype": "application/julia",
   "name": "julia",
   "version": "1.10.4"
  },
  "orig_nbformat": 4
 },
 "nbformat": 4,
 "nbformat_minor": 2
}
