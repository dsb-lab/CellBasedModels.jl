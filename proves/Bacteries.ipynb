{
 "cells": [
  {
   "attachments": {},
   "cell_type": "markdown",
   "metadata": {},
   "source": [
    "# [Bacterial Colony Growth](@id Bacteries)\n",
    "\n",
    "In this example, we are going to create a bacterial model and grow a colony using it.\n",
    "\n",
    " - The implementation of the force interaction dynamics is the one presented by [Volfson et al. (2008)](https://www.pnas.org/doi/abs/10.1073/pnas.0706805105)\n",
    " - We use GPU accelerated dynamics\n",
    "\n",
    "As described in other models, it is advised that the models are constructed by parts to avoid having to find bugs in a very complex system. Hence, we will split the model in two parts:\n",
    "\n",
    " - Forces model\n",
    " - Growth model"
   ]
  },
  {
   "cell_type": "markdown",
   "metadata": {},
   "source": [
    "## Load the packages"
   ]
  },
  {
   "cell_type": "code",
   "execution_count": 1,
   "metadata": {},
   "outputs": [
    {
     "name": "stderr",
     "output_type": "stream",
     "text": [
      "\u001b[32m\u001b[1m  Activating\u001b[22m\u001b[39m project at `c:\\Users\\u256063\\Desktop\\Projects\\ABM_2\\ABM_CBM`\n",
      "\u001b[32m\u001b[1mPrecompiling\u001b[22m\u001b[39m project...\n",
      "\u001b[36m\u001b[1m        Info\u001b[22m\u001b[39m Given CellBasedModels was explicitly requested, output will be shown live \u001b[0K\n",
      "\u001b[0K\u001b[33m\u001b[1m┌ \u001b[22m\u001b[39m\u001b[33m\u001b[1mWarning: \u001b[22m\u001b[39mCUDA runtime library nvrtc64_112_0.dll was loaded from a system path. This may cause errors.\n",
      "\u001b[0K\u001b[33m\u001b[1m│ \u001b[22m\u001b[39mEnsure that you have not set the LD_LIBRARY_PATH environment variable, or that it does not contain paths to CUDA libraries.\n",
      "\u001b[0K\u001b[33m\u001b[1m└ \u001b[22m\u001b[39m\u001b[90m@ CUDA C:\\Users\\u256063\\.julia\\packages\\CUDA\\jdJ7Z\\src\\initialization.jl:187\u001b[39m\n",
      "\u001b[0K\u001b[33m\u001b[1m┌ \u001b[22m\u001b[39m\u001b[33m\u001b[1mWarning: \u001b[22m\u001b[39mCUDA runtime library nvrtc64_112_0.dll was loaded from a system path. This may cause errors.\n",
      "\u001b[0K\u001b[33m\u001b[1m│ \u001b[22m\u001b[39mEnsure that you have not set the LD_LIBRARY_PATH environment variable, or that it does not contain paths to CUDA libraries.\n",
      "\u001b[0K\u001b[33m\u001b[1m└ \u001b[22m\u001b[39m\u001b[90m@ CUDA C:\\Users\\u256063\\.julia\\packages\\CUDA\\jdJ7Z\\src\\initialization.jl:187\u001b[39m\n",
      "\u001b[0K\u001b[33m\u001b[1m┌ \u001b[22m\u001b[39m\u001b[33m\u001b[1mWarning: \u001b[22m\u001b[39mCUDA runtime library nvrtc64_112_0.dll was loaded from a system path. This may cause errors.\n",
      "\u001b[0K\u001b[33m\u001b[1m│ \u001b[22m\u001b[39mEnsure that you have not set the LD_LIBRARY_PATH environment variable, or that it does not contain paths to CUDA libraries.\n",
      "\u001b[0K\u001b[33m\u001b[1m└ \u001b[22m\u001b[39m\u001b[90m@ CUDA C:\\Users\\u256063\\.julia\\packages\\CUDA\\jdJ7Z\\src\\initialization.jl:187\u001b[39m\n",
      "\u001b[0K\u001b[33m\u001b[1m┌ \u001b[22m\u001b[39m\u001b[33m\u001b[1mWarning: \u001b[22m\u001b[39mCUDA runtime library nvrtc64_112_0.dll was loaded from a system path. This may cause errors.\n",
      "\u001b[0K\u001b[33m\u001b[1m│ \u001b[22m\u001b[39mEnsure that you have not set the LD_LIBRARY_PATH environment variable, or that it does not contain paths to CUDA libraries.\n",
      "\u001b[0K\u001b[33m\u001b[1m└ \u001b[22m\u001b[39m\u001b[90m@ CUDA C:\\Users\\u256063\\.julia\\packages\\CUDA\\jdJ7Z\\src\\initialization.jl:187\u001b[39m\n",
      "\u001b[32m  ✓ \u001b[39mCellBasedModels\n",
      "  1 dependency successfully precompiled in 323 seconds. 436 already precompiled.\n",
      "  \u001b[33m1\u001b[39m dependency had output during precompilation:\u001b[33m\n",
      "┌ \u001b[39mCellBasedModels\u001b[33m\n",
      "│  \u001b[39m[Output was shown above]\u001b[33m\n",
      "└  \u001b[39m\n"
     ]
    }
   ],
   "source": [
    "import Pkg\n",
    "Pkg.activate(\"../\")\n",
    "Pkg.instantiate()\n"
   ]
  },
  {
   "cell_type": "code",
   "execution_count": 2,
   "metadata": {},
   "outputs": [
    {
     "name": "stderr",
     "output_type": "stream",
     "text": [
      "\u001b[32m\u001b[1m   Resolving\u001b[22m\u001b[39m package versions...\n",
      "\u001b[32m\u001b[1m  No Changes\u001b[22m\u001b[39m to `C:\\Users\\u256063\\Desktop\\Projects\\ABM_2\\ABM_CBM\\Project.toml`\n",
      "\u001b[32m\u001b[1m  No Changes\u001b[22m\u001b[39m to `C:\\Users\\u256063\\Desktop\\Projects\\ABM_2\\ABM_CBM\\Manifest.toml`\n"
     ]
    }
   ],
   "source": [
    "import Pkg; Pkg.add([\"Revise\", \"GLMakie\"])"
   ]
  },
  {
   "cell_type": "code",
   "execution_count": 3,
   "metadata": {},
   "outputs": [
    {
     "name": "stderr",
     "output_type": "stream",
     "text": [
      "\u001b[36m\u001b[1m[ \u001b[22m\u001b[39m\u001b[36m\u001b[1mInfo: \u001b[22m\u001b[39mPrecompiling CellBasedModels [388cb286-f2b1-4654-a3bb-2e137a39c658]\n",
      "\u001b[33m\u001b[1m┌ \u001b[22m\u001b[39m\u001b[33m\u001b[1mWarning: \u001b[22m\u001b[39mCUDA runtime library nvrtc64_112_0.dll was loaded from a system path. This may cause errors.\n",
      "\u001b[33m\u001b[1m│ \u001b[22m\u001b[39mEnsure that you have not set the LD_LIBRARY_PATH environment variable, or that it does not contain paths to CUDA libraries.\n",
      "\u001b[33m\u001b[1m└ \u001b[22m\u001b[39m\u001b[90m@ CUDA C:\\Users\\u256063\\.julia\\packages\\CUDA\\jdJ7Z\\src\\initialization.jl:187\u001b[39m\n",
      "\u001b[33m\u001b[1m┌ \u001b[22m\u001b[39m\u001b[33m\u001b[1mWarning: \u001b[22m\u001b[39mCUDA runtime library nvrtc64_112_0.dll was loaded from a system path. This may cause errors.\n",
      "\u001b[33m\u001b[1m│ \u001b[22m\u001b[39mEnsure that you have not set the LD_LIBRARY_PATH environment variable, or that it does not contain paths to CUDA libraries.\n",
      "\u001b[33m\u001b[1m└ \u001b[22m\u001b[39m\u001b[90m@ CUDA C:\\Users\\u256063\\.julia\\packages\\CUDA\\jdJ7Z\\src\\initialization.jl:187\u001b[39m\n",
      "\u001b[33m\u001b[1m┌ \u001b[22m\u001b[39m\u001b[33m\u001b[1mWarning: \u001b[22m\u001b[39mCUDA runtime library nvrtc64_112_0.dll was loaded from a system path. This may cause errors.\n",
      "\u001b[33m\u001b[1m│ \u001b[22m\u001b[39mEnsure that you have not set the LD_LIBRARY_PATH environment variable, or that it does not contain paths to CUDA libraries.\n",
      "\u001b[33m\u001b[1m└ \u001b[22m\u001b[39m\u001b[90m@ CUDA C:\\Users\\u256063\\.julia\\packages\\CUDA\\jdJ7Z\\src\\initialization.jl:187\u001b[39m\n",
      "\u001b[33m\u001b[1m┌ \u001b[22m\u001b[39m\u001b[33m\u001b[1mWarning: \u001b[22m\u001b[39mCUDA runtime library nvrtc64_112_0.dll was loaded from a system path. This may cause errors.\n",
      "\u001b[33m\u001b[1m│ \u001b[22m\u001b[39mEnsure that you have not set the LD_LIBRARY_PATH environment variable, or that it does not contain paths to CUDA libraries.\n",
      "\u001b[33m\u001b[1m└ \u001b[22m\u001b[39m\u001b[90m@ CUDA C:\\Users\\u256063\\.julia\\packages\\CUDA\\jdJ7Z\\src\\initialization.jl:187\u001b[39m\n",
      "\u001b[33m\u001b[1m┌ \u001b[22m\u001b[39m\u001b[33m\u001b[1mWarning: \u001b[22m\u001b[39mCUDA runtime library nvrtc64_112_0.dll was loaded from a system path. This may cause errors.\n",
      "\u001b[33m\u001b[1m│ \u001b[22m\u001b[39mEnsure that you have not set the LD_LIBRARY_PATH environment variable, or that it does not contain paths to CUDA libraries.\n",
      "\u001b[33m\u001b[1m└ \u001b[22m\u001b[39m\u001b[90m@ CUDA C:\\Users\\u256063\\.julia\\packages\\CUDA\\jdJ7Z\\src\\initialization.jl:187\u001b[39m\n"
     ]
    }
   ],
   "source": [
    "using Revise\n",
    "using CellBasedModels\n",
    "using CUDA\n",
    "using Distributions\n",
    "using GLMakie\n",
    "# using GeometryBasics\n",
    "import GLMakie: Point3f, Cylinder, Sphere, NoShading #Can be changes to Cairo or CLMakie"
   ]
  },
  {
   "attachments": {},
   "cell_type": "markdown",
   "metadata": {},
   "source": [
    "## Forces model\n",
    "\n",
    "We already use the defined forces model that is implemented in CBMModels. This is an exact copy of the rod model that you can find already predefined in `Models/rods.jl`. You can check the `Models` section of the documentation for more details.\n"
   ]
  },
  {
   "cell_type": "code",
   "execution_count": 4,
   "metadata": {},
   "outputs": [],
   "source": [
    "rod2D = ABM(2,\n",
    "    agent = Dict(\n",
    "            :vx=>Float64,\n",
    "            :vy=>Float64,\n",
    "            :theta=>Float64,\n",
    "            :ω=>Float64,\n",
    "            :d=>Float64,\n",
    "            :l=>Float64,\n",
    "            :m=>Float64,\n",
    "            :fx=>Float64,\n",
    "            :fy=>Float64,\n",
    "            :W=>Float64,\n",
    "            :pressure=>Float64,\n",
    "            :type=>Int,\n",
    "        ),    #Local Interaction Parameters\n",
    "\n",
    "    model = Dict(\n",
    "            :n=>Int,\n",
    "            :kn=>Float64,\n",
    "            :γn=>Float64,\n",
    "            :γt=>Float64,\n",
    "            :μcc=>Float64,\n",
    "            :μcw=>Float64,\n",
    "            :β=>Float64,\n",
    "            :βω=>Float64\n",
    "        ),        #Global parameters\n",
    "\n",
    "    agentODE = quote\n",
    "\n",
    "        fx = 0\n",
    "        fy = 0\n",
    "        W = 0\n",
    "        pressure = 0\n",
    "        @loopOverNeighbors i2 begin\n",
    "\n",
    "            #Use the model provided in the documentation\n",
    "            Fijx, Fijy, Wij = CBMModels.rodForces(\n",
    "                                    x,y,d,l,theta,vx,vy,m,\n",
    "                                    x[i2],y[i2],d[i2],l[i2],theta[i2],vx[i2],vy[i2],m[i2],\n",
    "                                    kn,γn,γt,μcc,μcw\n",
    "                                )\n",
    "\n",
    "            #Append the interaction forces\n",
    "            fx += Fijx\n",
    "            fy += Fijy\n",
    "            #Append radial forces\n",
    "            W += Wij\n",
    "            #Keep track of preassure in the media\n",
    "            pressure += sqrt(Fijx^2+Fijy^2)\n",
    "            \n",
    "        end\n",
    "\n",
    "        #Equations\n",
    "        dt(x) =  vx \n",
    "        dt(y) =  vy \n",
    "        dt(vx) =  -β*vx+fx/m \n",
    "        dt(vy) =  -β*vy+fy/m \n",
    "        dt(theta) =  ω \n",
    "        dt(ω) =  W/(m*(d+l)^2/12+m*d^2)-βω*ω \n",
    "        \n",
    "    end,\n",
    "\n",
    "    neighborsAlg=CBMNeighbors.CellLinked(cellEdge=4),\n",
    "    platform=GPU(),\n",
    "    agentAlg = CBMIntegrators.Heun()\n",
    ");\n"
   ]
  },
  {
   "attachments": {},
   "cell_type": "markdown",
   "metadata": {},
   "source": [
    "### Initialize a community with two bacteries and check forces"
   ]
  },
  {
   "cell_type": "code",
   "execution_count": 5,
   "metadata": {},
   "outputs": [
    {
     "data": {
      "text/plain": [
       "20"
      ]
     },
     "execution_count": 5,
     "metadata": {},
     "output_type": "execute_result"
    }
   ],
   "source": [
    "com = Community(rod2D,\n",
    "            N=30,\n",
    "            dt=0.1,\n",
    "            simBox = [-10 10;-10 10.],\n",
    "            );\n",
    "\n",
    "#Natural units scales\n",
    "m = 1/100\n",
    "g = 1/10000\n",
    "d = 1\n",
    "#Model constants\n",
    "com.kn = 2E6      * (m*g/d)\n",
    "com.γn = 2.2E2    * sqrt(g/d)\n",
    "com.γt = 2.2E2    * sqrt(g/d)\n",
    "com.μcc = 0.1\n",
    "com.μcw = 0.8\n",
    "com.β = .8\n",
    "com.βω = .8\n",
    "com.n=20\n",
    "#Agent parameters\n",
    "# com.m = 1\n",
    "# com.d = 1\n",
    "# com.l = 3;\n",
    "#     # You can play to put different positions and angles here and see the behaviour of the interacting bacteries\n",
    "# com.x = [0.,1]\n",
    "# com.y = [0.,1]\n",
    "# com.theta = [0,π/2];"
   ]
  },
  {
   "cell_type": "code",
   "execution_count": 6,
   "metadata": {},
   "outputs": [],
   "source": [
    "for i in 1:com.N\n",
    "    com.theta[i] = rand() * 2π\n",
    "    com.x[i] = rand()*16-8\n",
    "    com.y[i] = rand()*16-8\n",
    "    if i <= com.n[1]  # agentes del 0 al 4 (long rods)\n",
    "        com.type[i] = 0\n",
    "        com.l[i] = 3.0\n",
    "        com.m[i] = 1.0\n",
    "        com.d[i] = 1.0\n",
    "    else       # agentes del 5 al 9 (puntos o discos)\n",
    "        com.type[i] = 1\n",
    "        com.l[i] = 0\n",
    "        com.m[i] = 0.2\n",
    "        com.d[i] = 0.8\n",
    "    end\n",
    "end"
   ]
  },
  {
   "cell_type": "code",
   "execution_count": 7,
   "metadata": {},
   "outputs": [],
   "source": [
    "evolve!(com,steps=50,saveEach=1,preallocateAgents=0)"
   ]
  },
  {
   "cell_type": "code",
   "execution_count": 53,
   "metadata": {},
   "outputs": [
    {
     "data": {
      "text/plain": [
       "plotMixedAgents2D! (generic function with 1 method)"
      ]
     },
     "execution_count": 53,
     "metadata": {},
     "output_type": "execute_result"
    }
   ],
   "source": [
    "function plotMixedAgents2D!(ax, x, y, d, l, angle, type, p; kargs...)\n",
    "    for (xi, yi, li, di, ai, ti, pi) in zip(x, y, l, d, angle, type, p)\n",
    "\n",
    "\n",
    "        if ti== 0  # rods\n",
    "            colorval = pi\n",
    "            colormap = :inferno\n",
    "            meshscatter!(ax,\n",
    "                [xi + li/2 * cos(ai)],\n",
    "                [yi + li/2 * sin(ai)];\n",
    "                marker = Sphere(Point3f(0, 0, 0), Float32(1)),\n",
    "                markersize = [Point3f(di/2, di/2, di/2)],\n",
    "                color = [colorval],\n",
    "                colormap = colormap,\n",
    "                kargs...\n",
    "            )\n",
    "            meshscatter!(ax,\n",
    "                [xi - li/2 * cos(ai)],\n",
    "                [yi - li/2 * sin(ai)];\n",
    "                marker = Sphere(Point3f(0, 0, 0), Float32(1)),\n",
    "                markersize = [Point3f(di/2, di/2, di/2)],\n",
    "                color = [colorval],\n",
    "                colormap = colormap,\n",
    "                kargs...\n",
    "            )\n",
    "            meshscatter!(ax,\n",
    "                [xi],\n",
    "                [yi];\n",
    "                marker = Cylinder(Point3f(-.5, 0, 0), Point3f(.5, 0, 0), Float32(1)),\n",
    "                markersize = [Point3f(li, di/2, di/2)],\n",
    "                rotation = [ai],\n",
    "                color = [colorval],\n",
    "                colormap = colormap,\n",
    "                kargs...\n",
    "            )\n",
    "        else  # puntos\n",
    "            colorval = RGBf(0, 1, 1)  # rojo puro\n",
    "            meshscatter!(ax,\n",
    "                [Point3f(xi, yi, 0.0)];  # ¡usar coordenadas 3D!\n",
    "                marker = Sphere(Point3f(0, 0, 0), Float32(1)),\n",
    "                markersize = [Point3f(di/2, di/2, di/2)],  # ¡tamaño real 3D!\n",
    "                color = [colorval],\n",
    "                kargs...\n",
    "            )\n",
    "        end\n",
    "\n",
    "    end\n",
    "    return\n",
    "end\n"
   ]
  },
  {
   "cell_type": "code",
   "execution_count": 54,
   "metadata": {},
   "outputs": [
    {
     "data": {
      "text/plain": [
       "GLMakie.Screen(...)"
      ]
     },
     "execution_count": 54,
     "metadata": {},
     "output_type": "execute_result"
    }
   ],
   "source": [
    "fig = Figure(size=(1500,300))\n",
    "\n",
    "for (i,j) in enumerate([1:round(Int,length(com)/4):length(com);length(com)])\n",
    "    ax = Axis3(fig[1,i],\n",
    "                azimuth=3*π/2,\n",
    "                elevation=π/2,\n",
    "                zlabelvisible=false,\n",
    "                zticklabelsvisible=false,\n",
    "                zgridvisible=false,\n",
    "                zspinesvisible=false\n",
    "            )\n",
    "\n",
    "    plotMixedAgents2D!(\n",
    "    ax,\n",
    "    com[j][:x],\n",
    "    com[j][:y],\n",
    "    com[j][:d],\n",
    "    com[j][:l],\n",
    "    com[j][:theta],\n",
    "    com[j][:type],\n",
    "    com[j][:pressure],\n",
    "    colorrange = (0,maximum(com.pressure))\n",
    ")\n",
    "    xlims!(-10,10)\n",
    "    ylims!(-10,10)\n",
    "end\n",
    "\n",
    "display(fig)"
   ]
  },
  {
   "attachments": {},
   "cell_type": "markdown",
   "metadata": {},
   "source": [
    "## Growth model\n",
    "\n",
    "We construct over the forces model to add bacterial growth and cell division rules."
   ]
  },
  {
   "cell_type": "code",
   "execution_count": 21,
   "metadata": {},
   "outputs": [
    {
     "data": {
      "text/plain": [
       "1"
      ]
     },
     "execution_count": 21,
     "metadata": {},
     "output_type": "execute_result"
    }
   ],
   "source": [
    "CBMDistributions.rand_pm()"
   ]
  },
  {
   "cell_type": "code",
   "execution_count": null,
   "metadata": {},
   "outputs": [],
   "source": [
    "rods2dGrowth = ABM(2,\n",
    "    baseModelInit = [rod2D],\n",
    "\n",
    "    agent = Dict(\n",
    "                :lTarget => Float64,\n",
    "                :pTarget => Float64,\n",
    "                :p => Float64\n",
    "            ),\n",
    "\n",
    "    model = Dict(\n",
    "                :growth=>Float64,\n",
    "                :σlTarget=>Float64,\n",
    "                :lMax=>Float64,\n",
    "                :α=>Float64,\n",
    "                :σ=>Float64\n",
    "            ),\n",
    "\n",
    " \n",
    "    agentODE = quote\n",
    "        if type == 0\n",
    "            dt(l) = growth/(1+α*pressure) #linear growth with growth dependent on the pressure over the cell\n",
    "            dt(p) = σ*pressure^2/(pressure^2+α^2)\n",
    "        end\n",
    "        \n",
    "    end,\n",
    "\n",
    "    agentRule = quote #Bound cells\n",
    "        #Add division\n",
    "        if l > lTarget\n",
    "            ww = CBMDistributions.uniform(-.1,.1)/10 #To add some random torque at division time\n",
    "            # ww = 0 #To add some random torque at division time\n",
    "            #Add a new cell\n",
    "            @addAgent(\n",
    "                    x=(l+d)/4*cos(theta)+x,\n",
    "                    y=(l+d)/4*sin(theta)+y,\n",
    "                    l=(l-d)/2,\n",
    "                    ω = ww,\n",
    "                    p=0,\n",
    "                    lTarget = CBMDistributions.uniform(lMax-σlTarget,lMax+σlTarget), #New target length at which the bactery should divide\n",
    "                    type=0)\n",
    "            #Add a second cell\n",
    "            @addAgent(\n",
    "                    x=-(l+d)/4*cos(theta)+x,\n",
    "                    y=-(l+d)/4*sin(theta)+y,\n",
    "                    l=(l-d)/2,\n",
    "                    ω = -ww,\n",
    "                    p=0,\n",
    "                    lTarget = CBMDistributions.uniform(lMax-σlTarget,lMax+σlTarget), #New target length at which the bactery should divide\n",
    "                    type=0)\n",
    "            #Remove the old cell\n",
    "            @removeAgent()\n",
    "        end\n",
    "        if p > pTarget \n",
    "            ww = 0 #To add some random torque at division time\n",
    "            p=0\n",
    "            #Add a new cell\n",
    "            aux=CBMDistributions.rand_pm()\n",
    "            @addAgent(\n",
    "                    # x=((l+d)*(rand()-1/2)+aux*d/2)*cos(theta)+x,\n",
    "                    # y=((l+d)*(rand()-1/2)-aux*d/2)*sin(theta)+y,\n",
    "                    x=(CBMDistributions.uniform(-1,1)*(l+d)/2+aux*d/2)*cos(theta)+x,\n",
    "                    y=(CBMDistributions.uniform(-1,1)*(l+d)/2-aux*d/2)*sin(theta)+y,\n",
    "                    l=0,\n",
    "                    d=0.5,\n",
    "                    ω = ww,\n",
    "                    lTarget = CBMDistributions.uniform(lMax-σlTarget,lMax+σlTarget), #New target length at which the bactery should divide\n",
    "                    type=1)\n",
    "\n",
    "        end\n",
    "\n",
    "    end,\n",
    "\n",
    "    neighborsAlg=CBMNeighbors.CellLinked(cellEdge=4),\n",
    "    platform=GPU(),\n",
    "    agentAlg=CBMIntegrators.Heun()\n",
    ");"
   ]
  },
  {
   "cell_type": "markdown",
   "metadata": {},
   "source": [
    "## Grow colony from one cell"
   ]
  },
  {
   "cell_type": "code",
   "execution_count": null,
   "metadata": {},
   "outputs": [],
   "source": [
    "com = Community(rods2dGrowth,\n",
    "            N=1,\n",
    "            dt=0.1,\n",
    "            simBox = [-100 100;-100 100.],\n",
    "            );\n",
    "\n",
    "m = 1/100\n",
    "g = 1/10000\n",
    "d = 1\n",
    "com.kn = 2E6      * (m*g/d)\n",
    "com.γn = 2.2E2    * sqrt(g/d)\n",
    "com.γt = 2.2E2    * sqrt(g/d)\n",
    "com.μcc = 0.1\n",
    "com.μcw = 0.8\n",
    "com.β = .8\n",
    "com.βω = .8\n",
    "com.growth = 1E-6 * (sqrt(g*d)) *100000\n",
    "com.lMax = 3.     \n",
    "com.σlTarget = .2 \n",
    "com.α = 50\n",
    "com.σ = 2\n",
    "com.type=0\n",
    "\n",
    "com.m = 1.        \n",
    "com.d = 1.        \n",
    "com.l = 2.99      \n",
    "com.lTarget = 3.  \n",
    "com.p=0.\n",
    "com.pTarget = 5.E-3\n",
    "\n",
    "com.x = 0\n",
    "com.y = 0\n",
    "com.theta = 0;"
   ]
  },
  {
   "cell_type": "code",
   "execution_count": 27,
   "metadata": {},
   "outputs": [
    {
     "name": "stdout",
     "output_type": "stream",
     "text": [
      "Step: 10000 N: 2\n",
      "Step: 20000 N: 3\n",
      "Step: 30000 N: 4\n",
      "Step: 40000 N: 6\n",
      "Step: 50000 N: 8\n",
      "Step: 60000 N: 9\n",
      "Step: 70000 N: 16\n",
      "Step: 80000 N: 19\n",
      "Step: 90000 N: 32\n",
      "Step: 100000 N: 37\n",
      "Step: 110000 N: 64\n",
      "Step: 120000 N: 67\n",
      "Step: 130000 N: 116\n",
      "Step: 140000 N: 1001\n",
      "Step: 150000 N: 1000\n"
     ]
    }
   ],
   "source": [
    "evolve!(com,\n",
    "        steps=150000,saveEach=1000,\n",
    "        preallocateAgents=1000,\n",
    "        saveCurrentState=true,\n",
    "        progressMessage=(com)->if round(Int,com.t/com.dt)%10000 == 0; println(\"Step: \",round(Int,com.t/com.dt), \" N: \", com.N); end)"
   ]
  },
  {
   "cell_type": "code",
   "execution_count": 31,
   "metadata": {},
   "outputs": [
    {
     "name": "stderr",
     "output_type": "stream",
     "text": [
      "\u001b[33m\u001b[1m┌ \u001b[22m\u001b[39m\u001b[33m\u001b[1mWarning: \u001b[22m\u001b[39mFound `resolution` in the theme when creating a `Scene`. The `resolution` keyword for `Scene`s and `Figure`s has been deprecated. Use `Figure(; size = ...` or `Scene(; size = ...)` instead, which better reflects that this is a unitless size and not a pixel resolution. The key could also come from `set_theme!` calls or related theming functions.\n",
      "\u001b[33m\u001b[1m└ \u001b[22m\u001b[39m\u001b[90m@ Makie C:\\Users\\u256063\\.julia\\packages\\Makie\\dYDv2\\src\\scenes.jl:238\u001b[39m\n"
     ]
    },
    {
     "data": {
      "image/png": "[encoded data removed]",
      "text/html": [
       "<img width=600 height=400 style='object-fit: contain; height: auto;' src=\"data:image/png;base64, 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\"/>"
      ]
     },
     "execution_count": 31,
     "metadata": {},
     "output_type": "execute_result"
    }
   ],
   "source": [
    "# Elegimos un frame, por ejemplo el último\n",
    "p = com[end][:p]\n",
    "\n",
    "# Creamos la figura y el eje\n",
    "fig = Figure(resolution = (600, 400))\n",
    "ax = Axis(fig[1, 1]; xlabel = \"Presión\", ylabel = \"Frecuencia\", title = \"Histograma de presión\")\n",
    "\n",
    "# Dibujamos el histograma\n",
    "hist!(ax, p; bins = 30, color = :slateblue)\n",
    "\n",
    "fig  # Esto muestra la figura en una ventana interactiva"
   ]
  },
  {
   "cell_type": "code",
   "execution_count": 35,
   "metadata": {},
   "outputs": [
    {
     "data": {
      "text/plain": [
       "0.004818142391741276"
      ]
     },
     "execution_count": 35,
     "metadata": {},
     "output_type": "execute_result"
    }
   ],
   "source": [
    "maximum(com.p)"
   ]
  },
  {
   "cell_type": "code",
   "execution_count": 33,
   "metadata": {},
   "outputs": [
    {
     "name": "stderr",
     "output_type": "stream",
     "text": [
      "\u001b[33m\u001b[1m┌ \u001b[22m\u001b[39m\u001b[33m\u001b[1mWarning: \u001b[22m\u001b[39mFound `resolution` in the theme when creating a `Scene`. The `resolution` keyword for `Scene`s and `Figure`s has been deprecated. Use `Figure(; size = ...` or `Scene(; size = ...)` instead, which better reflects that this is a unitless size and not a pixel resolution. The key could also come from `set_theme!` calls or related theming functions.\n",
      "\u001b[33m\u001b[1m└ \u001b[22m\u001b[39m\u001b[90m@ Makie C:\\Users\\u256063\\.julia\\packages\\Makie\\dYDv2\\src\\scenes.jl:238\u001b[39m\n"
     ]
    },
    {
     "data": {
      "image/png": "[encoded data removed]",
      "text/html": [
       "<img width=600 height=400 style='object-fit: contain; height: auto;' src=\"data:image/png;base64, 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\"/>"
      ]
     },
     "execution_count": 33,
     "metadata": {},
     "output_type": "execute_result"
    }
   ],
   "source": [
    "# Elegimos un frame, por ejemplo el último\n",
    "p = com[end][:pressure]\n",
    "\n",
    "# Creamos la figura y el eje\n",
    "fig = Figure(resolution = (600, 400))\n",
    "ax = Axis(fig[1, 1]; xlabel = \"Presión\", ylabel = \"Frecuencia\", title = \"Histograma de presión\")\n",
    "\n",
    "# Dibujamos el histograma\n",
    "hist!(ax, p; bins = 30, color = :slateblue)\n",
    "\n",
    "fig  # Esto muestra la figura en una ventana interactiva"
   ]
  },
  {
   "cell_type": "code",
   "execution_count": 37,
   "metadata": {},
   "outputs": [
    {
     "name": "stderr",
     "output_type": "stream",
     "text": [
      "\u001b[33m\u001b[1m┌ \u001b[22m\u001b[39m\u001b[33m\u001b[1mWarning: \u001b[22m\u001b[39mFound `resolution` in the theme when creating a `Scene`. The `resolution` keyword for `Scene`s and `Figure`s has been deprecated. Use `Figure(; size = ...` or `Scene(; size = ...)` instead, which better reflects that this is a unitless size and not a pixel resolution. The key could also come from `set_theme!` calls or related theming functions.\n",
      "\u001b[33m\u001b[1m└ \u001b[22m\u001b[39m\u001b[90m@ Makie C:\\Users\\u256063\\.julia\\packages\\Makie\\dYDv2\\src\\scenes.jl:238\u001b[39m\n"
     ]
    },
    {
     "data": {
      "text/plain": [
       "GLMakie.Screen(...)"
      ]
     },
     "execution_count": 37,
     "metadata": {},
     "output_type": "execute_result"
    }
   ],
   "source": [
    "fig = Figure(size=(1500,300))\n",
    "\n",
    "for (i,j) in enumerate([1:round(Int,length(com)/4):length(com);length(com)])\n",
    "    ax = Axis3(fig[1,i],\n",
    "                azimuth=3*π/2,\n",
    "                elevation=π/2,\n",
    "                zlabelvisible=false,\n",
    "                zticklabelsvisible=false,\n",
    "                zgridvisible=false,\n",
    "                zspinesvisible=false\n",
    "            )\n",
    "\n",
    "    plotMixedAgents2D!(\n",
    "    ax,\n",
    "    com[j][:x],\n",
    "    com[j][:y],\n",
    "    com[j][:d],\n",
    "    com[j][:l],\n",
    "    com[j][:theta],\n",
    "    com[j][:type],\n",
    "    com[j][:pressure],\n",
    "    colorrange = (0, maximum(com.pressure))\n",
    "    )\n",
    "\n",
    "    xlims!(-20,20)\n",
    "    ylims!(-20,20)\n",
    "end\n",
    "\n",
    "display(fig)"
   ]
  },
  {
   "cell_type": "code",
   "execution_count": 38,
   "metadata": {},
   "outputs": [
    {
     "name": "stderr",
     "output_type": "stream",
     "text": [
      "\u001b[33m\u001b[1m┌ \u001b[22m\u001b[39m\u001b[33m\u001b[1mWarning: \u001b[22m\u001b[39mFound `resolution` in the theme when creating a `Scene`. The `resolution` keyword for `Scene`s and `Figure`s has been deprecated. Use `Figure(; size = ...` or `Scene(; size = ...)` instead, which better reflects that this is a unitless size and not a pixel resolution. The key could also come from `set_theme!` calls or related theming functions.\n",
      "\u001b[33m\u001b[1m└ \u001b[22m\u001b[39m\u001b[90m@ Makie C:\\Users\\u256063\\.julia\\packages\\Makie\\dYDv2\\src\\scenes.jl:238\u001b[39m\n"
     ]
    },
    {
     "data": {
      "text/plain": [
       "GLMakie.Screen(...)"
      ]
     },
     "execution_count": 38,
     "metadata": {},
     "output_type": "execute_result"
    }
   ],
   "source": [
    "fig = Figure(size=(1500,300))\n",
    "\n",
    "for (i,j) in enumerate([1:round(Int,length(com)/4):length(com);length(com)])\n",
    "    ax = Axis3(fig[1,i],\n",
    "                azimuth=3*π/2,\n",
    "                elevation=π/2,\n",
    "                zlabelvisible=false,\n",
    "                zticklabelsvisible=false,\n",
    "                zgridvisible=false,\n",
    "                zspinesvisible=false\n",
    "            )\n",
    "\n",
    "    plotMixedAgents2D!(\n",
    "    ax,\n",
    "    com[j][:x],\n",
    "    com[j][:y],\n",
    "    com[j][:d],\n",
    "    com[j][:l],\n",
    "    com[j][:theta],\n",
    "    com[j][:type],\n",
    "    com[j][:p],\n",
    "    colorrange = (0, maximum(com.p))\n",
    "    )\n",
    "\n",
    "    xlims!(-20,20)\n",
    "    ylims!(-20,20)\n",
    "end\n",
    "\n",
    "display(fig)"
   ]
  },
  {
   "cell_type": "code",
   "execution_count": 55,
   "metadata": {},
   "outputs": [
    {
     "data": {
      "text/plain": [
       "\"bacterias_video_pressure.mp4\""
      ]
     },
     "execution_count": 55,
     "metadata": {},
     "output_type": "execute_result"
    }
   ],
   "source": [
    "using GLMakie\n",
    "\n",
    "fig = Figure(size = (600, 600))\n",
    "ax = Axis(fig[1, 1]; aspect = DataAspect())\n",
    "\n",
    "# Cálculo del máximo de presión en todos los frames\n",
    "max_pressure = maximum(com.pressure)\n",
    "\n",
    "GLMakie.record(fig, \"bacterias_video_pressure.mp4\", 1:length(com); framerate = 15) do j\n",
    "    # Limpiar el eje\n",
    "    Makie.empty!(ax)\n",
    "\n",
    "    # Dibujar los agentes (usando tu función personalizada)\n",
    "    plotMixedAgents2D!(\n",
    "        ax,\n",
    "        com[j][:x],\n",
    "        com[j][:y],\n",
    "        com[j][:d],\n",
    "        com[j][:l],\n",
    "        com[j][:theta],\n",
    "        com[j][:type],\n",
    "        com[j][:pressure],\n",
    "        colorrange = (0, max_pressure)\n",
    "    )\n",
    "\n",
    "    xlims!(ax, -20, 20)\n",
    "    ylims!(ax, -20, 20)\n",
    "end\n"
   ]
  },
  {
   "cell_type": "code",
   "execution_count": 56,
   "metadata": {},
   "outputs": [
    {
     "data": {
      "text/plain": [
       "\"bacterias_video_p.mp4\""
      ]
     },
     "execution_count": 56,
     "metadata": {},
     "output_type": "execute_result"
    }
   ],
   "source": [
    "using GLMakie\n",
    "\n",
    "fig = Figure(size = (600, 600))\n",
    "ax = Axis(fig[1, 1]; aspect = DataAspect())\n",
    "\n",
    "# Cálculo del máximo de presión en todos los frames\n",
    "max_pressure = maximum(com.p)\n",
    "\n",
    "GLMakie.record(fig, \"bacterias_video_p.mp4\", 1:length(com); framerate = 15) do j\n",
    "    # Limpiar el eje\n",
    "    Makie.empty!(ax)\n",
    "\n",
    "    # Dibujar los agentes (usando tu función personalizada)\n",
    "    plotMixedAgents2D!(\n",
    "        ax,\n",
    "        com[j][:x],\n",
    "        com[j][:y],\n",
    "        com[j][:d],\n",
    "        com[j][:l],\n",
    "        com[j][:theta],\n",
    "        com[j][:type],\n",
    "        com[j][:p],\n",
    "        colorrange = (0, max_pressure)\n",
    "    )\n",
    "\n",
    "    xlims!(ax, -20, 20)\n",
    "    ylims!(ax, -20, 20)\n",
    "end\n"
   ]
  }
 ],
 "metadata": {
  "kernelspec": {
   "display_name": "Julia 1.10.4 1.10.4",
   "language": "julia",
   "name": "julia-1.10.4-1.10"
  },
  "language_info": {
   "file_extension": ".jl",
   "mimetype": "application/julia",
   "name": "julia",
   "version": "1.10.4"
  },
  "orig_nbformat": 4
 },
 "nbformat": 4,
 "nbformat_minor": 2
}
