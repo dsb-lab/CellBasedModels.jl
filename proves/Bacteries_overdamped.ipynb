{
 "cells": [
  {
   "attachments": {},
   "cell_type": "markdown",
   "metadata": {},
   "source": [
    "# [Bacterial Colony Growth](@id Bacteries)\n",
    "\n",
    "In this example, we are going to create a bacterial model and grow a colony using it.\n",
    "\n",
    " - The implementation of the force interaction dynamics is the one presented by [Volfson et al. (2008)](https://www.pnas.org/doi/abs/10.1073/pnas.0706805105)\n",
    " - We use GPU accelerated dynamics\n",
    "\n",
    "As described in other models, it is advised that the models are constructed by parts to avoid having to find bugs in a very complex system. Hence, we will split the model in two parts:\n",
    "\n",
    " - Forces model\n",
    " - Growth model"
   ]
  },
  {
   "cell_type": "markdown",
   "metadata": {},
   "source": [
    "## Load the packages"
   ]
  },
  {
   "cell_type": "code",
   "execution_count": 1,
   "metadata": {},
   "outputs": [
    {
     "data": {
      "text/plain": [
       "repulsiveForces (generic function with 1 method)"
      ]
     },
     "execution_count": 1,
     "metadata": {},
     "output_type": "execute_result"
    }
   ],
   "source": [
    "function repulsiveForces(\n",
    "    x,y,d,l,theta,etab,type,\n",
    "    x2,y2,d2,l2,theta2,etag,type2, Ebb, Ebg, Egg\n",
    "    \n",
    ")\n",
    "\n",
    "    Fijx = 0.\n",
    "    Fijy = 0.\n",
    "    Wij = 0.\n",
    "\n",
    "    if type==type2 && type==1\n",
    "        xiAux,yiAux,xjAux,yjAux=x,y,x2,y2\n",
    "    else\n",
    "        #Function that finds the virtual spheres of contact between both rods\n",
    "        xiAux,yiAux,xjAux,yjAux = CBMMetrics.rodIntersection(x,y,l,theta,x2,y2,l2,theta2)\n",
    "    end\n",
    "\n",
    "    #Compute distance between virtual spheres\n",
    "    rij = sqrt((xiAux-xjAux)^2 +(yiAux-yjAux)^2)\n",
    "    if rij > 0. && rij < (d+d2)/2 #If it is smaller than a diameter compute forces\n",
    "        #Compute auxiliar\n",
    "        hAux = (d+d2)/2 - rij\n",
    "        #Compute direction\n",
    "        nijx = (xiAux-xjAux)/rij\n",
    "        nijy = (yiAux-yjAux)/rij\n",
    "        if type==0 #rod\n",
    "\n",
    "            #Compute the forces\n",
    "            if type2==0 #rod-rod\n",
    "                FnAux = Ebb*d2^(1/2)*hAux^(3/2)/(etab*(l+d))\n",
    "            else #rod-gel\n",
    "                FnAux = Ebg*d2^(1/2)*hAux^(3/2)/(etab*(l+d)) \n",
    "            end\n",
    "            #Compute the interaction forces\n",
    "            Fijx = FnAux*nijx\n",
    "            Fijy = FnAux*nijy\n",
    "            #Append radial forces\n",
    "            Wij = ((xiAux-x)*Fijy - (yiAux-y)*Fijx)*12/(etab*(l+d)^3)\n",
    "        else # gel\n",
    "             #Compute the forces\n",
    "            if type2==0 #gel-rod\n",
    "                FnAux = Ebg*d2^(1/2)*hAux^(3/2)/(etag*d)  #d2??\n",
    "\n",
    "            else #gel-gel\n",
    "                FnAux = Egg*d2^(1/2)*hAux^(3/2)/(etag*d)\n",
    "            end\n",
    "            #Compute the interaction forces\n",
    "            Fijx = FnAux*nijx\n",
    "            Fijy = FnAux*nijy\n",
    "            #No radial forces\n",
    "        end\n",
    "    end\n",
    "\n",
    "    return Fijx, Fijy, Wij\n",
    "\n",
    "end"
   ]
  },
  {
   "cell_type": "code",
   "execution_count": 118,
   "metadata": {},
   "outputs": [
    {
     "data": {
      "text/plain": [
       "attractiveForces (generic function with 1 method)"
      ]
     },
     "execution_count": 118,
     "metadata": {},
     "output_type": "execute_result"
    }
   ],
   "source": [
    "function attractiveForces(\n",
    "    x,y,d,l,theta,etab,type,\n",
    "    x2,y2,d2,l2,theta2,etag,type2, epsbb, epsbg, epsgg\n",
    "    \n",
    ")\n",
    "\n",
    "  \n",
    "    Fijx = 0.\n",
    "    Fijy = 0.\n",
    "    Wij = 0.\n",
    "\n",
    "    gamma=24\n",
    "    xiAux,yiAux,xjAux,yjAux=x,y,x2,y2\n",
    "    #Compute distance between central masses\n",
    "    rij = sqrt((xiAux-xjAux)^2 +(yiAux-yjAux)^2)\n",
    "    if rij > 0. && rij < (d+d2+l2+l)*2 #If it is smaller than a diameter compute forces\n",
    "        #Compute direction\n",
    "        nijx = (xiAux-xjAux)/rij\n",
    "        nijy = (yiAux-yjAux)/rij\n",
    "        if type==0 #rod\n",
    "\n",
    "            #Compute the forces\n",
    "            if type2==0 #rod-rod\n",
    "                FnAux = -gamma*epsbb*((d+d2)/(2*(rij)))^6/rij/(etab*(l+d))\n",
    "                \n",
    "            else #rod-gel\n",
    "                FnAux = -gamma*epsbg*((d+d2)/(2*(rij)))^6/rij/(etab*(l+d))\n",
    "          \n",
    "            end\n",
    "            #Compute the interaction forces\n",
    "            Fijx = FnAux*nijx\n",
    "            Fijy = FnAux*nijy\n",
    "            #Append radial forces\n",
    "            Wij = ((xiAux-x)*Fijy - (yiAux-y)*Fijx)/(etab*(l+d)^3)\n",
    "        else # gel\n",
    "            #Compute the forces\n",
    "            if type2==0 #gel-rod\n",
    "                FnAux = -gamma*epsbg*((d+d2)/(2*(rij)))^6/rij/(etag*d) \n",
    "            else #gel-gel\n",
    "                FnAux = -gamma*epsgg*((d+d2)/(2*(rij)))^6/rij/(etag*d) \n",
    "            end\n",
    "            #Compute the interaction forces\n",
    "            Fijx = FnAux*nijx\n",
    "            Fijy = FnAux*nijy\n",
    "            #No radial forces\n",
    "        end\n",
    "    end\n",
    "\n",
    "    return Fijx, Fijy, Wij\n",
    "\n",
    "end"
   ]
  },
  {
   "cell_type": "code",
   "execution_count": 3,
   "metadata": {},
   "outputs": [
    {
     "name": "stderr",
     "output_type": "stream",
     "text": [
      "\u001b[32m\u001b[1m  Activating\u001b[22m\u001b[39m project at `c:\\Users\\u256063\\Desktop\\Projects\\ABM_2\\ABM_CBM`\n"
     ]
    }
   ],
   "source": [
    "import Pkg\n",
    "Pkg.activate(\"../\")\n",
    "Pkg.instantiate()\n"
   ]
  },
  {
   "cell_type": "code",
   "execution_count": 4,
   "metadata": {},
   "outputs": [
    {
     "name": "stderr",
     "output_type": "stream",
     "text": [
      "\u001b[32m\u001b[1m   Resolving\u001b[22m\u001b[39m package versions...\n",
      "\u001b[32m\u001b[1m  No Changes\u001b[22m\u001b[39m to `C:\\Users\\u256063\\Desktop\\Projects\\ABM_2\\ABM_CBM\\Project.toml`\n",
      "\u001b[32m\u001b[1m  No Changes\u001b[22m\u001b[39m to `C:\\Users\\u256063\\Desktop\\Projects\\ABM_2\\ABM_CBM\\Manifest.toml`\n"
     ]
    }
   ],
   "source": [
    "import Pkg; Pkg.add([\"Revise\", \"GLMakie\"])"
   ]
  },
  {
   "cell_type": "code",
   "execution_count": 5,
   "metadata": {},
   "outputs": [
    {
     "name": "stderr",
     "output_type": "stream",
     "text": [
      "\u001b[33m\u001b[1m┌ \u001b[22m\u001b[39m\u001b[33m\u001b[1mWarning: \u001b[22m\u001b[39mCUDA runtime library nvrtc64_112_0.dll was loaded from a system path. This may cause errors.\n",
      "\u001b[33m\u001b[1m│ \u001b[22m\u001b[39mEnsure that you have not set the LD_LIBRARY_PATH environment variable, or that it does not contain paths to CUDA libraries.\n",
      "\u001b[33m\u001b[1m└ \u001b[22m\u001b[39m\u001b[90m@ CUDA C:\\Users\\u256063\\.julia\\packages\\CUDA\\jdJ7Z\\src\\initialization.jl:187\u001b[39m\n"
     ]
    }
   ],
   "source": [
    "using Revise\n",
    "using CellBasedModels\n",
    "using CUDA\n",
    "using Distributions\n",
    "using GLMakie\n",
    "# using GeometryBasics\n",
    "import GLMakie: Point3f, Cylinder, Sphere, NoShading #Can be changes to Cairo or CLMakie"
   ]
  },
  {
   "attachments": {},
   "cell_type": "markdown",
   "metadata": {},
   "source": [
    "## Forces model\n",
    "\n",
    "We already use the defined forces model that is implemented in CBMModels. This is an exact copy of the rod model that you can find already predefined in `Models/rods.jl`. You can check the `Models` section of the documentation for more details.\n"
   ]
  },
  {
   "cell_type": "code",
   "execution_count": 119,
   "metadata": {},
   "outputs": [],
   "source": [
    "rod2D = ABM(2,\n",
    "    agent = Dict(\n",
    "            :theta=>Float64,\n",
    "            :d=>Float64,\n",
    "            :l=>Float64,\n",
    "            :fx=>Float64,\n",
    "            :fy=>Float64,\n",
    "            :W=>Float64,\n",
    "            :pressure=>Float64,\n",
    "            :type=>Int,\n",
    "        ),    #Local Interaction Parameters\n",
    "\n",
    "    model = Dict(\n",
    "            :n=>Int,\n",
    "            :Ebb=>Float64,\n",
    "            :Ebg=>Float64,\n",
    "            :Egg=>Float64,\n",
    "            :epsbb=>Float64,\n",
    "            :epsbg=>Float64,\n",
    "            :epsgg=>Float64,\n",
    "            :etab=>Float64,\n",
    "            :etag=>Float64,\n",
    "        ),        #Global parameters\n",
    "\n",
    "    agentODE = quote\n",
    "\n",
    "        fx = 0\n",
    "        fy = 0\n",
    "        W = 0\n",
    "        pressure = 0\n",
    "        @loopOverNeighbors i2 begin\n",
    "\n",
    "            #Use the model provided in the documentation\n",
    "            Fijx, Fijy, Wij = repulsiveForces(x,y,d,l,theta,etab,type, \n",
    "                                    x[i2],y[i2],d[i2],l[i2],theta[i2],etag,type[i2], Ebb, Ebg, Egg)\n",
    "\n",
    "            #Append the repulsive forces\n",
    "            fx += Fijx\n",
    "            fy += Fijy\n",
    "            W += Wij\n",
    "\n",
    "            #Keep track of preassure in the media\n",
    "            pressure += sqrt(Fijx^2+Fijy^2)\n",
    "            #Use the model provided in the documentation\n",
    "            Fijx, Fijy, Wij = attractiveForces(x,y,d,l,theta,etab,type, \n",
    "                                    x[i2],y[i2],d[i2],l[i2],theta[i2],etag,type[i2], epsbb, epsbg, epsgg)\n",
    "\n",
    "            \n",
    "            \n",
    "            #Append the repulsive forces\n",
    "            fx += Fijx\n",
    "            fy += Fijy\n",
    "            W += Wij\n",
    "            #Keep track of preassure in the media\n",
    "            pressure += sqrt(Fijx^2+Fijy^2)\n",
    "            \n",
    "        end\n",
    "\n",
    "        #Equations\n",
    "        dt(x) =  fx \n",
    "        dt(y) =  fy \n",
    "        dt(theta) =  W\n",
    "    end,\n",
    "\n",
    "    neighborsAlg=CBMNeighbors.CellLinked(cellEdge=4),\n",
    "    platform=CPU(),\n",
    "    agentAlg = CBMIntegrators.Heun()\n",
    ");\n"
   ]
  },
  {
   "attachments": {},
   "cell_type": "markdown",
   "metadata": {},
   "source": [
    "### Initialize a community with two bacteries and check forces"
   ]
  },
  {
   "cell_type": "code",
   "execution_count": 126,
   "metadata": {},
   "outputs": [
    {
     "data": {
      "text/plain": [
       "1.8000000000000003"
      ]
     },
     "execution_count": 126,
     "metadata": {},
     "output_type": "execute_result"
    }
   ],
   "source": [
    "com = Community(rod2D,\n",
    "            N=30,\n",
    "            dt=1.,\n",
    "            simBox = [-10 10;-10 10.],\n",
    "            );\n",
    "\n",
    "#Natural units scales\n",
    "m = 1.E-12 #ng\n",
    "t = 1/(60*60) # h\n",
    "d = 1.E-6 #um\n",
    "\n",
    "\n",
    "com.n=30\n",
    "com.Ebb=100. *m/(t^2*d)*1.E-3 #kPa\n",
    "com.Ebg=100. *m/(t^2*d)*1.E-3 #kPa\n",
    "com.Egg=100. *m/(t^2*d)*1.E-3 #kPa\n",
    "\n",
    "com.epsbb=1000000000000. *m*(d/t)^2 #Pa um^3\n",
    "com.epsbg=18. *m*(d/t)^2 #Pa um^3\n",
    "com.epsgg=18. *m*(d/t)^2 #Pa um^3\n",
    "\n",
    "com.etab=500 *m/(t*d) #Pa h\n",
    "com.etag=500 *m/(t*d) #Pa h\n"
   ]
  },
  {
   "cell_type": "code",
   "execution_count": 127,
   "metadata": {},
   "outputs": [
    {
     "data": {
      "text/plain": [
       "([1.296], [1.296e-5], [1.8000000000000003])"
      ]
     },
     "execution_count": 127,
     "metadata": {},
     "output_type": "execute_result"
    }
   ],
   "source": [
    "com.Ebb, com.epsbb, com.etab"
   ]
  },
  {
   "cell_type": "code",
   "execution_count": 128,
   "metadata": {},
   "outputs": [],
   "source": [
    "for i in 1:com.N\n",
    "    com.theta[i] = rand() * 2π\n",
    "    com.x[i] = rand()*16-8\n",
    "    com.y[i] = rand()*16-8\n",
    "    if i <= com.n[1]  # agentes del 0 al 4 (long rods)\n",
    "        com.type[i] = 0\n",
    "        com.l[i] = 3.0\n",
    "        com.d[i] = 1.0\n",
    "    else       # agentes del 5 al 9 (puntos o discos)\n",
    "        com.type[i] = 1\n",
    "        com.l[i] = 0\n",
    "        com.d[i] = 0.8\n",
    "    end\n",
    "end"
   ]
  },
  {
   "cell_type": "code",
   "execution_count": 129,
   "metadata": {},
   "outputs": [],
   "source": [
    "evolve!(com,steps=50,saveEach=1,preallocateAgents=com.N)"
   ]
  },
  {
   "cell_type": "code",
   "execution_count": 130,
   "metadata": {},
   "outputs": [
    {
     "data": {
      "text/plain": [
       "plotMixedAgents2D! (generic function with 1 method)"
      ]
     },
     "execution_count": 130,
     "metadata": {},
     "output_type": "execute_result"
    }
   ],
   "source": [
    "function plotMixedAgents2D!(ax, x, y, d, l, angle, type, p; kargs...)\n",
    "    for (xi, yi, li, di, ai, ti, pi) in zip(x, y, l, d, angle, type, p)\n",
    "\n",
    "\n",
    "        if ti== 0  # rods\n",
    "            colorval = pi\n",
    "            colormap = :inferno\n",
    "            meshscatter!(ax,\n",
    "                [xi + li/2 * cos(ai)],\n",
    "                [yi + li/2 * sin(ai)];\n",
    "                marker = Sphere(Point3f(0, 0, 0), Float32(1)),\n",
    "                markersize = [Point3f(di/2, di/2, di/2)],\n",
    "                color = [colorval],\n",
    "                colormap = colormap,\n",
    "                kargs...\n",
    "            )\n",
    "            meshscatter!(ax,\n",
    "                [xi - li/2 * cos(ai)],\n",
    "                [yi - li/2 * sin(ai)];\n",
    "                marker = Sphere(Point3f(0, 0, 0), Float32(1)),\n",
    "                markersize = [Point3f(di/2, di/2, di/2)],\n",
    "                color = [colorval],\n",
    "                colormap = colormap,\n",
    "                kargs...\n",
    "            )\n",
    "            meshscatter!(ax,\n",
    "                [xi],\n",
    "                [yi];\n",
    "                marker = Cylinder(Point3f(-.5, 0, 0), Point3f(.5, 0, 0), Float32(1)),\n",
    "                markersize = [Point3f(li, di/2, di/2)],\n",
    "                rotation = [ai],\n",
    "                color = [colorval],\n",
    "                colormap = colormap,\n",
    "                kargs...\n",
    "            )\n",
    "        else  # puntos\n",
    "            colorval = RGBf(0, 1, 1)  # rojo puro\n",
    "            meshscatter!(ax,\n",
    "                [Point3f(xi, yi, 0.0)];  # ¡usar coordenadas 3D!\n",
    "                marker = Sphere(Point3f(0, 0, 0), Float32(1)),\n",
    "                markersize = [Point3f(di/2, di/2, di/2)],  # ¡tamaño real 3D!\n",
    "                color = [colorval],\n",
    "                kargs...\n",
    "            )\n",
    "        end\n",
    "\n",
    "    end\n",
    "    return\n",
    "end\n"
   ]
  },
  {
   "cell_type": "code",
   "execution_count": 131,
   "metadata": {},
   "outputs": [
    {
     "data": {
      "text/plain": [
       "GLMakie.Screen(...)"
      ]
     },
     "execution_count": 131,
     "metadata": {},
     "output_type": "execute_result"
    }
   ],
   "source": [
    "fig = Figure(size=(1500,300))\n",
    "\n",
    "for (i,j) in enumerate([1:round(Int,length(com)/4):length(com);length(com)])\n",
    "    ax = Axis3(fig[1,i],\n",
    "                azimuth=3*π/2,\n",
    "                elevation=π/2,\n",
    "                zlabelvisible=false,\n",
    "                zticklabelsvisible=false,\n",
    "                zgridvisible=false,\n",
    "                zspinesvisible=false\n",
    "            )\n",
    "\n",
    "    plotMixedAgents2D!(\n",
    "    ax,\n",
    "    com[j][:x],\n",
    "    com[j][:y],\n",
    "    com[j][:d],\n",
    "    com[j][:l],\n",
    "    com[j][:theta],\n",
    "    com[j][:type],\n",
    "    com[j][:pressure],\n",
    "    colorrange = (0, maximum(com.pressure))\n",
    ")\n",
    "    xlims!(-10,10)\n",
    "    ylims!(-10,10)\n",
    "end\n",
    "\n",
    "display(fig)"
   ]
  },
  {
   "attachments": {},
   "cell_type": "markdown",
   "metadata": {},
   "source": [
    "## Growth model\n",
    "\n",
    "We construct over the forces model to add bacterial growth and cell division rules."
   ]
  },
  {
   "cell_type": "code",
   "execution_count": 13,
   "metadata": {},
   "outputs": [],
   "source": [
    "rods2dGrowth = ABM(2,\n",
    "    baseModelInit = [rod2D],\n",
    "\n",
    "    agent = Dict(\n",
    "                :lTarget => Float64,\n",
    "            ),\n",
    "\n",
    "    model = Dict(\n",
    "                :growth=>Float64,\n",
    "                :σlTarget=>Float64,\n",
    "                :lMax=>Float64,\n",
    "                :α=>Float64,\n",
    "                :σ=>Float64,\n",
    "                :p_half=>Float64,\n",
    "            ),\n",
    "\n",
    " \n",
    "    agentODE = quote\n",
    "        if type == 0\n",
    "            dt(l) = growth/(1+α*pressure) #linear growth with growth dependent on the pressure over the cell\n",
    "        end\n",
    "        \n",
    "    end,\n",
    "\n",
    "    agentRule = quote #Bound cells\n",
    "        #Add division\n",
    "        if l > lTarget\n",
    "            ww = CBMDistributions.uniform(-.1,.1)/10 #To add some random torque at division time\n",
    "            # ww = 0 #To add some random torque at division time\n",
    "            #Add a new cell\n",
    "            @addAgent(\n",
    "                    x=(l+d)/4*cos(theta)+x,\n",
    "                    y=(l+d)/4*sin(theta)+y,\n",
    "                    l=(l-d)/2,\n",
    "                    W=ww,\n",
    "                    lTarget = CBMDistributions.uniform(lMax-σlTarget,lMax+σlTarget), #New target length at which the bactery should divide\n",
    "                    type=0)\n",
    "            #Add a second cell\n",
    "            @addAgent(\n",
    "                    x=-(l+d)/4*cos(theta)+x,\n",
    "                    y=-(l+d)/4*sin(theta)+y,\n",
    "                    l=(l-d)/2,\n",
    "                    lTarget = CBMDistributions.uniform(lMax-σlTarget,lMax+σlTarget), #New target length at which the bactery should divide\n",
    "                    W=ww,\n",
    "                    type=0)\n",
    "            #Remove the old cell\n",
    "            @removeAgent()\n",
    "        end\n",
    "        # Probability of releasing PGA with a saturating function\n",
    "        # prelease = σ * pressure / (p_half + pressure)\n",
    "\n",
    "        # if CBMDistributions.uniform(0, 1) < prelease\n",
    "        #     # PGA release!\n",
    "        #     # You could mark it, count it, or log it here\n",
    "        #     # @info \"PGA released at step $(step) by agent ID $(id)\"\n",
    "        #     aux=CBMDistributions.rand_pm()\n",
    "        #     @addAgent(\n",
    "        #             # x=((l+d)*(rand()-1/2)+aux*d/2)*cos(theta)+x,\n",
    "        #             # y=((l+d)*(rand()-1/2)-aux*d/2)*sin(theta)+y,\n",
    "        #             x=(CBMDistributions.uniform(-1,1)*(l+d)/2+aux*d/2)*cos(theta)+x,\n",
    "        #             y=(CBMDistributions.uniform(-1,1)*(l+d)/2-aux*d/2)*sin(theta)+y,\n",
    "        #             l=0,\n",
    "        #             d=0.5,\n",
    "        #             lTarget = CBMDistributions.uniform(lMax-σlTarget,lMax+σlTarget), #New target length at which the bactery should divide\n",
    "        #             type=1)\n",
    "\n",
    "        # end\n",
    "\n",
    "\n",
    "           \n",
    "\n",
    "    end,\n",
    "\n",
    "    neighborsAlg=CBMNeighbors.CellLinked(cellEdge=4),\n",
    "    platform=CPU(),\n",
    "    agentAlg=CBMIntegrators.Heun()\n",
    ");"
   ]
  },
  {
   "cell_type": "markdown",
   "metadata": {},
   "source": [
    "## Grow colony from one cell"
   ]
  },
  {
   "cell_type": "code",
   "execution_count": 15,
   "metadata": {},
   "outputs": [],
   "source": [
    "com = Community(rods2dGrowth,\n",
    "            N=1,\n",
    "            dt=1.,\n",
    "            simBox = [-100 100;-100 100.],\n",
    "            );\n",
    "\n",
    "#Natural units scales\n",
    "m = 1.E-12 #ng\n",
    "t = 1/(60*60) # h\n",
    "d = 1.E-6 #um\n",
    "\n",
    "\n",
    "com.n=30\n",
    "com.Ebb=100. *m/(t^2*d)*1.E-3 #kPa\n",
    "com.Ebg=100. *m/(t^2*d)*1.E-3 #kPa\n",
    "com.Egg=100. *m/(t^2*d)*1.E-3 #kPa\n",
    "\n",
    "com.epsbb=18. *m*(d/t)^2 #Pa um^3\n",
    "com.epsbg=18. *m*(d/t)^2 #Pa um^3\n",
    "com.epsgg=18. *m*(d/t)^2 #Pa um^3\n",
    "\n",
    "com.etab=500 *m/(t*d) #Pa h\n",
    "com.etag=500 *m/(t*d) #Pa h\n",
    "\n",
    "\n",
    "\n",
    "\n",
    "com.growth = 0.5 * t\n",
    "com.lMax = 3.     \n",
    "com.σlTarget = .2 \n",
    "com.α = 50\n",
    "com.σ = 5E-3\n",
    "com.type=0\n",
    "\n",
    "com.d = 1.        \n",
    "com.l = 2.99      \n",
    "com.lTarget = 3.  \n",
    "\n",
    "com.p_half=8\n",
    "\n",
    "com.x = 0\n",
    "com.y = 0\n",
    "com.theta = 0;"
   ]
  },
  {
   "cell_type": "code",
   "execution_count": null,
   "metadata": {},
   "outputs": [
    {
     "name": "stdout",
     "output_type": "stream",
     "text": [
      "Step: 10000 N: 2\n",
      "Step: 20000 N: 4\n",
      "Step: 30000 N: 7\n",
      "Step: 40000 N: 8\n",
      "Step: 50000 N: 16\n",
      "Step: 60000 N: 31\n",
      "Step: 70000 N: 32\n",
      "Step: 80000 N: 64\n",
      "Step: 90000 N: 126\n",
      "Step: 100000 N: 132\n"
     ]
    }
   ],
   "source": [
    "evolve!(com,\n",
    "        steps=100000,saveEach=1000,\n",
    "        preallocateAgents=5000,\n",
    "        saveCurrentState=true,\n",
    "        progressMessage=(com)->if round(Int,com.t/com.dt)%10000 == 0; println(\"Step: \",round(Int,com.t/com.dt), \" N: \", com.N); end)"
   ]
  },
  {
   "cell_type": "code",
   "execution_count": 17,
   "metadata": {},
   "outputs": [
    {
     "data": {
      "image/png": "[encoded data removed]",
      "text/html": [
       "<img width=600 height=400 style='object-fit: contain; height: auto;' src=\"data:image/png;base64, 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\"/>"
      ]
     },
     "execution_count": 17,
     "metadata": {},
     "output_type": "execute_result"
    }
   ],
   "source": [
    "# Elegimos un frame, por ejemplo el último\n",
    "p = com[end][:pressure]\n",
    "\n",
    "# Creamos la figura y el eje\n",
    "fig = Figure(size = (600, 400))\n",
    "ax = Axis(fig[1, 1]; xlabel = \"Presión\", ylabel = \"Frecuencia\", title = \"Histograma de presión\")\n",
    "\n",
    "# Dibujamos el histograma\n",
    "hist!(ax, p; bins = 30, color = :slateblue)\n",
    "\n",
    "fig  # Esto muestra la figura en una ventana interactiva"
   ]
  },
  {
   "cell_type": "code",
   "execution_count": 18,
   "metadata": {},
   "outputs": [
    {
     "data": {
      "text/plain": [
       "GLMakie.Screen(...)"
      ]
     },
     "execution_count": 18,
     "metadata": {},
     "output_type": "execute_result"
    }
   ],
   "source": [
    "fig = Figure(size=(1500,300))\n",
    "\n",
    "for (i,j) in enumerate([1:round(Int,length(com)/4):length(com);length(com)])\n",
    "    ax = Axis3(fig[1,i],\n",
    "                azimuth=3*π/2,\n",
    "                elevation=π/2,\n",
    "                zlabelvisible=false,\n",
    "                zticklabelsvisible=false,\n",
    "                zgridvisible=false,\n",
    "                zspinesvisible=false\n",
    "            )\n",
    "\n",
    "    plotMixedAgents2D!(\n",
    "    ax,\n",
    "    com[j][:x],\n",
    "    com[j][:y],\n",
    "    com[j][:d],\n",
    "    com[j][:l],\n",
    "    com[j][:theta],\n",
    "    com[j][:type],\n",
    "    com[j][:pressure],\n",
    "    colorrange = (0, maximum(com.pressure))\n",
    "    )\n",
    "\n",
    "    xlims!(-20,20)\n",
    "    ylims!(-20,20)\n",
    "end\n",
    "\n",
    "display(fig)"
   ]
  },
  {
   "cell_type": "code",
   "execution_count": 19,
   "metadata": {},
   "outputs": [
    {
     "data": {
      "text/plain": [
       "\"bacterias_video_pressure_atract.mp4\""
      ]
     },
     "execution_count": 19,
     "metadata": {},
     "output_type": "execute_result"
    }
   ],
   "source": [
    "using GLMakie\n",
    "\n",
    "fig = Figure(size = (600, 600))\n",
    "ax = Axis(fig[1, 1]; aspect = DataAspect())\n",
    "\n",
    "# Cálculo del máximo de presión en todos los frames\n",
    "max_pressure = maximum(com.pressure)\n",
    "\n",
    "GLMakie.record(fig, \"bacterias_video_pressure_atract.mp4\", 1:length(com); framerate = 15) do j\n",
    "    # Limpiar el eje\n",
    "    Makie.empty!(ax)\n",
    "\n",
    "    # Dibujar los agentes (usando tu función personalizada)\n",
    "    plotMixedAgents2D!(\n",
    "        ax,\n",
    "        com[j][:x],\n",
    "        com[j][:y],\n",
    "        com[j][:d],\n",
    "        com[j][:l],\n",
    "        com[j][:theta],\n",
    "        com[j][:type],\n",
    "        com[j][:pressure],\n",
    "        colorrange = (0, max_pressure)\n",
    "    )\n",
    "\n",
    "    xlims!(ax, -50, 50)\n",
    "    ylims!(ax, -50, 50)\n",
    "end\n"
   ]
  }
 ],
 "metadata": {
  "kernelspec": {
   "display_name": "Julia 1.10.4 1.10.4",
   "language": "julia",
   "name": "julia-1.10.4-1.10"
  },
  "language_info": {
   "file_extension": ".jl",
   "mimetype": "application/julia",
   "name": "julia",
   "version": "1.10.4"
  },
  "orig_nbformat": 4
 },
 "nbformat": 4,
 "nbformat_minor": 2
}
