{
 "cells": [
  {
   "attachments": {},
   "cell_type": "markdown",
   "metadata": {},
   "source": [
    "# [Bacterial Colony Growth](@id Bacteries)\n",
    "\n",
    "In this example, we are going to create a bacterial model and grow a colony using it.\n",
    "\n",
    " - The implementation of the force interaction dynamics is the one presented by [Volfson et al. (2008)](https://www.pnas.org/doi/abs/10.1073/pnas.0706805105)\n",
    " - We use GPU accelerated dynamics\n",
    "\n",
    "As described in other models, it is advised that the models are constructed by parts to avoid having to find bugs in a very complex system. Hence, we will split the model in two parts:\n",
    "\n",
    " - Forces model\n",
    " - Growth model"
   ]
  },
  {
   "cell_type": "markdown",
   "metadata": {},
   "source": [
    "## Load the packages"
   ]
  },
  {
   "cell_type": "code",
   "execution_count": 1,
   "metadata": {},
   "outputs": [
    {
     "name": "stderr",
     "output_type": "stream",
     "text": [
      "\u001b[32m\u001b[1m  Activating\u001b[22m\u001b[39m project at `c:\\Users\\u256063\\Desktop\\Projects\\ABM_2\\ABM_CBM`\n",
      "\u001b[32m\u001b[1mPrecompiling\u001b[22m\u001b[39m project...\n",
      "\u001b[36m\u001b[1m        Info\u001b[22m\u001b[39m Given CellBasedModels was explicitly requested, output will be shown live \u001b[0K\n",
      "\u001b[0K\u001b[33m\u001b[1m┌ \u001b[22m\u001b[39m\u001b[33m\u001b[1mWarning: \u001b[22m\u001b[39mCUDA runtime library nvrtc64_112_0.dll was loaded from a system path. This may cause errors.\n",
      "\u001b[0K\u001b[33m\u001b[1m│ \u001b[22m\u001b[39mEnsure that you have not set the LD_LIBRARY_PATH environment variable, or that it does not contain paths to CUDA libraries.\n",
      "\u001b[0K\u001b[33m\u001b[1m└ \u001b[22m\u001b[39m\u001b[90m@ CUDA C:\\Users\\u256063\\.julia\\packages\\CUDA\\jdJ7Z\\src\\initialization.jl:187\u001b[39m\n",
      "\u001b[32m  ✓ \u001b[39mCellBasedModels\n",
      "  1 dependency successfully precompiled in 67 seconds. 439 already precompiled.\n",
      "  \u001b[33m1\u001b[39m dependency had output during precompilation:\u001b[33m\n",
      "┌ \u001b[39mCellBasedModels\u001b[33m\n",
      "│  \u001b[39m[Output was shown above]\u001b[33m\n",
      "└  \u001b[39m\n"
     ]
    }
   ],
   "source": [
    "import Pkg\n",
    "Pkg.activate(\"../\")\n",
    "Pkg.instantiate()\n"
   ]
  },
  {
   "cell_type": "code",
   "execution_count": 2,
   "metadata": {},
   "outputs": [
    {
     "name": "stderr",
     "output_type": "stream",
     "text": [
      "\u001b[32m\u001b[1m   Resolving\u001b[22m\u001b[39m package versions...\n",
      "\u001b[32m\u001b[1m  No Changes\u001b[22m\u001b[39m to `C:\\Users\\u256063\\Desktop\\Projects\\ABM_2\\ABM_CBM\\Project.toml`\n",
      "\u001b[32m\u001b[1m  No Changes\u001b[22m\u001b[39m to `C:\\Users\\u256063\\Desktop\\Projects\\ABM_2\\ABM_CBM\\Manifest.toml`\n"
     ]
    }
   ],
   "source": [
    "import Pkg; Pkg.add([\"Revise\", \"GLMakie\"])"
   ]
  },
  {
   "cell_type": "code",
   "execution_count": 3,
   "metadata": {},
   "outputs": [
    {
     "name": "stderr",
     "output_type": "stream",
     "text": [
      "\u001b[36m\u001b[1m[ \u001b[22m\u001b[39m\u001b[36m\u001b[1mInfo: \u001b[22m\u001b[39mPrecompiling CellBasedModels [388cb286-f2b1-4654-a3bb-2e137a39c658]\n",
      "\u001b[33m\u001b[1m┌ \u001b[22m\u001b[39m\u001b[33m\u001b[1mWarning: \u001b[22m\u001b[39mCUDA runtime library nvrtc64_112_0.dll was loaded from a system path. This may cause errors.\n",
      "\u001b[33m\u001b[1m│ \u001b[22m\u001b[39mEnsure that you have not set the LD_LIBRARY_PATH environment variable, or that it does not contain paths to CUDA libraries.\n",
      "\u001b[33m\u001b[1m└ \u001b[22m\u001b[39m\u001b[90m@ CUDA C:\\Users\\u256063\\.julia\\packages\\CUDA\\jdJ7Z\\src\\initialization.jl:187\u001b[39m\n",
      "\u001b[33m\u001b[1m┌ \u001b[22m\u001b[39m\u001b[33m\u001b[1mWarning: \u001b[22m\u001b[39mCUDA runtime library nvrtc64_112_0.dll was loaded from a system path. This may cause errors.\n",
      "\u001b[33m\u001b[1m│ \u001b[22m\u001b[39mEnsure that you have not set the LD_LIBRARY_PATH environment variable, or that it does not contain paths to CUDA libraries.\n",
      "\u001b[33m\u001b[1m└ \u001b[22m\u001b[39m\u001b[90m@ CUDA C:\\Users\\u256063\\.julia\\packages\\CUDA\\jdJ7Z\\src\\initialization.jl:187\u001b[39m\n"
     ]
    }
   ],
   "source": [
    "using Revise\n",
    "using CellBasedModels\n",
    "using CUDA\n",
    "using Distributions\n",
    "using GLMakie\n",
    "# using GeometryBasics\n",
    "import GLMakie: Point3f, Cylinder, Sphere, NoShading #Can be changes to Cairo or CLMakie"
   ]
  },
  {
   "attachments": {},
   "cell_type": "markdown",
   "metadata": {},
   "source": [
    "## Forces model\n",
    "\n",
    "We already use the defined forces model that is implemented in CBMModels. This is an exact copy of the rod model that you can find already predefined in `Models/rods.jl`. You can check the `Models` section of the documentation for more details.\n"
   ]
  },
  {
   "cell_type": "code",
   "execution_count": 4,
   "metadata": {},
   "outputs": [],
   "source": [
    "rod2D = ABM(2,\n",
    "    agent = Dict(\n",
    "            :theta=>Float64,\n",
    "            :d=>Float64,\n",
    "            :l=>Float64,\n",
    "            :fx=>Float64,\n",
    "            :fy=>Float64,\n",
    "            :W=>Float64,\n",
    "            :pressure=>Float64,\n",
    "            :type=>Int,\n",
    "        ),    #Local Interaction Parameters\n",
    "\n",
    "    model = Dict(\n",
    "            :n=>Int,\n",
    "            :Ebb=>Float64,\n",
    "            :Ebg=>Float64,\n",
    "            :Egg=>Float64,\n",
    "            :epsbb=>Float64,\n",
    "            :epsbg=>Float64,\n",
    "            :epsgg=>Float64,\n",
    "            :etab=>Float64,\n",
    "            :etag=>Float64,\n",
    "        ),        #Global parameters\n",
    "\n",
    "    agentODE = quote\n",
    "\n",
    "        fx = 0\n",
    "        fy = 0\n",
    "        W = 0\n",
    "        pressure = 0\n",
    "        @loopOverNeighbors i2 begin\n",
    "\n",
    "            #Use the model provided in the documentation\n",
    "            Fijx, Fijy, Wij = CBMModels.repulsiveForces(x,y,d,l,theta,etab,type, \n",
    "                                    x[i2],y[i2],d[i2],l[i2],theta[i2],etag,type[i2], Ebb, Ebg, Egg)\n",
    "\n",
    "            #Append the repulsive forces\n",
    "            fx += Fijx\n",
    "            fy += Fijy\n",
    "            W += Wij\n",
    "\n",
    "            #Keep track of preassure in the media\n",
    "            pressure += sqrt(Fijx^2+Fijy^2)\n",
    "            #Use the model provided in the documentation\n",
    "            # Fijx, Fijy, Wij = CBMModels.attractiveForces(x,y,d,l,theta,etab,type, \n",
    "                                    # x[i2],y[i2],d[i2],l[i2],theta[i2],etag,type[i2], epsbb, epsbg, epsgg)\n",
    "\n",
    "            \n",
    "            \n",
    "            # #Append the repulsive forces\n",
    "            # fx += Fijx\n",
    "            # fy += Fijy\n",
    "            # W += Wij\n",
    "            # #Keep track of preassure in the media\n",
    "            # pressure += sqrt(Fijx^2+Fijy^2)\n",
    "            \n",
    "        end\n",
    "\n",
    "        #Equations\n",
    "        dt(x) =  fx \n",
    "        dt(y) =  fy \n",
    "        dt(theta) =  W\n",
    "    end,\n",
    "\n",
    "    neighborsAlg=CBMNeighbors.CellLinked(cellEdge=4),\n",
    "    platform=GPU(),\n",
    "    agentAlg = CBMIntegrators.Heun()\n",
    ");\n"
   ]
  },
  {
   "attachments": {},
   "cell_type": "markdown",
   "metadata": {},
   "source": [
    "### Initialize a community with two bacteries and check forces"
   ]
  },
  {
   "cell_type": "code",
   "execution_count": 5,
   "metadata": {},
   "outputs": [
    {
     "data": {
      "text/plain": [
       "1.8000000000000003"
      ]
     },
     "execution_count": 5,
     "metadata": {},
     "output_type": "execute_result"
    }
   ],
   "source": [
    "com = Community(rod2D,\n",
    "            N=30,\n",
    "            dt=1.,\n",
    "            simBox = [-10 10;-10 10.],\n",
    "            );\n",
    "\n",
    "#Natural units scales\n",
    "m = 1.E-12 #ng\n",
    "t = 1/(60*60) # h\n",
    "d = 1.E-6 #um\n",
    "\n",
    "\n",
    "com.n=30\n",
    "com.Ebb=100. *m/(t^2*d)*1.E-3 #kPa\n",
    "com.Ebg=100. *m/(t^2*d)*1.E-3 #kPa\n",
    "com.Egg=100. *m/(t^2*d)*1.E-3 #kPa\n",
    "\n",
    "com.epsbb=3.E8 *m*d/t^2 #Pa um^2\n",
    "com.epsbg=28. *m*d/t^2 #Pa um^2\n",
    "com.epsgg=18. *m*d/t^2 #Pa um^2\n",
    "\n",
    "com.etab=500 *m/(t*d) #Pa h\n",
    "com.etag=500 *m/(t*d) #Pa h\n"
   ]
  },
  {
   "cell_type": "code",
   "execution_count": 6,
   "metadata": {},
   "outputs": [
    {
     "data": {
      "text/plain": [
       "([1.296], [0.003887999999999999], [1.8000000000000003])"
      ]
     },
     "execution_count": 6,
     "metadata": {},
     "output_type": "execute_result"
    }
   ],
   "source": [
    "com.Ebb, com.epsbb, com.etab"
   ]
  },
  {
   "cell_type": "code",
   "execution_count": 7,
   "metadata": {},
   "outputs": [],
   "source": [
    "for i in 1:com.N\n",
    "    com.theta[i] = rand() * 2π\n",
    "    com.x[i] = rand()*16-8\n",
    "    com.y[i] = rand()*16-8\n",
    "    if i <= com.n[1]  # agentes del 0 al 4 (long rods)\n",
    "        com.type[i] = 0\n",
    "        com.l[i] = 3.0\n",
    "        com.d[i] = 1.0\n",
    "    else       # agentes del 5 al 9 (puntos o discos)\n",
    "        com.type[i] = 1\n",
    "        com.l[i] = 0\n",
    "        com.d[i] = 0.8\n",
    "    end\n",
    "end"
   ]
  },
  {
   "cell_type": "code",
   "execution_count": 8,
   "metadata": {},
   "outputs": [],
   "source": [
    "evolve!(com,steps=8000,saveEach=100,preallocateAgents=com.N)"
   ]
  },
  {
   "cell_type": "code",
   "execution_count": 9,
   "metadata": {},
   "outputs": [
    {
     "data": {
      "text/plain": [
       "plotMixedAgents2D! (generic function with 1 method)"
      ]
     },
     "execution_count": 9,
     "metadata": {},
     "output_type": "execute_result"
    }
   ],
   "source": [
    "function plotMixedAgents2D!(ax, x, y, d, l, angle, type, p; kargs...)\n",
    "    for (xi, yi, li, di, ai, ti, pi) in zip(x, y, l, d, angle, type, p)\n",
    "\n",
    "\n",
    "        if ti== 0  # rods\n",
    "            colorval = pi\n",
    "            colormap = :inferno\n",
    "            meshscatter!(ax,\n",
    "                [xi + li/2 * cos(ai)],\n",
    "                [yi + li/2 * sin(ai)];\n",
    "                marker = Sphere(Point3f(0, 0, 0), Float32(1)),\n",
    "                markersize = [Point3f(di/2, di/2, di/2)],\n",
    "                color = [colorval],\n",
    "                colormap = colormap,\n",
    "                kargs...\n",
    "            )\n",
    "            meshscatter!(ax,\n",
    "                [xi - li/2 * cos(ai)],\n",
    "                [yi - li/2 * sin(ai)];\n",
    "                marker = Sphere(Point3f(0, 0, 0), Float32(1)),\n",
    "                markersize = [Point3f(di/2, di/2, di/2)],\n",
    "                color = [colorval],\n",
    "                colormap = colormap,\n",
    "                kargs...\n",
    "            )\n",
    "            meshscatter!(ax,\n",
    "                [xi],\n",
    "                [yi];\n",
    "                marker = Cylinder(Point3f(-.5, 0, 0), Point3f(.5, 0, 0), Float32(1)),\n",
    "                markersize = [Point3f(li, di/2, di/2)],\n",
    "                rotation = [ai],\n",
    "                color = [colorval],\n",
    "                colormap = colormap,\n",
    "                kargs...\n",
    "            )\n",
    "        else  # puntos\n",
    "            colorval = RGBf(0, 1, 1)  # rojo puro\n",
    "            meshscatter!(ax,\n",
    "                [Point3f(xi, yi, 0.0)];  # ¡usar coordenadas 3D!\n",
    "                marker = Sphere(Point3f(0, 0, 0), Float32(1)),\n",
    "                markersize = [Point3f(di/2, di/2, di/2)],  # ¡tamaño real 3D!\n",
    "                color = [colorval],\n",
    "                kargs...\n",
    "            )\n",
    "        end\n",
    "\n",
    "    end\n",
    "    return\n",
    "end\n"
   ]
  },
  {
   "cell_type": "code",
   "execution_count": 10,
   "metadata": {},
   "outputs": [
    {
     "data": {
      "text/plain": [
       "GLMakie.Screen(...)"
      ]
     },
     "execution_count": 10,
     "metadata": {},
     "output_type": "execute_result"
    }
   ],
   "source": [
    "fig = Figure(size=(1500,300))\n",
    "\n",
    "for (i,j) in enumerate([1:round(Int,length(com)/4):length(com);length(com)])\n",
    "    ax = Axis3(fig[1,i],\n",
    "                azimuth=3*π/2,\n",
    "                elevation=π/2,\n",
    "                zlabelvisible=false,\n",
    "                zticklabelsvisible=false,\n",
    "                zgridvisible=false,\n",
    "                zspinesvisible=false\n",
    "            )\n",
    "\n",
    "    plotMixedAgents2D!(\n",
    "    ax,\n",
    "    com[j][:x],\n",
    "    com[j][:y],\n",
    "    com[j][:d],\n",
    "    com[j][:l],\n",
    "    com[j][:theta],\n",
    "    com[j][:type],\n",
    "    com[j][:pressure],\n",
    "    colorrange = (0, maximum(com.pressure))\n",
    ")\n",
    "    xlims!(-10,10)\n",
    "    ylims!(-10,10)\n",
    "end\n",
    "\n",
    "display(fig)"
   ]
  },
  {
   "attachments": {},
   "cell_type": "markdown",
   "metadata": {},
   "source": [
    "## Growth model\n",
    "\n",
    "We construct over the forces model to add bacterial growth and cell division rules."
   ]
  },
  {
   "cell_type": "code",
   "execution_count": 11,
   "metadata": {},
   "outputs": [],
   "source": [
    "rods2dGrowth = ABM(2,\n",
    "    baseModelInit = [rod2D],\n",
    "\n",
    "    agent = Dict(\n",
    "                :lTarget => Float64,\n",
    "            ),\n",
    "\n",
    "    model = Dict(\n",
    "                :growth=>Float64,\n",
    "                :σlTarget=>Float64,\n",
    "                :lMax=>Float64,\n",
    "                :α=>Float64,\n",
    "                :σ=>Float64,\n",
    "                :p_half=>Float64,\n",
    "                :DMedium => Float64,\n",
    "                # :delta => Float64\n",
    "            ),\n",
    "    \n",
    "    medium = Dict(\n",
    "        :mm => Float64        #Add a medium parameter\n",
    "    ),\n",
    "\n",
    " \n",
    "    agentODE = quote\n",
    "        if type == 0\n",
    "            dt(l) = l*growth/(1+α*pressure) #linear growth with growth dependent on the pressure over the cell\n",
    "        end\n",
    "        \n",
    "    end,\n",
    "\n",
    "    agentRule = quote #Bound cells\n",
    "        #Add division\n",
    "        if l > lTarget\n",
    "            mm+=1\n",
    "            ww = CBMDistributions.uniform(-.1,.1)/10000 #To add some random torque at division time\n",
    "            # ww = 0 #To add some random torque at division time\n",
    "            #Add a new cell\n",
    "            @addAgent(\n",
    "                    x=(l+d)/4*cos(theta)+x,\n",
    "                    y=(l+d)/4*sin(theta)+y,\n",
    "                    l=(l-d)/2,\n",
    "                    W=ww,\n",
    "                    lTarget = CBMDistributions.uniform(lMax-σlTarget,lMax+σlTarget), #New target length at which the bactery should divide\n",
    "                    type=0)\n",
    "            #Add a second cell\n",
    "            @addAgent(\n",
    "                    x=-(l+d)/4*cos(theta)+x,\n",
    "                    y=-(l+d)/4*sin(theta)+y,\n",
    "                    l=(l-d)/2,\n",
    "                    lTarget = CBMDistributions.uniform(lMax-σlTarget,lMax+σlTarget), #New target length at which the bactery should divide\n",
    "                    W=ww,\n",
    "                    type=0)\n",
    "            #Remove the old cell\n",
    "            @removeAgent()\n",
    "        end\n",
    "        # Probability of releasing PGA with a saturating function\n",
    "        prelease = σ * mm^5 / (p_half^5 + mm^5)\n",
    "\n",
    "        if CBMDistributions.uniform(0, 1) < prelease\n",
    "            # PGA release!\n",
    "            # You could mark it, count it, or log it here\n",
    "            # @info \"PGA released at step $(step) by agent ID $(id)\"\n",
    "            aux=CBMDistributions.rand_pm()\n",
    "            @addAgent(\n",
    "                    # x=((l+d)*(rand()-1/2)+aux*d/2)*cos(theta)+x,\n",
    "                    # y=((l+d)*(rand()-1/2)-aux*d/2)*sin(theta)+y,\n",
    "                    x=(CBMDistributions.uniform(-1,1)*(l+d)/2+aux*d/2)*cos(theta)+x,\n",
    "                    y=(CBMDistributions.uniform(-1,1)*(l+d)/2-aux*d/2)*sin(theta)+y,\n",
    "                    l=0,\n",
    "                    d=0.5,\n",
    "                    lTarget = CBMDistributions.uniform(lMax-σlTarget,lMax+σlTarget), #New target length at which the bactery should divide\n",
    "                    type=1)\n",
    "\n",
    "        end\n",
    "\n",
    "\n",
    "           \n",
    "\n",
    "    end,\n",
    "\n",
    "    #Medium dynamics with dirichlet conditions and a wall that is as oscillating source of material\n",
    "    mediumODE=quote \n",
    "        if @mediumInside()\n",
    "            dt(mm) = DMedium*(@∂2(1,mm)+@∂2(2,mm))# we only diffuse in x as the symmetry is in x\n",
    "            # dt(mm) = DMedium*(@∂2(1,mm)+@∂2(2,mm))-delta*mm# we only diffuse in x as the symmetry is in x\n",
    "       elseif @mediumBorder(1,-1) #x last\n",
    "            mm = 0\n",
    "        elseif @mediumBorder(1,1) #x fist??\n",
    "            mm = 0 #Oscillatory behaviour\n",
    "        elseif @mediumBorder(2,1) #y first\n",
    "            mm = 0\n",
    "        elseif @mediumBorder(2,-1) #y last\n",
    "            mm = 0\n",
    "        end\n",
    "    end,\n",
    "\n",
    "    neighborsAlg=CBMNeighbors.CellLinked(cellEdge=4),\n",
    "    platform=CPU(),\n",
    "    agentAlg=CBMIntegrators.Heun()\n",
    ");"
   ]
  },
  {
   "cell_type": "markdown",
   "metadata": {},
   "source": [
    "## Grow colony from one cell"
   ]
  },
  {
   "cell_type": "code",
   "execution_count": 12,
   "metadata": {},
   "outputs": [],
   "source": [
    "com = Community(rods2dGrowth,\n",
    "            N=1,\n",
    "            dt=1.,\n",
    "            simBox = [-100 100;-100 100.],\n",
    "            NMedium=[100,100],\n",
    "            );\n",
    "\n",
    "#Natural units scales\n",
    "m = 1.E-12 #ng\n",
    "t = 1/(60*60) # h\n",
    "d = 1.E-6 #um\n",
    "\n",
    "\n",
    "com.n=30\n",
    "com.Ebb=20. *m/(t^2*d)*1.E-3 #kPa\n",
    "com.Ebg=10. *m/(t^2*d)*1.E-3 #kPa\n",
    "com.Egg=5. *m/(t^2*d)*1.E-3 #kPa\n",
    "\n",
    "# com.epsbb=5.E7 *m*d/t^2 #Pa um^2\n",
    "# com.epsbg=18. *m*d/t^2 #Pa um^2\n",
    "# com.epsgg=18. *m*d/t^2 #Pa um^2\n",
    "\n",
    "com.etab=500 *m/(t*d) #Pa h\n",
    "com.etag=500 *m/(t*d) #Pa h\n",
    "\n",
    "com.DMedium = 1.E-3\n",
    "# com.delta = 1.E-4\n",
    "\n",
    "\n",
    "com.growth = 0.5 * t\n",
    "com.lMax = 3.     \n",
    "com.σlTarget = .2 \n",
    "com.α = 200\n",
    "com.σ = 1E-3\n",
    "com.type=0\n",
    "\n",
    "com.d = 1.        \n",
    "com.l = 2.99      \n",
    "com.lTarget = 3.  \n",
    "\n",
    "com.p_half=4.\n",
    "\n",
    "com.x = 0\n",
    "com.y = 0\n",
    "com.theta = 0;"
   ]
  },
  {
   "cell_type": "code",
   "execution_count": 13,
   "metadata": {},
   "outputs": [
    {
     "name": "stdout",
     "output_type": "stream",
     "text": [
      "Step: 10000 N: 4\n",
      "Step: 20000 N: 8\n",
      "Step: 30000 N: 16\n",
      "Step: 40000 N: 33\n",
      "Step: 50000 N: 83\n",
      "Step: 60000 N: 172\n",
      "Step: 70000 N: 332\n",
      "Step: 80000 N: 594\n",
      "Step: 90000 N: 1140\n",
      "Step: 100000 N: 2608\n",
      "Step: 110000 N: 5839\n"
     ]
    }
   ],
   "source": [
    "evolve!(com,\n",
    "        steps=110000,saveEach=1000,\n",
    "        preallocateAgents=20000,\n",
    "        saveCurrentState=true,\n",
    "        progressMessage=(com)->if round(Int,com.t/com.dt)%10000 == 0; println(\"Step: \",round(Int,com.t/com.dt), \" N: \", com.N); end)"
   ]
  },
  {
   "cell_type": "code",
   "execution_count": 20,
   "metadata": {},
   "outputs": [
    {
     "name": "stdout",
     "output_type": "stream",
     "text": [
      "Step: 120000 N: 13019\n"
     ]
    }
   ],
   "source": [
    "evolve!(com,\n",
    "        steps=10000,saveEach=1000,\n",
    "        preallocateAgents=20000,\n",
    "        saveCurrentState=true,\n",
    "        progressMessage=(com)->if round(Int,com.t/com.dt)%10000 == 0; println(\"Step: \",round(Int,com.t/com.dt), \" N: \", com.N); end)"
   ]
  },
  {
   "cell_type": "code",
   "execution_count": 14,
   "metadata": {},
   "outputs": [
    {
     "data": {
      "image/png": "[encoded data removed]",
      "text/html": [
       "<img width=600 height=400 style='object-fit: contain; height: auto;' src=\"data:image/png;base64, iVBORw0KGgoAAAANSUhEUgAAA4QAAAJYCAIAAAC1p7+MAAAABGdBTUEAALGPC/xhBQAAAAFzUkdCAK7OHOkAAAAgY0hSTQAAeiYAAICEAAD6AAAAgOgAAHUwAADqYAAAOpgAABdwnLpRPAAAAAlwSFlzAAAOxAAADsQBlSsOGwAAIABJREFUeAHswQmYzvXi///X577f9+xmhjHDZBn7kiWEcMgS5RDJlqij0jeVCqFSSg7npL4qyk/SQpbQYs0W52SPlFSWRLbDmBmzYPZ77vv+/P7/+7rmumYunNM5uX/3YZ6Ph7FtWwAAAEAwGAEAAABBYgQAAAAEiREAAAAQJEYAAABAkBgBAAAAQWIEAAAABIkRAAAAECRGAAAAQJAYAQAAAEFiBAAAAASJEQAAABAkRgAAAECQGAEAAABBYgQAAAAEiREAAAAQJEYAAABAkBgBAAAAQWIEAAAABIkRAAAAECRGAAAAQJAYAQAAAEFiBAAAAASJEQAAABAkRgAAAECQGAEAAABBYgQAAAAEiREABENhYaHP55PkcDhCQ0NVgtvt9nq9kizLCgsLk/TVV18VFRVJCg0N7dixo/C75efne71eSQ6HIyIiQteyTZs2+Xw+SfHx8c2bN9cl5s6de+rUKUmhoaHPPfecAPw3MQKAYBg2bNjGjRstyxo6dOirr76qEpYtWzZ69Gifz9ewYcPNmzdLWr169ZtvvmlZ1uzZszt27KjfxrZt+VmWJZT29ddfDxkyxO129+nT54MPPtC17L333vvkk08cDseKFSuaN2+u0jwez4wZM3744YeEhISNGzcKwH8ZIwAIhqKiorS0NEm2bas027ZTUlIkJSYmqgTbT7/ZAw88sGvXLqfT+f7777dr104owefzpaSkSPL5fLou+Hw+Xc6aNWt++OEHp9P57rvvNm3aVAD+yxgBwH+9cuXKDR48WJLT6dRvlpub+8svv0jyeDzC9euGG24YPHiwJIfDoUssWbKkRYsWgwYN6tOnjwD89zECgP96zz33nNfrlRQZGakS3G73iRMnMjIyoqOjk5KSoqKiVMzn86mYbdsqzbbt06dPp6enu1yuxMTEuLg4Xc65c+dOnDhhjGnatKnT6Tx79qwkh8NRqVIlSenp6UVFRZJcLlfFihUzMzMPHz580003RUREyC8lJeXcuXN5eXlxcXFJSUkul0vFzp075/F4JEVHR0dGRh44cCAzM7Nq1ao1a9aUX2pq6smTJ40xderUiY6OVmm5ubmnTp3KysqKiYmpUqVKbGysfoPTp0+fPXs2Li6uVq1aurLTp0+npKSEh4fXrFkzIiJCV5adnZ2TkyPJ6XQmJCSkp6cfO3bMGFOvXr2oqCgVy8rKKigokGSMiY+PLygo+OmnnxISEpKSkuSXl5d3/Pjx/Pz8ypUrV61aVZeTnJycmprqdDrj4+MTExNVwuTJk+UXFRWl0rKysiZOnOjz+SpUqKDSioqK0tPTJTkcjkqVKnk8nsOHD2dkZCQmJtatW1cA/l8xAoD/eiNGjFi5cqXT6Zw9e3bfvn0l2bY9Y8aMWbNm/frrrz6fz7KsSpUq3X333ZMmTYqPj9+/f/9jjz126tQp+Y0ePfqGG25YuXKl0+mUtGLFitdee23v3r2FhYWSYmJiunbtOnHixCZNmqiY1+t96aWX3n333YyMDMuy2rVr98EHH/Tp0+f48eM33XTT7t27Jc2ZM2fKlCm2bY8ZM6Zp06ZPP/10QUHBwYMHIyIi9u3b98ILL2zZsiU3N1eS0+msVavWI488MnbsWPk99NBDGzduDAsLmz9//rvvvrthwwav1xsaGjpgwIBZs2a99tprM2fOPH/+vKSqVatOmDBh+PDh8svPz3/hhRc++eST5ORk27Yty6pQoULPnj2nTp2amJioK0hNTR03btznn3+el5cXEhLSs2fPRx55RJfYvn37Sy+99PXXXxcUFFiWVa1atWHDhr3wwgtOp1OX88svv9xxxx05OTmdOnXq1avX5MmTU1NTJSUlJT3zzDOPP/64/Pbu3du/f//8/PxOnTpNmTLl4Ycf/vnnnzds2JCUlOR2u6dMmTJv3rzTp0/bth0WFtahQ4dJkya1bdtWxXbt2jVhwoSdO3fm5+dLioiIaNu27fPPP9+lSxf5DR48eMeOHaGhoZ988kn79u3lt3///smTJ2/cuPHChQu2bUdGRrZt23bcuHHdunWTX0pKStu2bdPT0+vWrfvBBx+MGDHiu+++s23bGNOtW7c5c+ZUrVpVAALPCACCyufzff/99yohJydHpfl8vszMTEler1d+U6ZMeemll1TMtu2UlJR33nnn559/Xrt2rdvt3rdvX05Ojvz27duXn59v27ak2bNnjxgxwufzqdiFCxc+//zzHTt2rFq1qlWrVvJ7+umn33rrLfnZtr1jx45+/fplZGQUFhbm5eWpWH5+vqScnJxhw4bl5OSEh4dLOn36dL9+/Y4dO6ZiXq/3yJEj48aNCwkJeeqppyR5PJ5Cv4kTJ+7bt09+hYWFCxcuvHjx4qpVq1Ts9OnTo0aNatmy5c033yxp+PDhCxYsUDHbtjMyMubPn5+amrp27VqHw6FLZGdn9+/ff/v27fJzu93Lly93u90qbfPmzX369Llw4YIkp9Pp9XpPnTo1ceLE48ePf/jhh5Zl6RK2bWdkZEgyxowaNcrj8cjv5MmTTzzxhMPhePTRRyXZtn3+/HlJ+fn5gwcPPnLkiPxs237ooYcWLVokybIsp9NZUFCwcePGb7/9duXKlR06dJD0448/9u7d+9y5cyqWl5f3t7/9bffu3atWrercubOkwsLCzMxMSbZty2/37t133XVXamqqiuXk5GzcuHHr1q0ffPDBkCFD5JeWllZUVJSZmXnXXXelpKTIz+PxrFu37pFHHlmzZo1lWQIQYEYAEFSv++nfkZ2dPXv2bEnR0dHvvPNOkyZNzp0799JLL+3YseOrr75atWpV165dv/nmm+eff37FihWSPvvss8aNGxtjjh8/Pn78eJ/PJ2n48OGDBw/Oycl59dVXt27dmpKSMm7cuK+++sqyrN27d/+f//N/JDkcjr/+9a8dOnTYvn37+PHjfT6fLmfmzJkhISFdunSJiIiQNHfu3GPHjknq37//Y489FhYWtmXLlueff17SggULnnrqKZVw9OjRmTNn1qlTZ9GiRQsWLJC0atWqjh07jho1qqCgYPz48SdOnCgoKFi3bt3NN9/8008/LV68WFJSUtKrr76alJT0j3/8Y+TIkWfPnt24ceOhQ4caNWqkS7zxxhvbt2+XVL169QkTJlSpUmXBggVLlixRCR6P59lnn71w4YLD4XjjjTd69ep1+vTpMWPGfPvtt/Pmzbvzzjv79eunK1uzZk2dOnVeeeWV+Pj4uXPnfvTRR7ZtT5kyZeDAgRUqVFCx3bt3FxYWtmvXLjY21ul0Llu2bNGiRZJuvvnmt99+Oz4+fvny5c8880xWVta4ceN27NjhdDpnz5597tw5SU8//fSQIUMsy1q6dOmrr76ak5Mzbdq0zp076xIej2f06NGpqamSOnfuPGrUqPDw8I8++mjRokWFhYXjxo3r1q1bQkKCiiUnJ9erV++VV15JTExct27djBkzJG3cuPHo0aN169YVgAAzAoBrTXJy8tmzZyUlJCTccssttWvXlnTu3Lny5ctLOnLkyMCBAytUqOB0OuVXsWLFevXqSfrss8/Onz8vqX///rNmzXI4HJKaNm3apk2bM2fObN269fvvv2/RosWCBQu8Xq+k0aNHP/vss5LatWtn2/Zzzz2ny4mLi1u/fn3z5s3l9+uvv3bo0MHhcLzwwgvNmjWTVK1atcmTJ+fn5+fk5Ni2bVmWik2cOHHEiBGS6tatu3TpUrfbHRYWNnv27AYNGkhKTk4eM2aMpJSUFEmHDh1q27atpD/84Q/33HOPpDZt2sydO/fs2bM+ny8/P1+X8Hg8ixcvlt+cOXPuuOMOSV26dPnHP/6xY8cOFduzZ88333wj6Y9//OPIkSMl1apV69VXX73tttskzZ07t1+/froyl8s1f/78tm3bSmrXrt2xY8e2bdt25syZTZs2DRw4UMWKiopWrlzZu3dv+fXu3Vt+06ZNa9u2raRx48Zt3rx57dq1u3fv/vrrr9u3b3/w4EH53XLLLc2bN7csq27dukePHi0sLIyMjPR6vU6nU6V97Sepdu3aS5cujY+Pl9SxY8fk5OSvvvrq7Nmzq1evHjZsmIq5XK6PP/745ptvltSpU6dNmzYdOHDA4/GcPn26bt26AhBgRgAQVA8//HDdunVVwvnz51955RVdWUxMTLly5S5evHj06NGWLVu2bt26R48et91226pVqyzL0pXt3LlTfoMHD3Y4HPKrWrVqjx493nvvPdu2f/jhhxYtWnzzzTfyu/fee1Vs8ODBkyZNys/P1yX69u3bvHlzFZs3b54kn8/366+/rl279tChQ1u3bs3Pz9flNG3aVH5hYWHyi4uLq1WrlvwiIiJUwkA/SWfPnt22bdvPP//8448/bty4UVd26tSpo0ePSqpfv37Xrl3lFxYWds899+zYsUPFvv32W/klJSVNnz5dfj6fLzIyMjc39/vvvy8oKAgLC9MVNG7cuE2bNvJzuVx9+/bdtm2bpD179gwcOFDFWrZs2bt3b/m53e59+/ZJioyM3Lt37759++SXlJQkv927d7dv3z4hIUF+995771//+teuXbv26NHjo48+ioyM1BXs3r1bfnfffXd8fLz8QkJChg4d+tVXX0navn37sGHDVKxSpUpNmjSRX2hoaEJCwoEDByTZti0AgWcEAEFVvnz5Z555RiUsXrxY/1TlypVHjRr12muvFRQUnD9//ks/h8Nx4403PvDAA6NHj3Y4HLqctLQ0+SUlJamE6tWryy8lJcXn82VmZkoyxlSsWFHF4uPjo6Oj8/PzdYm4uDiV4PP5Xnnllfnz5//6669er1f/PsuydAVr166dOnXqd999l5eXp98gPT3d6/VKqlKlitPpVLEaNWqohOTkZPnNmjVLl8jMzMzKykpMTNQV3HDDDZZlqViNGjXkl5aWphJiYmJULC8v78KFC5Jyc3PHjBmjSxw/flzS008/vW/fviNHjvh8vh/8Xn/99cqVK99xxx1//vOfq1evrkskJyfLr27duiohKSlJfqmpqSrNsiwBCBIjALgGTZo0aeDAgcuWLVu9evX333/v8Xh8Pt/+/fvHjh2bn58/YcIEXU5UVJT8cnJyVEJBQYH8QkJCJBljJNm2XVhYqGL5+fmFhYX6DSZMmPDKK69ISkxM7Ny5c6tWrW688cZ+/frl5OTo99mxY8fAgQNzc3MdDsftt99+yy23NG/efOHChcuWLdMVREZGWpZl23Z2drZKyM7OVgkul0t+o0aNSkhI0CUsy9KVZWVlqYSMjAz5xcbG6gocfpLi4uLGjBmjS5QvX15SmzZtvvnmm1WrVq1YsWLLli2ZmZmSUlJSPvroo0OHDm3ZsiUsLEylRUdHyy87O1slFBYWys/lcgnAfw0jALjWHDhwwO12Sxo9evSLL754+PDhjRs3Ll68eOfOnZKWLVs2YcIEXU6dOnW+/PJLSVu3br311lvlZ9v29u3b5Ve3bl2Hw1GrVq3Dhw97vd6tW7fWq1dPftu3bz9//rz+FbfbvWTJEknh4eFr165t1qyZpP379+fl5el3+/TTT3NzcyW9/vrro0aNkt/UqVN1ZVWqVClfvnxmZubBgwePHz9es2ZN+W3atEkl1KlTR34ul2v8+PH6N+3fv//48eM1a9aU39q1a+XXpEkTXUFUVFRiYuL58+fz8vKGDh16ww036BJpaWnJycm2bbdo0eJPf/pTZmbmtm3bVqxYsXDhQo/H88033+zfv79ly5YqrW7duvLbsmXLmDFjVOxvf/ub/OrXry8A/zWMAOBas27dumeffdbn8z3yyCMzZ86s73fzzTe3b9/e5/PZtq3ScnNz5dezZ89Zs2ZJmjlzZseOHTt06OD1emfNmrVlyxZJCQkJ7dq1k3TnnXeuW7dO0qRJk2rXrt28efN9+/aNHTtWv0FhYeH58+dVQl5e3qxZs3w+n363tLQ0+VmWZdu2pM8//3zPnj26stjY2I4dOy5fvjw3N/fZZ59944034uLili1btmDBApXQvn378PDw/Pz8VatWPfXUU1WrVpW0d+/ekSNHut3uSpUqLV++3Ol06gouXrw4duzYqVOnVqhQYdGiRStWrJAUExNzxx136AocDkeXLl0OHTqUn5+/dOnS0aNHS/J4PM8+++z27dsljRo1qn379l26dMnKyqpWrdqmTZvq1at31113de3a9ejRo9u3b9cV3HrrrdHR0RcvXly3bt3ChQuHDBliWdbGjRvff/99SZZl9erVSwD+axgBwLXmjjvuePnll3Nzc+fMmbN3797q1atfuHDhxx9/9Pl8kjp27Cg/p9MpvylTpixatGju3Lndu3e/8847v/jii9TU1G7dut188805OTk//vij/MaNG1exYkVJQ4YMmTVr1oEDB06fPt2tW7fIyMiLFy/qt4mKiqpdu/a3336bn5/fvXv3Ro0anT59+pdffpGfbdv6HRo3biy/cePGLVmyxOv17tmzR8Vs29bljB07dv369fn5+Z9++umXX34ZGRmZnJys0mrVqjV06NDZs2cfPny4U6dObdq0ycnJ2b59e0ZGhqT58+c7nU5dWbVq1ZYtW7ZmzZrQ0NCLFy/K76mnnqpWrZqu7IknnliyZElGRsaYMWM2bNiQkJBw5MiRXbt2SWrdunXv3r0jIyPbtGmzbt26f/zjH507d27WrJllWSdPnty/f7+k2rVr169fX5eoVq3a448/PnXqVI/H86c//emtt94KCQn55ptvioqKJA0YMKBDhw4C8F/DCACuNU2aNJkxY8Zzzz2Xnp7+rZ+K9ezZ86WXXpLfgAEDvvjii7y8vJ07d549e9ayLIfDMXfu3GHDhq1ataqwsHDnzp3yCwsLG+snv5iYmAULFjz44IM//PCD1+u9ePFiaGjohAkT3nzzzczMTP1TlmU999xzQ4cOzc3NTfULCwv785///MYbb5w/f/7EiRMHDhxo3Lix/BwOh2VZKhYaGup2u40xuoKHHnros88++/7774uKinbt2iWpZ8+e0dHRixcvlrRr165WrVrpEu3atZszZ86oUaMyMjIu+EVHR0+bNm348OG2bavYm2++mZWVtXTp0l/95BcTEzNx4sT7779f/1TDhg2bNGmydu3awsJCSS6X67HHHps4caKKORwOn8+n0ho0aDB37tzhw4efPXt2w4YNKtapU6d33303MjJS0ttvvz106NAdO3Yk+6lY1apVZ86cWa5cOV3OlClTcnNzZ8+eXVRUtGfPHvlZljVgwID3339fxUJCQoqKipxOpy7hcDgsyxKAwDMCgGBo2bJlkyZNJFWsWFGlxcTETJ48WZLT6ZTfTTfdNHnyZElRUVHyGzZs2B//+Mcvv/xyz549aWlpLperRo0anTp1uu2225xOp/z69+9fq1atnTt3FhUVxcTEyK9ixYrLly/fsmXLpk2bjhw5EhYW1rRp0x49etx4440qoXnz5rt27Vq/fv2PP/4YGxvbsWPH2rVrv/322yqhTZs2K1eulBQREaES+vXrV7169SVLlpw6dap27dqDBg1q1qxZZGSkz+eTtGPHjsaNGz/mJykuLk5+YWFhH3/8sc/nM8ZYliW/hg0brly5UlJISIikypUrb9y4cd68eXv27ImJibnjjjvuvvvuNWvWtGjRQpLbLyQkRJe47777OnTosHr16qNHj1atWrVXr16hoaELFiyQ5HK55BcWFrZ48eJhw4Zt2LDh5MmTMTExzZo169mzZ82aNfWvhISErFy58osvvti3b19MTEzHjh2bNWumYnFxccuXL5dkWZZK69WrV4sWLZYvX753796cnJyaNWt26tTp9ttvdzqd8qtdu/ZXX331t7/9bceOHceOHSssLKxUqVLr1q179OgRHx8vv06dOnXo0EFSeHi4/JxO51tvvfXggw+uXbt2//79RUVFDRs2vP322zt06KBi4eHhixcvtm3bGGNZloqNHj161KhRkipUqCAAgWcEAMEwbtw4XUEPP5UwevRoXeKGG254wE9X1sJPpTkcjs5+uoLVq1d7vV5JiYmJffr0kd/+/fuzsrIklS9fXn5dunTRFbTyUwlPP/20Sujdu7dKq1Chwp133qnSOnbsqNLi4uLGjBmjEu7007+SlJT0xBNPqIQaNWqoNMuyuvnp32RZlsPh6O2nSzT30xVUqVLliSee0JW5XK7ufrqC8ePH63Ka++kKKlas2KtXL12iV69eAvD/kBEAoLTvv/9+4sSJkpo0afLuu+82aNDgyJEjL7zwQlFRkaTevXsLAHCVGAEASnvqqae2bdu2adOmn3766Q9/+ENUVFROTo5t25LuvffekSNHCgBwlRgBAEqLjY1ds2bN4sWLV65ceezYsYsXL9auXfvGG2/s169fnz59HA6H4GeMqV+/vtvtDg8PFwD8R4wAAJcICQkZ6ifJ6/U6nU7hEjfddNOBAwck2bYtAPiPGAEA/imn0ylcjmVZTqdTAPA7GAEAAABBYgQAAAAEiRECwOfzyc+yLAEAAFxHbNtWMYfDod/HCAHw6quvvv766zVq1IiLi1Mg2bYtybIs4bpj27b8LMsSri+2bcvPsizhumPbtiTLsoTrjm3bkizLUpn33XffSUpLS9PvZoTAyMjIqFGjhgLM4/H4fL7Q0FDhuuP1ej0eT2hoqHDdsW3b7Xa7XC6n0ylcd9xut8PhcLlcwnXH4/H4fL7Q0FDh6jFCALRo0cKyrL/85S+33367Aik9Pd3j8VSuXFm47mRnZ58/fz4xMdEYI1xf3G53SkpKXFxcZGSkcH2xbTslJSUkJCQuLk647mRkZLjd7sqVK1uWpTLMtu0//vGPukqMEACWZUmy/BRIVjHhumOVIFxfrBKE645VTLjuWCUIkmVZ+t2MAAAAgCAxAgAAAILECAAAAAgSIwAAACBIjAAAAIAgMQIAAACCxAgAAAAIEiMAAAAgSIwAAACAIDECAAAAgsQIAAAACBIjAAAAIEiMrjW5ublpaWmJiYlhYWG6nHPnzuXl5SUkJISHh+tyPB5PSkqK0+msVKmSw+HQ5WRnZ6enp0dHR8fFxQkAAACBYXSt2bRp07Bhw3bv3l27dm2V9ve//33SpEnfffddQUFBYmLi4MGDJ06cGBERoWK2bc+YMWP27NnHjx93OBwNGjQYM2bMfffdpxLOnTs3fvz4VatWZWZmRkZG3nrrrX/5y1+aNm0qAAAAXG1G15TCwsJ33303KytLl9i6dWufPn1ycnLuueeehISEr7766rXXXjt58uTixYsty5Lfyy+//Oc///mGG2546KGHCgsLly5d+qc//amwsHDYsGHyy8vL69+//9atW9u3b9+6desjR46sXr36xx9//Pvf/167dm0BAADgqjK6FuTn5//0008HDx5csmTJhg0bHA6HSvP5fBMmTMjOzl60aNHgwYMlZWZm9u7de+nSpUOGDOnVq5ekgwcP/u///m/16tU3btxYr149SQ8++GC3bt0mTZrUr1+/2NhYSXPmzNm6deuQIUM+/PDDkJAQSVOnTh0/fvykSZPmz58vAAAAXFVG14K0tLTbbrstJydHV7Bv377t27ffeuut9957r/wqVKjw3HPP9erV66OPPurVq5ekpUuX5ufnjxw5sl69evLr0KHDfffd98EHH6xbt+7ee++1bfujjz5yuVzPP/98SEiI/EaMGDFr1qxVq1adO3cuPj5eAAAAuHqMrgVxcXFbtmyR5PP5Ro4cuWvXLpW2a9cu27a7dOliWZaK/eEPf4iNjf3uu++KiopcLtfWrVsty7rttttUQo8ePT744IOtW7fee++9Z86cOXToUP369Rs2bKhi5cqV+8Mf/rBkyZKffvqpS5cuAnAd8XrtoiJbv4PLZTmdlgAA/ymja0FUVFSLFi3kZ4zRJQ4cOCCpcePGKiE2NrZKlSpHjx5NT0+vWLHi8ePHy5Url5SUpBLq1q0r6fDhw5JOnTpVWFhYq1Yty7JUQqNGjSQdPny4S5cuAnC98HrtlUuT83M9kvJyvZKyMtwqlppcoBIq3RCmYuXjQiRFRDolhUeau+65wem0BAD4jxhdF1JSUiTFxcWpBMuyypcv73a7s7KyIiIizp8/X65cuYiICJUQExNjjMnIyJCUnp4uKS4uTqVVqlRJ0tmzZ3UJ27anTp2qSxw5ckRSbm7uhQsXFEgXL170eDzh4eHCdScnJyc7OzsiIsIYIwRAYYHvwvn8b3dc1G9w8lieip08lqdiLf8QnZF+PjTMoX+H2+3Ozs52uVwej0e4vti2ffHixZCQEGOMcN25ePGi2+0ODw+3LEtlmG3bHo/H6XTqajC6Lti2rSuwbdvr9eqf8nq9kmzb1pV5PB5dzubNm/fu3avSkpKSJOXn52dnZyuQcnJyvF5vdna2cN3J8YuIiDDGCAHgLrSL3EX6fYrcRTk5Oe4iS/+OoqKinJwcl8vl9XqF64tt27m5uW632+VyCdednJycoqKi7Oxsy7JUhtm27fF4nE6nrgYjSJZl6T/14Ycf6hJbtmy57777KlSokJiYqEByuVwej6dy5crCdSc7OzssLCwxMdEYIwRAQYFP9ikpX7+HHVKpcuWwMIf+HW63W1JcXFxkZKRwfbFt27KskJCQuLg44boTEhLidrsrV65sWZbKMNu2Q0NDdZUYXRcqV64s6cKFCyotOzvb5XLFxsZGRETExMRkZ2cXFBSEhISoWE5OjtfrLV++vKSKFStKunDhgkrLzMyUVLlyZV3CsqwqVaroEhUrVpTkcDicTqcCyel02rbtdDqF646zBCEAnE7r/6Pfx7Is5//PoX+HswTh+mLbtrOYcN1xFrMsS2WYbduWZekqMbouNGjQQNIvv/yiEnJycpKTkxP8XC5X9erVd+7cefbs2ejoaBU7efKkbdt16tSRVLVqVZfLdfLkSZV2+PBhSfXq1ROA60vEsRULAAAgAElEQVRWhlu/T1aGWwCA38HoutC6dWtJmzdvHjdunIrt27fv3LlzvXr1Cg0NldS+ffvt27dv27atfv36KrZ582ZJHTt2lFStWrV69eodOnTo1KlT1atXl19RUdHu3bujoqJuuukmAQAA4Koyui60atWqZcuWGzZs2Lx5c6dOnSR5vd63335b0n333Se/AQMGTJs2bfbs2f3794+NjZV09OjRefPmVa5cuUePHpIcDsfgwYNfeOGFd95555VXXpHfJ598cvDgwQEDBiQmJgoAAABXldF1wel0vvzyy339nnvuubi4uLVr1y5btuzuu+/u37+//Fq0aPH444+/9dZbd9999+DBg/Pz82fPnp2WlvbWW2/Fx8fL7/HHH//ss8+mTp2amZnZpk2bX375Zdq0aZUrV544caIAAABwtRldaypUqNCoUSNdomfPnosXL3755ZfHjx/v8/liYmIeeeSRN954w+FwqNi0adOioqLef//9Rx55xLKsGjVqzJw5c8SIESoWGxu7fPnyUaNGzZ8/f86cOcaYtm3bvvrqq40aNRKA605qcoF+n9TkAgEAfgeja83nn38uyeFw6BJ9+/bt3bv3iRMncnJyqlSpEh8fr9JcLtdf/vKXZ5555vTp08aY6tWrh4eHq7SkpKTly5efOXMmNTW1fPnyNWrUsCxLAAAACACja43D4dCVGWPq1KmjfyrGT/9UFT8BAAAgkIwAAACAIDECAAAAgsQIAAAACBIjAAAAIEiMAAAAgCAxAgAAAILECAAAAAgSIwAAACBIjAAAAIAgMQIAAACCxAgAAAAIEiMAAAAgSIwAAACAIDECAAAAgsQIAAAACBIjAAAAIEiMAAAAgCAxAgAAAILECAAAAAgSIwAAACBIjAAAAIAgMQIAAACCxAgAAAAIEiMAAAAgSIwAAACAIDECAAAAgsQIAAAACBIjAAAAIEiMAKBMSk0uEAAg2IwAAACAIDECAAAAgsQIAAAACBIjACiTsjLcAgAEmxEAAAAQJEYAUCbl5XoEAAg2IwC4Bnm9dlGRrd8mNblAxbIy3JLycj35ud6iIlsAgKAyAoBrjddrr1yanJ/rkZSX65WUleFWsdTkAv0GRUW212sLABBURgBwrSkqsvNzPTs3ZwgAcI0zAgAAAILECACuQXm5XgEArn1GAAAAQJAYAcA1KCvDLQDAtc8IAAAACBIjAAAAIEiMAAAAgCAxAoBrUGpygQAA1z4jAAAAIEiMAAAAgCAxAgAAAILECAAAAAgSIwAAACBIjAAAAIAgMQIAAACCxAgAAAAIEiMAAAAgSIwAAACAIDECAAAAgsQIAAAACBIjAAAAIEiMAAAAgCAxAgAAAILECAAAAAgSIwAAACBIjAAAAIAgMQIAAACCxAgAAAAIEiMAAAAgSIwAAACAIDECAAAAgsQIAAAACBIjAAAAIEiMAAAAgCAxAgAAAILECAAAAAgSIwAAACBIjAAAAIAgMQIAAACCxAgAAAAIEiMAAAAgSIwAAACAIDECAAAAgsQIAAAACBIjAAAAIEiMAAAAgCAxAgAAAILECADwO6QmFyTVihAA4D9iBAAAAASJEQAAABAkRgAAAECQGAEAfoesDHdSrQgBAP4jRgAAAECQGAEAfoe8XI8AAP8pIwDAf6qoyM7P9e7cnB4RaSSVjwtRsUo3hOkKitw+d6FdWOBzOn2SXC7L6bQEAGWSEQDgP+X12iuXJrtcln6DSjeEyc+27bAIb0hIYXRMqKTwSHPXPTc4nZYAoOwxAgD8Dl6v7fXa+g1OHstTKW4pR1K7TnFFRbbTaQkAyh4jAAAAIEiMAABBlZfrFQCUVUYAAABAkBgBAIIqK8MtACirjAAAAIAgMQIAAACCxAgAAAAIEiMAQFClJhcIAMoqIwAAACBIjAAAAIAgMQIAAACCxAgAAAAIEiMAAAAgSIwAAACAIDECAAAAgsQIAAAACBIjAAAAIEiMAAAAgCAxAgAAAILECAAAAAgSIwAAACBIjAAAAIAgMQIAAACCxAgAAAAIEiMAAAAgSIwAAACAIDECAAAAgsQIAAAACBIjAAAAIEiMAAAAgCAxAgAAAILECAAAAAgSIwAAACBIjAAAAIAgMQIAAACCxAgAAAAIEiMAAAAgSIwAAACAIDECAAAAgsQIAAAACBIjAAAAIEiMAAAAgCAxAgAAAILECAAAAAgSIwAAACBIjAAAAIAgMQIAAACCxAgAAAAIEiMAAAAgSIyCZPTo0efPn587d64AAABQVhkFUkFBwZdffnn27FmV5vV6ly5dmpCQIAAAAJRhRgFTWFh49913r1+/Xlfw8MMPCwAAAGWYUcB8+umn69ev79y589ChQ1NTU5999tmpU6cmJiamp6e/9tpr3bp1mzRpkgAAAFCGGQXM5s2bnU7njBkzmjRp4vV6FyxYcOrUqWeffVZSmzZt2rdv37Nnz0GDBgkAAABllVHAZGZmVq5cuX79+pKcTmft2rUPHz4sv3bt2t11113vvPPOoEGDBAAAgLLKKGAsyyosLHS73SEhIZJq1669atUqr9frdDol1axZc+vWrdnZ2eXKlRMAAADKJKOAufHGG5ctW7Z+/fr+/ftLatiw4Ztvvnno0KHGjRtLunjxotdPAAAAKKuMAqZv376vv/764MGD16xZ8+GHH7Zp08bhcLz88ssvvvjiiRMnPv7440aNGsXExAgAAABllVHANG/efObMmZMmTdq1a5fP52vcuPGDDz74/vvvL1u2zLZtp9P5xBNPWJYlAPg3pSYXCABwXTAKpIceemjgwIHHjh1zOBySZs6c2bhx482bN4eHhw8ZMqRnz54CAABAGWYUYFFRUU2bNpVfaGjoSD8BAAAAktFVdeLEiTNnzliW1a5du8zMTJ/PpyszxsTGxgoAAABlldFVlZaW1rVr14oVKx4+fHj16tVPPvmk1+vVFfTs2fOTTz4RAPybsjLcAgBcF4yuKofDERcXV6FCBfk1btzYtm1dQbly5QQAAIAyzOiqatq06eHDhyVFREQM9RMAXG15uR4BAK4LRldViJ9K8Pl8hw4d8ng8N910k6Tk5ORvv/32lltuqVSpkgCUSV6vXVRk67dJTS5QsawMt6S8XE9+rreoyBYA4NpnFEh79uwZPXr0rl275s+ff9NNN0nKzs4eMGBATEzMiy+++OSTTwpAGeP12iuXJufneiTl5XolZWW4VSw1uUC/QVGR7fXaAgBc+4wC5syZMwMHDjxx4sQdd9xRrlw5+UVFRY0ePXr+/PlPPfVUQkLCPffcIwBlSVGRnZ/r2bk5QwAASEYBs2jRohMnTkybNm3MmDEqVqVKlalTp953330dOnSYNWvWPffcIwAAAJRVRgGzZ8+eChUqPPTQQ7pE48aNb7/99k2bNl28eDE6OloAypK8XK8AAPAzChiv1xsSEhIaGqrLcblcRUVFXq9XAAAAKKuMAqZRo0bLly//6quvevbsqdIyMjJ27NhRs2bN2NhYAShjsjLcAgDAzyhghgwZ8tZbbz344IMzZszo2bNndHS0JK/Xu2/fvhdffPHEiROvvvqqZVkCAABAWWUUMA0aNJg+ffqTTz45ePDg+Pj4pKQkh8ORlZV19OhR27YHDRo0cuRIAQAAoAwzCqQHH3ywefPmM2fO3Lx588GDB71eb1RUVIcOHYb6OZ1OAQAAoAwzCrBmzZq9//77Ho8nKyurqKionJ8AlGGpyQUCAMDPKMBs2y4sLJRUrlw5+RUUFMjP6XS6XC4BAACgrDIKpKVLl06bNu306dO6nDZt2ixfvlwAAAAoq4wCZufOnQ888EBBQUHNmjVDQ0N1CZfLJQAAAJRhRgHz8ccfFxQUTJ8+ffjw4aGhoQIAAABKMwqYs2fPJiUlPfLII2FhYQIAAAAuYRQwsbGxoaGhISEhAgAAAC7HKGDuvPPODz/8cOfOnR06dBAAAABwCaOAufvuu0ePHn3//ffPmjWrc+fO4eHhAgAAAEowCpgPP/xw79691atX79mzZ5UqVeLi4lTajTfeuHjxYgEAAKCsMgoYy7IOHjzo8/ni4uIKCgrOnDmj0mrWrCkAAACUYUYBc++99w4cOFBX5nQ6BQAAgDLMKGDCwsIEAAAAXJlRgF24cGHlypXbtm1LTk5OSkqaNWvWu+++26VLl7p16woAAABlm1Egfffdd0OHDj1w4ID8+vTpI2njxo1jx459+eWXx4wZIwAAAJRhRgGTlZV13333/fzzzyNHjuzfv/+oUaPkN3DgwIMHD44bN65GjRr9+vUTAAAAyiqjgFm4cOHPP//817/+dfz48ZJCQkLkN3DgwBYtWrRp02bWrFn9+vUTAAAAyiqjgNm2bVtMTMywYcN0iTp16nTu3HnLli15eXkRERECAABAmWQUMB6PJzIyMjo6WpcTGRmZ5xcRESEAAACUSUYBU7NmzeXLl+/Zs6dDhw4qrbCwcO/evVWrVi1fvryukpycnKKiIl3C4XDExMSohH379h06dMjlct3op0vk5uZ+8803p06dqlixYqtWrRISEgQAAIAAMAqYe+655+2333788ccXLFjQqFEjFcvOzv7LX/7y008/Pf30006nU1fJZ5999vTTT3s8HpXgcDgmT5785JNPyi8tLW348OErV660bVuSy+V64IEH3n777dDQUBX729/+9uSTTx46dEh+lSpVmjJlysMPPywAAABcbUYB07p164kTJ06YMKFNmzbt27dPTU11Op2DBg365ptvjh8/3rZt2wkTJujqOXToUFZWVsOGDZ1Op0qwLEt+tm0/+uijK1as6Nu374MPPlhQUDBjxoz33nsvIiJi+vTp8jt+/Pj999+fkpLy4osvdurU6cCBAxMmTHjssceqVq3avXt3AQAA4KoyCqQXXnihfv3606ZN27Ztm9vtPnbsmGVZiYmJI0eOfOmll8qXL6+r5+jRo8aY5cuX169fXyXYti2/TZs2LV++/NZbb120aFFYWJik9u3bt2nT5r333hsxYkTdunUlvfHGG2fPnv3rX/86fvx4SV26dKlevXqfPn2mTp3avXt3AQAA4KoyCrD+/fv369fv1KlTZ86c8Xq9sbGxtWrVioyM1NV24sSJ+Pj4pKQklWZZlvxWrFgh6dFHHw0LC5Nf5cqVhw4d+uc//3nDhg1169Z1u91r1qyJiYkZNmyYivXq1atZs2Zff/31sWPHatWqJQAAAFw9RoFnWVaSnwImPz//zJkzNWrU8Pl8hw4dys/Pj4mJqVmzpsPhULHdu3cbY2655RaV0KFDB0lff/31E088ceLEiZMnT7Zu3TohIUHFHA5HmzZt9u3b99NPP9WqVUsAAAC4eowC5vPPPz906JCuLDw8fMyYMboa0tLSMjMz27dv37Fjx++++862bWNM69atJ06cePvtt0sqLCw8e/ZsdHR0QkKCSqhataplWSdPnpSUnJzs8/mqVq2q0mrXri3p119/1SVs29bl2LYtAAAA/CtGAZOenv7iiy/qCizLuvPOO8eMGaOr4eTJk0VFRZ9//nmnTp1eeeUVh8OxZcuWNWvW9O3bd8WKFV27di0oKMjNzY2KigoJCVEJERERTqfzwoULki5cuCCpXLlyKi0mJkZSenq6Lqd79+4+n0+lZWVlSTp//nxaWpoCKTMz0+PxOBwO4bqTk5Nz8eJFp9NpjNF1pLDQ9tm2UILPts+dOxcaagnXPtu209PTQ0JCvF6vcN3Jyspyu90Oh8OyLJVhtm273W6Xy6WrwShgWrVqtWXLFpWWnp6+ZcuWWbNmPf300yNGjNBVcuzYsSZNmnTp0mXatGnGGEnjxo174403xowZM2HChC5duuifsm1b/ymHn0qzLEsAAAD4V4wCpkWLFrqcvn373n333V27dk1KSnr88cd1NTzgp9JGjBgxZ86cb7/99ujRo4mJiQ6HQ1dgjJFkjNHl2LYtKSQkRJewLGvdunW6xJdfftm9e/fY2NiEhAQFksPh8Hg8CQkJwnUnPDzc5XIlJCQYY3QdKSjwOayzki0Uc1hWfHx8WJhDuPbZtu3z+UJCQuLi4oTrjtPpdLvdCQkJlmWpDLNtOyQkRFeJUTB06tRp0KBBc+bMeeyxxyzLUmCEhobWrVv38OHD586dq1OnTlxcXGpqak5OToUKFVQsMzPT4/EkJCRIqlSpkqS0tDSVdvbsWUlVqlQRAAAAriqjIImPjz927Nj58+fLly+v38e27f379xcVFTVu3DgkJEQl+Hw+SeHh4Q6Ho169ekePHv31118rVKigYocPH5Z04403SqpevXpUVNSRI0e8Xq/T6VSxH3/8UVKDBg0EAACAq8ooGAoKCr799tvQ0FCXy6XfzbKsZ599dsuWLevXr+/QoYOKZWVl/fjjj5UqVapTp46krl27rvVr1aqVin3xxReSunXrJikhIaFFixbbtm37/vvvW7ZsKb/MzMydO3cmJiY2a9ZMAAAAuKqMAubLL788d+6cLpGfn7969ert27f37NkzKipKV8PQoUPXrVs3duzYjz/+uHbt2pKysrLGjx9/+vTpsWPHRkdHSxo0aNDUqVOnT5/eo0ePVq1aSVq9evXHH3/cokWLbt26ye/RRx/dunXryy+/vHDhwtjY2KKioqlTp6akpDzzzDPlypUTAAAAriqjgDl+/Pijjz6qK6hZs+bEiRN1lQwYMGD16tWLFi1q1apVy5YtLcs6cODAmTNnevToMWnSJPklJib+7//+77Bhwzp37ty1a9eCgoIvv/wyLi7uzTffDAkJkd8999yzfv36+fPnt23btmHDhqdPn96zZ0/nzp2ff/55AQAA4GozCpjatWsvWrRIlxMWFta+ffuEhARdJQ6HY968eW3atFmyZMn+/ft9Pl/t2rXHjx//P//zPyEhISr2pz/9KTEx8Z133jlw4IAx5v777x89enSzZs1UzOFwzJ07t1WrVkuXLt27d2/FihUnTpw4cuTImJgYAQAA4GozCpiuXbvq/yFjzBN+hYWFPp8vPDxcl9PNz+fzWX66hMPheMLP4/EYYwQAAICAMQqwNWvWfPrpp3fccce9994r6ciRIw888ED37t1HjhwZHR2tAAgNDdW/4nA49K8YYwQAAIBAMgqk0aNHT58+3bKs22+/XX4+n+/XX3996aWX1q5du3r16ooVKwoAAABllVHArFu3bvr06Y0aNXr99ddbt24tv/r16+/Zs2fWrFlTp06dPHnyjBkzBAAAgLLKKGBWrVrlcDjmzp3bqlUrlVCtWrUpU6Zs27ZtzZo1r7/+ujFGAAAAKJOMAiY1NbVKlSrNmjXTJZxOZ506dfbt23f+/PmKFSsKAAAAZZJRwERGRmZmZqalpVWpUkWXSElJiYyMDA8PFwAAAMoqo4Dp3r37woULp02b9tprr7lcLpWwYsWKDRs23HXXXZGRkQIAAEBZZRQw/fv3nzdv3vTp03fv3j1gwIAmTZo4HI5z586tXbt24cKFUVFRzzzzjAAAAFCGGQVMaGjoxx9/PGrUqE8//fTrr79WCQ0aNHj99dfbtWsnAAAAlGFGgRQfH79o0aLnn39+69athw4dKigoqFy5cps2bTp16hQRESEAAACUbUaB18jPtm1JlmUJAAAA8DMKsKNHj3700Uc7duxISUlp0aLFwoULX3rppY4dO952220CAABA2WYUSF988cWDDz6Ynp4eGhpaWFhYv359SQcPHpw8efLIkSPffPNNy7IEAACAssooYE6fPv3www9fvHhxxowZvXv3HjRokPyee+657OzsGTNmNGzYcPjw4QIAAEBZZRQwCxYsSE1Nfe+99x5++GFJDodDfi1btly4cGGrVq3mzZs3fPhwAQAAoKwyCpjvvvsuLi6uf//+ukR8fHy7du3Wr19/8eLF6OhoAQAAoEwyChjbtp1Op8vl0uU4HA6vnwAAAFBWGQVMo0aNli1b9ve//71Xr14qLSsra8eOHTVr1oyNjRUAAADKKqOAGTJkyIwZM/7nf/7nvffe69Kli23bkrxe74kTJ1588cUTJ05MmTLFsiwBAACgrDIKmPr167/11luPPfZY796969Wrl5aWdu7cuXbt2v3000/5+fl9+/YdO3asAAAAUIYZBdLQoUMbNGgwffr0bdu25ebmZmdnp6WlNW3a9P7773/kkUdcLpcAAABQhhkF2C233LJ48eL8/Pz09HSv1xsdHV2hQgUBAAAAklHAPPTQQ4cPH3733XcbN24cHh5erVo1AQAAACUYBYxt2zt37vz1118bN24sAAAA4BJGAfPUU0+tX79+3rx5f/zjH0NCQgQAAACUZhQw9evX//TTT3v16tW7d+/7778/KSnJsiyVYIy55ZZbBAAAgLLKKGCWLFny2GOPud3uDX66RPfu3detWycAAACUVUYBExMT8+STT+rKypUrJwAAAJRhRgHTz08AAADAFfzf9uAEKsp68R//+5nnMwPMwCAgi+C+lVuI+4b7klKpbbjd1NK6amJmuaRXzbRc0kwD9+u10qRySy2lW2mZaSpZ7rkgmijIIssMMDPPPP9z5pw5Bw74vfz+Ag/S+/USKFdr1qwBMHTo0JCQEBARERER/Z8EytWhQ4f27ds3ZMgQuFmt1n//+986nW7ixIkgIiIiIipCoLwpioLi3nnnnUceeWTixIkgIiIiIipCoOI5nU4QEREREZUgQERERESkEQEiIiIiIo0IEBERERFpRICIiIiISCMCFeD69esFBQVwuXfvnqqqiqJcvnxZCIEi9Hp97dq1QURERER/VwLlrbCwMDIyEkUoinL06NFmzZqhuK5dux4+fBhERERE9HclUK68vLyaNGmCsvH19QURERER/Y0JlKvNmzerqoqykSQJRERERPQ3JlCuJBcQEREREZWBABERERGRRgSIiCpRakoBiIiI3ASIiIiIiDQiQERERESkEQEiIiIiIo0IEBFVoqwMG4iIiNwEiIiIiIg0IkBEVImsFgeIiIjcBIiIykxRVLtdRdmkphTALSvDBsBqceRbFLtdBRERkYsAEVHZKIq6Jz4l3+IAYLUoALIybHBLTSlAGdjtqqKoICIichEgIiobu13NtziOHsoAERFROREgIiIiItKIABFRmVktCoiIiMqPABERERGRRgSIiMosK8MGIiKi8iNARERERKQRASIiIiIijQgQEREREWlEgIiozFJTCkBERFR+BIiIiIiINCJARERERKQRASIiIiIijQgQEREREWlEgIiIiIhIIwJERERERBoRICIiIiLSiAARERERkUYEiIiIiIg0IkBEREREpBEBIiIiIiKNCBARERERaUSAiIiIiEgjAkREREREGhEgIiIiItKIABERERGRRgSIiIiIiDQiQERERESkEQEiIiIiIo0IEBERERFpRICIiIiISCMCREREREQaESAiIiIi0ogAEREREZFGBIiIiIiINCJARFQ2qSkFICIiKlcCREREREQaESAiIiIi0ogAEREREZFGBIiIyiYrwwYiIqJyJUBUxSiKarereAB6vSTLEoiIiKjKEyCqShRF3ROfkm9xALBaFABZGTa4paYUoIjgUE+4+QUYABhNMgAvkxgcHSrLEqhcWS0OEBERlSsBoqrEbldTbuRfOJODMki+ZoVb8jUr3Dw9dYOeriXLEqgIRVHtdhVlk5pSALesDBsAq8WRb1HsdhVERETlR4Co2rHb1Z+/u+tlko0mAcAvwAC34FBPlI1eL8myhOpCUdQ98Sn5FgcAq0UBkJVhg1tqSgHKwG5XFUUFERFR+REgqmIy0214MIqi7olP0esllEFwqCfc/AIMAIwmGYCXSQyODpVlCdWC3a7mWxxHD2WAiIioKhEgqmKys2x4YIqiKoqKMki+ZoVb8jUr3GRZ8vUVXibZaBIA/AIMcAsO9UTZ6PWSLEsgIiKi+xAgqkqys2yoGhRF3ROfotdLKIPgUE+4+QUYABhNMgAvkxgcHSrLEqqAq5csICIiqmIEiKqSzHQbqgxFURVFRRkkX7PCLfmaFW5degbY7aosSyAiIqLSCBCVH0VR7XYVZZOaUgC3rAwbAKvFkW9R7HYVVAGys2wgIiKqYgTo4acoqt2u4gHo9ZIsS3gwiqLuiU/JtzgAWC0KgKwMG9xSUwpQBna7qigqqgurRQERERHdnwA95BRF3ROfkm9xALBaFABZGTa4paYUoIjgUE+4+QUYABhNMgAvkxgcHSrLEh6A3a6m3Mi/cCYHVPVkZ9lARERU9QjQQ05xIDM997fjVpRB8jUr3JKvWeHWrJXZbldlWQKVq4tnckBERET3J0BUfjLTbaAq6eqlPBAREVU9AvTwy7c68WCSLuehPGRn2UAVQFFUu11F2aSmFMAtK8MGwGpx5FsUu10FERFRFSNAVE6ys2ygCqAo6p74lHyLA4DVogDIyrDBLTWlAGVgt6uKooKIiKiKEaCHX849BQ8s6XJes1ZmPIDMdBuohItnclq3r4EHYLerf5y6d/dOIYiIiKodASLAbldTbuRnZdiMJgHAL8AAt+BQT5SQmlIAt6wMGwCrxZFvUex2FURERERlJkAEKIq6Jz5Fr5fwAOx2VVFUUHFWiwMPJueePfeeHURERNWRAJGLoqiKooLKld2u5luUo4fSjSYBwC/AALfgUE+UkJpSALeUv/KslsLrf2baClS7XQUREVF1JEAPv/Q0B6hKUhR1T3yKXi/h/50KqKoqSXkOu6ooKoiIiKojASKqSIqiKoqK//9UEBERVV8CREREREQaESAiIiIi0ogAEREREZFGBIiIiIiINCJARERERKQRASIiIiIijQgQEREREWlEgIiIiIhIIwJERERERBoRICIiIiLSiAARERERkUYEiIiIiIg0IkBEREREpBEBIiIiIiKNCBARERERaUSAiIiIiEgjAkREREREGhEgIiIiItKIABEREdteFv0AACAASURBVBGRRgSIiIiIiDQiQERERESkEQEiIiIiIo0IEBERERFpRICIiIiISCMCREREREQaESAiIiIi0ogAEREREZFGBIiIiIiINCJARERERKQRASIiIiIijQgQEREREWlEgIiIiIhIIwJERERERBoRICIiIiLSiAARERERkUYEiIiIiIg0IkBEREREpBEBIiIiIiKNCBARERERaUSAiIiIiEgjAkREREREGhEgIiIiItKIABERERGRRgSIiIiIiDQiQERERESkEQEiIiIiIo0IEBERERFpRICIiIiISCMCREREREQaESAiIiIi0ogAERFpLTWloF5DI4iI/n4EiIiIiIg0IkBEREREpBEBIiIiIiKNCBARkdayMmz1GhpBRPT3I0BEREREpBEBIiLSmtXiABHR35IAERFpym5X8y3K0UPpRpMA4BdggFtwqCfKRq+XZFkCEdHDRoCIiDSlKOqe+BS9XkIZBId6ws0vwADAaJIBeJnE4OhQWZZARPRQESAiIq0piqooKsog+ZoVbsnXrHDr0jPAbldlWQIR0UNFgIiIiIhIIwJERPTws1oUEBE9hASIiIiIiDQiQERED7+sDBuIiB5CAkREREREGhEgIiIiItKIABERERGRRgSIiOjhl5pSACKih5AAEREREZFGBIiIiIiINCJARETVQmpKQb2GRhARPVQEiIiIiIg0IkBEREREpBEBIiIiIiKNCBARUbWQlWGr19AIIqKHigARERERkUYEiIioWrBaHCAietgI0MOvZpBIuWkHEf2N2e1qvkU5eijdaBIA/AIMcAsO9UTZ6PWSLEsgIqpEAlTCL7/8smPHjitXrgQHBz/hIkkSiIiqMEVR98Sn6PUSyiA41BNufgEGAEaTDMDLJAZHh8qyBCKiyiJAxb377rvz58+32+0BAQH37t1bv3796NGjN27cKIQAEVEVpiiqoqgog+RrVrglX7PCrVkrs92uyrIEIqLKIkBFHD58eO7cuUFBQZ988knHjh2vXLkSExOzZcuWtm3bTp48GURE1Vr63UIQEVUuASpi5cqViqKsXr26T58+AFq3bv3RRx+1b98+Li7un//8p16vR5VkriGn3LSDiOjB6CQJRESVS4DccnJyjhw5UqtWrccffxxujz32WJcuXQ4fPnzu3LnWrVuDiKj6ys6y5dyze4Z44MEoimq3q3gAer0kyxKI6G9AgNyuXbuWnp7eu3dvk8mEIjp06HDo0KFz5861bt0aVZKXUQciogdmt6tnTt3zMslGkwDgF2CAW3CoJ0pITSmAW1aGDYDV4si3KNnZjnyLA4DVogDIyrDBLTWlAEUEh3rCzS/AAMBokgF4mcTg6FBZlvBgFEW121U8AL1ekmUJRFRhBMgtPT0dQFhYGIqrW7cugJSUFJSgqurNmzdRQlpaGgBFURwOByqSw8XpVEFE9MAURd0Tn6LXS3gAdruqKCrKJvmaFW7J16xwk2XJ20fnZZSNJhmAX4AebsG1PFFC6u0CuGVl2AFYLUq+VcnLdeZbHACsFgVAVoYNbqkpBSgiONQTbn4BBgBGkwzAyyS8fXReRtlokgH4BejhFlzLEyWoqmq12B12ydPDhnIl9JIsS6gaFEV12FU8AKGXZFnCw8bhJkkS/sZUF5QTAXKzWCwAhBAozmAwAMjKykJpxo8ff+LECRTXsGFDAJmZmbdv30ZFyszMtNsVs2+N9l31AKwWJ4DsLDvc7qbaQQ8n1UUn6SCBqhnVRXJB1aPigQi9JPQSHoyHp+7S2Rxff4EHkJ3pSPmrsLDAiTK4k1IAtzspBXDz8NSF1vbw9RcoK9VqzZd1Og9PC8pV/UaeDR5xompIuqS7frUAD6B+I88GjzjxsMnKyrLb7aqqSpKEvzFVVQsLCz08PFAeBOjB9HVBcX/++WdiYqLJZPL19UVFcrgMGBLgsKug6sVisWTnZAcFBgkhQNWLzW67ezfd38/Py8sLVL2oqpqWlmYwGPz8/FCuhF6SZQlVQ6u2arPHTHgAQi/JsoSHjaIoNpvN19dXkiT8jamqKoRAOREgN5PJBMDhcKA4u90OwNfXFyVIkvTmm2+ihISEhE2bNhmNRrPZjIpks9kcDoefny+o2vHMlWXhDAyqIYQAVS82m01RCgICzCaTCVS9qKqqOAsMBkNAQA1QtWO32202m9lsliQJf2OqqgohUE4EyC0kJATArVu3UFxSUhKA2rVrg4iIiIjKlQC51a9fPygo6OLFi1ar1Wg0wu306dOSJLVs2RJEREREVK4EyM3b27tXr17x8fEJCQlDhgyBy4ULF3766aeWLVu2aNECRERERFSuBKiIKVOm7Nq1a+rUqTVr1mzTps3169cnTZpUWFj42muvCSFAREREROVKgIro3LnzsmXLZs6cGRkZGRgYmJWVpSjKm2+++eKLL4KIiIiIypsAFRcTE9OjR4+vvvrq2rVrISEhAwcO7N69O4iIiIioAghQCeEuICIiIqIKJkBEREREpBEBIiIiIiKNCBARERERaUSAiIiIiEgjAkREREREGhEgIiIiItKIABERERGRRgSIiIiIiDQiQERERESkEQEiIiIiIo0IUAU4deoUgFOnTqGCZWdnO51OPz8/ULWTn5+fl5fn7+8vyzKoenE4HJmZmWaz2dPTE1S9qKqalZUlhDCbzaBqJycnx+Fw+Pn5SZKEvzFVVTMyMgCoqipJEh6MAFUMVVVnz54NIiIiompHVdWAgACUBwGqGO+++y6Atm3boiItWrTIYrG88847siyDqpevvvrq2LFjkyZNCgsLA1UvV65c+fe//93HBVS9FBYWvv3224GBgVOnTgVVOytXrkxLS5s3b56Hhwf+xlRVTUxMRDkRoAowa9YsVIqNGzfeuHGjX79+QghQ9XL58uWPP/64W7duTZo0AVUvgYGBU6dOnTJlSv/+/UHVS35+/qxZs8LCwvr37w+qdr744osbN2707dvXy8sLf28DBgxAOREgIiIiItKIABERERGRRgSIiIiIiDQiQERERESkEQEiIiIiIo0I0EPO19cXVE117twZVE317NkTVE2FhYWBqq+wsDBQuRKgh1l8fDyomproAqqOWrdufeDAAVB15OnpeeDAAVA1tX79elB5E6CHmSRJoGpKkiRQNSVJEqiakiQJVH1JkgQqbwJERERERBoRICIiIiLSiAARERERkUYEiIiIiIg0IkBEREREpBEBIiIiIiKNCFBVkpCQcODAgVu3bjVq1Ojpp59u164d/pe7d+/Gx8efPHlSCNGpU6fo6GgfHx8Ul5iYuHPnzsuXLwcHB0dFRQ0YMABU6c6dO/fFF19cuHAhICDg8ccff+KJJ3Q6Hf5PNptt586dhw8fzs3NbdWqVXR0dP369VHcmTNn9u3bd/HiRafT2aZNmyeffLJx48agypWenh4fH3/ixAkhRIcOHYYNG2Y2m/G//PDDD/v3779582b9+vWHDh3aqVMn3N+aNWsOHz68fPnysLAwUCWy2+07d+48dOhQTk5Oq1atoqOjGzRogP/l0qVLX3zxxblz52rUqNGvX7/BgwfLsoziLl68+Pnnn58/fz4gIGDAgAFPPvmkJEmgynX48OF9+/bduHGjXr16Q4YM6dKlC/6XrKyszz///Pjx4wDatWs3bNgwf39/FPfzzz/v27fv2rVrgYGBffr0GTRokIeHB+g+BKjKmDBhwrp16wD4+Pjk5OQsX758wYIFM2bMwP0dP3585MiRV69eNRqNTqdz06ZN69at2759e6NGjeD2/vvvz5kzp7Cw0Gw25+bmrl69ety4cWvXrpVlGVRZ1q9fP23atLy8PLPZbLFY1qxZEx0dvXnzZi8vL9xHdnb2888/n5CQoNfrPTw8tm7dunz58o0bNz711FNwW7p06fz58/Pz881ms6Ion3766dtvv7148eJ//vOfoMpy8uTJESNGXL582Wg0Op3OTZs2rV27Nj4+vkmTJri/qVOnrlq1yul0ms3mnJycFStWzJ49e/78+ShNYmLijBkz8vPzlyxZAqpEubm50dHR33zzjV6v9/Dw2LZt2/vvv79hw4ahQ4fi/j755JPJkydnZ2ebzWar1bp27dohQ4Z8/PHHPj4+cFu7du306dNzc3N9fX1zc3Pj4uJGjhy5ZcsWWZZBleWNN9744IMPnE6n2WzOycn54IMPZsyYsXDhQtzf2bNnhw0bdu7cOS8vLwCbN2+Oi4vbvn17y5Yt4eJ0OidOnLhhwwan02k2my0WS2xsbPfu3bdt2xYWFgYqjQBVDevWrVu7dm3Hjh1XrVrVtGnTY8eOjR49evbs2R07duzZsydKU1BQMGHChKtXry5ZsuSFF14oLCz88MMPP/jggylTpuzdu1eSJABHjhx56623atSosWXLls6dO1++fHnKlCkbN26MiIiYOHEiqFKcOXNm2rRpAHbu3NmzZ8+bN2+++eab8fHxrVq1mj17Nu5j+vTpCQkJo0aNmjt3bo0aNfbs2fPKK69MmjSpQ4cOISEhAI4cOTJ79mxPT8/PP/+8T58+Dodj//79kyZNmjx58iOPPNKrVy9QxSssLJwwYcLly5fffffdMWPG2O321atXv//++5MnT/766691Oh1K8+mnn65cuTI8PDwuLq558+anTp168cUXFyxY0KFDh0GDBqE4q9X66quv5ubmCiFAlWvWrFnffPPN8OHD58+f7+/vv3fv3vHjx0+aNKlDhw5hYWEozeXLl6dMmVJQULB9+/Z+/frdvn37rbfe2r1793vvvffuu+/C5YcffoiJialbt+6XX37Zvn37pKSkyZMnb926tUOHDjExMaBKER8fv3z58pYtW65Zs6Zly5a//fbbuHHjFi1a1L59+8GDB6M0iqJMnDjx3Llz8+bNGz9+vKqq69atW7hw4aRJk/773//q9XoAsbGx69ati4iIWL16dfPmzVNTU5cuXbp58+apU6d+/vnnoNIIUBXgcDg++ugjIcSaNWsiIiIAPP744x999NHzzz//4Ycf9uzZE6XZuXPnb7/9NmrUqOnTp8Nl6dKlx48f//rrr48dO9a5c2cAK1eutNvtq1evHjhwIID27dvHxcV16NDho48+Gj9+vF6vB1W8VatW5eXlrVu3bujQoQD8/PzWrFnTpk2bNWvWxMTE+Pj4oISrV69+8sknTZs2jY2NNZvNAMaNG3f16tXFixdv3rx51qxZADZu3OhwOJYtW/bcc8/BZezYsU6nc9y4cbGxsb169QJVvK+++urkyZPR0dGzZs2Cy+LFi3/99deDBw/+/PPPkZGRKEFV1VWrVkmSFBcX16VLFwB9+vSJjY198sknP/zww0GDBqG42bNn//LLL61btz579iyoEiUnJ//nP/9p2LBhbGysn58fgLFjxyYlJb3zzjubNm2aO3cuShMbG5uVlbVixYro6GgA/v7+cXFxv/zyy4YNG15//fWaNWsCWLJkidPp3LJlS9euXQH4+fmtXbu2a9euW7ZsmTx5siRJoAqmquqHH34oSVJsbGy3bt0A9OrVKzY2duDAgatWrRo8eDBKc/DgwZ9++umJJ56YN2+eJEkAFixYcOLEiYMHD37//fcDBgwAsH37dgCxsbGdO3cG4Ofnt3LlysOHD+/fvz8lJSU0NBRUggBVARcuXDh37lzXrl0jIiLgNmjQoNDQ0CNHjuTk5JjNZpSwf/9+ACNGjICbEGLYsGFHjx5NSEjo3Llzbm7uTz/9FBISEhUVBbfWrVt36dLlxx9/PH/+fHh4OKiC2e32H374wdvbe/DgwXBr2LBhz5499+zZ89tvv3Xv3h0lHDlyJD8/Pyoqymw2w+35559fvHjxwYMHZ82apapqYmKih4dHVFQUiujfv7/BYLhy5QqoUuzfvx/AyJEj4SbL8vDhw3/88ceDBw9GRkaihKtXr/72229t2rTp3Lkz3Pr379+wYcNffvnl7t27gYGBcNuxY8fKlSvnzJmTkJAAqlw///yzxWIZNGiQn58f3J577rmFCxcmJCTMnTsXJaiq+t133xkMhqFDh8ItLCysf//+W7duPXHixMCBA5OSkg4dOtS9e/euXbvCrVWrVgcOHJBl2WazeXh4gCpYcnLyqVOnHnvsscjISLj17du3adOmx48fv3PnTkhICErYv38/gJEjR0qSBBdJkkaNGnXw4MGvv/56wIABqqpmZGR4eno2aNAAbmazOSgoKCkpKTc3F1QaAaoCfv/9d1VVO3TogCJMJlOzZs2+++67pKSk8PBwFKeq6unTpz09PcPDw1FEu3btACQmJgJISkpKS0vr2bOnt7c3iujYsePhw4fPnDkTHh4OqmC3bt26ceNGixYtgoODUUTXrl337Nlz+vTp7t27o4Tjx48D6NKlC4p49NFHQ0JCLl68aLVa9Xp9z549e/ToERgYiCIyMzPtdrvRaARVit9++81gMISHh6OIdu3aAUhMTERpzp4963A42rRpI0kS3AwGQ6tWrfbs2XPlypXAwEC4XL9+fcqUKb169Zo/f/6hQ4dAlevXX38F0KVLFxTRtGnT0NDQS5cu5eXleXt7o7i0tLSrV682aNCgbt26KKJr165bt25NTEwcOHDg77//XlhY2KtXLwCqqlosFoNLly5dQJXl3LlzNpstIiJCkiS4CSEee+yxP11CQkJQQmJiok6ni4iIQBFt2rSRJOn06dMAJEl69NFHL126dOTIkWeffRYuV65cuXTpUlhYWK1atUClEaAq4M6dOwDq1auH4sLCwgCkp6ejhMLCwszMTLPZ7OfnhyJCQkJkWU5NTQWQnp4OICwsDMXVrVsXwO3bt0EVLzMz0263h4SEoLi6desC+Ouvv1CaO3fuAAgLC0MRXl5egYGBly9fzs3NDQ4OXrVqFYpzOp2rV69WVTUqKgpU8Ww2W0ZGho+PT0BAAIoIDg7W6/VpaWkoTWpqKoB69eqhuNq1awNIS0uDi9PpnDx5stVqXb16tSzLoEp3+/ZtAGFhYSjCw8MjMDDw/Pnz2dnZ3t7eKC4rK6ugoCA4OFin06GIOnXqALh16xaA8+fPA2jatOn69evXrVuXnJxsNBq7dOkyY8aMiIgIUKVITU0FULduXRRXu3ZtAGlpaSjB6XSmp6cbjcbAwEAUERgY6OXldffuXVVVJUmaN2/eH3/88cILL1y6dKlVq1Z37txZuXKl1WpdtmyZ2WwGlUaAqoDs7GwAHh4eKE6v1wPIyclBCYWFhfn5+SaTSZZlFCGE0Ol0eXl5APLy8gDo9XoU5+HhASAzMxNU8SwWCwC9Xo/iPDw8AGRlZaE0ubm5AIQQKE4IYbPZLBYLSvjrr7/mzp27efPm9u3bv/rqq6CKZ7PZ8vPz9Xq9LMsoQgih0+lyc3NVVZUkCcVlZ2cDMBgMKE6v1wPIycmBy5IlS/bt27dp06YWLVqAtJCbmwvAYDCgOL1eb7fbLRYLSrBYLKqq6vV6FGcwGABkZWUBuH37NoATJ04sX768ffv2kZGRKSkp8fHxCQkJO3bs6NWrF6ji5eTkADAYDCjOYDAAyM7ORgkOh8NqtcouKEIIIctyXl6ew+HQ6/URERGbNm16+umn58yZA7f169e/9NJLoPsQIKKHnNVqXbNmzZIlS+7evdu/f/+NGzf6+vqCHmaHDh2aO3fumDFjXnzxRVB19MEHH2zdunXYsGE6nc7pdMbFxU2ePHn69OnHjh2TZRn00FqzZs1rr71Wp06defPmtWrV6tatW5988snLL7/8+++/r1q1SqfTgUoQoCrAx8cHgMPhQHGKogAwmUwowWAweHp6Ol1QhKIoqqp6eXkBMBqNABRFQXEOhwOA2WwGVTyj0QhAURQU53A4APj4+KA03t7eABRFQXFOp1Ov13t6esLt22+/feONN/74449HH3102bJlI0eOFEKAKoVer/f09LTb7U6nE0UoiqKqqtFolCQJJfj4+ABwOBwoTlEUACaTKSsra/LkyfXq1VuwYEFBQQEAq9WqqiqA7OzsgoICWZb1ej2ogplMJgAOhwPFKYoihPDy8kIJRqNRkiRFUVCcw+EA4OPjA0Cn0wEYNWrUiBEj4KLT6SZOnLh169bjx4+fPXs2PDwcVMG8vb0BOBwOFKcoCgBvb2+UIMuyl5dXbm6u0+lEEYqiOJ1OLy8vWZavXr06c+bMwMDAb7/9tkGDBnCJjo4ePnx4bGxsly5dRowYASpBgKqAOnXqAEhKSkJxt27dAhAUFIQSPD09AwMDr1y5kpWVVatWLbilpqY6HI6QkBAAISEhAG7duoXikpKSANSuXRtU8QIDA/V6/e3bt1FcUlISgLp166I0tWvXBnDr1i0UkZ+fn5qa6uvrW6NGDbisWrVq2rRpJpNp+fLlr7zyislkAlUiDw+PoKCg8+fPZ2RkGI1GuKWlpdlstuDgYJQmLCwMwPXr11HczZs3AQQHB2dmZp4/f16SpPbt28MtNTUVQL9+/QwGw5YtW3r37g2qYHXq1AFw69YtFFFYWJiammo2m2vUqIESAgICvLy87ty543Q6dTod3G7cuAGgTp06AGrXrg2gS5cuKEKn0zVr1uzYsWMpKSnh4eGgChYWFgYgOTkZxd24cQNASEgISpBlOTg4OCkpKT093c/PD2537961Wq1BQUE6ne7o0aM5OTljxoxp0KAB3Dw8PMaOHbtr166DBw+OGDECVIIAVQEtW7aUJOnUqVMoorCw8M8///T3969fvz5KkCSpVatWZ11q1aoFtzNnzgBo06YNgHr16gUGBl68eNFqtRqNRridPn1akqSWLVuCKl6tWrXq1Klz9erV9PT0mjVrwu3UqVMAwsPDUZp27doB+PXXX5955hm4JSUlpaWlde3a1Wg0AkhISJg2bVrTpk23bdsWHh4O0sJjjz12+vTps2fP1qlTB25nzpwBEBERgdI0b95cCHH69GkUoSjKxYsXvb29GzduXFBQEBkZabfbUYTD4cjIyGjQoIEQQpIkUMVr164dgOPHj0dHR8MtOTn5zp07HTp08PHxQQmBgYENGza8cuVKSkpK7dq14Xby5EkAERERAFq2bAkgNTUVxeXn5wMwmUygivfoo4/q9fo//vgDRTidzgsXLnh5eTVp0gSlad269dGjR//4448mTZrA7dy5c6qqhoeHA1AUBYCXlxeK8/LyAlBQUAAqjQBVAc2aNWvRosUvv/xy4cKFZs2aweW7775LTk5++umna9SogdI8+eSTn332WXx8fL9+/eCiqur27dslSRo4cCAAHx+fnj17fvHFF//973+feuopuFy+fPmnn35q1qxZy5YtQRVPr9f37dt3/fr1X3/99QsvvACX27dvf//997Vr127Xrh1KExkZ6eXltX///vnz53t5ecFlx44dTqczKioKLkuWLHE6nZs2bQoPDwdp5Mknn/z444/j4+MHDhwIF1VVt2/fDiAqKgqladSoUZs2bU6dOpWYmNimTRu4/PjjjxcvXnz88ceDg4MBHDp0CEXYbLY+ffocO3bs008/bdy4MahSdOvWzdvb++uvv37nnXdMJhNcdu7cqSjKwIEDURpJkvr163f27Nm9e/dOmDABLpmZmQkJCYGBgZ07dwbQvn37gICAHTt2TJ061cfHBy43b978/vvvAwICmjdvDqp49evXb9++/bFjx06cONG+fXu4/Pzzz2fPnu3Tp09oaChK88QTT8TFxX322WfPPPMM3D777DMATz31FIBHH31UkqTvv/++oKDA09MTbvv37wfQpk0bUGkEqAoQQkyePPmVV16JiYlZu3Zt7dq1f//996lTp+r1+tdeew0uqqoOGjTo7t27//rXvwYPHgxg6NChERER//73v7t27RodHW2z2eLi4r777rvBgwd36tQJLjExMbt373799deDg4Nbt2598+bNV199NT8/PyYmRq/XgyrFq6++um3btunTp9erV69Tp06pqanTpk27e/fue++95+PjA5dJkyYdO3asU6dOsbGxABo2bPiPf/xj/fr1M2fO/Ne//mUymb755ptFixbVq1dv7NixANLS0n799Vc/P7/9LijOw8Njzpw5oIr31FNPtWvXbsuWLd26dRsxYoTdbl+7du2BAweioqK6desGl127di1atCgoKGj//v2SS0xMzKhRo6ZMmbJhw4YGDRqcO3duypQpOp3utddeQ2kMBgNc9Ho9qLLUrVt39OjRsbGx06dPnz9/vre3d0JCwoIFC2rXrj1u3Di4pKSkPPfcc4qibN26tVGjRgAmTpy4ZcuW2bNnN27cODIyMiMjY9asWTdv3pwzZ05AQACAmjVrjh49esWKFWPHjp01a1ajRo3Onz8/Y8aMtLS02bNn16xZE1TxJEmKiYk5evRoTEzMpk2bGjVqdOHChSlTpkiSNHXqVLgNHTr0xo0bkyZNevHFFwH0798/MjJyx44dsbGxY8aMcTqdmzdv3rlzZ+/evfv27QugU6dOTzzxxN69e1966aVp06Y1atTo7t27W7duXblyZd26dV944QVQaQSoanj55Zd///33uLi4Vq1a+fn53b5922AwrFixIjIyEi6qql69evXy5csOhwMunp6e69evHzZs2Isvvjh79my73Z6ent6lS5e4uDi4devW7b333nvrrbc6d+5cq1atjIyMwsLCmJiYl19+GVRZWrVqtWLFiqlTp/bs2TM0NDQ7O9tisYwZM2batGlws1qtiYmJ4eHhcFu2bFlycvKqVas+/fRTg8Fw586dWrVqbdy4MSgoCMBff/1VUFCQl5e3cOFClNC9e/c5c+aAKp7BYNiwYUN0dPT48ePnzp1rt9vT09M7duy4Zs0auCmKcurUqaZNm6qqKkkSgJEjR/7222/Lly8PDw+vWbPmnTt3dDrd4sWLBwwYgPuQJEmv14Mq1+LFi5OSkuLi4j777DNPT8/bt2+HhIRs3LixGVM0dgAAC7NJREFUVq1acHE6nYmJiYqiOBwOuDRu3PjDDz989dVX+/fvHxoampOTk5eXN3z48Dlz5sDt7bffvnbt2g4XX1/f7OxsSZJefvnl+fPngypLdHR0YmLismXLWrduHRgYmJqaCmDRokVRUVFwu3nzZmJioqIocJFled26dc8999yrr766cOFCp9OZlpYWERGxfv16nU4Hl40bN44ePXqbi6+vb15enqIojzzyyMaNG2vVqgUqjQBVGbGxsYMHD/7mm2/u3LnToEGDZ555pm3btnCTJGnGjBmqqgYFBcGtXbt2R48e3b59++nTp/V6fceOHYcNG2Y0GlHEtGnTevTosWvXrmvXroWEhERFRfXt2xdUucaPH9+pU6cvv/zyzz//rFmz5oABA6KioiRJglv37t27du0qyzLczGbzV199tWPHjp9++ikvL69FixbDhw+vW7cuXIQQ27dvx33odDpQZWnduvXPP//82WefnT59Wpbljh07Dhs2zGQywS04OHjDhg2SC9zef//9qKio/fv337p1q169ekOHDu3YsSPu7/XXX3c6nUajEVSJvL29d+/evXPnzsOHD+fm5jZv3nz48OH169eHm4eHx0cffQTAaDTCbdSoUe3atfviiy8uXrzo5+fXr1+/J598UqfTwc3b2/vLL7/ct2/fDz/8cOfOnfr16w8cOLBHjx6gyrVkyZKBAwfu27fv1q1bdevWHTJkSOfOnVHExIkTnU5nvXr14NasWbOffvpp+/btiYmJANq2bTtixAiz2Qy3oKCg/fv3JyQkfP/99zdu3KhZs2bHjh2feuopX19f0H0IUFXS3wWlkSTppZdeQglBQUExMTH4P7VzAWmqlQvuY+zYsSjBYDAMd0EJj7mAqoaaNWtOnjwZ9xHpghJ6uaBshgwZAtKCXq+PdkFpAgMDX3rpJZTw6KOP/utf/8L9ybI82AWkqZ4uuI8XX3wRJfj5+U2YMAH3p9PpHncBlY0AEREREZFGBIiIiIiINCJARERERKQRASIiIiIijQgQEREREWlEgIiIiIhIIwJERERERBoRICIiIiLSiAARERERkUYEiIiIiIg0IkBEREREpBEBIiKqSE6n8969eyjBaDR6enqiCsjIyACg1+vNZjOIiCqXABERVaS0tLTOnTvfvXsXRUiSZDabO3bsOGPGjI4dO6IiffjhhxcvXvTx8Vm6dClKOHz48LBhwwIDA/fs2WM2m0FEVLkEiIiogt2+fdtmsw0cOBBuDofj7Nmzu3bt+uGHH3bv3t2jRw9UmNzc3LVr1/br1w8lFBQUTJ8+vWbNmjt37mzQoAGIiCqdABERVbxatWpt377dx8cHbhkZGW+88cZ//vOfefPmHTp0CBXGZDKNGzfObDajhOXLl+fn5+/atatx48YgItKCABERVQoPDw8UERAQMG/evPj4+JMnT6ampgYHB6OI7Oxsm80WGBgIN0VRMjMzJUny9/fX6XQowW6337t3D4C/v78sy3CbOnUqSlNQUPDSSy9NnDjRz88P95ebm1tYWGgymby8vEBEVN4EiIhII0FBQSaT6d69ewUFBQDmzZt3+PDhTZs2ffnllx988EHTpk1//PFHAHa7ffXq1Rs3bkxOTgbQpEmTf/7zny+//LJOp4NLXl7ewoULv/zyy9u3bwOoW7fumDFj3nzzTZ1OB+DAgQOLFi3q1avXggUL4HLz5s1FixYlJCTcu3fPw8Ojbdu206ZN69WrF1ysVuvTTz8dFBS0dOnS119//dtvv7VarX5+fsOGDVu0aJGHhweIiMqPABERaeTq1avZ2dkmk8nb2xuAzWb78ccf9+7dO3PmzFq1avn7+wNQVXX8+PFbtmxp3LjxiBEj7Hb7gQMHJkyYcP78+VWrVgFQVXXMmDE7duyIiIjo06dPYWHhwYMHZ86cabfb58yZA5cjR45ERkbCJTk5edCgQefPn2/Tpk2PHj1SUlK+/vrr//73v5s3bx4+fDgAVVVPnjzZsmXLJ554AsCECRNyc3M/++yz5cuXO53OFStWgIio/AgQEVGluHfvXmBgIFycTufZs2enTZtmt9t79+4dEBAAF1VVp06d+p///OfZZ581mUwAtrhERUV9/PHH/v7+AK5du/bcc8+tXr16wIABUVFRf/zxx65du3r16rV7926z2Qzg5MmT3bt3//TTT2fNmiXLMop76623zp8/P2vWrLfffluv1wPYs2fPs88+O3PmzMcff9zPzw8uP/74Y3R09ObNmz09PQFER0f37Nnzq6++Wrp0qRACRETlRICIiCpeSkpKZGSkJElwsdvtN27ccDgcTZs2Xbx4MYqYPHny6NGj4bZlyxa9Xr906VJ/f3+4NGzYcOnSpX379o2Pj4+KikpPT3c6nQ0bNjSbzXBp27btJ598IkmSw+GQZRlFpKSk7Nmzp0mTJrNnz9br9XAZPHjwuHHj1q5de/DgwWHDhsFFluW5c+d6enrCpUOHDg0aNLh3757D4RBCgIionAgQEVGlkGUZbh4eHo899ljPnj1fe+21OnXqoIjevXvDLScn548//njkkUfsdvuFCxfg5uXl5ePjc+HCBQBNmjSpUaPGpk2batasOXTo0BYtWnh7ez/zzDMozcWLFy0WS2RkpMlkQhEDBw5cu3btr7/+OmzYMLg0aNDgkUcegZskSSAiqgACRERU8UJDQw8fPhwYGIj/xc/PD2737t3LycnJzMxs3bo1SsjJyXE6nXXr1l21atXcuXOXuAQFBbVt23bw4MGjRo0ymUwoLicnB0C9evVQXK1atQDcvn0bbl5eXjqdDkREFUyAiIgqha+vL/4fSS6dOnWaOXMmSpBlWZIkAP/4xz8GDx783Xffffvtt7/88su33377zTfffPHFF7t37/b29kYJ+fn5KE5VVQCSJIGIqHIJEBFRVVXTJTMzMyoqSgiBItLT04UQkiRlZWUpiuLn5zfURVXVCxcuvP766wcPHvz222+HDh2KIkJCQgBcuXIFxV26dAlAgwYNQERUuQSIiKiq8vLy6tq165dffnnw4MGoqCi4bdu2bdKkSTExMW+//fbKlSs/+OCDxYsXT5w4EYAkSc2bN4+Kijp48GBGRgaKa9GiRWho6HfffXf9+vX69evDRVXVbdu2AejRoweIiCqXABERVWExMTF79uwZN27cRx991Lt3b1VVDx06FBMTI8vyCy+8AKB79+4LFixYtmxZy5YtIyIiVFU9ceLEypUrDQZD+/btUZyPj89LL730zjvvjB07duXKlc2bN09PT1+5cuWBAwd69OjRt29fEBFVLgEiIqpgsiyjbCRJQnGRkZGrV69+4403nn32WV9fXwDZ2dlBQUEbNmxo1KgRgN69e48ePXrLli09evTw9/cHkJmZ6eHhsXDhwvDwcJTw1ltvXb58efv27W3atAkLC8vKysrLy2vduvX69et1Oh1cZFlGaSRJAhFRuRIgIqKKZDAYVqxYAUCSJPyfunXrFh4eXrNmTRT3yiuvdO/efffu3WfOnBFCtGnT5plnnqlTpw5cJEnavHnz888///3331+/ft3b27tp06ZRUVHh4eFwqV279t69e41GI1w8PT23bds2fPjwvXv3Xr9+PSAgIDIycuTIkTVq1ICLLMurVq1SVRVFSJI0f/58ALIsg4io/AgQEVFF8vf3f+WVV1AGUVFRuI9mLrgPSZIGuaA0LV1QhCRJT7mgNJ6entHR0SghOjoaRETlTYCIiIiISCMCREREREQaESAiIiIi0ogAEREREZFGBIiIiIiINCJARERERKQRASIiIiIijQgQEREREWlEgIiIiIhIIwJERERERBoRICIiIiLSiAARERERkUYEiIiIiIg0IkBEREREpBEBIiIiIiKNCBARERERaUSAiIiIiEgjAkREREREGhEgIiIiItKIABERERGRRgSIiIiIiDQiQERERESkEQEiIiIiIo0IEBERERFpRICIiIiISCMCREREREQa+f8Abx8TCTOpVY4AAAAASUVORK5CYII=\"/>"
      ]
     },
     "execution_count": 14,
     "metadata": {},
     "output_type": "execute_result"
    }
   ],
   "source": [
    "# Elegimos un frame, por ejemplo el último\n",
    "p = com[end][:pressure]\n",
    "\n",
    "# Creamos la figura y el eje\n",
    "fig = Figure(size = (600, 400))\n",
    "ax = Axis(fig[1, 1]; xlabel = \"Presión\", ylabel = \"Frecuencia\", title = \"Histograma de presión\")\n",
    "\n",
    "# Dibujamos el histograma\n",
    "hist!(ax, p; bins = 30, color = :slateblue)\n",
    "\n",
    "fig  # Esto muestra la figura en una ventana interactiva"
   ]
  },
  {
   "cell_type": "code",
   "execution_count": 17,
   "metadata": {},
   "outputs": [
    {
     "data": {
      "text/plain": [
       "GLMakie.Screen(...)"
      ]
     },
     "execution_count": 17,
     "metadata": {},
     "output_type": "execute_result"
    }
   ],
   "source": [
    "# Colormap común y colorrange fijo\n",
    "colormap = :viridis\n",
    "colorrange = (0.0, maximum(com.mm))\n",
    "\n",
    "fig = Figure(size=(1500,300))\n",
    "\n",
    "js = [1:round(Int, length(com)/4):length(com); length(com)]\n",
    "\n",
    "for (i,j) in enumerate(js)\n",
    "    ax = Axis3(fig[1,i],\n",
    "                azimuth=3*π/2,\n",
    "                elevation=π/2,\n",
    "                zlabelvisible=false,\n",
    "                zticklabelsvisible=false,\n",
    "                zgridvisible=false,\n",
    "                zspinesvisible=false\n",
    "            )\n",
    "    m = heatmap!(ax,\n",
    "                range(com.simBox[1,1],com.simBox[1,2],length=size(com.mm)[1]),\n",
    "                range(com.simBox[2,1],com.simBox[2,2],length=size(com.mm)[1]),\n",
    "                com[j][:mm],\n",
    "                colormap = colormap,\n",
    "                colorrange = colorrange\n",
    "            )\n",
    "    \n",
    "\n",
    "    plotMixedAgents2D!(\n",
    "    ax,\n",
    "    com[j][:x],\n",
    "    com[j][:y],\n",
    "    com[j][:d],\n",
    "    com[j][:l],\n",
    "    com[j][:theta],\n",
    "    com[j][:type],\n",
    "    com[j][:pressure],\n",
    "    colorrange = (0, 0.03)\n",
    "    )\n",
    "\n",
    "    xlims!(-50,50)\n",
    "    ylims!(-50,50)\n",
    "end\n",
    "\n",
    "# Añadir colorbar común al final\n",
    "Colorbar(fig[1, length(js) + 1],\n",
    "    colormap = colormap,\n",
    "    colorrange = colorrange,\n",
    "    label = \"QS\"\n",
    ")\n",
    "\n",
    "display(fig)"
   ]
  },
  {
   "cell_type": "code",
   "execution_count": 16,
   "metadata": {},
   "outputs": [
    {
     "data": {
      "text/plain": [
       "GLMakie.Screen(...)"
      ]
     },
     "execution_count": 16,
     "metadata": {},
     "output_type": "execute_result"
    }
   ],
   "source": [
    "# Colormap común y colorrange fijo\n",
    "colormap = :viridis\n",
    "colorrange = (0.0, maximum(com.mm))\n",
    "\n",
    "fig = Figure(size=(1500,300))\n",
    "\n",
    "js = [1:round(Int, length(com)/4):length(com); length(com)]\n",
    "\n",
    "for (i,j) in enumerate(js)\n",
    "    ax = Axis3(fig[1,i],\n",
    "                azimuth=3*π/2,\n",
    "                elevation=π/2,\n",
    "                zlabelvisible=false,\n",
    "                zticklabelsvisible=false,\n",
    "                zgridvisible=false,\n",
    "                zspinesvisible=false\n",
    "            )\n",
    "    m = heatmap!(ax,\n",
    "                range(com.simBox[1,1],com.simBox[1,2],length=size(com.mm)[1]),\n",
    "                range(com.simBox[2,1],com.simBox[2,2],length=size(com.mm)[1]),\n",
    "                com[j][:mm],\n",
    "                colormap = colormap,\n",
    "                colorrange = colorrange\n",
    "            )\n",
    "    \n",
    "\n",
    "    # plotMixedAgents2D!(\n",
    "    # ax,\n",
    "    # com[j][:x],\n",
    "    # com[j][:y],\n",
    "    # com[j][:d],\n",
    "    # com[j][:l],\n",
    "    # com[j][:theta],\n",
    "    # com[j][:type],\n",
    "    # com[j][:pressure],\n",
    "    # colorrange = (0, 0.03)\n",
    "    # )\n",
    "\n",
    "    xlims!(-50,50)\n",
    "    ylims!(-50,50)\n",
    "end\n",
    "\n",
    "# Añadir colorbar común al final\n",
    "Colorbar(fig[1, length(js) + 1],\n",
    "    colormap = colormap,\n",
    "    colorrange = colorrange,\n",
    "    label = \"QS\"\n",
    ")\n",
    "\n",
    "display(fig)"
   ]
  },
  {
   "cell_type": "code",
   "execution_count": 21,
   "metadata": {},
   "outputs": [
    {
     "data": {
      "text/plain": [
       "\"bacterias_video_pressure_qs_proves__.mp4\""
      ]
     },
     "execution_count": 21,
     "metadata": {},
     "output_type": "execute_result"
    }
   ],
   "source": [
    "using GLMakie\n",
    "\n",
    "# Configuración general\n",
    "colormap = :viridis\n",
    "colorrange = (0.0, maximum(com.mm))\n",
    "\n",
    "# Crear figura y ejes\n",
    "fig = Figure(size = (800, 600))\n",
    "grid = fig[1, 1] = GridLayout()\n",
    "ax = Axis(grid[1, 1]; aspect = DataAspect())\n",
    "Colorbar(grid[1, 2], colormap=colormap, colorrange=colorrange, label=\"QS\")  # una vez\n",
    "\n",
    "\n",
    "\n",
    "GLMakie.record(fig, \"bacterias_video_pressure_qs_proves__.mp4\", 1:5:length(com); framerate = 15) do j\n",
    " \n",
    "    Makie.empty!(ax)\n",
    "    # Preparar heatmap observable para actualizar luego\n",
    "    x = range(com.simBox[1,1], com.simBox[1,2], length=size(com.mm)[1])\n",
    "    y = range(com.simBox[2,1], com.simBox[2,2], length=size(com.mm)[2])\n",
    "    z = copy(com[j][:mm])  # inicializa con primer frame\n",
    "\n",
    "    hm = heatmap!(ax, x, y, z; colormap=colormap, colorrange=colorrange)\n",
    "\n",
    "    plotMixedAgents2D!(\n",
    "        ax,\n",
    "        com[j][:x],\n",
    "        com[j][:y],\n",
    "        com[j][:d],\n",
    "        com[j][:l],\n",
    "        com[j][:theta],\n",
    "        com[j][:type],\n",
    "        com[j][:pressure],\n",
    "        colorrange = (0, 0.03)\n",
    "    )\n",
    "\n",
    "\n",
    "    xlims!(ax, -50, 50)\n",
    "    ylims!(ax, -50, 50)\n",
    "end\n"
   ]
  },
  {
   "cell_type": "code",
   "execution_count": 22,
   "metadata": {},
   "outputs": [
    {
     "data": {
      "text/plain": [
       "\"bacterias_video_pressure_qs_2_proves__.mp4\""
      ]
     },
     "execution_count": 22,
     "metadata": {},
     "output_type": "execute_result"
    }
   ],
   "source": [
    "using GLMakie\n",
    "\n",
    "# Configuración general\n",
    "colormap = :viridis\n",
    "colorrange = (0.0, maximum(com.mm))\n",
    "\n",
    "# Crear figura y ejes\n",
    "fig = Figure(size = (800, 600))\n",
    "grid = fig[1, 1] = GridLayout()\n",
    "ax = Axis(grid[1, 1]; aspect = DataAspect())\n",
    "Colorbar(grid[1, 2], colormap=colormap, colorrange=colorrange, label=\"QS\")  # una vez\n",
    "\n",
    "\n",
    "\n",
    "GLMakie.record(fig, \"bacterias_video_pressure_qs_2_proves__.mp4\", 1:5:length(com); framerate = 15) do j\n",
    " \n",
    "    Makie.empty!(ax)\n",
    "    # Preparar heatmap observable para actualizar luego\n",
    "    x = range(com.simBox[1,1], com.simBox[1,2], length=size(com.mm)[1])\n",
    "    y = range(com.simBox[2,1], com.simBox[2,2], length=size(com.mm)[2])\n",
    "    z = copy(com[j][:mm])  # inicializa con primer frame\n",
    "\n",
    "    hm = heatmap!(ax, x, y, z; colormap=colormap, colorrange=colorrange)\n",
    "\n",
    "    # plotMixedAgents2D!(\n",
    "    #     ax,\n",
    "    #     com[j][:x],\n",
    "    #     com[j][:y],\n",
    "    #     com[j][:d],\n",
    "    #     com[j][:l],\n",
    "    #     com[j][:theta],\n",
    "    #     com[j][:type],\n",
    "    #     com[j][:pressure],\n",
    "    #     colorrange = (0, 0.03)\n",
    "    # )\n",
    "\n",
    "\n",
    "    xlims!(ax, -50, 50)\n",
    "    ylims!(ax, -50, 50)\n",
    "end\n"
   ]
  }
 ],
 "metadata": {
  "kernelspec": {
   "display_name": "Julia 1.10.4 1.10.4",
   "language": "julia",
   "name": "julia-1.10.4-1.10"
  },
  "language_info": {
   "file_extension": ".jl",
   "mimetype": "application/julia",
   "name": "julia",
   "version": "1.10.4"
  },
  "orig_nbformat": 4
 },
 "nbformat": 4,
 "nbformat_minor": 2
}
