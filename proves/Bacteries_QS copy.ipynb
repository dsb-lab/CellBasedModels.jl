{
 "cells": [
  {
   "attachments": {},
   "cell_type": "markdown",
   "metadata": {},
   "source": [
    "# [Bacterial Colony Growth](@id Bacteries)\n",
    "\n",
    "In this example, we are going to create a bacterial model and grow a colony using it.\n",
    "\n",
    " - The implementation of the force interaction dynamics is the one presented by [Volfson et al. (2008)](https://www.pnas.org/doi/abs/10.1073/pnas.0706805105)\n",
    " - We use GPU accelerated dynamics\n",
    "\n",
    "As described in other models, it is advised that the models are constructed by parts to avoid having to find bugs in a very complex system. Hence, we will split the model in two parts:\n",
    "\n",
    " - Forces model\n",
    " - Growth model"
   ]
  },
  {
   "cell_type": "markdown",
   "metadata": {},
   "source": [
    "## Load the packages"
   ]
  },
  {
   "cell_type": "code",
   "execution_count": 1,
   "metadata": {},
   "outputs": [
    {
     "name": "stderr",
     "output_type": "stream",
     "text": [
      "\u001b[32m\u001b[1m  Activating\u001b[22m\u001b[39m project at `c:\\Users\\u256063\\Desktop\\Projects\\ABM_2\\ABM_CBM`\n"
     ]
    }
   ],
   "source": [
    "import Pkg\n",
    "Pkg.activate(\"../\")\n",
    "Pkg.instantiate()\n"
   ]
  },
  {
   "cell_type": "code",
   "execution_count": 2,
   "metadata": {},
   "outputs": [
    {
     "name": "stderr",
     "output_type": "stream",
     "text": [
      "\u001b[32m\u001b[1m   Resolving\u001b[22m\u001b[39m package versions...\n",
      "\u001b[32m\u001b[1m  No Changes\u001b[22m\u001b[39m to `C:\\Users\\u256063\\Desktop\\Projects\\ABM_2\\ABM_CBM\\Project.toml`\n",
      "\u001b[32m\u001b[1m  No Changes\u001b[22m\u001b[39m to `C:\\Users\\u256063\\Desktop\\Projects\\ABM_2\\ABM_CBM\\Manifest.toml`\n"
     ]
    }
   ],
   "source": [
    "import Pkg; Pkg.add([\"Revise\", \"GLMakie\"])"
   ]
  },
  {
   "cell_type": "code",
   "execution_count": 3,
   "metadata": {},
   "outputs": [
    {
     "name": "stderr",
     "output_type": "stream",
     "text": [
      "\u001b[33m\u001b[1m┌ \u001b[22m\u001b[39m\u001b[33m\u001b[1mWarning: \u001b[22m\u001b[39mCUDA runtime library nvrtc64_112_0.dll was loaded from a system path. This may cause errors.\n",
      "\u001b[33m\u001b[1m│ \u001b[22m\u001b[39mEnsure that you have not set the LD_LIBRARY_PATH environment variable, or that it does not contain paths to CUDA libraries.\n",
      "\u001b[33m\u001b[1m└ \u001b[22m\u001b[39m\u001b[90m@ CUDA C:\\Users\\u256063\\.julia\\packages\\CUDA\\jdJ7Z\\src\\initialization.jl:187\u001b[39m\n"
     ]
    }
   ],
   "source": [
    "using Revise\n",
    "using CellBasedModels\n",
    "using CUDA\n",
    "using Distributions\n",
    "using GLMakie\n",
    "# using GeometryBasics\n",
    "import GLMakie: Point3f, Cylinder, Sphere, NoShading #Can be changes to Cairo or CLMakie"
   ]
  },
  {
   "attachments": {},
   "cell_type": "markdown",
   "metadata": {},
   "source": [
    "## Forces model\n",
    "\n",
    "We already use the defined forces model that is implemented in CBMModels. This is an exact copy of the rod model that you can find already predefined in `Models/rods.jl`. You can check the `Models` section of the documentation for more details.\n"
   ]
  },
  {
   "cell_type": "code",
   "execution_count": 4,
   "metadata": {},
   "outputs": [],
   "source": [
    "rod2D = ABM(2,\n",
    "    agent = Dict(\n",
    "            :theta=>Float64,\n",
    "            :d=>Float64,\n",
    "            :l=>Float64,\n",
    "            :fx=>Float64,\n",
    "            :fy=>Float64,\n",
    "            :W=>Float64,\n",
    "            :pressure=>Float64,\n",
    "            :type=>Int,\n",
    "        ),    #Local Interaction Parameters\n",
    "\n",
    "    model = Dict(\n",
    "            :n=>Int,\n",
    "            :Ebb=>Float64,\n",
    "            :Ebg=>Float64,\n",
    "            :Egg=>Float64,\n",
    "            :epsbb=>Float64,\n",
    "            :epsbg=>Float64,\n",
    "            :epsgg=>Float64,\n",
    "            :etab=>Float64,\n",
    "            :etag=>Float64,\n",
    "        ),        #Global parameters\n",
    "\n",
    "    agentODE = quote\n",
    "\n",
    "        fx = 0\n",
    "        fy = 0\n",
    "        W = 0\n",
    "        pressure = 0\n",
    "        @loopOverNeighbors i2 begin\n",
    "\n",
    "            #Use the model provided in the documentation\n",
    "            Fijx, Fijy, Wij = CBMModels.repulsiveForces(x,y,d,l,theta,etab,type, \n",
    "                                    x[i2],y[i2],d[i2],l[i2],theta[i2],etag,type[i2], Ebb, Ebg, Egg)\n",
    "\n",
    "            #Append the repulsive forces\n",
    "            fx += Fijx\n",
    "            fy += Fijy\n",
    "            W += Wij\n",
    "\n",
    "            #Keep track of preassure in the media\n",
    "            pressure += sqrt(Fijx^2+Fijy^2)\n",
    "            #Use the model provided in the documentation\n",
    "            Fijx, Fijy, Wij = CBMModels.attractiveForces(x,y,d,l,theta,etab,type, \n",
    "                                    x[i2],y[i2],d[i2],l[i2],theta[i2],etag,type[i2], epsbb, epsbg, epsgg)\n",
    "\n",
    "            \n",
    "            \n",
    "            #Append the repulsive forces\n",
    "            fx += Fijx\n",
    "            fy += Fijy\n",
    "            W += Wij\n",
    "            #Keep track of preassure in the media\n",
    "            pressure += sqrt(Fijx^2+Fijy^2)\n",
    "            \n",
    "        end\n",
    "\n",
    "        #Equations\n",
    "        dt(x) =  fx \n",
    "        dt(y) =  fy \n",
    "        dt(theta) =  W\n",
    "    end,\n",
    "\n",
    "    neighborsAlg=CBMNeighbors.CellLinked(cellEdge=4),\n",
    "    platform=GPU(),\n",
    "    agentAlg = CBMIntegrators.Heun()\n",
    ");\n"
   ]
  },
  {
   "attachments": {},
   "cell_type": "markdown",
   "metadata": {},
   "source": [
    "### Initialize a community with two bacteries and check forces"
   ]
  },
  {
   "cell_type": "code",
   "execution_count": 5,
   "metadata": {},
   "outputs": [
    {
     "data": {
      "text/plain": [
       "1.8000000000000003"
      ]
     },
     "execution_count": 5,
     "metadata": {},
     "output_type": "execute_result"
    }
   ],
   "source": [
    "com = Community(rod2D,\n",
    "            N=30,\n",
    "            dt=1.,\n",
    "            simBox = [-10 10;-10 10.],\n",
    "            );\n",
    "\n",
    "#Natural units scales\n",
    "m = 1.E-12 #ng\n",
    "t = 1/(60*60) # h\n",
    "d = 1.E-6 #um\n",
    "\n",
    "\n",
    "com.n=30\n",
    "com.Ebb=100. *m/(t^2*d)*1.E-3 #kPa\n",
    "com.Ebg=100. *m/(t^2*d)*1.E-3 #kPa\n",
    "com.Egg=100. *m/(t^2*d)*1.E-3 #kPa\n",
    "\n",
    "com.epsbb=3.E8 *m*d/t^2 #Pa um^2\n",
    "com.epsbg=28. *m*d/t^2 #Pa um^2\n",
    "com.epsgg=18. *m*d/t^2 #Pa um^2\n",
    "\n",
    "com.etab=500 *m/(t*d) #Pa h\n",
    "com.etag=500 *m/(t*d) #Pa h\n"
   ]
  },
  {
   "cell_type": "code",
   "execution_count": 6,
   "metadata": {},
   "outputs": [
    {
     "data": {
      "text/plain": [
       "([1.296], [0.003887999999999999], [1.8000000000000003])"
      ]
     },
     "execution_count": 6,
     "metadata": {},
     "output_type": "execute_result"
    }
   ],
   "source": [
    "com.Ebb, com.epsbb, com.etab"
   ]
  },
  {
   "cell_type": "code",
   "execution_count": 7,
   "metadata": {},
   "outputs": [],
   "source": [
    "for i in 1:com.N\n",
    "    com.theta[i] = rand() * 2π\n",
    "    com.x[i] = rand()*16-8\n",
    "    com.y[i] = rand()*16-8\n",
    "    if i <= com.n[1]  # agentes del 0 al 4 (long rods)\n",
    "        com.type[i] = 0\n",
    "        com.l[i] = 3.0\n",
    "        com.d[i] = 1.0\n",
    "    else       # agentes del 5 al 9 (puntos o discos)\n",
    "        com.type[i] = 1\n",
    "        com.l[i] = 0\n",
    "        com.d[i] = 0.8\n",
    "    end\n",
    "end"
   ]
  },
  {
   "cell_type": "code",
   "execution_count": 8,
   "metadata": {},
   "outputs": [],
   "source": [
    "evolve!(com,steps=8000,saveEach=100,preallocateAgents=com.N)"
   ]
  },
  {
   "cell_type": "code",
   "execution_count": 9,
   "metadata": {},
   "outputs": [
    {
     "data": {
      "text/plain": [
       "plotMixedAgents2D! (generic function with 1 method)"
      ]
     },
     "execution_count": 9,
     "metadata": {},
     "output_type": "execute_result"
    }
   ],
   "source": [
    "function plotMixedAgents2D!(ax, x, y, d, l, angle, type, p; kargs...)\n",
    "    for (xi, yi, li, di, ai, ti, pi) in zip(x, y, l, d, angle, type, p)\n",
    "\n",
    "\n",
    "        if ti== 0  # rods\n",
    "            colorval = pi\n",
    "            colormap = :inferno\n",
    "            meshscatter!(ax,\n",
    "                [xi + li/2 * cos(ai)],\n",
    "                [yi + li/2 * sin(ai)];\n",
    "                marker = Sphere(Point3f(0, 0, 0), Float32(1)),\n",
    "                markersize = [Point3f(di/2, di/2, di/2)],\n",
    "                color = [colorval],\n",
    "                colormap = colormap,\n",
    "                kargs...\n",
    "            )\n",
    "            meshscatter!(ax,\n",
    "                [xi - li/2 * cos(ai)],\n",
    "                [yi - li/2 * sin(ai)];\n",
    "                marker = Sphere(Point3f(0, 0, 0), Float32(1)),\n",
    "                markersize = [Point3f(di/2, di/2, di/2)],\n",
    "                color = [colorval],\n",
    "                colormap = colormap,\n",
    "                kargs...\n",
    "            )\n",
    "            meshscatter!(ax,\n",
    "                [xi],\n",
    "                [yi];\n",
    "                marker = Cylinder(Point3f(-.5, 0, 0), Point3f(.5, 0, 0), Float32(1)),\n",
    "                markersize = [Point3f(li, di/2, di/2)],\n",
    "                rotation = [ai],\n",
    "                color = [colorval],\n",
    "                colormap = colormap,\n",
    "                kargs...\n",
    "            )\n",
    "        else  # puntos\n",
    "            colorval = RGBf(0, 1, 1)  # rojo puro\n",
    "            meshscatter!(ax,\n",
    "                [Point3f(xi, yi, 0.0)];  # ¡usar coordenadas 3D!\n",
    "                marker = Sphere(Point3f(0, 0, 0), Float32(1)),\n",
    "                markersize = [Point3f(di/2, di/2, di/2)],  # ¡tamaño real 3D!\n",
    "                color = [colorval],\n",
    "                kargs...\n",
    "            )\n",
    "        end\n",
    "\n",
    "    end\n",
    "    return\n",
    "end\n"
   ]
  },
  {
   "cell_type": "code",
   "execution_count": 10,
   "metadata": {},
   "outputs": [
    {
     "data": {
      "text/plain": [
       "GLMakie.Screen(...)"
      ]
     },
     "execution_count": 10,
     "metadata": {},
     "output_type": "execute_result"
    }
   ],
   "source": [
    "fig = Figure(size=(1500,300))\n",
    "\n",
    "for (i,j) in enumerate([1:round(Int,length(com)/4):length(com);length(com)])\n",
    "    ax = Axis3(fig[1,i],\n",
    "                azimuth=3*π/2,\n",
    "                elevation=π/2,\n",
    "                zlabelvisible=false,\n",
    "                zticklabelsvisible=false,\n",
    "                zgridvisible=false,\n",
    "                zspinesvisible=false\n",
    "            )\n",
    "\n",
    "    plotMixedAgents2D!(\n",
    "    ax,\n",
    "    com[j][:x],\n",
    "    com[j][:y],\n",
    "    com[j][:d],\n",
    "    com[j][:l],\n",
    "    com[j][:theta],\n",
    "    com[j][:type],\n",
    "    com[j][:pressure],\n",
    "    colorrange = (0, maximum(com.pressure))\n",
    ")\n",
    "    xlims!(-10,10)\n",
    "    ylims!(-10,10)\n",
    "end\n",
    "\n",
    "display(fig)"
   ]
  },
  {
   "attachments": {},
   "cell_type": "markdown",
   "metadata": {},
   "source": [
    "## Growth model\n",
    "\n",
    "We construct over the forces model to add bacterial growth and cell division rules."
   ]
  },
  {
   "cell_type": "code",
   "execution_count": 37,
   "metadata": {},
   "outputs": [],
   "source": [
    "rods2dGrowth = ABM(2,\n",
    "    baseModelInit = [rod2D],\n",
    "\n",
    "    agent = Dict(\n",
    "                :lTarget => Float64,\n",
    "            ),\n",
    "\n",
    "    model = Dict(\n",
    "                :growth=>Float64,\n",
    "                :σlTarget=>Float64,\n",
    "                :lMax=>Float64,\n",
    "                :α=>Float64,\n",
    "                :σ=>Float64,\n",
    "                :p_half=>Float64,\n",
    "                :DMedium => Float64,\n",
    "                :delta => Float64\n",
    "            ),\n",
    "    \n",
    "    medium = Dict(\n",
    "        :mm => Float64        #Add a medium parameter\n",
    "    ),\n",
    "\n",
    " \n",
    "    agentODE = quote\n",
    "        if type == 0\n",
    "            dt(l) = l*growth/(1+α*pressure) #linear growth with growth dependent on the pressure over the cell\n",
    "        end\n",
    "        \n",
    "    end,\n",
    "\n",
    "    agentRule = quote #Bound cells\n",
    "        #Add division\n",
    "        if l > lTarget\n",
    "            mm+=1\n",
    "            ww = CBMDistributions.uniform(-.1,.1)/10000 #To add some random torque at division time\n",
    "            # ww = 0 #To add some random torque at division time\n",
    "            #Add a new cell\n",
    "            @addAgent(\n",
    "                    x=(l+d)/4*cos(theta)+x,\n",
    "                    y=(l+d)/4*sin(theta)+y,\n",
    "                    l=(l-d)/2,\n",
    "                    W=ww,\n",
    "                    lTarget = CBMDistributions.uniform(lMax-σlTarget,lMax+σlTarget), #New target length at which the bactery should divide\n",
    "                    type=0)\n",
    "            #Add a second cell\n",
    "            @addAgent(\n",
    "                    x=-(l+d)/4*cos(theta)+x,\n",
    "                    y=-(l+d)/4*sin(theta)+y,\n",
    "                    l=(l-d)/2,\n",
    "                    lTarget = CBMDistributions.uniform(lMax-σlTarget,lMax+σlTarget), #New target length at which the bactery should divide\n",
    "                    W=ww,\n",
    "                    type=0)\n",
    "            #Remove the old cell\n",
    "            @removeAgent()\n",
    "        end\n",
    "        # Probability of releasing PGA with a saturating function\n",
    "        prelease = σ * mm^5 / (p_half^5 + mm^5)\n",
    "\n",
    "        if CBMDistributions.uniform(0, 1) < prelease\n",
    "            # PGA release!\n",
    "            # You could mark it, count it, or log it here\n",
    "            # @info \"PGA released at step $(step) by agent ID $(id)\"\n",
    "            aux=CBMDistributions.rand_pm()\n",
    "            @addAgent(\n",
    "                    # x=((l+d)*(rand()-1/2)+aux*d/2)*cos(theta)+x,\n",
    "                    # y=((l+d)*(rand()-1/2)-aux*d/2)*sin(theta)+y,\n",
    "                    x=(CBMDistributions.uniform(-1,1)*(l+d)/2+aux*d/2)*cos(theta)+x,\n",
    "                    y=(CBMDistributions.uniform(-1,1)*(l+d)/2-aux*d/2)*sin(theta)+y,\n",
    "                    l=0,\n",
    "                    d=0.5,\n",
    "                    lTarget = CBMDistributions.uniform(lMax-σlTarget,lMax+σlTarget), #New target length at which the bactery should divide\n",
    "                    type=1)\n",
    "\n",
    "        end\n",
    "\n",
    "\n",
    "           \n",
    "\n",
    "    end,\n",
    "\n",
    "    #Medium dynamics with dirichlet conditions and a wall that is as oscillating source of material\n",
    "    mediumODE=quote \n",
    "        if @mediumInside()\n",
    "            dt(mm) = DMedium*(@∂2(1,mm)+@∂2(2,mm))-delta*mm# we only diffuse in x as the symmetry is in x\n",
    "       elseif @mediumBorder(1,-1) #x last\n",
    "            mm = 0\n",
    "        elseif @mediumBorder(1,1) #x fist??\n",
    "            mm = 0 #Oscillatory behaviour\n",
    "        elseif @mediumBorder(2,1) #y first\n",
    "            mm = 0\n",
    "        elseif @mediumBorder(2,-1) #y last\n",
    "            mm = 0\n",
    "        end\n",
    "    end,\n",
    "\n",
    "    neighborsAlg=CBMNeighbors.CellLinked(cellEdge=4),\n",
    "    platform=CPU(),\n",
    "    agentAlg=CBMIntegrators.Heun()\n",
    ");"
   ]
  },
  {
   "cell_type": "markdown",
   "metadata": {},
   "source": [
    "## Grow colony from one cell"
   ]
  },
  {
   "cell_type": "code",
   "execution_count": 38,
   "metadata": {},
   "outputs": [],
   "source": [
    "com = Community(rods2dGrowth,\n",
    "            N=1,\n",
    "            dt=1.,\n",
    "            simBox = [-100 100;-100 100.],\n",
    "            NMedium=[100,100],\n",
    "            );\n",
    "\n",
    "#Natural units scales\n",
    "m = 1.E-12 #ng\n",
    "t = 1/(60*60) # h\n",
    "d = 1.E-6 #um\n",
    "\n",
    "\n",
    "com.n=30\n",
    "com.Ebb=20. *m/(t^2*d)*1.E-3 #kPa\n",
    "com.Ebg=10. *m/(t^2*d)*1.E-3 #kPa\n",
    "com.Egg=5. *m/(t^2*d)*1.E-3 #kPa\n",
    "\n",
    "com.epsbb=2.E7 *m*d/t^2 #Pa um^2\n",
    "com.epsbg=18. *m*d/t^2 #Pa um^2\n",
    "com.epsgg=18. *m*d/t^2 #Pa um^2\n",
    "\n",
    "com.etab=500 *m/(t*d) #Pa h\n",
    "com.etag=500 *m/(t*d) #Pa h\n",
    "\n",
    "com.DMedium = 1.E-3\n",
    "com.delta = 1.E-4\n",
    "\n",
    "\n",
    "com.growth = 0.5 * t\n",
    "com.lMax = 3.     \n",
    "com.σlTarget = .2 \n",
    "com.α = 200\n",
    "com.σ = 1E-3\n",
    "com.type=0\n",
    "\n",
    "com.d = 1.        \n",
    "com.l = 2.99      \n",
    "com.lTarget = 3.  \n",
    "\n",
    "com.p_half=2.\n",
    "\n",
    "com.x = 0\n",
    "com.y = 0\n",
    "com.theta = 0;"
   ]
  },
  {
   "cell_type": "code",
   "execution_count": null,
   "metadata": {},
   "outputs": [
    {
     "name": "stdout",
     "output_type": "stream",
     "text": [
      "Step: 10000 N: 4\n",
      "Step: 20000 N: 8\n",
      "Step: 30000 N: 17\n",
      "Step: 40000 N: 35\n",
      "Step: 50000 N: 72\n",
      "Step: 60000 N: 152\n",
      "Step: 70000 N: 263\n",
      "Step: 80000 N: 419\n"
     ]
    }
   ],
   "source": [
    "evolve!(com,\n",
    "        steps=100000,saveEach=1000,\n",
    "        preallocateAgents=20000,\n",
    "        saveCurrentState=true,\n",
    "        progressMessage=(com)->if round(Int,com.t/com.dt)%10000 == 0; println(\"Step: \",round(Int,com.t/com.dt), \" N: \", com.N); end)"
   ]
  },
  {
   "cell_type": "code",
   "execution_count": 30,
   "metadata": {},
   "outputs": [
    {
     "data": {
      "image/png": "[encoded data removed]",
      "text/html": [
       "<img width=600 height=400 style='object-fit: contain; height: auto;' src=\"data:image/png;base64, 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\"/>"
      ]
     },
     "execution_count": 30,
     "metadata": {},
     "output_type": "execute_result"
    }
   ],
   "source": [
    "# Elegimos un frame, por ejemplo el último\n",
    "p = com[end][:pressure]\n",
    "\n",
    "# Creamos la figura y el eje\n",
    "fig = Figure(size = (600, 400))\n",
    "ax = Axis(fig[1, 1]; xlabel = \"Presión\", ylabel = \"Frecuencia\", title = \"Histograma de presión\")\n",
    "\n",
    "# Dibujamos el histograma\n",
    "hist!(ax, p; bins = 30, color = :slateblue)\n",
    "\n",
    "fig  # Esto muestra la figura en una ventana interactiva"
   ]
  },
  {
   "cell_type": "code",
   "execution_count": 31,
   "metadata": {},
   "outputs": [
    {
     "data": {
      "text/plain": [
       "GLMakie.Screen(...)"
      ]
     },
     "execution_count": 31,
     "metadata": {},
     "output_type": "execute_result"
    }
   ],
   "source": [
    "# Colormap común y colorrange fijo\n",
    "colormap = :viridis\n",
    "colorrange = (0.0, maximum(com.mm))\n",
    "\n",
    "fig = Figure(size=(1500,300))\n",
    "\n",
    "js = [1:round(Int, length(com)/4):length(com); length(com)]\n",
    "\n",
    "for (i,j) in enumerate(js)\n",
    "    ax = Axis3(fig[1,i],\n",
    "                azimuth=3*π/2,\n",
    "                elevation=π/2,\n",
    "                zlabelvisible=false,\n",
    "                zticklabelsvisible=false,\n",
    "                zgridvisible=false,\n",
    "                zspinesvisible=false\n",
    "            )\n",
    "    m = heatmap!(ax,\n",
    "                range(com.simBox[1,1],com.simBox[1,2],length=size(com.mm)[1]),\n",
    "                range(com.simBox[2,1],com.simBox[2,2],length=size(com.mm)[1]),\n",
    "                com[j][:mm],\n",
    "                colormap = colormap,\n",
    "                colorrange = colorrange\n",
    "            )\n",
    "    \n",
    "\n",
    "    plotMixedAgents2D!(\n",
    "    ax,\n",
    "    com[j][:x],\n",
    "    com[j][:y],\n",
    "    com[j][:d],\n",
    "    com[j][:l],\n",
    "    com[j][:theta],\n",
    "    com[j][:type],\n",
    "    com[j][:pressure],\n",
    "    colorrange = (0, 0.03)\n",
    "    )\n",
    "\n",
    "    xlims!(-50,50)\n",
    "    ylims!(-50,50)\n",
    "end\n",
    "\n",
    "# Añadir colorbar común al final\n",
    "Colorbar(fig[1, length(js) + 1],\n",
    "    colormap = colormap,\n",
    "    colorrange = colorrange,\n",
    "    label = \"QS\"\n",
    ")\n",
    "\n",
    "display(fig)"
   ]
  },
  {
   "cell_type": "code",
   "execution_count": 33,
   "metadata": {},
   "outputs": [
    {
     "data": {
      "text/plain": [
       "GLMakie.Screen(...)"
      ]
     },
     "execution_count": 33,
     "metadata": {},
     "output_type": "execute_result"
    }
   ],
   "source": [
    "# Colormap común y colorrange fijo\n",
    "colormap = :viridis\n",
    "colorrange = (0.0, maximum(com.mm))\n",
    "\n",
    "fig = Figure(size=(1500,300))\n",
    "\n",
    "js = [1:round(Int, length(com)/4):length(com); length(com)]\n",
    "\n",
    "for (i,j) in enumerate(js)\n",
    "    ax = Axis3(fig[1,i],\n",
    "                azimuth=3*π/2,\n",
    "                elevation=π/2,\n",
    "                zlabelvisible=false,\n",
    "                zticklabelsvisible=false,\n",
    "                zgridvisible=false,\n",
    "                zspinesvisible=false\n",
    "            )\n",
    "    m = heatmap!(ax,\n",
    "                range(com.simBox[1,1],com.simBox[1,2],length=size(com.mm)[1]),\n",
    "                range(com.simBox[2,1],com.simBox[2,2],length=size(com.mm)[1]),\n",
    "                com[j][:mm],\n",
    "                colormap = colormap,\n",
    "                colorrange = colorrange\n",
    "            )\n",
    "    \n",
    "\n",
    "    # plotMixedAgents2D!(\n",
    "    # ax,\n",
    "    # com[j][:x],\n",
    "    # com[j][:y],\n",
    "    # com[j][:d],\n",
    "    # com[j][:l],\n",
    "    # com[j][:theta],\n",
    "    # com[j][:type],\n",
    "    # com[j][:pressure],\n",
    "    # colorrange = (0, 0.03)\n",
    "    # )\n",
    "\n",
    "    xlims!(-50,50)\n",
    "    ylims!(-50,50)\n",
    "end\n",
    "\n",
    "# Añadir colorbar común al final\n",
    "Colorbar(fig[1, length(js) + 1],\n",
    "    colormap = colormap,\n",
    "    colorrange = colorrange,\n",
    "    label = \"QS\"\n",
    ")\n",
    "\n",
    "display(fig)"
   ]
  },
  {
   "cell_type": "code",
   "execution_count": 18,
   "metadata": {},
   "outputs": [
    {
     "data": {
      "text/plain": [
       "\"bacterias_video_pressure_qs.mp4\""
      ]
     },
     "execution_count": 18,
     "metadata": {},
     "output_type": "execute_result"
    }
   ],
   "source": [
    "using GLMakie\n",
    "\n",
    "# Configuración general\n",
    "colormap = :viridis\n",
    "colorrange = (0.0, maximum(com.mm))\n",
    "\n",
    "# Crear figura y ejes\n",
    "fig = Figure(size = (800, 600))\n",
    "grid = fig[1, 1] = GridLayout()\n",
    "ax = Axis(grid[1, 1]; aspect = DataAspect())\n",
    "Colorbar(grid[1, 2], colormap=colormap, colorrange=colorrange, label=\"QS\")  # una vez\n",
    "\n",
    "\n",
    "\n",
    "GLMakie.record(fig, \"bacterias_video_pressure_qs_proves.mp4\", 1:5:length(com); framerate = 15) do j\n",
    " \n",
    "    Makie.empty!(ax)\n",
    "    # Preparar heatmap observable para actualizar luego\n",
    "    x = range(com.simBox[1,1], com.simBox[1,2], length=size(com.mm)[1])\n",
    "    y = range(com.simBox[2,1], com.simBox[2,2], length=size(com.mm)[2])\n",
    "    z = copy(com[j][:mm])  # inicializa con primer frame\n",
    "\n",
    "    hm = heatmap!(ax, x, y, z; colormap=colormap, colorrange=colorrange)\n",
    "\n",
    "    plotMixedAgents2D!(\n",
    "        ax,\n",
    "        com[j][:x],\n",
    "        com[j][:y],\n",
    "        com[j][:d],\n",
    "        com[j][:l],\n",
    "        com[j][:theta],\n",
    "        com[j][:type],\n",
    "        com[j][:pressure],\n",
    "        colorrange = (0, 0.03)\n",
    "    )\n",
    "\n",
    "\n",
    "    xlims!(ax, -50, 50)\n",
    "    ylims!(ax, -50, 50)\n",
    "end\n"
   ]
  },
  {
   "cell_type": "code",
   "execution_count": null,
   "metadata": {},
   "outputs": [
    {
     "data": {
      "text/plain": [
       "\"bacterias_video_pressure_qs_2.mp4\""
      ]
     },
     "execution_count": 19,
     "metadata": {},
     "output_type": "execute_result"
    }
   ],
   "source": [
    "using GLMakie\n",
    "\n",
    "# Configuración general\n",
    "colormap = :viridis\n",
    "colorrange = (0.0, maximum(com.mm))\n",
    "\n",
    "# Crear figura y ejes\n",
    "fig = Figure(size = (800, 600))\n",
    "grid = fig[1, 1] = GridLayout()\n",
    "ax = Axis(grid[1, 1]; aspect = DataAspect())\n",
    "Colorbar(grid[1, 2], colormap=colormap, colorrange=colorrange, label=\"QS\")  # una vez\n",
    "\n",
    "\n",
    "\n",
    "GLMakie.record(fig, \"bacterias_video_pressure_qs_2_proves.mp4\", 1:5:length(com); framerate = 15) do j\n",
    " \n",
    "    Makie.empty!(ax)\n",
    "    # Preparar heatmap observable para actualizar luego\n",
    "    x = range(com.simBox[1,1], com.simBox[1,2], length=size(com.mm)[1])\n",
    "    y = range(com.simBox[2,1], com.simBox[2,2], length=size(com.mm)[2])\n",
    "    z = copy(com[j][:mm])  # inicializa con primer frame\n",
    "\n",
    "    hm = heatmap!(ax, x, y, z; colormap=colormap, colorrange=colorrange)\n",
    "\n",
    "    # plotMixedAgents2D!(\n",
    "    #     ax,\n",
    "    #     com[j][:x],\n",
    "    #     com[j][:y],\n",
    "    #     com[j][:d],\n",
    "    #     com[j][:l],\n",
    "    #     com[j][:theta],\n",
    "    #     com[j][:type],\n",
    "    #     com[j][:pressure],\n",
    "    #     colorrange = (0, 0.03)\n",
    "    # )\n",
    "\n",
    "\n",
    "    xlims!(ax, -50, 50)\n",
    "    ylims!(ax, -50, 50)\n",
    "end\n"
   ]
  }
 ],
 "metadata": {
  "kernelspec": {
   "display_name": "Julia 1.10.4 1.10.4",
   "language": "julia",
   "name": "julia-1.10.4-1.10"
  },
  "language_info": {
   "file_extension": ".jl",
   "mimetype": "application/julia",
   "name": "julia",
   "version": "1.10.4"
  },
  "orig_nbformat": 4
 },
 "nbformat": 4,
 "nbformat_minor": 2
}
