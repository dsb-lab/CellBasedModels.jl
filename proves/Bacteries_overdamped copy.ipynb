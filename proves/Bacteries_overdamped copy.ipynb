{
 "cells": [
  {
   "attachments": {},
   "cell_type": "markdown",
   "metadata": {},
   "source": [
    "# [Bacterial Colony Growth](@id Bacteries)\n",
    "\n",
    "In this example, we are going to create a bacterial model and grow a colony using it.\n",
    "\n",
    " - The implementation of the force interaction dynamics is the one presented by [Volfson et al. (2008)](https://www.pnas.org/doi/abs/10.1073/pnas.0706805105)\n",
    " - We use GPU accelerated dynamics\n",
    "\n",
    "As described in other models, it is advised that the models are constructed by parts to avoid having to find bugs in a very complex system. Hence, we will split the model in two parts:\n",
    "\n",
    " - Forces model\n",
    " - Growth model"
   ]
  },
  {
   "cell_type": "markdown",
   "metadata": {},
   "source": [
    "## Load the packages"
   ]
  },
  {
   "cell_type": "code",
   "execution_count": 1,
   "metadata": {},
   "outputs": [
    {
     "data": {
      "text/plain": [
       "repulsiveForces (generic function with 1 method)"
      ]
     },
     "execution_count": 1,
     "metadata": {},
     "output_type": "execute_result"
    }
   ],
   "source": [
    "function repulsiveForces(\n",
    "    x,y,d,l,theta,etab,type,\n",
    "    x2,y2,d2,l2,theta2,etag,type2, Ebb, Ebg, Egg\n",
    "    \n",
    ")\n",
    "\n",
    "    Fijx = 0.\n",
    "    Fijy = 0.\n",
    "    Wij = 0.\n",
    "\n",
    "    if type==type2 && type==1\n",
    "        xiAux,yiAux,xjAux,yjAux=x,y,x2,y2\n",
    "    else\n",
    "        #Function that finds the virtual spheres of contact between both rods\n",
    "        xiAux,yiAux,xjAux,yjAux = CBMMetrics.rodIntersection(x,y,l,theta,x2,y2,l2,theta2)\n",
    "    end\n",
    "\n",
    "    #Compute distance between virtual spheres\n",
    "    rij = sqrt((xiAux-xjAux)^2 +(yiAux-yjAux)^2)\n",
    "    if rij > 0. && rij < (d+d2)/2 #If it is smaller than a diameter compute forces\n",
    "        #Compute auxiliar\n",
    "        hAux = (d+d2)/2 - rij\n",
    "        #Compute direction\n",
    "        nijx = (xiAux-xjAux)/rij\n",
    "        nijy = (yiAux-yjAux)/rij\n",
    "        if type==0 #rod\n",
    "\n",
    "            #Compute the forces\n",
    "            if type2==0 #rod-rod\n",
    "                FnAux = Ebb*d2^(1/2)*hAux^(3/2)/(etab*(l+d))\n",
    "            else #rod-gel\n",
    "                FnAux = Ebg*d2^(1/2)*hAux^(3/2)/(etab*(l+d)) \n",
    "            end\n",
    "            #Compute the interaction forces\n",
    "            Fijx = FnAux*nijx\n",
    "            Fijy = FnAux*nijy\n",
    "            #Append radial forces\n",
    "            Wij = ((xiAux-x)*Fijy - (yiAux-y)*Fijx)*12/(etab*(l+d)^3)\n",
    "        else # gel\n",
    "             #Compute the forces\n",
    "            if type2==0 #gel-rod\n",
    "                FnAux = Ebg*d2^(1/2)*hAux^(3/2)/(etag*d)  #d2??\n",
    "\n",
    "            else #gel-gel\n",
    "                FnAux = Egg*d2^(1/2)*hAux^(3/2)/(etag*d)\n",
    "            end\n",
    "            #Compute the interaction forces\n",
    "            Fijx = FnAux*nijx\n",
    "            Fijy = FnAux*nijy\n",
    "            #No radial forces\n",
    "        end\n",
    "    end\n",
    "\n",
    "    return Fijx, Fijy, Wij\n",
    "\n",
    "end"
   ]
  },
  {
   "cell_type": "code",
   "execution_count": 2,
   "metadata": {},
   "outputs": [
    {
     "data": {
      "text/plain": [
       "attractiveForces (generic function with 1 method)"
      ]
     },
     "execution_count": 2,
     "metadata": {},
     "output_type": "execute_result"
    }
   ],
   "source": [
    "function attractiveForces(\n",
    "    x,y,d,l,theta,etab,type,\n",
    "    x2,y2,d2,l2,theta2,etag,type2, epsbb, epsbg, epsgg\n",
    "    \n",
    ")\n",
    "\n",
    "  \n",
    "    Fijx = 0.\n",
    "    Fijy = 0.\n",
    "    Wij = 0.\n",
    "\n",
    "    xiAux,yiAux,xjAux,yjAux=x,y,x2,y2\n",
    "    #Compute distance between central masses\n",
    "    rij = sqrt((xiAux-xjAux)^2 +(yiAux-yjAux)^2)\n",
    "    if rij > (d+d2)/2 && rij < (2*d+l) #If it is smaller than a diameter compute forces\n",
    "        #Compute direction\n",
    "        nijx = (xiAux-xjAux)/rij\n",
    "        nijy = (yiAux-yjAux)/rij\n",
    "        M=(d+d2)/2\n",
    "        D=(2*d+l)\n",
    "        if type==0 #rod\n",
    "\n",
    "            #Compute the forces\n",
    "            if type2==0 #rod-rod\n",
    "               \n",
    "                FnAux = epsbb*(rij/D-1)*(rij/M-1)*(rij/D)/(etab*d) \n",
    "                \n",
    "            else #rod-gel\n",
    "                FnAux = epsbg*(rij/D-1)*(rij/M-1)*(rij/D)/(etab*d) \n",
    "          \n",
    "            end\n",
    "            #Compute the interaction forces\n",
    "            Fijx = FnAux*nijx\n",
    "            Fijy = FnAux*nijy\n",
    "            #Append radial forces\n",
    "            Wij = ((xiAux-x)*Fijy - (yiAux-y)*Fijx)/(etab*(l+d)^3)\n",
    "        else # gel\n",
    "            #Compute the forces\n",
    "            if type2==0 #gel-rod\n",
    "                FnAux = epsbg*(rij/D-1)*(rij/M-1)*(rij/D)/(etag*d) \n",
    "            else #gel-gel\n",
    "                FnAux = epsgg*(rij/D-1)*(rij/M-1)*(rij/D)/(etag*d) \n",
    "            end\n",
    "            #Compute the interaction forces\n",
    "            Fijx = FnAux*nijx\n",
    "            Fijy = FnAux*nijy\n",
    "            #No radial forces\n",
    "        end\n",
    "    end\n",
    "\n",
    "    return Fijx, Fijy, Wij\n",
    "\n",
    "end"
   ]
  },
  {
   "cell_type": "code",
   "execution_count": 3,
   "metadata": {},
   "outputs": [],
   "source": [
    "# function attractiveForces(\n",
    "#     x,y,d,l,theta,etab,type,\n",
    "#     x2,y2,d2,l2,theta2,etag,type2, epsbb, epsbg, epsgg\n",
    "    \n",
    "# )\n",
    "\n",
    "  \n",
    "#     Fijx = 0.\n",
    "#     Fijy = 0.\n",
    "#     Wij = 0.\n",
    "\n",
    "#     gamma=24\n",
    "#     xiAux,yiAux,xjAux,yjAux=x,y,x2,y2\n",
    "#     #Compute distance between central masses\n",
    "#     rij = sqrt((xiAux-xjAux)^2 +(yiAux-yjAux)^2)\n",
    "#     if rij > 0. && rij < (d+d2+l2+l)*2 #If it is smaller than a diameter compute forces\n",
    "#         #Compute direction\n",
    "#         nijx = (xiAux-xjAux)/rij\n",
    "#         nijy = (yiAux-yjAux)/rij\n",
    "#         if type==0 #rod\n",
    "\n",
    "#             #Compute the forces\n",
    "#             if type2==0 #rod-rod\n",
    "#                 FnAux = -gamma*epsbb*((d+d2+l2+l)/(2*(rij)))^6/rij/(etab*(l+d))\n",
    "                \n",
    "#             else #rod-gel\n",
    "#                 FnAux = -gamma*epsbg*((d+d2+l2+l)/(2*(rij)))^6/rij/(etab*(l+d))\n",
    "          \n",
    "#             end\n",
    "#             #Compute the interaction forces\n",
    "#             Fijx = FnAux*nijx\n",
    "#             Fijy = FnAux*nijy\n",
    "#             #Append radial forces\n",
    "#             Wij = ((xiAux-x)*Fijy - (yiAux-y)*Fijx)/(etab*(l+d)^3)\n",
    "#         else # gel\n",
    "#             #Compute the forces\n",
    "#             if type2==0 #gel-rod\n",
    "#                 FnAux = -gamma*epsbg*((d+d2+l2+l)/(2*(rij)))^6/rij/(etag*d) \n",
    "#             else #gel-gel\n",
    "#                 FnAux = -gamma*epsgg*((d+d2+l2+l)/(2*(rij)))^6/rij/(etag*d) \n",
    "#             end\n",
    "#             #Compute the interaction forces\n",
    "#             Fijx = FnAux*nijx\n",
    "#             Fijy = FnAux*nijy\n",
    "#             #No radial forces\n",
    "#         end\n",
    "#     end\n",
    "\n",
    "#     return Fijx, Fijy, Wij\n",
    "\n",
    "# end"
   ]
  },
  {
   "cell_type": "code",
   "execution_count": 4,
   "metadata": {},
   "outputs": [
    {
     "name": "stderr",
     "output_type": "stream",
     "text": [
      "\u001b[32m\u001b[1m  Activating\u001b[22m\u001b[39m project at `c:\\Users\\u256063\\Desktop\\Projects\\ABM_2\\ABM_CBM`\n"
     ]
    }
   ],
   "source": [
    "import Pkg\n",
    "Pkg.activate(\"../\")\n",
    "Pkg.instantiate()\n"
   ]
  },
  {
   "cell_type": "code",
   "execution_count": 5,
   "metadata": {},
   "outputs": [
    {
     "name": "stderr",
     "output_type": "stream",
     "text": [
      "\u001b[32m\u001b[1m   Resolving\u001b[22m\u001b[39m package versions...\n",
      "\u001b[32m\u001b[1m  No Changes\u001b[22m\u001b[39m to `C:\\Users\\u256063\\Desktop\\Projects\\ABM_2\\ABM_CBM\\Project.toml`\n",
      "\u001b[32m\u001b[1m  No Changes\u001b[22m\u001b[39m to `C:\\Users\\u256063\\Desktop\\Projects\\ABM_2\\ABM_CBM\\Manifest.toml`\n"
     ]
    }
   ],
   "source": [
    "import Pkg; Pkg.add([\"Revise\", \"GLMakie\"])"
   ]
  },
  {
   "cell_type": "code",
   "execution_count": 6,
   "metadata": {},
   "outputs": [
    {
     "name": "stderr",
     "output_type": "stream",
     "text": [
      "\u001b[33m\u001b[1m┌ \u001b[22m\u001b[39m\u001b[33m\u001b[1mWarning: \u001b[22m\u001b[39mCUDA runtime library nvrtc64_112_0.dll was loaded from a system path. This may cause errors.\n",
      "\u001b[33m\u001b[1m│ \u001b[22m\u001b[39mEnsure that you have not set the LD_LIBRARY_PATH environment variable, or that it does not contain paths to CUDA libraries.\n",
      "\u001b[33m\u001b[1m└ \u001b[22m\u001b[39m\u001b[90m@ CUDA C:\\Users\\u256063\\.julia\\packages\\CUDA\\jdJ7Z\\src\\initialization.jl:187\u001b[39m\n"
     ]
    }
   ],
   "source": [
    "using Revise\n",
    "using CellBasedModels\n",
    "using CUDA\n",
    "using Distributions\n",
    "using GLMakie\n",
    "# using GeometryBasics\n",
    "import GLMakie: Point3f, Cylinder, Sphere, NoShading #Can be changes to Cairo or CLMakie"
   ]
  },
  {
   "attachments": {},
   "cell_type": "markdown",
   "metadata": {},
   "source": [
    "## Forces model\n",
    "\n",
    "We already use the defined forces model that is implemented in CBMModels. This is an exact copy of the rod model that you can find already predefined in `Models/rods.jl`. You can check the `Models` section of the documentation for more details.\n"
   ]
  },
  {
   "cell_type": "code",
   "execution_count": 70,
   "metadata": {},
   "outputs": [],
   "source": [
    "rod2D = ABM(2,\n",
    "    agent = Dict(\n",
    "            :theta=>Float64,\n",
    "            :d=>Float64,\n",
    "            :l=>Float64,\n",
    "            :fx=>Float64,\n",
    "            :fy=>Float64,\n",
    "            :W=>Float64,\n",
    "            :pressure=>Float64,\n",
    "            :type=>Int,\n",
    "        ),    #Local Interaction Parameters\n",
    "\n",
    "    model = Dict(\n",
    "            :n=>Int,\n",
    "            :Ebb=>Float64,\n",
    "            :Ebg=>Float64,\n",
    "            :Egg=>Float64,\n",
    "            :epsbb=>Float64,\n",
    "            :epsbg=>Float64,\n",
    "            :epsgg=>Float64,\n",
    "            :etab=>Float64,\n",
    "            :etag=>Float64,\n",
    "        ),        #Global parameters\n",
    "\n",
    "    agentODE = quote\n",
    "\n",
    "        fx = 0\n",
    "        fy = 0\n",
    "        W = 0\n",
    "        pressure = 0\n",
    "        @loopOverNeighbors i2 begin\n",
    "\n",
    "            #Use the model provided in the documentation\n",
    "            Fijx, Fijy, Wij = repulsiveForces(x,y,d,l,theta,etab,type, \n",
    "                                    x[i2],y[i2],d[i2],l[i2],theta[i2],etag,type[i2], Ebb, Ebg, Egg)\n",
    "\n",
    "            #Append the repulsive forces\n",
    "            fx += Fijx\n",
    "            fy += Fijy\n",
    "            W += Wij\n",
    "\n",
    "            #Keep track of preassure in the media\n",
    "            pressure += sqrt(Fijx^2+Fijy^2)\n",
    "            #Use the model provided in the documentation\n",
    "            Fijx, Fijy, Wij = attractiveForces(x,y,d,l,theta,etab,type, \n",
    "                                    x[i2],y[i2],d[i2],l[i2],theta[i2],etag,type[i2], epsbb, epsbg, epsgg)\n",
    "\n",
    "            \n",
    "            \n",
    "            #Append the repulsive forces\n",
    "            fx += Fijx\n",
    "            fy += Fijy\n",
    "            W += Wij\n",
    "            #Keep track of preassure in the media\n",
    "            pressure += sqrt(Fijx^2+Fijy^2)\n",
    "            \n",
    "        end\n",
    "\n",
    "        #Equations\n",
    "        dt(x) =  fx \n",
    "        dt(y) =  fy \n",
    "        dt(theta) =  W\n",
    "    end,\n",
    "\n",
    "    neighborsAlg=CBMNeighbors.CellLinked(cellEdge=4),\n",
    "    platform=CPU(),\n",
    "    agentAlg = CBMIntegrators.Heun()\n",
    ");\n"
   ]
  },
  {
   "attachments": {},
   "cell_type": "markdown",
   "metadata": {},
   "source": [
    "### Initialize a community with two bacteries and check forces"
   ]
  },
  {
   "cell_type": "code",
   "execution_count": 107,
   "metadata": {},
   "outputs": [
    {
     "data": {
      "text/plain": [
       "1.8000000000000003"
      ]
     },
     "execution_count": 107,
     "metadata": {},
     "output_type": "execute_result"
    }
   ],
   "source": [
    "com = Community(rod2D,\n",
    "            N=30,\n",
    "            dt=1.,\n",
    "            simBox = [-10 10;-10 10.],\n",
    "            );\n",
    "\n",
    "#Natural units scales\n",
    "m = 1.E-12 #ng\n",
    "t = 1/(60*60) # h\n",
    "d = 1.E-6 #um\n",
    "\n",
    "\n",
    "com.n=30\n",
    "com.Ebb=100. *m/(t^2*d)*1.E-3 #kPa\n",
    "com.Ebg=100. *m/(t^2*d)*1.E-3 #kPa\n",
    "com.Egg=100. *m/(t^2*d)*1.E-3 #kPa\n",
    "\n",
    "com.epsbb=3.E8 *m*d/t^2 #Pa um^2\n",
    "com.epsbg=28. *m*d/t^2 #Pa um^2\n",
    "com.epsgg=18. *m*d/t^2 #Pa um^2\n",
    "\n",
    "com.etab=500 *m/(t*d) #Pa h\n",
    "com.etag=500 *m/(t*d) #Pa h\n"
   ]
  },
  {
   "cell_type": "code",
   "execution_count": 108,
   "metadata": {},
   "outputs": [
    {
     "data": {
      "text/plain": [
       "([1.296], [0.003887999999999999], [1.8000000000000003])"
      ]
     },
     "execution_count": 108,
     "metadata": {},
     "output_type": "execute_result"
    }
   ],
   "source": [
    "com.Ebb, com.epsbb, com.etab"
   ]
  },
  {
   "cell_type": "code",
   "execution_count": 109,
   "metadata": {},
   "outputs": [],
   "source": [
    "for i in 1:com.N\n",
    "    com.theta[i] = rand() * 2π\n",
    "    com.x[i] = rand()*16-8\n",
    "    com.y[i] = rand()*16-8\n",
    "    if i <= com.n[1]  # agentes del 0 al 4 (long rods)\n",
    "        com.type[i] = 0\n",
    "        com.l[i] = 3.0\n",
    "        com.d[i] = 1.0\n",
    "    else       # agentes del 5 al 9 (puntos o discos)\n",
    "        com.type[i] = 1\n",
    "        com.l[i] = 0\n",
    "        com.d[i] = 0.8\n",
    "    end\n",
    "end"
   ]
  },
  {
   "cell_type": "code",
   "execution_count": 110,
   "metadata": {},
   "outputs": [],
   "source": [
    "evolve!(com,steps=8000,saveEach=100,preallocateAgents=com.N)"
   ]
  },
  {
   "cell_type": "code",
   "execution_count": 111,
   "metadata": {},
   "outputs": [
    {
     "data": {
      "text/plain": [
       "plotMixedAgents2D! (generic function with 1 method)"
      ]
     },
     "execution_count": 111,
     "metadata": {},
     "output_type": "execute_result"
    }
   ],
   "source": [
    "function plotMixedAgents2D!(ax, x, y, d, l, angle, type, p; kargs...)\n",
    "    for (xi, yi, li, di, ai, ti, pi) in zip(x, y, l, d, angle, type, p)\n",
    "\n",
    "\n",
    "        if ti== 0  # rods\n",
    "            colorval = pi\n",
    "            colormap = :inferno\n",
    "            meshscatter!(ax,\n",
    "                [xi + li/2 * cos(ai)],\n",
    "                [yi + li/2 * sin(ai)];\n",
    "                marker = Sphere(Point3f(0, 0, 0), Float32(1)),\n",
    "                markersize = [Point3f(di/2, di/2, di/2)],\n",
    "                color = [colorval],\n",
    "                colormap = colormap,\n",
    "                kargs...\n",
    "            )\n",
    "            meshscatter!(ax,\n",
    "                [xi - li/2 * cos(ai)],\n",
    "                [yi - li/2 * sin(ai)];\n",
    "                marker = Sphere(Point3f(0, 0, 0), Float32(1)),\n",
    "                markersize = [Point3f(di/2, di/2, di/2)],\n",
    "                color = [colorval],\n",
    "                colormap = colormap,\n",
    "                kargs...\n",
    "            )\n",
    "            meshscatter!(ax,\n",
    "                [xi],\n",
    "                [yi];\n",
    "                marker = Cylinder(Point3f(-.5, 0, 0), Point3f(.5, 0, 0), Float32(1)),\n",
    "                markersize = [Point3f(li, di/2, di/2)],\n",
    "                rotation = [ai],\n",
    "                color = [colorval],\n",
    "                colormap = colormap,\n",
    "                kargs...\n",
    "            )\n",
    "        else  # puntos\n",
    "            colorval = RGBf(0, 1, 1)  # rojo puro\n",
    "            meshscatter!(ax,\n",
    "                [Point3f(xi, yi, 0.0)];  # ¡usar coordenadas 3D!\n",
    "                marker = Sphere(Point3f(0, 0, 0), Float32(1)),\n",
    "                markersize = [Point3f(di/2, di/2, di/2)],  # ¡tamaño real 3D!\n",
    "                color = [colorval],\n",
    "                kargs...\n",
    "            )\n",
    "        end\n",
    "\n",
    "    end\n",
    "    return\n",
    "end\n"
   ]
  },
  {
   "cell_type": "code",
   "execution_count": 112,
   "metadata": {},
   "outputs": [
    {
     "data": {
      "text/plain": [
       "GLMakie.Screen(...)"
      ]
     },
     "execution_count": 112,
     "metadata": {},
     "output_type": "execute_result"
    }
   ],
   "source": [
    "fig = Figure(size=(1500,300))\n",
    "\n",
    "for (i,j) in enumerate([1:round(Int,length(com)/4):length(com);length(com)])\n",
    "    ax = Axis3(fig[1,i],\n",
    "                azimuth=3*π/2,\n",
    "                elevation=π/2,\n",
    "                zlabelvisible=false,\n",
    "                zticklabelsvisible=false,\n",
    "                zgridvisible=false,\n",
    "                zspinesvisible=false\n",
    "            )\n",
    "\n",
    "    plotMixedAgents2D!(\n",
    "    ax,\n",
    "    com[j][:x],\n",
    "    com[j][:y],\n",
    "    com[j][:d],\n",
    "    com[j][:l],\n",
    "    com[j][:theta],\n",
    "    com[j][:type],\n",
    "    com[j][:pressure],\n",
    "    colorrange = (0, maximum(com.pressure))\n",
    ")\n",
    "    xlims!(-10,10)\n",
    "    ylims!(-10,10)\n",
    "end\n",
    "\n",
    "display(fig)"
   ]
  },
  {
   "attachments": {},
   "cell_type": "markdown",
   "metadata": {},
   "source": [
    "## Growth model\n",
    "\n",
    "We construct over the forces model to add bacterial growth and cell division rules."
   ]
  },
  {
   "cell_type": "code",
   "execution_count": 113,
   "metadata": {},
   "outputs": [],
   "source": [
    "rods2dGrowth = ABM(2,\n",
    "    baseModelInit = [rod2D],\n",
    "\n",
    "    agent = Dict(\n",
    "                :lTarget => Float64,\n",
    "            ),\n",
    "\n",
    "    model = Dict(\n",
    "                :growth=>Float64,\n",
    "                :σlTarget=>Float64,\n",
    "                :lMax=>Float64,\n",
    "                :α=>Float64,\n",
    "                :σ=>Float64,\n",
    "                :p_half=>Float64,\n",
    "            ),\n",
    "\n",
    " \n",
    "    agentODE = quote\n",
    "        if type == 0\n",
    "            dt(l) = growth/(1+α*pressure) #linear growth with growth dependent on the pressure over the cell\n",
    "        end\n",
    "        \n",
    "    end,\n",
    "\n",
    "    agentRule = quote #Bound cells\n",
    "        #Add division\n",
    "        if l > lTarget\n",
    "            ww = CBMDistributions.uniform(-.1,.1)/10 #To add some random torque at division time\n",
    "            # ww = 0 #To add some random torque at division time\n",
    "            #Add a new cell\n",
    "            @addAgent(\n",
    "                    x=(l+d)/4*cos(theta)+x,\n",
    "                    y=(l+d)/4*sin(theta)+y,\n",
    "                    l=(l-d)/2,\n",
    "                    W=ww,\n",
    "                    lTarget = CBMDistributions.uniform(lMax-σlTarget,lMax+σlTarget), #New target length at which the bactery should divide\n",
    "                    type=0)\n",
    "            #Add a second cell\n",
    "            @addAgent(\n",
    "                    x=-(l+d)/4*cos(theta)+x,\n",
    "                    y=-(l+d)/4*sin(theta)+y,\n",
    "                    l=(l-d)/2,\n",
    "                    lTarget = CBMDistributions.uniform(lMax-σlTarget,lMax+σlTarget), #New target length at which the bactery should divide\n",
    "                    W=ww,\n",
    "                    type=0)\n",
    "            #Remove the old cell\n",
    "            @removeAgent()\n",
    "        end\n",
    "        # Probability of releasing PGA with a saturating function\n",
    "        # prelease = σ * pressure / (p_half + pressure)\n",
    "\n",
    "        # if CBMDistributions.uniform(0, 1) < prelease\n",
    "        #     # PGA release!\n",
    "        #     # You could mark it, count it, or log it here\n",
    "        #     # @info \"PGA released at step $(step) by agent ID $(id)\"\n",
    "        #     aux=CBMDistributions.rand_pm()\n",
    "        #     @addAgent(\n",
    "        #             # x=((l+d)*(rand()-1/2)+aux*d/2)*cos(theta)+x,\n",
    "        #             # y=((l+d)*(rand()-1/2)-aux*d/2)*sin(theta)+y,\n",
    "        #             x=(CBMDistributions.uniform(-1,1)*(l+d)/2+aux*d/2)*cos(theta)+x,\n",
    "        #             y=(CBMDistributions.uniform(-1,1)*(l+d)/2-aux*d/2)*sin(theta)+y,\n",
    "        #             l=0,\n",
    "        #             d=0.5,\n",
    "        #             lTarget = CBMDistributions.uniform(lMax-σlTarget,lMax+σlTarget), #New target length at which the bactery should divide\n",
    "        #             type=1)\n",
    "\n",
    "        # end\n",
    "\n",
    "\n",
    "           \n",
    "\n",
    "    end,\n",
    "\n",
    "    neighborsAlg=CBMNeighbors.CellLinked(cellEdge=4),\n",
    "    platform=CPU(),\n",
    "    agentAlg=CBMIntegrators.Heun()\n",
    ");"
   ]
  },
  {
   "cell_type": "markdown",
   "metadata": {},
   "source": [
    "## Grow colony from one cell"
   ]
  },
  {
   "cell_type": "code",
   "execution_count": 125,
   "metadata": {},
   "outputs": [],
   "source": [
    "com = Community(rods2dGrowth,\n",
    "            N=1,\n",
    "            dt=1.,\n",
    "            simBox = [-100 100;-100 100.],\n",
    "            );\n",
    "\n",
    "#Natural units scales\n",
    "m = 1.E-12 #ng\n",
    "t = 1/(60*60) # h\n",
    "d = 1.E-6 #um\n",
    "\n",
    "\n",
    "com.n=30\n",
    "com.Ebb=10. *m/(t^2*d)*1.E-3 #kPa\n",
    "com.Ebg=100. *m/(t^2*d)*1.E-3 #kPa\n",
    "com.Egg=100. *m/(t^2*d)*1.E-3 #kPa\n",
    "\n",
    "com.epsbb=1.E8 *m*d/t^2 #Pa um^2\n",
    "com.epsbg=18. *m*d/t^2 #Pa um^2\n",
    "com.epsgg=18. *m*d/t^2 #Pa um^2\n",
    "\n",
    "com.etab=500 *m/(t*d) #Pa h\n",
    "com.etag=500 *m/(t*d) #Pa h\n",
    "\n",
    "\n",
    "\n",
    "\n",
    "com.growth = 0.5 * t\n",
    "com.lMax = 3.     \n",
    "com.σlTarget = .2 \n",
    "com.α = 50\n",
    "com.σ = 5E-3\n",
    "com.type=0\n",
    "\n",
    "com.d = 1.        \n",
    "com.l = 2.99      \n",
    "com.lTarget = 3.  \n",
    "\n",
    "com.p_half=8\n",
    "\n",
    "com.x = 0\n",
    "com.y = 0\n",
    "com.theta = 0;"
   ]
  },
  {
   "cell_type": "code",
   "execution_count": 126,
   "metadata": {},
   "outputs": [
    {
     "name": "stdout",
     "output_type": "stream",
     "text": [
      "Step: 10000 N: 2\n",
      "Step: 20000 N: 4\n",
      "Step: 30000 N: 7\n",
      "Step: 40000 N: 8\n",
      "Step: 50000 N: 16\n",
      "Step: 60000 N: 16\n",
      "Step: 70000 N: 30\n",
      "Step: 80000 N: 38\n",
      "Step: 90000 N: 56\n",
      "Step: 100000 N: 78\n",
      "Step: 110000 N: 99\n",
      "Step: 120000 N: 140\n",
      "Step: 130000 N: 182\n",
      "Step: 140000 N: 249\n",
      "Step: 150000 N: 323\n"
     ]
    }
   ],
   "source": [
    "evolve!(com,\n",
    "        steps=150000,saveEach=1000,\n",
    "        preallocateAgents=5000,\n",
    "        saveCurrentState=true,\n",
    "        progressMessage=(com)->if round(Int,com.t/com.dt)%10000 == 0; println(\"Step: \",round(Int,com.t/com.dt), \" N: \", com.N); end)"
   ]
  },
  {
   "cell_type": "code",
   "execution_count": 127,
   "metadata": {},
   "outputs": [
    {
     "data": {
      "image/png": "[encoded data removed]",
      "text/html": [
       "<img width=600 height=400 style='object-fit: contain; height: auto;' src=\"data:image/png;base64, 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\"/>"
      ]
     },
     "execution_count": 127,
     "metadata": {},
     "output_type": "execute_result"
    }
   ],
   "source": [
    "# Elegimos un frame, por ejemplo el último\n",
    "p = com[end][:pressure]\n",
    "\n",
    "# Creamos la figura y el eje\n",
    "fig = Figure(size = (600, 400))\n",
    "ax = Axis(fig[1, 1]; xlabel = \"Presión\", ylabel = \"Frecuencia\", title = \"Histograma de presión\")\n",
    "\n",
    "# Dibujamos el histograma\n",
    "hist!(ax, p; bins = 30, color = :slateblue)\n",
    "\n",
    "fig  # Esto muestra la figura en una ventana interactiva"
   ]
  },
  {
   "cell_type": "code",
   "execution_count": 130,
   "metadata": {},
   "outputs": [
    {
     "data": {
      "text/plain": [
       "GLMakie.Screen(...)"
      ]
     },
     "execution_count": 130,
     "metadata": {},
     "output_type": "execute_result"
    }
   ],
   "source": [
    "fig = Figure(size=(1500,300))\n",
    "\n",
    "for (i,j) in enumerate([1:round(Int,length(com)/4):length(com);length(com)])\n",
    "    ax = Axis3(fig[1,i],\n",
    "                azimuth=3*π/2,\n",
    "                elevation=π/2,\n",
    "                zlabelvisible=false,\n",
    "                zticklabelsvisible=false,\n",
    "                zgridvisible=false,\n",
    "                zspinesvisible=false\n",
    "            )\n",
    "\n",
    "    plotMixedAgents2D!(\n",
    "    ax,\n",
    "    com[j][:x],\n",
    "    com[j][:y],\n",
    "    com[j][:d],\n",
    "    com[j][:l],\n",
    "    com[j][:theta],\n",
    "    com[j][:type],\n",
    "    com[j][:pressure],\n",
    "    colorrange = (0, maximum(com.pressure))\n",
    "    )\n",
    "\n",
    "    xlims!(-20,20)\n",
    "    ylims!(-20,20)\n",
    "end\n",
    "\n",
    "display(fig)"
   ]
  },
  {
   "cell_type": "code",
   "execution_count": 129,
   "metadata": {},
   "outputs": [
    {
     "data": {
      "text/plain": [
       "\"bacterias_video_pressure_atract.mp4\""
      ]
     },
     "execution_count": 129,
     "metadata": {},
     "output_type": "execute_result"
    }
   ],
   "source": [
    "using GLMakie\n",
    "\n",
    "fig = Figure(size = (600, 600))\n",
    "ax = Axis(fig[1, 1]; aspect = DataAspect())\n",
    "\n",
    "# Cálculo del máximo de presión en todos los frames\n",
    "max_pressure = maximum(com.pressure)\n",
    "\n",
    "GLMakie.record(fig, \"bacterias_video_pressure_atract.mp4\", 1:length(com); framerate = 15) do j\n",
    "    # Limpiar el eje\n",
    "    Makie.empty!(ax)\n",
    "\n",
    "    # Dibujar los agentes (usando tu función personalizada)\n",
    "    plotMixedAgents2D!(\n",
    "        ax,\n",
    "        com[j][:x],\n",
    "        com[j][:y],\n",
    "        com[j][:d],\n",
    "        com[j][:l],\n",
    "        com[j][:theta],\n",
    "        com[j][:type],\n",
    "        com[j][:pressure],\n",
    "        colorrange = (0, max_pressure)\n",
    "    )\n",
    "\n",
    "    xlims!(ax, -50, 50)\n",
    "    ylims!(ax, -50, 50)\n",
    "end\n"
   ]
  }
 ],
 "metadata": {
  "kernelspec": {
   "display_name": "Julia 1.10.4 1.10.4",
   "language": "julia",
   "name": "julia-1.10.4-1.10"
  },
  "language_info": {
   "file_extension": ".jl",
   "mimetype": "application/julia",
   "name": "julia",
   "version": "1.10.4"
  },
  "orig_nbformat": 4
 },
 "nbformat": 4,
 "nbformat_minor": 2
}
