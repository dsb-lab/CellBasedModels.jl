{
 "cells": [
  {
   "attachments": {},
   "cell_type": "markdown",
   "metadata": {},
   "source": [
    "# [Bacterial Colony Growth](@id Bacteries)\n",
    "\n",
    "In this example, we are going to create a bacterial model and grow a colony using it.\n",
    "\n",
    " - The implementation of the force interaction dynamics is the one presented by [Volfson et al. (2008)](https://www.pnas.org/doi/abs/10.1073/pnas.0706805105)\n",
    " - We use GPU accelerated dynamics\n",
    "\n",
    "As described in other models, it is advised that the models are constructed by parts to avoid having to find bugs in a very complex system. Hence, we will split the model in two parts:\n",
    "\n",
    " - Forces model\n",
    " - Growth model"
   ]
  },
  {
   "cell_type": "markdown",
   "metadata": {},
   "source": [
    "## Load the packages"
   ]
  },
  {
   "cell_type": "code",
   "execution_count": 1,
   "metadata": {},
   "outputs": [],
   "source": [
    "# function repulsiveForces(\n",
    "#     x,y,d,l,theta,etab,type,\n",
    "#     x2,y2,d2,l2,theta2,etag,type2, Ebb, Ebg, Egg\n",
    "    \n",
    "# )\n",
    "\n",
    "#     Fijx = 0.\n",
    "#     Fijy = 0.\n",
    "#     Wij = 0.\n",
    "\n",
    "#     if type==type2 && type==1\n",
    "#         xiAux,yiAux,xjAux,yjAux=x,y,x2,y2\n",
    "#     else\n",
    "#         #Function that finds the virtual spheres of contact between both rods\n",
    "#         xiAux,yiAux,xjAux,yjAux = CBMMetrics.rodIntersection(x,y,l,theta,x2,y2,l2,theta2)\n",
    "#     end\n",
    "\n",
    "#     #Compute distance between virtual spheres\n",
    "#     rij = sqrt((xiAux-xjAux)^2 +(yiAux-yjAux)^2)\n",
    "#     if rij > 0. && rij < (d+d2)/2 #If it is smaller than a diameter compute forces\n",
    "#         #Compute auxiliar\n",
    "#         hAux = (d+d2)/2 - rij\n",
    "#         #Compute direction\n",
    "#         nijx = (xiAux-xjAux)/rij\n",
    "#         nijy = (yiAux-yjAux)/rij\n",
    "#         if type==0 #rod\n",
    "\n",
    "#             #Compute the forces\n",
    "#             if type2==0 #rod-rod\n",
    "#                 FnAux = Ebb*d2^(1/2)*hAux^(3/2)/(etab*(l+d))\n",
    "#             else #rod-gel\n",
    "#                 FnAux = Ebg*d2^(1/2)*hAux^(3/2)/(etab*(l+d)) \n",
    "#             end\n",
    "#             #Compute the interaction forces\n",
    "#             Fijx = FnAux*nijx\n",
    "#             Fijy = FnAux*nijy\n",
    "#             #Append radial forces\n",
    "#             Wij = ((xiAux-x)*Fijy - (yiAux-y)*Fijx)*12/(etab*(l+d)^3)\n",
    "#         else # gel\n",
    "#              #Compute the forces\n",
    "#             if type2==0 #gel-rod\n",
    "#                 FnAux = Ebg*d2^(1/2)*hAux^(3/2)/(etag*d)  #d2??\n",
    "\n",
    "#             else #gel-gel\n",
    "#                 FnAux = Egg*d2^(1/2)*hAux^(3/2)/(etag*d)\n",
    "#             end\n",
    "#             #Compute the interaction forces\n",
    "#             Fijx = FnAux*nijx\n",
    "#             Fijy = FnAux*nijy\n",
    "#             #No radial forces\n",
    "#         end\n",
    "#     end\n",
    "\n",
    "#     return Fijx, Fijy, Wij\n",
    "\n",
    "# end"
   ]
  },
  {
   "cell_type": "code",
   "execution_count": 2,
   "metadata": {},
   "outputs": [],
   "source": [
    "# function attractiveForces(\n",
    "#     x,y,d,l,theta,etab,type,\n",
    "#     x2,y2,d2,l2,theta2,etag,type2, epsbb, epsbg, epsgg\n",
    "    \n",
    "# )\n",
    "\n",
    "  \n",
    "#     Fijx = 0.\n",
    "#     Fijy = 0.\n",
    "#     Wij = 0.\n",
    "\n",
    "#     xiAux,yiAux,xjAux,yjAux=x,y,x2,y2\n",
    "#     #Compute distance between central masses\n",
    "#     rij = sqrt((xiAux-xjAux)^2 +(yiAux-yjAux)^2)\n",
    "#     if rij > (d+d2)/2 && rij < (2*d+l) #If it is smaller than a diameter compute forces\n",
    "#         #Compute direction\n",
    "#         nijx = (xiAux-xjAux)/rij\n",
    "#         nijy = (yiAux-yjAux)/rij\n",
    "#         M=(d+d2)/2\n",
    "#         D=(2*d+l)\n",
    "#         if type==0 #rod\n",
    "\n",
    "#             #Compute the forces\n",
    "#             if type2==0 #rod-rod\n",
    "               \n",
    "#                 FnAux = epsbb*(rij/D-1)*(rij/M-1)*(rij/D)/(etab*d) \n",
    "                \n",
    "#             else #rod-gel\n",
    "#                 FnAux = epsbg*(rij/D-1)*(rij/M-1)*(rij/D)/(etab*d) \n",
    "          \n",
    "#             end\n",
    "#             #Compute the interaction forces\n",
    "#             Fijx = FnAux*nijx\n",
    "#             Fijy = FnAux*nijy\n",
    "#             #Append radial forces\n",
    "#             Wij = ((xiAux-x)*Fijy - (yiAux-y)*Fijx)/(etab*(l+d)^3)\n",
    "#         else # gel\n",
    "#             #Compute the forces\n",
    "#             if type2==0 #gel-rod\n",
    "#                 FnAux = epsbg*(rij/D-1)*(rij/M-1)*(rij/D)/(etag*d) \n",
    "#             else #gel-gel\n",
    "#                 FnAux = epsgg*(rij/D-1)*(rij/M-1)*(rij/D)/(etag*d) \n",
    "#             end\n",
    "#             #Compute the interaction forces\n",
    "#             Fijx = FnAux*nijx\n",
    "#             Fijy = FnAux*nijy\n",
    "#             #No radial forces\n",
    "#         end\n",
    "#     end\n",
    "\n",
    "#     return Fijx, Fijy, Wij\n",
    "\n",
    "# end"
   ]
  },
  {
   "cell_type": "code",
   "execution_count": 3,
   "metadata": {},
   "outputs": [],
   "source": [
    "# function attractiveForces(\n",
    "#     x,y,d,l,theta,etab,type,\n",
    "#     x2,y2,d2,l2,theta2,etag,type2, epsbb, epsbg, epsgg\n",
    "    \n",
    "# )\n",
    "\n",
    "  \n",
    "#     Fijx = 0.\n",
    "#     Fijy = 0.\n",
    "#     Wij = 0.\n",
    "\n",
    "#     gamma=24\n",
    "#     xiAux,yiAux,xjAux,yjAux=x,y,x2,y2\n",
    "#     #Compute distance between central masses\n",
    "#     rij = sqrt((xiAux-xjAux)^2 +(yiAux-yjAux)^2)\n",
    "#     if rij > 0. && rij < (d+d2+l2+l)*2 #If it is smaller than a diameter compute forces\n",
    "#         #Compute direction\n",
    "#         nijx = (xiAux-xjAux)/rij\n",
    "#         nijy = (yiAux-yjAux)/rij\n",
    "#         if type==0 #rod\n",
    "\n",
    "#             #Compute the forces\n",
    "#             if type2==0 #rod-rod\n",
    "#                 FnAux = -gamma*epsbb*((d+d2+l2+l)/(2*(rij)))^6/rij/(etab*(l+d))\n",
    "                \n",
    "#             else #rod-gel\n",
    "#                 FnAux = -gamma*epsbg*((d+d2+l2+l)/(2*(rij)))^6/rij/(etab*(l+d))\n",
    "          \n",
    "#             end\n",
    "#             #Compute the interaction forces\n",
    "#             Fijx = FnAux*nijx\n",
    "#             Fijy = FnAux*nijy\n",
    "#             #Append radial forces\n",
    "#             Wij = ((xiAux-x)*Fijy - (yiAux-y)*Fijx)/(etab*(l+d)^3)\n",
    "#         else # gel\n",
    "#             #Compute the forces\n",
    "#             if type2==0 #gel-rod\n",
    "#                 FnAux = -gamma*epsbg*((d+d2+l2+l)/(2*(rij)))^6/rij/(etag*d) \n",
    "#             else #gel-gel\n",
    "#                 FnAux = -gamma*epsgg*((d+d2+l2+l)/(2*(rij)))^6/rij/(etag*d) \n",
    "#             end\n",
    "#             #Compute the interaction forces\n",
    "#             Fijx = FnAux*nijx\n",
    "#             Fijy = FnAux*nijy\n",
    "#             #No radial forces\n",
    "#         end\n",
    "#     end\n",
    "\n",
    "#     return Fijx, Fijy, Wij\n",
    "\n",
    "# end"
   ]
  },
  {
   "cell_type": "code",
   "execution_count": 4,
   "metadata": {},
   "outputs": [
    {
     "name": "stderr",
     "output_type": "stream",
     "text": [
      "\u001b[32m\u001b[1m  Activating\u001b[22m\u001b[39m project at `c:\\Users\\u256063\\Desktop\\Projects\\ABM_2\\ABM_CBM`\n"
     ]
    }
   ],
   "source": [
    "import Pkg\n",
    "Pkg.activate(\"../\")\n",
    "Pkg.instantiate()\n"
   ]
  },
  {
   "cell_type": "code",
   "execution_count": 5,
   "metadata": {},
   "outputs": [
    {
     "name": "stderr",
     "output_type": "stream",
     "text": [
      "\u001b[32m\u001b[1m   Resolving\u001b[22m\u001b[39m package versions...\n",
      "\u001b[32m\u001b[1m  No Changes\u001b[22m\u001b[39m to `C:\\Users\\u256063\\Desktop\\Projects\\ABM_2\\ABM_CBM\\Project.toml`\n",
      "\u001b[32m\u001b[1m  No Changes\u001b[22m\u001b[39m to `C:\\Users\\u256063\\Desktop\\Projects\\ABM_2\\ABM_CBM\\Manifest.toml`\n"
     ]
    }
   ],
   "source": [
    "import Pkg; Pkg.add([\"Revise\", \"GLMakie\"])"
   ]
  },
  {
   "cell_type": "code",
   "execution_count": 6,
   "metadata": {},
   "outputs": [
    {
     "name": "stderr",
     "output_type": "stream",
     "text": [
      "\u001b[33m\u001b[1m┌ \u001b[22m\u001b[39m\u001b[33m\u001b[1mWarning: \u001b[22m\u001b[39mCUDA runtime library nvrtc64_112_0.dll was loaded from a system path. This may cause errors.\n",
      "\u001b[33m\u001b[1m│ \u001b[22m\u001b[39mEnsure that you have not set the LD_LIBRARY_PATH environment variable, or that it does not contain paths to CUDA libraries.\n",
      "\u001b[33m\u001b[1m└ \u001b[22m\u001b[39m\u001b[90m@ CUDA C:\\Users\\u256063\\.julia\\packages\\CUDA\\jdJ7Z\\src\\initialization.jl:187\u001b[39m\n"
     ]
    }
   ],
   "source": [
    "using Revise\n",
    "using CellBasedModels\n",
    "using CUDA\n",
    "using Distributions\n",
    "using GLMakie\n",
    "# using GeometryBasics\n",
    "import GLMakie: Point3f, Cylinder, Sphere, NoShading #Can be changes to Cairo or CLMakie"
   ]
  },
  {
   "attachments": {},
   "cell_type": "markdown",
   "metadata": {},
   "source": [
    "## Forces model\n",
    "\n",
    "We already use the defined forces model that is implemented in CBMModels. This is an exact copy of the rod model that you can find already predefined in `Models/rods.jl`. You can check the `Models` section of the documentation for more details.\n"
   ]
  },
  {
   "cell_type": "code",
   "execution_count": 7,
   "metadata": {},
   "outputs": [],
   "source": [
    "rod2D = ABM(2,\n",
    "    agent = Dict(\n",
    "            :theta=>Float64,\n",
    "            :d=>Float64,\n",
    "            :l=>Float64,\n",
    "            :fx=>Float64,\n",
    "            :fy=>Float64,\n",
    "            :W=>Float64,\n",
    "            :pressure=>Float64,\n",
    "            :type=>Int,\n",
    "        ),    #Local Interaction Parameters\n",
    "\n",
    "    model = Dict(\n",
    "            :n=>Int,\n",
    "            :Ebb=>Float64,\n",
    "            :Ebg=>Float64,\n",
    "            :Egg=>Float64,\n",
    "            :epsbb=>Float64,\n",
    "            :epsbg=>Float64,\n",
    "            :epsgg=>Float64,\n",
    "            :etab=>Float64,\n",
    "            :etag=>Float64,\n",
    "        ),        #Global parameters\n",
    "\n",
    "    agentODE = quote\n",
    "\n",
    "        fx = 0\n",
    "        fy = 0\n",
    "        W = 0\n",
    "        pressure = 0\n",
    "        @loopOverNeighbors i2 begin\n",
    "\n",
    "            #Use the model provided in the documentation\n",
    "            Fijx, Fijy, Wij = CBMModels.repulsiveForces(x,y,d,l,theta,etab,type, \n",
    "                                    x[i2],y[i2],d[i2],l[i2],theta[i2],etag,type[i2], Ebb, Ebg, Egg)\n",
    "\n",
    "            #Append the repulsive forces\n",
    "            fx += Fijx\n",
    "            fy += Fijy\n",
    "            W += Wij\n",
    "\n",
    "            #Keep track of preassure in the media\n",
    "            pressure += sqrt(Fijx^2+Fijy^2)\n",
    "            #Use the model provided in the documentation\n",
    "            Fijx, Fijy, Wij = CBMModels.attractiveForces(x,y,d,l,theta,etab,type, \n",
    "                                    x[i2],y[i2],d[i2],l[i2],theta[i2],etag,type[i2], epsbb, epsbg, epsgg)\n",
    "\n",
    "            \n",
    "            \n",
    "            #Append the repulsive forces\n",
    "            fx += Fijx\n",
    "            fy += Fijy\n",
    "            W += Wij\n",
    "            #Keep track of preassure in the media\n",
    "            pressure += sqrt(Fijx^2+Fijy^2)\n",
    "            \n",
    "        end\n",
    "\n",
    "        #Equations\n",
    "        dt(x) =  fx \n",
    "        dt(y) =  fy \n",
    "        dt(theta) =  W\n",
    "    end,\n",
    "\n",
    "    neighborsAlg=CBMNeighbors.CellLinked(cellEdge=4),\n",
    "    platform=GPU(),\n",
    "    agentAlg = CBMIntegrators.Heun()\n",
    ");\n"
   ]
  },
  {
   "attachments": {},
   "cell_type": "markdown",
   "metadata": {},
   "source": [
    "### Initialize a community with two bacteries and check forces"
   ]
  },
  {
   "cell_type": "code",
   "execution_count": 8,
   "metadata": {},
   "outputs": [
    {
     "data": {
      "text/plain": [
       "1.8000000000000003"
      ]
     },
     "execution_count": 8,
     "metadata": {},
     "output_type": "execute_result"
    }
   ],
   "source": [
    "com = Community(rod2D,\n",
    "            N=30,\n",
    "            dt=1.,\n",
    "            simBox = [-10 10;-10 10.],\n",
    "            );\n",
    "\n",
    "#Natural units scales\n",
    "m = 1.E-12 #ng\n",
    "t = 1/(60*60) # h\n",
    "d = 1.E-6 #um\n",
    "\n",
    "\n",
    "com.n=30\n",
    "com.Ebb=100. *m/(t^2*d)*1.E-3 #kPa\n",
    "com.Ebg=100. *m/(t^2*d)*1.E-3 #kPa\n",
    "com.Egg=100. *m/(t^2*d)*1.E-3 #kPa\n",
    "\n",
    "com.epsbb=3.E8 *m*d/t^2 #Pa um^2\n",
    "com.epsbg=28. *m*d/t^2 #Pa um^2\n",
    "com.epsgg=18. *m*d/t^2 #Pa um^2\n",
    "\n",
    "com.etab=500 *m/(t*d) #Pa h\n",
    "com.etag=500 *m/(t*d) #Pa h\n"
   ]
  },
  {
   "cell_type": "code",
   "execution_count": 9,
   "metadata": {},
   "outputs": [
    {
     "data": {
      "text/plain": [
       "([1.296], [0.003887999999999999], [1.8000000000000003])"
      ]
     },
     "execution_count": 9,
     "metadata": {},
     "output_type": "execute_result"
    }
   ],
   "source": [
    "com.Ebb, com.epsbb, com.etab"
   ]
  },
  {
   "cell_type": "code",
   "execution_count": 10,
   "metadata": {},
   "outputs": [],
   "source": [
    "for i in 1:com.N\n",
    "    com.theta[i] = rand() * 2π\n",
    "    com.x[i] = rand()*16-8\n",
    "    com.y[i] = rand()*16-8\n",
    "    if i <= com.n[1]  # agentes del 0 al 4 (long rods)\n",
    "        com.type[i] = 0\n",
    "        com.l[i] = 3.0\n",
    "        com.d[i] = 1.0\n",
    "    else       # agentes del 5 al 9 (puntos o discos)\n",
    "        com.type[i] = 1\n",
    "        com.l[i] = 0\n",
    "        com.d[i] = 0.8\n",
    "    end\n",
    "end"
   ]
  },
  {
   "cell_type": "code",
   "execution_count": 11,
   "metadata": {},
   "outputs": [],
   "source": [
    "evolve!(com,steps=8000,saveEach=100,preallocateAgents=com.N)"
   ]
  },
  {
   "cell_type": "code",
   "execution_count": 12,
   "metadata": {},
   "outputs": [
    {
     "data": {
      "text/plain": [
       "plotMixedAgents2D! (generic function with 1 method)"
      ]
     },
     "execution_count": 12,
     "metadata": {},
     "output_type": "execute_result"
    }
   ],
   "source": [
    "function plotMixedAgents2D!(ax, x, y, d, l, angle, type, p; kargs...)\n",
    "    for (xi, yi, li, di, ai, ti, pi) in zip(x, y, l, d, angle, type, p)\n",
    "\n",
    "\n",
    "        if ti== 0  # rods\n",
    "            colorval = pi\n",
    "            colormap = :inferno\n",
    "            meshscatter!(ax,\n",
    "                [xi + li/2 * cos(ai)],\n",
    "                [yi + li/2 * sin(ai)];\n",
    "                marker = Sphere(Point3f(0, 0, 0), Float32(1)),\n",
    "                markersize = [Point3f(di/2, di/2, di/2)],\n",
    "                color = [colorval],\n",
    "                colormap = colormap,\n",
    "                kargs...\n",
    "            )\n",
    "            meshscatter!(ax,\n",
    "                [xi - li/2 * cos(ai)],\n",
    "                [yi - li/2 * sin(ai)];\n",
    "                marker = Sphere(Point3f(0, 0, 0), Float32(1)),\n",
    "                markersize = [Point3f(di/2, di/2, di/2)],\n",
    "                color = [colorval],\n",
    "                colormap = colormap,\n",
    "                kargs...\n",
    "            )\n",
    "            meshscatter!(ax,\n",
    "                [xi],\n",
    "                [yi];\n",
    "                marker = Cylinder(Point3f(-.5, 0, 0), Point3f(.5, 0, 0), Float32(1)),\n",
    "                markersize = [Point3f(li, di/2, di/2)],\n",
    "                rotation = [ai],\n",
    "                color = [colorval],\n",
    "                colormap = colormap,\n",
    "                kargs...\n",
    "            )\n",
    "        else  # puntos\n",
    "            colorval = RGBf(0, 1, 1)  # rojo puro\n",
    "            meshscatter!(ax,\n",
    "                [Point3f(xi, yi, 0.0)];  # ¡usar coordenadas 3D!\n",
    "                marker = Sphere(Point3f(0, 0, 0), Float32(1)),\n",
    "                markersize = [Point3f(di/2, di/2, di/2)],  # ¡tamaño real 3D!\n",
    "                color = [colorval],\n",
    "                kargs...\n",
    "            )\n",
    "        end\n",
    "\n",
    "    end\n",
    "    return\n",
    "end\n"
   ]
  },
  {
   "cell_type": "code",
   "execution_count": 13,
   "metadata": {},
   "outputs": [
    {
     "data": {
      "text/plain": [
       "GLMakie.Screen(...)"
      ]
     },
     "execution_count": 13,
     "metadata": {},
     "output_type": "execute_result"
    }
   ],
   "source": [
    "fig = Figure(size=(1500,300))\n",
    "\n",
    "for (i,j) in enumerate([1:round(Int,length(com)/4):length(com);length(com)])\n",
    "    ax = Axis3(fig[1,i],\n",
    "                azimuth=3*π/2,\n",
    "                elevation=π/2,\n",
    "                zlabelvisible=false,\n",
    "                zticklabelsvisible=false,\n",
    "                zgridvisible=false,\n",
    "                zspinesvisible=false\n",
    "            )\n",
    "\n",
    "    plotMixedAgents2D!(\n",
    "    ax,\n",
    "    com[j][:x],\n",
    "    com[j][:y],\n",
    "    com[j][:d],\n",
    "    com[j][:l],\n",
    "    com[j][:theta],\n",
    "    com[j][:type],\n",
    "    com[j][:pressure],\n",
    "    colorrange = (0, maximum(com.pressure))\n",
    ")\n",
    "    xlims!(-10,10)\n",
    "    ylims!(-10,10)\n",
    "end\n",
    "\n",
    "display(fig)"
   ]
  },
  {
   "attachments": {},
   "cell_type": "markdown",
   "metadata": {},
   "source": [
    "## Growth model\n",
    "\n",
    "We construct over the forces model to add bacterial growth and cell division rules."
   ]
  },
  {
   "cell_type": "code",
   "execution_count": 14,
   "metadata": {},
   "outputs": [],
   "source": [
    "rods2dGrowth = ABM(2,\n",
    "    baseModelInit = [rod2D],\n",
    "\n",
    "    agent = Dict(\n",
    "                :lTarget => Float64,\n",
    "            ),\n",
    "\n",
    "    model = Dict(\n",
    "                :growth=>Float64,\n",
    "                :σlTarget=>Float64,\n",
    "                :lMax=>Float64,\n",
    "                :α=>Float64,\n",
    "                :σ=>Float64,\n",
    "                :p_half=>Float64,\n",
    "            ),\n",
    "\n",
    " \n",
    "    agentODE = quote\n",
    "        if type == 0\n",
    "            dt(l) = growth/(1+α*pressure) #linear growth with growth dependent on the pressure over the cell\n",
    "        end\n",
    "        \n",
    "    end,\n",
    "\n",
    "    agentRule = quote #Bound cells\n",
    "        #Add division\n",
    "        if l > lTarget\n",
    "            ww = CBMDistributions.uniform(-.1,.1)/1000 #To add some random torque at division time\n",
    "            # ww = 0 #To add some random torque at division time\n",
    "            #Add a new cell\n",
    "            @addAgent(\n",
    "                    x=(l+d)/4*cos(theta)+x,\n",
    "                    y=(l+d)/4*sin(theta)+y,\n",
    "                    l=(l-d)/2,\n",
    "                    W=ww,\n",
    "                    lTarget = CBMDistributions.uniform(lMax-σlTarget,lMax+σlTarget), #New target length at which the bactery should divide\n",
    "                    type=0)\n",
    "            #Add a second cell\n",
    "            @addAgent(\n",
    "                    x=-(l+d)/4*cos(theta)+x,\n",
    "                    y=-(l+d)/4*sin(theta)+y,\n",
    "                    l=(l-d)/2,\n",
    "                    lTarget = CBMDistributions.uniform(lMax-σlTarget,lMax+σlTarget), #New target length at which the bactery should divide\n",
    "                    W=ww,\n",
    "                    type=0)\n",
    "            #Remove the old cell\n",
    "            @removeAgent()\n",
    "        end\n",
    "        # Probability of releasing PGA with a saturating function\n",
    "        # prelease = σ * pressure / (p_half + pressure)\n",
    "\n",
    "        # if CBMDistributions.uniform(0, 1) < prelease\n",
    "        #     # PGA release!\n",
    "        #     # You could mark it, count it, or log it here\n",
    "        #     # @info \"PGA released at step $(step) by agent ID $(id)\"\n",
    "        #     aux=CBMDistributions.rand_pm()\n",
    "        #     @addAgent(\n",
    "        #             # x=((l+d)*(rand()-1/2)+aux*d/2)*cos(theta)+x,\n",
    "        #             # y=((l+d)*(rand()-1/2)-aux*d/2)*sin(theta)+y,\n",
    "        #             x=(CBMDistributions.uniform(-1,1)*(l+d)/2+aux*d/2)*cos(theta)+x,\n",
    "        #             y=(CBMDistributions.uniform(-1,1)*(l+d)/2-aux*d/2)*sin(theta)+y,\n",
    "        #             l=0,\n",
    "        #             d=0.5,\n",
    "        #             lTarget = CBMDistributions.uniform(lMax-σlTarget,lMax+σlTarget), #New target length at which the bactery should divide\n",
    "        #             type=1)\n",
    "\n",
    "        # end\n",
    "\n",
    "\n",
    "           \n",
    "\n",
    "    end,\n",
    "\n",
    "    neighborsAlg=CBMNeighbors.CellLinked(cellEdge=4),\n",
    "    platform=GPU(),\n",
    "    agentAlg=CBMIntegrators.Heun()\n",
    ");"
   ]
  },
  {
   "cell_type": "markdown",
   "metadata": {},
   "source": [
    "## Grow colony from one cell"
   ]
  },
  {
   "cell_type": "code",
   "execution_count": 20,
   "metadata": {},
   "outputs": [],
   "source": [
    "com = Community(rods2dGrowth,\n",
    "            N=1,\n",
    "            dt=1.,\n",
    "            simBox = [-100 100;-100 100.],\n",
    "            );\n",
    "\n",
    "#Natural units scales\n",
    "m = 1.E-12 #ng\n",
    "t = 1/(60*60) # h\n",
    "d = 1.E-6 #um\n",
    "\n",
    "\n",
    "com.n=30\n",
    "com.Ebb=10. *m/(t^2*d)*1.E-3 #kPa\n",
    "com.Ebg=100. *m/(t^2*d)*1.E-3 #kPa\n",
    "com.Egg=100. *m/(t^2*d)*1.E-3 #kPa\n",
    "\n",
    "com.epsbb=2.E7 *m*d/t^2 #Pa um^2\n",
    "com.epsbg=18. *m*d/t^2 #Pa um^2\n",
    "com.epsgg=18. *m*d/t^2 #Pa um^2\n",
    "\n",
    "com.etab=500 *m/(t*d) #Pa h\n",
    "com.etag=500 *m/(t*d) #Pa h\n",
    "\n",
    "\n",
    "\n",
    "\n",
    "com.growth = 0.5 * t\n",
    "com.lMax = 3.     \n",
    "com.σlTarget = .2 \n",
    "com.α = 200\n",
    "com.σ = 5E-3\n",
    "com.type=0\n",
    "\n",
    "com.d = 1.        \n",
    "com.l = 2.99      \n",
    "com.lTarget = 3.  \n",
    "\n",
    "com.p_half=8\n",
    "\n",
    "com.x = 0\n",
    "com.y = 0\n",
    "com.theta = 0;"
   ]
  },
  {
   "cell_type": "code",
   "execution_count": 21,
   "metadata": {},
   "outputs": [
    {
     "name": "stdout",
     "output_type": "stream",
     "text": [
      "Step: 10000 N: 2\n",
      "Step: 20000 N: 4\n",
      "Step: 30000 N: 6\n",
      "Step: 40000 N: 8\n",
      "Step: 50000 N: 16\n",
      "Step: 60000 N: 19\n",
      "Step: 70000 N: 32\n",
      "Step: 80000 N: 52\n",
      "Step: 90000 N: 64\n",
      "Step: 100000 N: 107\n",
      "Step: 110000 N: 146\n",
      "Step: 120000 N: 200\n",
      "Step: 130000 N: 293\n",
      "Step: 140000 N: 367\n",
      "Step: 150000 N: 511\n"
     ]
    }
   ],
   "source": [
    "evolve!(com,\n",
    "        steps=150000,saveEach=1000,\n",
    "        preallocateAgents=5000,\n",
    "        saveCurrentState=true,\n",
    "        progressMessage=(com)->if round(Int,com.t/com.dt)%10000 == 0; println(\"Step: \",round(Int,com.t/com.dt), \" N: \", com.N); end)"
   ]
  },
  {
   "cell_type": "code",
   "execution_count": 25,
   "metadata": {},
   "outputs": [
    {
     "name": "stdout",
     "output_type": "stream",
     "text": [
      "Step: 160000 N: 662\n",
      "Step: 170000 N: 851\n",
      "Step: 180000 N: 1084\n",
      "Step: 190000 N: 1348\n",
      "Step: 200000 N: 1686\n"
     ]
    }
   ],
   "source": [
    "evolve!(com,\n",
    "        steps=50000,saveEach=1000,\n",
    "        preallocateAgents=5000,\n",
    "        saveCurrentState=true,\n",
    "        progressMessage=(com)->if round(Int,com.t/com.dt)%10000 == 0; println(\"Step: \",round(Int,com.t/com.dt), \" N: \", com.N); end)"
   ]
  },
  {
   "cell_type": "code",
   "execution_count": 26,
   "metadata": {},
   "outputs": [
    {
     "data": {
      "image/png": "[encoded data removed]",
      "text/html": [
       "<img width=600 height=400 style='object-fit: contain; height: auto;' src=\"data:image/png;base64, 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\"/>"
      ]
     },
     "execution_count": 26,
     "metadata": {},
     "output_type": "execute_result"
    }
   ],
   "source": [
    "# Elegimos un frame, por ejemplo el último\n",
    "p = com[end][:pressure]\n",
    "\n",
    "# Creamos la figura y el eje\n",
    "fig = Figure(size = (600, 400))\n",
    "ax = Axis(fig[1, 1]; xlabel = \"Presión\", ylabel = \"Frecuencia\", title = \"Histograma de presión\")\n",
    "\n",
    "# Dibujamos el histograma\n",
    "hist!(ax, p; bins = 30, color = :slateblue)\n",
    "\n",
    "fig  # Esto muestra la figura en una ventana interactiva"
   ]
  },
  {
   "cell_type": "code",
   "execution_count": 27,
   "metadata": {},
   "outputs": [
    {
     "data": {
      "text/plain": [
       "GLMakie.Screen(...)"
      ]
     },
     "execution_count": 27,
     "metadata": {},
     "output_type": "execute_result"
    }
   ],
   "source": [
    "fig = Figure(size=(1500,300))\n",
    "\n",
    "for (i,j) in enumerate([1:round(Int,length(com)/4):length(com);length(com)])\n",
    "    ax = Axis3(fig[1,i],\n",
    "                azimuth=3*π/2,\n",
    "                elevation=π/2,\n",
    "                zlabelvisible=false,\n",
    "                zticklabelsvisible=false,\n",
    "                zgridvisible=false,\n",
    "                zspinesvisible=false\n",
    "            )\n",
    "\n",
    "    plotMixedAgents2D!(\n",
    "    ax,\n",
    "    com[j][:x],\n",
    "    com[j][:y],\n",
    "    com[j][:d],\n",
    "    com[j][:l],\n",
    "    com[j][:theta],\n",
    "    com[j][:type],\n",
    "    com[j][:pressure],\n",
    "    colorrange = (0, maximum(com.pressure))\n",
    "    )\n",
    "\n",
    "    xlims!(-20,20)\n",
    "    ylims!(-20,20)\n",
    "end\n",
    "\n",
    "display(fig)"
   ]
  },
  {
   "cell_type": "code",
   "execution_count": null,
   "metadata": {},
   "outputs": [],
   "source": [
    "using GLMakie\n",
    "\n",
    "fig = Figure(size = (600, 600))\n",
    "ax = Axis(fig[1, 1]; aspect = DataAspect())\n",
    "\n",
    "# Cálculo del máximo de presión en todos los frames\n",
    "max_pressure = maximum(com.pressure)\n",
    "\n",
    "GLMakie.record(fig, \"bacterias_video_pressure_atract_proves.mp4\", 1:length(com); framerate = 15) do j\n",
    "    # Limpiar el eje\n",
    "    Makie.empty!(ax)\n",
    "\n",
    "    # Dibujar los agentes (usando tu función personalizada)\n",
    "    plotMixedAgents2D!(\n",
    "        ax,\n",
    "        com[j][:x],\n",
    "        com[j][:y],\n",
    "        com[j][:d],\n",
    "        com[j][:l],\n",
    "        com[j][:theta],\n",
    "        com[j][:type],\n",
    "        com[j][:pressure],\n",
    "        colorrange = (0, max_pressure)\n",
    "    )\n",
    "\n",
    "    xlims!(ax, -50, 50)\n",
    "    ylims!(ax, -50, 50)\n",
    "end\n"
   ]
  }
 ],
 "metadata": {
  "kernelspec": {
   "display_name": "Julia 1.10.4 1.10.4",
   "language": "julia",
   "name": "julia-1.10.4-1.10"
  },
  "language_info": {
   "file_extension": ".jl",
   "mimetype": "application/julia",
   "name": "julia",
   "version": "1.10.4"
  },
  "orig_nbformat": 4
 },
 "nbformat": 4,
 "nbformat_minor": 2
}
