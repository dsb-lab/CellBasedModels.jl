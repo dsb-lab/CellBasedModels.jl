{
 "cells": [
  {
   "attachments": {},
   "cell_type": "markdown",
   "metadata": {},
   "source": [
    "# Introduction\n",
    "\n",
    "The basic structure of an agent-based simulation model is:\n",
    "\n",
    " 1. Definition of a model with its evolution rules.\n",
    " 2. Initialization of a community of agents to be evolved.\n",
    " 3. Evolution of agents during some iterations and storage of the simulation results.\n",
    " 4. Posterior analysis of the results.\n",
    "\n",
    "We will cover the different parts of a CellBasedModels.jl from how to define models to optimization of the models.\n",
    "\n",
    "First, we will need to upload the package."
   ]
  },
  {
   "cell_type": "code",
   "execution_count": null,
   "metadata": {},
   "outputs": [],
   "source": [
    "using CellBasedModels"
   ]
  },
  {
   "attachments": {},
   "cell_type": "markdown",
   "metadata": {},
   "source": [
    "## Basic Structures of the Package\n",
    "\n",
    "The package works around the two main structures:\n",
    "\n",
    " - `ABM`: is the structure that contains all the information of the parameters and rules of the agents.\n",
    " - `Community`: is the structure that containts a realization of a set of agents that have the parameters and evolution rules defined by an `ABM`. The Community structure will be initialized and then evolved using the rules defined in the ABM structure."
   ]
  }
 ],
 "metadata": {
  "kernelspec": {
   "display_name": "Python 3",
   "language": "python",
   "name": "python3"
  },
  "language_info": {
   "name": "python",
   "version": "3.11.1"
  },
  "orig_nbformat": 4,
  "vscode": {
   "interpreter": {
    "hash": "e7370f93d1d0cde622a1f8e1c04877d8463912d04d973331ad4851f04de6915a"
   }
  }
 },
 "nbformat": 4,
 "nbformat_minor": 2
}
