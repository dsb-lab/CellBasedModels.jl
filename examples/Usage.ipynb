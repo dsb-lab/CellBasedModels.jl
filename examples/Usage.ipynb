{
 "cells": [
  {
   "cell_type": "markdown",
   "source": [
    "# Usage"
   ],
   "metadata": {}
  },
  {
   "cell_type": "code",
   "execution_count": 114,
   "source": [
    "using AgentBasedModels"
   ],
   "outputs": [],
   "metadata": {}
  },
  {
   "cell_type": "markdown",
   "source": [
    "## Constructing an AgentBasedModel\n",
    "\n",
    "The most basic structure will be to define an agent and its properties.\n",
    "\n",
    "### Default parameters\n",
    "\n",
    "The Agent model has already defined some parameters that can be used by the user. These are:\n",
    "\n",
    " - `t`: The time of evolution.\n",
    " - `dt`: The step time between updates.\n",
    " - `N`: The number of agents.\n",
    " - `id`: The id numer of an agent.\n",
    " - `simulationBox`: The line, square or cube of simulation.\n",
    " - [`x`,`y`,`z`]: The position variables of the agent. Since we declared a model with 3 dimensions, we have all three."
   ],
   "metadata": {}
  },
  {
   "cell_type": "code",
   "execution_count": 23,
   "source": [
    "agent = Agent(3)"
   ],
   "outputs": [
    {
     "output_type": "execute_result",
     "data": {
      "text/plain": []
     },
     "metadata": {},
     "execution_count": 23
    },
    {
     "output_type": "stream",
     "name": "stdout",
     "text": [
      "PARAMETERS\n",
      "\tt\tdt\tN\tid\tsimulationBox\tx\ty\tz\n",
      "\n",
      "UPDATE RULES\n"
     ]
    }
   ],
   "metadata": {}
  },
  {
   "cell_type": "markdown",
   "source": [
    "### User defined parameters\n",
    "\n",
    "Apart from the default parameters, the user can define any other parameters necessary for its model.\n",
    "\n",
    "In the present, the user can declare parameters of the following types:\n",
    "\n",
    " - `localInt`\n",
    " - `localIntInteraction`\n",
    " - `localFloat`\n",
    " - `localFloatInteraction`\n",
    " - `globalFloat`\n",
    " - `globalInt`\n",
    " - `globalFloatInteraction`\n",
    " - `globalIntInteraction`\n",
    " - `medium`\n",
    "\n",
    "This types are:\n",
    "\n",
    " - `local`, `global` or `medium` depending if the parameter is a property the agent, the whole community or the medium.\n",
    " - `Int` or `Float` if the parameter should be an integer or a float.\n",
    " - `Interaction` if the parameter has to be reset to zero before each step (we will see in more detail this property when explaining interaction rules).\n",
    "\n",
    " As you will see, the parameter `medium` does not incorporate any specification of the type. This is because AgentBasedModels only allow mediums based on partial derivatives and thus, only Float mediums are allowed."
   ],
   "metadata": {}
  },
  {
   "cell_type": "code",
   "execution_count": 39,
   "source": [
    "agent = Agent(3,\n",
    "                localFloat = [:a,:b],\n",
    "                globalInt = [:c],\n",
    "                globalFloatInteraction = [:gfi]\n",
    "            )"
   ],
   "outputs": [
    {
     "output_type": "execute_result",
     "data": {
      "text/plain": []
     },
     "metadata": {},
     "execution_count": 39
    },
    {
     "output_type": "stream",
     "name": "stdout",
     "text": [
      "PARAMETERS\n",
      "\tt (Global Float)\n",
      "\tdt (Global Float)\n",
      "\tN (Global Int)\n",
      "\tid (Local Int)\n",
      "\tsimulationBox (SimulationBox Float)\n",
      "\tx (Local Float)\n",
      "\ty (Local Float)\n",
      "\tz (Local Float)\n",
      "\ta (Local Float)\n",
      "\tb (Local Float)\n",
      "\tgfi (Global Float)\n",
      "\tc (Global Int)\n",
      "\n",
      "\n",
      "UPDATE RULES\n"
     ]
    }
   ],
   "metadata": {}
  },
  {
   "cell_type": "markdown",
   "source": [
    "### Changing data type\n",
    "\n",
    "By default, Float types will be stored as `Float64` and Int types as `Int64` in CPU computations, and `32` format for GPU computations. \n",
    "\n",
    "If you would need to change this formats, you can always change them redefining the constants:"
   ],
   "metadata": {}
  },
  {
   "cell_type": "code",
   "execution_count": 76,
   "source": [
    "AgentBasedModels.FLOAT"
   ],
   "outputs": [
    {
     "output_type": "execute_result",
     "data": {
      "text/plain": [
       "Dict{Symbol, DataType} with 2 entries:\n",
       "  :CPU => Float64\n",
       "  :GPU => Float64"
      ]
     },
     "metadata": {},
     "execution_count": 76
    }
   ],
   "metadata": {}
  },
  {
   "cell_type": "code",
   "execution_count": 77,
   "source": [
    "AgentBasedModels.INT"
   ],
   "outputs": [
    {
     "output_type": "execute_result",
     "data": {
      "text/plain": [
       "Dict{Symbol, DataType} with 2 entries:\n",
       "  :CPU => Int64\n",
       "  :GPU => Int32"
      ]
     },
     "metadata": {},
     "execution_count": 77
    }
   ],
   "metadata": {}
  },
  {
   "cell_type": "markdown",
   "source": [
    "## Constructing a Community\n",
    "\n",
    "Once we have set up the parameters and rules of our agents, we need to create an initial community of agents.\n",
    "\n",
    "### Creating a Community\n",
    "\n",
    "We construct a set of agents calling the structure `Community`."
   ],
   "metadata": {}
  },
  {
   "cell_type": "code",
   "execution_count": 106,
   "source": [
    "community = Community(agent,N=10)"
   ],
   "outputs": [
    {
     "output_type": "execute_result",
     "data": {
      "text/plain": []
     },
     "metadata": {},
     "execution_count": 106
    },
    {
     "output_type": "stream",
     "name": "stdout",
     "text": [
      "Community with 10 agents.\n"
     ]
    }
   ],
   "metadata": {}
  },
  {
   "cell_type": "markdown",
   "source": [
    "### Accessing and setting community parameters\n",
    "\n",
    "We can easily access any of the parameters of the agent as a property of the created Community object.\n",
    "\n",
    "To retrieve a property:"
   ],
   "metadata": {}
  },
  {
   "cell_type": "code",
   "execution_count": 107,
   "source": [
    "community.x"
   ],
   "outputs": [
    {
     "output_type": "execute_result",
     "data": {
      "text/plain": [
       "10-element Vector{Float64}:\n",
       " 0.0\n",
       " 0.0\n",
       " 0.0\n",
       " 0.0\n",
       " 0.0\n",
       " 0.0\n",
       " 0.0\n",
       " 0.0\n",
       " 0.0\n",
       " 0.0"
      ]
     },
     "metadata": {},
     "execution_count": 107
    }
   ],
   "metadata": {}
  },
  {
   "cell_type": "markdown",
   "source": [
    "Take into account that global variables are stored as vectors of dimension 1 and will be returned the same way."
   ],
   "metadata": {}
  },
  {
   "cell_type": "code",
   "execution_count": 108,
   "source": [
    "community.N"
   ],
   "outputs": [
    {
     "output_type": "execute_result",
     "data": {
      "text/plain": [
       "1-element Vector{Int64}:\n",
       " 10"
      ]
     },
     "metadata": {},
     "execution_count": 108
    }
   ],
   "metadata": {}
  },
  {
   "cell_type": "markdown",
   "source": [
    "And to set a property:"
   ],
   "metadata": {}
  },
  {
   "cell_type": "code",
   "execution_count": 109,
   "source": [
    "community.x = rand(10) \n",
    "community.x"
   ],
   "outputs": [
    {
     "output_type": "execute_result",
     "data": {
      "text/plain": [
       "10-element Vector{Float64}:\n",
       " 0.14895388170521273\n",
       " 0.5288329863151697\n",
       " 0.09828923662495748\n",
       " 0.16229456278643783\n",
       " 0.4317789778074792\n",
       " 0.4351312496814155\n",
       " 0.46845523272652123\n",
       " 0.8666695756502663\n",
       " 0.6871995041321248\n",
       " 0.7844502348448836"
      ]
     },
     "metadata": {},
     "execution_count": 109
    }
   ],
   "metadata": {}
  },
  {
   "cell_type": "code",
   "execution_count": 110,
   "source": [
    "community.c = 2\n",
    "community.c"
   ],
   "outputs": [
    {
     "output_type": "execute_result",
     "data": {
      "text/plain": [
       "1-element Vector{Int64}:\n",
       " 2"
      ]
     },
     "metadata": {},
     "execution_count": 110
    }
   ],
   "metadata": {}
  },
  {
   "cell_type": "markdown",
   "source": [
    "## Preparing a community to be evolved\n",
    "\n",
    "The last step before being able to evolve a community is to load the community to the corresponding computational platform.\n",
    "\n",
    "For doing that we only need to call the function `loadToPlatform!`."
   ],
   "metadata": {}
  },
  {
   "cell_type": "code",
   "execution_count": 111,
   "source": [
    "loadToPlatform!(community,addAgents=10)"
   ],
   "outputs": [],
   "metadata": {}
  },
  {
   "cell_type": "markdown",
   "source": [
    "## Evolve a community"
   ],
   "metadata": {}
  }
 ],
 "metadata": {
  "orig_nbformat": 4,
  "language_info": {
   "file_extension": ".jl",
   "name": "julia",
   "mimetype": "application/julia",
   "version": "1.6.3"
  },
  "kernelspec": {
   "name": "julia-1.6",
   "display_name": "Julia 1.6.3",
   "language": "julia"
  }
 },
 "nbformat": 4,
 "nbformat_minor": 2
}