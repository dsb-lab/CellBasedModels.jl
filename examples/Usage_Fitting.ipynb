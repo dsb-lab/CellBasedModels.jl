{
 "cells": [
  {
   "cell_type": "code",
   "execution_count": 1,
   "metadata": {},
   "outputs": [
    {
     "data": {
      "text/plain": [
       "true"
      ]
     },
     "metadata": {},
     "output_type": "display_data"
    }
   ],
   "source": [
    "using CellBasedModels"
   ]
  },
  {
   "attachments": {},
   "cell_type": "markdown",
   "metadata": {},
   "source": [
    "# Model Fitting\n",
    "\n",
    "One of the aims of the agent based models is to describe experimental observations. However the models have a complex dependency of the parameters and in general not direct algorithms exist for their optimization.\n",
    "\n",
    "In the package we provide the submodule `Fitting` that provides of some fitting methods for complex parameter landscapes:\n",
    "\n",
    "|Methods|\n",
    "|:---:|\n",
    "|`gridSearch`|\n",
    "|`swarmAlgorithm`|\n",
    "|`beeColonyAlgorithm`|\n",
    "|`geneticAlgorithm`|\n",
    "\n",
    "All methods require two basic arguments:\n",
    "\n",
    " - An evaluation function. This is a function that has as input a set of parameters of the model in form of `DataFrameRow` and has to return a scalar value that indicates the goodness of the parameters. The usual steps in this function will be:\n",
    "    - Initialize a community with the provided parameters.\n",
    "    - Evolution of the community\n",
    "    - Evaluation of the goodness of fit.\n",
    " - A search space. Dictionary specifying the parameters to be fitted and the region of space in which they have to be fitted.\n",
    "\n",
    "Let's see a very simple example. This example in fact would not need such complex fitting algorithms as we will optimize the parameter of an ODE, but it is sufficiently concise to get the idea.\n",
    "\n",
    "**Example: Exponential decay**\n",
    "\n",
    "Imagine that we want to make an optimization of a model such:\n",
    "\n",
    "$$dx = -\\delta x $$\n",
    "\n",
    "which analytic solution is:\n",
    "\n",
    "$$x(t) = x_0 e^{-\\delta t} $$\n",
    "\n",
    "and we want to find both $x_0$ and $\\delta$. Consider that the data comes from $x_0=10$ and $\\delta = 1.$."
   ]
  },
  {
   "cell_type": "code",
   "execution_count": 27,
   "metadata": {},
   "outputs": [],
   "source": [
    "model = Agent(1,\n",
    "    globalFloat = [:δ],\n",
    "    updateVariable = quote\n",
    "        d( x ) = dt( -δ*x )\n",
    "    end,\n",
    "    integrator = :Euler\n",
    ");"
   ]
  },
  {
   "attachments": {},
   "cell_type": "markdown",
   "metadata": {},
   "source": [
    "Moreover, we make a function of the exact. In other cases, this may be actual data from experiments."
   ]
  },
  {
   "cell_type": "code",
   "execution_count": 28,
   "metadata": {},
   "outputs": [],
   "source": [
    "analyticSolution(t) = 10 .*exp.(-t);"
   ]
  },
  {
   "attachments": {},
   "cell_type": "markdown",
   "metadata": {},
   "source": [
    "## Evaluation function\n",
    "\n",
    "The evaluation function is a function that accepts a `DataFrameRow` which contains an instance of candidate parameters of the model. \n",
    "The function is generic and internally you can declare a model, instantiate a community and evolve it as described in the previous steps.\n",
    "After the simulation has taken place, you evaluate how good is the fit to your observations. For that you define an error function to be **minimized**. The outcome of the error function is what the evaluation function will return.\n",
    "\n",
    "For the example above a simulation function will look like:"
   ]
  },
  {
   "cell_type": "code",
   "execution_count": 29,
   "metadata": {},
   "outputs": [],
   "source": [
    "function fitting(pars)\n",
    "    #Initialize the model\n",
    "    com = Community(model,\n",
    "                x = [pars.x0],\n",
    "                δ=[pars.δ],\n",
    "                dt=[0.1]\n",
    "            )\n",
    "    #Evolve the model\n",
    "    evolve!(com,steps=10)\n",
    "    #Calulate error\n",
    "    d = getParameter(com,[:t,:x])\n",
    "    loos = sum( [abs( analyticSolution.(t[1]) .- x[1]) for (t,x) in zip(d[:t],d[:x])] )\n",
    "    \n",
    "    return loos\n",
    "end;"
   ]
  },
  {
   "attachments": {},
   "cell_type": "markdown",
   "metadata": {},
   "source": [
    "## Search space - gridSearch\n",
    "\n",
    "The most basic algorithm will be to explore extensively a grid of parameter combinations and get the best one. For simple models with not many parameters, this method can be the fastest one.\n",
    "\n",
    "For this method we have to provide vectors of potential candidates for each of the explored parameters."
   ]
  },
  {
   "cell_type": "code",
   "execution_count": 31,
   "metadata": {},
   "outputs": [],
   "source": [
    "searchSpace = Dict(\n",
    "    :x0 => Vector(.0:1:11),\n",
    "    :δ => Vector(.1:.1:2) \n",
    ");"
   ]
  },
  {
   "cell_type": "markdown",
   "metadata": {},
   "source": [
    "Finally, we can explore the space of parameters to fit our model."
   ]
  },
  {
   "cell_type": "code",
   "execution_count": 33,
   "metadata": {},
   "outputs": [
    {
     "data": {
      "text/html": [
       "<p>DataFrameRow (3 columns)</p><table class=\"data-frame\"><thead><tr><th></th><th>x0</th><th>δ</th><th>_score_</th></tr><tr><th></th><th>Float64</th><th>Float64</th><th>Float64</th></tr></thead><tbody><tr><th>119</th><td>10.0</td><td>1.0</td><td>1.48518</td></tr></tbody></table>"
      ],
      "text/latex": [
       "\\begin{tabular}{r|ccc}\n",
       "\t& x0 & δ & \\_score\\_\\\\\n",
       "\t\\hline\n",
       "\t& Float64 & Float64 & Float64\\\\\n",
       "\t\\hline\n",
       "\t119 & 10.0 & 1.0 & 1.48518 \\\\\n",
       "\\end{tabular}\n"
      ],
      "text/plain": [
       "\u001b[1mDataFrameRow\u001b[0m\n",
       "\u001b[1m Row \u001b[0m│\u001b[1m x0      \u001b[0m\u001b[1m δ       \u001b[0m\u001b[1m _score_ \u001b[0m\n",
       "\u001b[1m     \u001b[0m│\u001b[90m Float64 \u001b[0m\u001b[90m Float64 \u001b[0m\u001b[90m Float64 \u001b[0m\n",
       "─────┼───────────────────────────\n",
       " 119 │    10.0      1.0  1.48518"
      ]
     },
     "metadata": {},
     "output_type": "display_data"
    }
   ],
   "source": [
    "Fitting.gridSearch(fitting, searchSpace)"
   ]
  },
  {
   "attachments": {},
   "cell_type": "markdown",
   "metadata": {},
   "source": [
    "## Search space - Swarm Argorithm and others\n",
    "\n",
    "For more complex spaces that have many parameters, the grid search algorithm can be computationally impossible as the evaluations require to search all the combinations of all parameters. \n",
    "For that, algorithms like the `swarmAlgorthms`, the `geneticAlgorithm` or the `beeAlgorthm` can be far more convenient.\n",
    "\n",
    "For this algorithms, you can provide search spaces both in the terms of vectors of points for non-coninuous parameters as iin gridSearch or regions of exploration in the shape of tuples. \n",
    "\n",
    "In our model, both parameters are continuous so we will define them as continous regions with tupples."
   ]
  },
  {
   "cell_type": "code",
   "execution_count": 37,
   "metadata": {},
   "outputs": [],
   "source": [
    "searchSpace = Dict(\n",
    "    :x0 => (.0,20),\n",
    "    :δ => (.0,2) \n",
    ");"
   ]
  },
  {
   "cell_type": "code",
   "execution_count": 41,
   "metadata": {},
   "outputs": [
    {
     "data": {
      "text/html": [
       "<p>DataFrameRow (6 columns)</p><table class=\"data-frame\"><thead><tr><th></th><th>x0</th><th>δ</th><th>x0_velocity_</th><th>δ_velocity_</th><th>_score_</th><th>_generation_</th></tr><tr><th></th><th>Float64</th><th>Float64</th><th>Float64</th><th>Float64</th><th>Float64</th><th>Int64</th></tr></thead><tbody><tr><th>947</th><td>9.64587</td><td>0.885886</td><td>0.185593</td><td>0.0242186</td><td>1.05475</td><td>10</td></tr></tbody></table>"
      ],
      "text/latex": [
       "\\begin{tabular}{r|cccccc}\n",
       "\t& x0 & δ & x0\\_velocity\\_ & δ\\_velocity\\_ & \\_score\\_ & \\_generation\\_\\\\\n",
       "\t\\hline\n",
       "\t& Float64 & Float64 & Float64 & Float64 & Float64 & Int64\\\\\n",
       "\t\\hline\n",
       "\t947 & 9.64587 & 0.885886 & 0.185593 & 0.0242186 & 1.05475 & 10 \\\\\n",
       "\\end{tabular}\n"
      ],
      "text/plain": [
       "\u001b[1mDataFrameRow\u001b[0m\n",
       "\u001b[1m Row \u001b[0m│\u001b[1m x0      \u001b[0m\u001b[1m δ        \u001b[0m\u001b[1m x0_velocity_ \u001b[0m\u001b[1m δ_velocity_ \u001b[0m\u001b[1m _score_ \u001b[0m\u001b[1m _generation_ \u001b[0m\n",
       "\u001b[1m     \u001b[0m│\u001b[90m Float64 \u001b[0m\u001b[90m Float64  \u001b[0m\u001b[90m Float64      \u001b[0m\u001b[90m Float64     \u001b[0m\u001b[90m Float64 \u001b[0m\u001b[90m Int64        \u001b[0m\n",
       "─────┼─────────────────────────────────────────────────────────────────────\n",
       " 947 │ 9.64587  0.885886      0.185593    0.0242186  1.05475            10"
      ]
     },
     "metadata": {},
     "output_type": "display_data"
    }
   ],
   "source": [
    "Fitting.swarmAlgorithm(fitting, searchSpace)"
   ]
  }
 ],
 "metadata": {
  "kernelspec": {
   "display_name": "Julia 1.8.0",
   "language": "julia",
   "name": "julia-1.8"
  },
  "language_info": {
   "file_extension": ".jl",
   "mimetype": "application/julia",
   "name": "julia",
   "version": "1.8.0"
  },
  "orig_nbformat": 4
 },
 "nbformat": 4,
 "nbformat_minor": 2
}
