{
 "cells": [
  {
   "cell_type": "code",
   "execution_count": 27,
   "id": "d1119bad-4145-4ed8-85c1-96e64a7b7fdf",
   "metadata": {},
   "outputs": [],
   "source": [
    "using CellBasedModels\n",
    "using CairoMakie\n",
    "Makie.inline!(true);"
   ]
  },
  {
   "cell_type": "code",
   "execution_count": 45,
   "id": "1744a407-9b7b-42f0-907e-5b65dfe9baa1",
   "metadata": {},
   "outputs": [],
   "source": [
    "include(\"physiCell.jl\");"
   ]
  },
  {
   "cell_type": "code",
   "execution_count": 42,
   "id": "f41f5bf6-7c9c-4dbd-bbb7-9252d915c24f",
   "metadata": {},
   "outputs": [],
   "source": [
    "model = ABM(3,\n",
    "    baseModelInit = [\n",
    "        volumeModel,\n",
    "        cellCycleLiveCellsModel,\n",
    "        cellDeathApoptosisModel,\n",
    "        cellDivisionModel\n",
    "    ]\n",
    ");"
   ]
  },
  {
   "cell_type": "code",
   "execution_count": 44,
   "id": "8ae22394-ad2c-440c-a0d9-f0e23f49686c",
   "metadata": {},
   "outputs": [
    {
     "data": {
      "text/plain": []
     },
     "execution_count": 44,
     "metadata": {},
     "output_type": "execute_result"
    },
    {
     "name": "stdout",
     "output_type": "stream",
     "text": [
      "Community with 10 agents.\n"
     ]
    }
   ],
   "source": [
    "com = Community(model, N=10, dt=0.1)"
   ]
  },
  {
   "cell_type": "code",
   "execution_count": 52,
   "id": "5414b17f-3283-42d1-818b-968573b3c144",
   "metadata": {},
   "outputs": [
    {
     "name": "stdout",
     "output_type": "stream",
     "text": [
      "fCN\n",
      "rC\n",
      "v\n",
      "rF\n",
      "fF\n",
      "vN\n",
      "rN\n",
      "vNStarget\n",
      "rb\n",
      "rNApop\n",
      "rFApop\n",
      "rCApop\n"
     ]
    }
   ],
   "source": [
    "for params in [parametersVolumeModel, parametersLiveCellCycleModel, parametersDeathApoptosisModel]\n",
    "    for p in keys(params)\n",
    "        println(p)\n",
    "#        com[p] = params[p]\n",
    "    end\n",
    "end"
   ]
  },
  {
   "cell_type": "code",
   "execution_count": null,
   "id": "b3a7d895-5a30-489f-88bd-ca36147805f4",
   "metadata": {},
   "outputs": [],
   "source": []
  }
 ],
 "metadata": {
  "kernelspec": {
   "display_name": "Julia 1.8.3",
   "language": "julia",
   "name": "julia-1.8"
  },
  "language_info": {
   "file_extension": ".jl",
   "mimetype": "application/julia",
   "name": "julia",
   "version": "1.8.3"
  }
 },
 "nbformat": 4,
 "nbformat_minor": 5
}
