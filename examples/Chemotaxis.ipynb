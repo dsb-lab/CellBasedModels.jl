{
 "cells": [
  {
   "attachments": {},
   "cell_type": "markdown",
   "id": "1315791a",
   "metadata": {},
   "source": [
    "# [Bacterial chemotaxis](@id Chemotaxis)\n",
    "\n",
    "We use the model of bacterial cells by [Volfson et al. (2008)](https://www.pnas.org/doi/abs/10.1073/pnas.0706805105) and modify it to add active movement to the bacteries.\n",
    "\n",
    "Over the physical model we add some active forces and a tumbling displacement model. The original physical model can be found in `Models/rods.jl`. We can copy its code and modify it in the following.\n",
    "\n",
    " - Add to the moving force an additional propulsion term.\n",
    " - Add to the agents a tumble and run protocol.\n",
    " - Add a medium which the model will detect.\n",
    " - Keep cells inside some boundaries."
   ]
  },
  {
   "cell_type": "markdown",
   "id": "ea2c1d44",
   "metadata": {},
   "source": [
    "## Load packages"
   ]
  },
  {
   "cell_type": "code",
   "execution_count": 1,
   "id": "e4308bb8",
   "metadata": {},
   "outputs": [
    {
     "name": "stderr",
     "output_type": "stream",
     "text": [
      "\u001b[32m\u001b[1m  Activating\u001b[22m\u001b[39m project at `c:\\Users\\u256063\\Desktop\\Projects\\ABM_2\\ABM_CBM`\n",
      "\u001b[32m\u001b[1mPrecompiling\u001b[22m\u001b[39m project...\n",
      "\u001b[36m\u001b[1m        Info\u001b[22m\u001b[39m Given CellBasedModels was explicitly requested, output will be shown live \u001b[0K\n",
      "\u001b[0K\u001b[33m\u001b[1m┌ \u001b[22m\u001b[39m\u001b[33m\u001b[1mWarning: \u001b[22m\u001b[39mCUDA runtime library nvrtc64_112_0.dll was loaded from a system path. This may cause errors.\n",
      "\u001b[0K\u001b[33m\u001b[1m│ \u001b[22m\u001b[39mEnsure that you have not set the LD_LIBRARY_PATH environment variable, or that it does not contain paths to CUDA libraries.\n",
      "\u001b[0K\u001b[33m\u001b[1m└ \u001b[22m\u001b[39m\u001b[90m@ CUDA C:\\Users\\u256063\\.julia\\packages\\CUDA\\jdJ7Z\\src\\initialization.jl:187\u001b[39m\n",
      "\u001b[32m  ✓ \u001b[39mCellBasedModels\n",
      "  1 dependency successfully precompiled in 80 seconds. 439 already precompiled.\n",
      "  \u001b[33m1\u001b[39m dependency had output during precompilation:\u001b[33m\n",
      "┌ \u001b[39mCellBasedModels\u001b[33m\n",
      "│  \u001b[39m[Output was shown above]\u001b[33m\n",
      "└  \u001b[39m\n"
     ]
    }
   ],
   "source": [
    "import Pkg\n",
    "Pkg.activate(\"../\")\n",
    "Pkg.instantiate()\n"
   ]
  },
  {
   "cell_type": "code",
   "execution_count": 2,
   "id": "78dd945f-b644-4e03-a8bf-477e27d11b82",
   "metadata": {},
   "outputs": [
    {
     "name": "stderr",
     "output_type": "stream",
     "text": [
      "\u001b[36m\u001b[1m[ \u001b[22m\u001b[39m\u001b[36m\u001b[1mInfo: \u001b[22m\u001b[39mPrecompiling CellBasedModels [388cb286-f2b1-4654-a3bb-2e137a39c658]\n",
      "\u001b[33m\u001b[1m┌ \u001b[22m\u001b[39m\u001b[33m\u001b[1mWarning: \u001b[22m\u001b[39mCUDA runtime library nvrtc64_112_0.dll was loaded from a system path. This may cause errors.\n",
      "\u001b[33m\u001b[1m│ \u001b[22m\u001b[39mEnsure that you have not set the LD_LIBRARY_PATH environment variable, or that it does not contain paths to CUDA libraries.\n",
      "\u001b[33m\u001b[1m└ \u001b[22m\u001b[39m\u001b[90m@ CUDA C:\\Users\\u256063\\.julia\\packages\\CUDA\\jdJ7Z\\src\\initialization.jl:187\u001b[39m\n",
      "\u001b[33m\u001b[1m┌ \u001b[22m\u001b[39m\u001b[33m\u001b[1mWarning: \u001b[22m\u001b[39mCUDA runtime library nvrtc64_112_0.dll was loaded from a system path. This may cause errors.\n",
      "\u001b[33m\u001b[1m│ \u001b[22m\u001b[39mEnsure that you have not set the LD_LIBRARY_PATH environment variable, or that it does not contain paths to CUDA libraries.\n",
      "\u001b[33m\u001b[1m└ \u001b[22m\u001b[39m\u001b[90m@ CUDA C:\\Users\\u256063\\.julia\\packages\\CUDA\\jdJ7Z\\src\\initialization.jl:187\u001b[39m\n"
     ]
    }
   ],
   "source": [
    "using CellBasedModels \n",
    "using GLMakie\n",
    "Makie.inline!(true)\n",
    "# using GeometryBasics\n",
    "using Distributions\n",
    "using CUDA"
   ]
  },
  {
   "attachments": {},
   "cell_type": "markdown",
   "id": "7dff411e",
   "metadata": {},
   "source": [
    "## Modify the model\n",
    "\n",
    "The model is a copy of the model as provided in `Models/rods.jl`. We mark the added lines to the code to adapt it to a chemotaxis model."
   ]
  },
  {
   "cell_type": "code",
   "execution_count": 3,
   "id": "5c0c6f33",
   "metadata": {},
   "outputs": [],
   "source": [
    "rods2DChemotaxis = ABM(2,\n",
    "    agent = Dict(\n",
    "            :vx=>Float64,\n",
    "            :vy=>Float64,\n",
    "            :theta=>Float64,\n",
    "            :ω=>Float64,\n",
    "            :d=>Float64,\n",
    "            :l=>Float64,\n",
    "            :m=>Float64,\n",
    "            :fx=>Float64,\n",
    "            :fy=>Float64,\n",
    "            :W=>Float64,\n",
    "            :pressure=>Float64,\n",
    "            :tTumble=>Float64, #We add to the agent a time to tumble or to run\n",
    "            :active=>Bool,     #Add a switch to change between tumbling and running\n",
    "        ),\n",
    "\n",
    "    model = Dict(\n",
    "            :kn=>Float64,\n",
    "            :γn=>Float64,\n",
    "            :γt=>Float64,\n",
    "            :μcc=>Float64,\n",
    "            :μcw=>Float64,\n",
    "            :β=>Float64,\n",
    "            :βω=>Float64,\n",
    "            :ωTumble=>Float64, #Add a torque of tumbling\n",
    "            :τTumble=>Float64, #Add a frequency of tumbling\n",
    "            :fChem=>Float64,   #Add a force of propulsion\n",
    "            :DMedium=>Float64, #Add a diffusion constant of the medium\n",
    "            :ωMedium=>Float64  #Add a frequency of the oscillating medium\n",
    "        ),\n",
    "\n",
    "    medium = Dict(\n",
    "        :mm => Float64        #Add a medium parameter\n",
    "    ),\n",
    "\n",
    "    agentODE = quote\n",
    "\n",
    "        fx = 0\n",
    "        fy = 0\n",
    "        W = 0\n",
    "        pressure = 0\n",
    "        @loopOverNeighbors i2 begin\n",
    "\n",
    "            Fijx, Fijy, Wij = CBMModels.rodForces(\n",
    "                                    x,y,d,l,theta,vx,vy,m,\n",
    "                                    x[i2],y[i2],d[i2],l[i2],theta[i2],vx[i2],vy[i2],m[i2],\n",
    "                                    kn,γn,γt,μcc,μcw\n",
    "                                )\n",
    "\n",
    "            #Append the interaction forces\n",
    "            fx += Fijx\n",
    "            fy += Fijy\n",
    "            #Append radial forces\n",
    "            W += Wij\n",
    "            #Keep track of preassure in the media\n",
    "            pressure += sqrt(Fijx^2+Fijy^2)\n",
    "            \n",
    "        end\n",
    "\n",
    "        #Equations\n",
    "        dt(x) =  vx \n",
    "        dt(y) =  vy \n",
    "        dt(vx) =  -β*vx+fx/m + active * fChem * cos(theta) #Add the propulsion force\n",
    "        dt(vy) =  -β*vy+fy/m + active * fChem * sin(theta) #Add the propulsion force\n",
    "        dt(theta) =  ω\n",
    "        dt(ω) =  W/(m*(d+l)^2/12+m*d^2)-βω*ω \n",
    "        \n",
    "    end,\n",
    "\n",
    "    agentRule = quote\n",
    "        #Code rule switch between tumbling and running\n",
    "        if tTumble < t && active #Activate tumbling if the particle was active (running) and the tumbling time ended\n",
    "            vx = 0\n",
    "            vy = 0\n",
    "            active = false\n",
    "            ω += ωTumble\n",
    "            tTumble += 1.\n",
    "        elseif tTumble < t && !active # Activate tumbling if the particle was tumbling (active off) and the running time ended (we resuse the tTumble time)\n",
    "            ω = 0\n",
    "            active = true\n",
    "            tTumble += CBMDistributions.exponential((2-mm)*τTumble)\n",
    "        end\n",
    "\n",
    "        # Very rudementary rule to to fix the bacteries to move inside the boundaries using onluy the center of the rod\n",
    "        if x < simBox[1,1]\n",
    "            x = simBox[1,1]\n",
    "        elseif x > simBox[1,2]\n",
    "            x = simBox[1,2]\n",
    "        end\n",
    "        if y < simBox[2,1]\n",
    "            y = simBox[2,1]\n",
    "        elseif y > simBox[2,2]\n",
    "            y = simBox[2,2]\n",
    "        end\n",
    "\n",
    "    end,\n",
    "\n",
    "    #Medium dynamics with dirichlet conditions and a wall that is as oscillating source of material\n",
    "    mediumODE=quote \n",
    "        if @mediumInside()\n",
    "            dt(mm) = DMedium*@∂2(1,mm)# we only diffuse in x as the symmetry is in x\n",
    "        elseif @mediumBorder(1,-1)\n",
    "            mm = 0\n",
    "        elseif @mediumBorder(1,1)\n",
    "            mm = sin(ωMedium*t)+1 #Oscillatory behaviour\n",
    "        elseif @mediumBorder(2,-1)\n",
    "            mm = 0\n",
    "        elseif @mediumBorder(2,-1)\n",
    "            mm = 0\n",
    "        end\n",
    "    end,\n",
    "\n",
    "    neighborsAlg=CBMNeighbors.CellLinked(cellEdge=4),\n",
    "    platform=GPU()\n",
    ");"
   ]
  },
  {
   "attachments": {},
   "cell_type": "markdown",
   "id": "c907f726",
   "metadata": {},
   "source": [
    "## Initialising the community"
   ]
  },
  {
   "cell_type": "code",
   "execution_count": 4,
   "id": "21f58354-8bd8-4575-af68-931eeb54cec6",
   "metadata": {},
   "outputs": [],
   "source": [
    "com = Community(\n",
    "    rods2DChemotaxis,\n",
    "    N=75,\n",
    "    dt=0.1,\n",
    "    simBox=[-20 20;-20 20.],\n",
    "    NMedium=[100,100],\n",
    ")\n",
    "\n",
    "m = 1/100\n",
    "g = 1/10000\n",
    "d = 1\n",
    "com.kn = 2E6      * (m*g/d)\n",
    "com.γn = 2.2E2    * sqrt(g/d)\n",
    "com.γt = 2.2E2    * sqrt(g/d)\n",
    "com.μcc = 0.1\n",
    "com.μcw = 0.8\n",
    "com.β = .8\n",
    "com.βω = .8\n",
    "com.fChem = 1\n",
    "com.τTumble = 2\n",
    "# com.τTumbleMin = 1\n",
    "com.ωTumble = 1\n",
    "com.ωMedium = .01\n",
    "com.DMedium = 3\n",
    "\n",
    "com.m = 1.        \n",
    "com.d = 1.        \n",
    "com.l = 3;\n",
    "com.x = rand(Uniform(com.simBox[1,:]...),com.N)\n",
    "com.y = rand(Uniform(com.simBox[2,:]...),com.N)\n",
    "com.theta = rand(Uniform(0,2π),com.N);"
   ]
  },
  {
   "attachments": {},
   "cell_type": "markdown",
   "id": "da4c7291",
   "metadata": {},
   "source": [
    "## Evolving the community\n",
    "\n",
    "As the evolution function may take some time, we add a progress message to the evolution to provide information of progress."
   ]
  },
  {
   "cell_type": "code",
   "execution_count": 5,
   "id": "2d896cff",
   "metadata": {},
   "outputs": [
    {
     "name": "stdout",
     "output_type": "stream",
     "text": [
      "Step: 10\n",
      "Step: 20\n",
      "Step: 30\n",
      "Step: 40\n",
      "Step: 50\n",
      "Step: 60\n",
      "Step: 70\n",
      "Step: 80\n",
      "Step: 90\n",
      "Step: 100\n"
     ]
    }
   ],
   "source": [
    "evolve!(com,steps=100,saveEach=10,progressMessage=(com)->println(\"Step: \",round(Int,com.t)*10))"
   ]
  },
  {
   "attachments": {},
   "cell_type": "markdown",
   "id": "45acfdad",
   "metadata": {},
   "source": [
    "## Plot of the results\n",
    "\n",
    " - We plot samples of the medium and bacteries.\n",
    " - The mean position of the bacteries over time."
   ]
  },
  {
   "cell_type": "code",
   "execution_count": 6,
   "id": "eb7084b6",
   "metadata": {},
   "outputs": [
    {
     "name": "stderr",
     "output_type": "stream",
     "text": [
      "\u001b[33m\u001b[1m┌ \u001b[22m\u001b[39m\u001b[33m\u001b[1mWarning: \u001b[22m\u001b[39mFound `resolution` in the theme when creating a `Scene`. The `resolution` keyword for `Scene`s and `Figure`s has been deprecated. Use `Figure(; size = ...` or `Scene(; size = ...)` instead, which better reflects that this is a unitless size and not a pixel resolution. The key could also come from `set_theme!` calls or related theming functions.\n",
      "\u001b[33m\u001b[1m└ \u001b[22m\u001b[39m\u001b[90m@ Makie C:\\Users\\u256063\\.julia\\packages\\Makie\\dpDAM\\src\\scenes.jl:238\u001b[39m\n",
      "\u001b[33m\u001b[1m┌ \u001b[22m\u001b[39m\u001b[33m\u001b[1mWarning: \u001b[22m\u001b[39mPerforming scalar indexing on task Task (runnable) @0x0000024a9b00f460.\n",
      "\u001b[33m\u001b[1m│ \u001b[22m\u001b[39mInvocation of getindex resulted in scalar indexing of a GPU array.\n",
      "\u001b[33m\u001b[1m│ \u001b[22m\u001b[39mThis is typically caused by calling an iterating implementation of a method.\n",
      "\u001b[33m\u001b[1m│ \u001b[22m\u001b[39mSuch implementations *do not* execute on the GPU, but very slowly on the CPU,\n",
      "\u001b[33m\u001b[1m│ \u001b[22m\u001b[39mand therefore should be avoided.\n",
      "\u001b[33m\u001b[1m│ \u001b[22m\u001b[39m\n",
      "\u001b[33m\u001b[1m│ \u001b[22m\u001b[39mIf you want to allow scalar iteration, use `allowscalar` or `@allowscalar`\n",
      "\u001b[33m\u001b[1m│ \u001b[22m\u001b[39mto enable scalar iteration globally or for the operations in question.\n",
      "\u001b[33m\u001b[1m└ \u001b[22m\u001b[39m\u001b[90m@ GPUArraysCore C:\\Users\\u256063\\.julia\\packages\\GPUArraysCore\\GMsgk\\src\\GPUArraysCore.jl:149\u001b[39m\n"
     ]
    },
    {
     "ename": "LoadError",
     "evalue": "UndefVarError: `Point3f0` not defined",
     "output_type": "error",
     "traceback": [
      "UndefVarError: `Point3f0` not defined",
      "",
      "Stacktrace:",
      " [1] (::var\"#32#34\")(i::Float32)",
      "   @ Main .\\none:0",
      " [2] iterate",
      "   @ .\\generator.jl:47 [inlined]",
      " [3] collect(itr::Base.Generator{Vector{Float32}, var\"#32#34\"})",
      "   @ Base .\\array.jl:834",
      " [4] top-level scope",
      "   @ In[6]:25"
     ]
    }
   ],
   "source": [
    "fig = Figure(resolution=(1800,400))\n",
    "\n",
    "for (j,i) in enumerate(1:round(Int,length(com)/4):length(com))\n",
    "    begin\n",
    "        d = getParameter(com,[:x,:y,:d,:l,:theta,:pressure,:mm])\n",
    "\n",
    "        ax = Axis(fig[1,2*j-1])\n",
    "\n",
    "        m = heatmap!(ax,\n",
    "                range(com.simBox[1,1],com.simBox[1,2],length=size(com.mm)[1]),\n",
    "                range(com.simBox[2,1],com.simBox[2,2],length=size(com.mm)[1]),\n",
    "                d[:mm][i],\n",
    "                colorrange=(0,2.)\n",
    "            )\n",
    "\n",
    "        xlims!(com.simBox[1,:]...)\n",
    "        ylims!(com.simBox[2,:]...)\n",
    "\n",
    "        x = Observable(d[:x][i])\n",
    "        y = Observable(d[:y][i])\n",
    "        xs1 = Observable(d[:x][i]+d[:l][i]./2 .*cos.(d[:theta][i]))\n",
    "        ys1 = Observable(d[:y][i]+d[:l][i]./2 .*sin.(d[:theta][i]))\n",
    "        xs2 = Observable(d[:x][i]-d[:l][i]./2 .*cos.(d[:theta][i]))\n",
    "        ys2 = Observable(d[:y][i]-d[:l][i]./2 .*sin.(d[:theta][i]))\n",
    "        ms = Observable([Point3f0(i/2,i/2,0) for i in d[:d][i]])\n",
    "        mc = Observable([Point3f0(ll,dd/2,dd/2) for (ll,dd) in zip(d[:l][i],d[:d][i])])\n",
    "        theta = Observable(d[:theta][i])\n",
    "\n",
    "        plotRods2D!(ax,x,y,xs1,ys1,xs2,ys2,ms,mc,theta,color=:red)\n",
    "\n",
    "        Colorbar(fig[1,2*j],m)\n",
    "    end\n",
    "end\n",
    "\n",
    "display(fig)"
   ]
  },
  {
   "cell_type": "code",
   "execution_count": null,
   "id": "d7fb1ce9",
   "metadata": {},
   "outputs": [
    {
     "data": {
      "image/png": "[encoded data removed]"
     },
     "metadata": {},
     "output_type": "display_data"
    }
   ],
   "source": [
    "d = getParameter(com,[:x])\n",
    "\n",
    "fig = Figure(resolution=(400,400))\n",
    "ax = Axis(fig[1,1],xlabel=\"time\",ylabel=\"medium\",\n",
    "            rightspinevisible=false,\n",
    "            topspinevisible=false,\n",
    "            xgridvisible=false,\n",
    "            ygridvisible=false\n",
    "        )\n",
    "\n",
    "lines!(ax,[i.t for i in com.pastTimes],[1-cos(com.ωMedium[1]*i.t) for i in com.pastTimes])\n",
    "\n",
    "ax2 = Axis(fig[2,1],xlabel=\"time\",ylabel=\"mean(x)\",\n",
    "            rightspinevisible=false,\n",
    "            topspinevisible=false,\n",
    "            xgridvisible=false,\n",
    "            ygridvisible=false\n",
    "        )\n",
    "lines!(ax2,[i.t for i in com.pastTimes],[mean(i) for i in d[:x]])\n",
    "\n",
    "display(fig)"
   ]
  }
 ],
 "metadata": {
  "kernelspec": {
   "display_name": "Julia 1.10.4 1.10.4",
   "language": "julia",
   "name": "julia-1.10.4-1.10"
  },
  "language_info": {
   "file_extension": ".jl",
   "mimetype": "application/julia",
   "name": "julia",
   "version": "1.10.4"
  }
 },
 "nbformat": 4,
 "nbformat_minor": 5
}
