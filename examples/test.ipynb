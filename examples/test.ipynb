{
 "cells": [
  {
   "cell_type": "code",
   "execution_count": 1,
   "metadata": {},
   "outputs": [],
   "source": [
    "using Revise\n",
    "\n",
    "using CellBasedModels\n",
    "using CUDA\n",
    "\n",
    "using Accessors\n",
    "using BenchmarkTools\n",
    "\n",
    "using SparseArrays"
   ]
  },
  {
   "cell_type": "code",
   "execution_count": 36,
   "metadata": {},
   "outputs": [
    {
     "name": "stdout",
     "output_type": "stream",
     "text": [
      "nothing\n",
      "x [10.0, 10.0, 10.0, 0.0, 0.0, 0.0, 0.0, 0.0]\n",
      "y [0.0, 0.0, 0.0, 0.0, 0.0, 0.0, 0.0, 0.0]\n",
      "z [0.0, 0.0, 0.0, 0.0, 0.0, 0.0, 0.0, 0.0]\n",
      "xx [3.0, 3.0, 3.0, 4.0, 4.0, 4.0, 4.0, 4.0]\n",
      "[4.0, 5.0, 6.0, 7.0, 8.0, 9.0, 10.0, 11.0, 12.0, 13.0, 14.0, 15.0]\n"
     ]
    },
    {
     "data": {
      "text/plain": [
       "Base.Threads.Atomic{Int64}(8)"
      ]
     },
     "execution_count": 36,
     "metadata": {},
     "output_type": "execute_result"
    }
   ],
   "source": [
    "model = ABM(3,\n",
    "\n",
    "    agent=Dict(:xx=>Float64),\n",
    "\n",
    ")\n",
    "\n",
    "com1 = Community(model, N = 3)\n",
    "com1.xx .= 3 \n",
    "com1.x .= 10\n",
    "setfield!(com1, :id, 4:8)\n",
    "\n",
    "\n",
    "com2 = Community(model, N = 5)\n",
    "com2.xx .= 4\n",
    "\n",
    "function append(com1::Community, com2::Community)\n",
    "\n",
    "    com = Community(com1.abm, N = com1.N+com2.N)\n",
    "\n",
    "    for (i,j) in com1.abm.parameters\n",
    "        if j.scope == :agent\n",
    "            com[i] .= [com1[i];com2[i]]\n",
    "        end\n",
    "    end\n",
    "\n",
    "    idMax = maximum(com1.id)+1\n",
    "    newIdMax = idMax+1+com2.N\n",
    "    id =  Int.([com1.id; idMax:newIdMax])\n",
    "\n",
    "    setfield!(com, :id, id)\n",
    "\n",
    "    return com\n",
    "\n",
    "end\n",
    "\n",
    "com = append(com1,com2)\n",
    "for (i,j) in com.abm.parameters\n",
    "    println(i, \" \", com[i])\n",
    "end\n",
    "\n",
    "loadToPlatform!(com)\n",
    "println(com.id)\n",
    "com.idMax_"
   ]
  },
  {
   "cell_type": "code",
   "execution_count": 27,
   "metadata": {},
   "outputs": [
    {
     "ename": "LoadError",
     "evalue": "MethodError: \u001b[0mCannot `convert` an object of type \u001b[92mVector{Float64}\u001b[39m\u001b[0m to an object of type \u001b[91mInt64\u001b[39m\n\n\u001b[0mClosest candidates are:\n\u001b[0m  convert(::Type{T}, \u001b[91m::ColorTypes.Gray\u001b[39m) where T<:Real\n\u001b[0m\u001b[90m   @\u001b[39m \u001b[32mColorTypes\u001b[39m \u001b[90m~/.julia/packages/ColorTypes/vpFgh/src/\u001b[39m\u001b[90m\u001b[4mconversions.jl:113\u001b[24m\u001b[39m\n\u001b[0m  convert(::Type{T}, \u001b[91m::ColorTypes.Gray24\u001b[39m) where T<:Real\n\u001b[0m\u001b[90m   @\u001b[39m \u001b[32mColorTypes\u001b[39m \u001b[90m~/.julia/packages/ColorTypes/vpFgh/src/\u001b[39m\u001b[90m\u001b[4mconversions.jl:114\u001b[24m\u001b[39m\n\u001b[0m  convert(::Type{T}, \u001b[91m::DualNumbers.Dual\u001b[39m) where T<:Union{Real, Complex}\n\u001b[0m\u001b[90m   @\u001b[39m \u001b[36mDualNumbers\u001b[39m \u001b[90m~/.julia/packages/DualNumbers/5knFX/src/\u001b[39m\u001b[90m\u001b[4mdual.jl:24\u001b[24m\u001b[39m\n\u001b[0m  ...\n",
     "output_type": "error",
     "traceback": [
      "MethodError: \u001b[0mCannot `convert` an object of type \u001b[92mVector{Float64}\u001b[39m\u001b[0m to an object of type \u001b[91mInt64\u001b[39m\n\n\u001b[0mClosest candidates are:\n\u001b[0m  convert(::Type{T}, \u001b[91m::ColorTypes.Gray\u001b[39m) where T<:Real\n\u001b[0m\u001b[90m   @\u001b[39m \u001b[32mColorTypes\u001b[39m \u001b[90m~/.julia/packages/ColorTypes/vpFgh/src/\u001b[39m\u001b[90m\u001b[4mconversions.jl:113\u001b[24m\u001b[39m\n\u001b[0m  convert(::Type{T}, \u001b[91m::ColorTypes.Gray24\u001b[39m) where T<:Real\n\u001b[0m\u001b[90m   @\u001b[39m \u001b[32mColorTypes\u001b[39m \u001b[90m~/.julia/packages/ColorTypes/vpFgh/src/\u001b[39m\u001b[90m\u001b[4mconversions.jl:114\u001b[24m\u001b[39m\n\u001b[0m  convert(::Type{T}, \u001b[91m::DualNumbers.Dual\u001b[39m) where T<:Union{Real, Complex}\n\u001b[0m\u001b[90m   @\u001b[39m \u001b[36mDualNumbers\u001b[39m \u001b[90m~/.julia/packages/DualNumbers/5knFX/src/\u001b[39m\u001b[90m\u001b[4mdual.jl:24\u001b[24m\u001b[39m\n\u001b[0m  ...\n",
      "",
      "Stacktrace:",
      " [1] Base.Threads.Atomic{Int64}(value::Vector{Float64})",
      "   @ Base.Threads ./atomics.jl:78",
      " [2] loadToPlatform!(com::Community; preallocateAgents::@NamedTuple{Main::Int64})",
      "   @ CellBasedModels ~/Documents/CellBasedModels.jl/src/CommunityStructure/communityStructure.jl:597",
      " [3] top-level scope",
      "   @ In[27]:22"
     ]
    }
   ],
   "source": [
    "model = ABM(3,\n",
    "\n",
    "    agent=Dict(:xx=>Float64),\n",
    "\n",
    "    agentODE = quote\n",
    "        \n",
    "        dt(x) = 1\n",
    "\n",
    "    end,\n",
    "\n",
    "    agentRule = quote\n",
    "        @addAgent()\n",
    "    end\n",
    "\n",
    ")\n",
    "\n",
    "com = Community(model, dt=0.1, N=(Main=5,))\n",
    "com.x = 2\n",
    "com.y = 3\n",
    "\n",
    "# com_original = deepcopy(com)\n",
    "loadToPlatform!(com, preallocateAgents=(Main=2,))\n",
    "# println(prettify(com.abm.declaredUpdatesCode[:agentODE]))\n",
    "# step!(com)\n",
    "\n",
    "# model2 = ABM(3,\n",
    "\n",
    "#     baseModelInit=[model],\n",
    "\n",
    "#     agent=Agent(:sphere,id=:idSphere,pos=(xSphere=Float64,ySphere=Float64,zSphere=Float64),parameters=(radius=Float64,)),\n",
    "\n",
    "#     agentODE = quote\n",
    "        \n",
    "#         @inagent sphere begin\n",
    "#             dt(radius) = 1\n",
    "#         end\n",
    "\n",
    "#         @inagent Main begin\n",
    "#             dt(y) = 9\n",
    "#             z += 1\n",
    "#         end\n",
    "#     end\n",
    "# )\n",
    "\n",
    "# com = Community(model2, dt=0.1, N=(Main=5,sphere=3))\n",
    "# com.radius = 1\n",
    "# com.x = 2\n",
    "# com.y = 3\n",
    "\n",
    "# # com_original = deepcopy(com)\n",
    "# loadToPlatform!(com, preallocateAgents=(Main=2,sphere=1))\n",
    "# step!(com)\n",
    "# # bringFromPlatform!(com)\n",
    "\n",
    "# prettify(model2.declaredUpdatesCode[:agentODE])\n",
    "\n",
    "for (u,j) in pairs(com.parameters)\n",
    "    println(u, \"\\t\",j)\n",
    "end"
   ]
  },
  {
   "cell_type": "code",
   "execution_count": 34,
   "metadata": {},
   "outputs": [
    {
     "data": {
      "text/plain": [
       "true"
      ]
     },
     "execution_count": 34,
     "metadata": {},
     "output_type": "execute_result"
    }
   ],
   "source": [
    "model = ABM(3,\n",
    "\n",
    "    agent=Dict(:xx=>Float64),\n",
    "\n",
    "    agentODE = quote\n",
    "        \n",
    "        dt(x) = 1\n",
    "\n",
    "    end,\n",
    "\n",
    "    platform=GPU()\n",
    "\n",
    ")\n",
    "\n",
    "model2 = ABM(3,\n",
    "\n",
    "    baseModelInit=[model],\n",
    "\n",
    "    agent=Agent(:sphere,id=:idSphere,pos=(xSphere=Float64,ySphere=Float64,zSphere=Float64),parameters=(radius=Float64,)),\n",
    "\n",
    "    agentODE = quote\n",
    "        \n",
    "        @inagent sphere begin\n",
    "            dt(radius) = 1\n",
    "        end\n",
    "\n",
    "        @inagent Main begin\n",
    "            dt(y) = 9\n",
    "        end\n",
    "    end\n",
    ")\n",
    "\n",
    "com = Community(model2, dt=0.1, N=(Main=20,sphere=10))\n",
    "com.radius = 1\n",
    "com.x = 2\n",
    "com.y = 3\n",
    "\n",
    "com_original = deepcopy(com)\n",
    "loadToPlatform!(com, preallocateAgents=(Main=2,sphere=1))\n",
    "bringFromPlatform!(com)\n",
    "\n",
    "l = []\n",
    "for sym in keys(com.parameters)\n",
    "    k = all(com_original[sym] == com[sym])\n",
    "    if !k\n",
    "        if typeof(com_original[sym]) <: Threads.Atomic && typeof(com[sym]) <: Threads.Atomic\n",
    "            if com_original[sym][] == com[sym][]\n",
    "                k = true\n",
    "            end\n",
    "        end\n",
    "    end\n",
    "end\n",
    "all(l)"
   ]
  },
  {
   "cell_type": "code",
   "execution_count": 33,
   "metadata": {},
   "outputs": [
    {
     "data": {
      "text/plain": [
       "false"
      ]
     },
     "execution_count": 33,
     "metadata": {},
     "output_type": "execute_result"
    }
   ],
   "source": [
    "Threads.Atomic{Int}(0) == Threads.Atomic{Int}(0)"
   ]
  },
  {
   "cell_type": "code",
   "execution_count": 91,
   "metadata": {},
   "outputs": [
    {
     "data": {
      "text/plain": []
     },
     "execution_count": 91,
     "metadata": {},
     "output_type": "execute_result"
    },
    {
     "name": "stdout",
     "output_type": "stream",
     "text": [
      "Community.\n"
     ]
    }
   ],
   "source": [
    "model = ABM(3,\n",
    "\n",
    "    agent=Dict(:xx=>Float64),\n",
    "\n",
    "    agentRule = quote\n",
    "\n",
    "        x = 1\n",
    "\n",
    "        @removeAgent()\n",
    "        @addAgent(\n",
    "            x = 1,\n",
    "            xx = 0\n",
    "        )\n",
    "\n",
    "    end,\n",
    "\n",
    "    platform=CPU()\n",
    "\n",
    ")\n",
    "\n",
    "com = Community(model, N=1)"
   ]
  },
  {
   "cell_type": "code",
   "execution_count": 96,
   "metadata": {},
   "outputs": [
    {
     "data": {
      "text/plain": [
       "24-element Vector{Tuple{Symbol, Int64}}:\n",
       " (:t, 0)\n",
       " (:dt, 0)\n",
       " (:NMedium, 0)\n",
       " (:simBox, 0)\n",
       " (:dx, 0)\n",
       " (:dy, 0)\n",
       " (:dz, 0)\n",
       " (:xₘ, 0)\n",
       " (:yₘ, 0)\n",
       " (:zₘ, 0)\n",
       " (:x, 1)\n",
       " (:y, 2)\n",
       " (:z, 0)\n",
       " (:id, 0)\n",
       " (:xx, 0)\n",
       " (:Main_N_, 0)\n",
       " (:Main_NMax_, 0)\n",
       " (:Main_idMax_, 0)\n",
       " (:Main_NAdd_, 0)\n",
       " (:Main_NRemove_, 0)\n",
       " (:Main_NSurvive_, 0)\n",
       " (:Main_flagSurvive_, 0)\n",
       " (:Main_holeFromRemoveAt_, 0)\n",
       " (:Main_repositionAgentInPos_, 0)"
      ]
     },
     "execution_count": 96,
     "metadata": {},
     "output_type": "execute_result"
    }
   ],
   "source": [
    "model = ABM(3,\n",
    "\n",
    "    agent=Dict(:xx=>Float64),\n",
    "\n",
    "    agentRule = quote\n",
    "\n",
    "        x = 1\n",
    "\n",
    "        @removeAgent()\n",
    "        @addAgent(\n",
    "            x = 1,\n",
    "            xx = 0\n",
    "        )\n",
    "\n",
    "    end,\n",
    "\n",
    "    agentODE = quote\n",
    "        dt(y) = -1\n",
    "        dt(x) = -1\n",
    "    end,\n",
    "\n",
    "    platform=CPU()\n",
    "\n",
    ")\n",
    "prettify(model.declaredUpdatesCode[:agentRule])\n",
    "prettify(model.declaredUpdates[:agentRule])\n",
    "\n",
    "[(i,j.pos) for (i,j) in model.parameters]"
   ]
  },
  {
   "cell_type": "code",
   "execution_count": 89,
   "metadata": {},
   "outputs": [
    {
     "data": {
      "text/plain": [
       ":(@inagent Main begin\n",
       "          x__ += 1\n",
       "          x__ += 1\n",
       "      end)"
      ]
     },
     "execution_count": 89,
     "metadata": {},
     "output_type": "execute_result"
    }
   ],
   "source": [
    "model = ABM(3,\n",
    "\n",
    "    agent=Dict(:xx=>Float64),\n",
    "\n",
    "    agentRule = quote\n",
    "        \n",
    "        x += 1\n",
    "\n",
    "    end,\n",
    "\n",
    "    platform=GPU()\n",
    "\n",
    ")\n",
    "\n",
    "model2 = ABM(3,\n",
    "\n",
    "    baseModelInit=[model],\n",
    "\n",
    "    agentRule = quote\n",
    "        \n",
    "        x += 1\n",
    "\n",
    "    end\n",
    ")\n",
    "prettify(model2.declaredUpdatesCode[:agentRule])\n",
    "prettify(model2.declaredUpdates[:agentRule])"
   ]
  },
  {
   "cell_type": "code",
   "execution_count": 96,
   "metadata": {},
   "outputs": [
    {
     "data": {
      "text/plain": [
       ":(function (community,)\n",
       "      function rule_(t, dt, NMedium, simBox, dx, dy, dz, NAdd_, NRemove_, NSurvive_, flagSurvive_, holeFromRemoveAt_, repositionAgentInPos_, x, y, z, id, xx, hola_N_, hola_NMax_, hola_idMax_, x__)\n",
       "          @inbounds Threads.@threads(for i1_ = 1:1:hola_N_[1]\n",
       "                      x__[i1_] += 1\n",
       "                  end)\n",
       "          @inbounds Threads.@threads(for i1_ = 1:1:Main_N_[1]\n",
       "                      x__[i1_] += 1\n",
       "                  end)\n",
       "          return\n",
       "      end\n",
       "      rule_(community.t, community.dt, community.NMedium, community.simBox, community.dx, community.dy, community.dz, community.NAdd_, community.NRemove_, community.NSurvive_, community.flagSurvive_, community.holeFromRemoveAt_, community.repositionAgentInPos_, community.parameters[Symbol(\"x\")], community.parameters[Symbol(\"y\")], community.parameters[Symbol(\"z\")], community.parameters[Symbol(\"id\")], community.parameters[Symbol(\"xx\")], community.parameters[Symbol(\"hola_N_\")], community.parameters[Symbol(\"hola_NMax_\")], community.parameters[Symbol(\"hola_idMax_\")], community.parameters[Symbol(\"x__\")])\n",
       "      return\n",
       "  end)"
      ]
     },
     "execution_count": 96,
     "metadata": {},
     "output_type": "execute_result"
    }
   ],
   "source": [
    "model = ABM(3,\n",
    "\n",
    "    agent=[\n",
    "            Agent(:hola, \n",
    "                pos = (x=Float64,y=Float64,z=Float64),\n",
    "                id = :id,\n",
    "                parameters=Dict(:xx=>Float64)\n",
    "            ), \n",
    "        ],\n",
    "\n",
    "    agentRule = quote\n",
    "        \n",
    "        x += 1\n",
    "\n",
    "    end,\n",
    "\n",
    "    platform=GPU()\n",
    "\n",
    ")\n",
    "\n",
    "model2 = ABM(3,\n",
    "\n",
    "    baseModelInit=[model],\n",
    "\n",
    "    # agent=[\n",
    "    #         Agent(:hola2, \n",
    "    #             pos = (x1=Float64,y1=Float64,z1=Float64),\n",
    "    #             id = :id1,\n",
    "    #             parameters=Dict(:xx1=>Float64)\n",
    "    #         ), \n",
    "    #     ],\n",
    "\n",
    "    agentRule = quote\n",
    "        \n",
    "        x += 1\n",
    "\n",
    "    end\n",
    ")\n",
    "prettify(model2.declaredUpdatesCode[:agentRule])\n",
    "# prettify(model2.declaredUpdates[:agentRule])"
   ]
  },
  {
   "cell_type": "code",
   "execution_count": 68,
   "metadata": {},
   "outputs": [
    {
     "name": "stdout",
     "output_type": "stream",
     "text": [
      "h9li"
     ]
    },
    {
     "data": {
      "text/plain": [
       ":(@inagent hola x__ += 1)"
      ]
     },
     "execution_count": 68,
     "metadata": {},
     "output_type": "execute_result"
    }
   ],
   "source": [
    "model = ABM(3,\n",
    "\n",
    "    agent=[\n",
    "            Agent(:hola, \n",
    "                pos = (x=Float64,y=Float64,z=Float64),\n",
    "                id = :id,\n",
    "                parameters=Dict(:xx=>Float64)\n",
    "            ), \n",
    "        ],\n",
    "\n",
    "    agentRule = quote\n",
    "        \n",
    "        x += 1\n",
    "\n",
    "    end,\n",
    "\n",
    "    platform=GPU()\n",
    "\n",
    ")\n",
    "prettify(model.declaredUpdatesCode[:agentRule])\n",
    "prettify(model.declaredUpdates[:agentRule])"
   ]
  },
  {
   "cell_type": "code",
   "execution_count": 64,
   "metadata": {},
   "outputs": [
    {
     "data": {
      "text/plain": [
       "quote\n",
       "    @inagent hola x__ += 1\n",
       "    @inagent hola2 begin\n",
       "            x__ += 1\n",
       "            x__ += 1\n",
       "        end\n",
       "end"
      ]
     },
     "execution_count": 64,
     "metadata": {},
     "output_type": "execute_result"
    }
   ],
   "source": [
    "model = ABM(3,\n",
    "\n",
    "    agent=[\n",
    "            Agent(:hola, \n",
    "                pos = (x=Float64,y=Float64,z=Float64),\n",
    "                id = :id,\n",
    "                parameters=Dict(:xx=>Float64)\n",
    "            ), \n",
    "            Agent(:hola2, \n",
    "                pos=(x2=Float64,y2=Float64,z2=Float64),\n",
    "                id=:id2,\n",
    "                parameters=Dict(:xx2=>Float64)\n",
    "            )\n",
    "        ],\n",
    "\n",
    "    agentRule = quote\n",
    "        \n",
    "        @inagent hola begin\n",
    "            x += 1\n",
    "        end\n",
    "        @inagent hola2 begin\n",
    "            x += 1\n",
    "        end\n",
    "        @inagent hola2 begin\n",
    "            x += 1\n",
    "        end\n",
    "        # x+1\n",
    "\n",
    "    end,\n",
    "\n",
    "    platform=GPU()\n",
    "\n",
    ")\n",
    "prettify(model.declaredUpdatesCode[:agentRule])\n",
    "prettify(model.declaredUpdates[:agentRule])"
   ]
  },
  {
   "cell_type": "code",
   "execution_count": null,
   "metadata": {},
   "outputs": [],
   "source": []
  },
  {
   "cell_type": "code",
   "execution_count": 28,
   "metadata": {},
   "outputs": [
    {
     "data": {
      "text/plain": [
       "collect_variables (generic function with 2 methods)"
      ]
     },
     "execution_count": 28,
     "metadata": {},
     "output_type": "execute_result"
    }
   ],
   "source": [
    "function collect_variables(expr, variables=Set{Symbol}())\n",
    "    if expr isa Expr\n",
    "        if expr.head == :call || expr.head == :macrocall\n",
    "            # Traverse function/macro calls to extract variables\n",
    "            for arg in expr.args\n",
    "                collect_variables(arg, variables)\n",
    "            end\n",
    "        elseif expr.head == :block || expr.head == :if || expr.head == :while || expr.head == :for\n",
    "            # Traverse block structures (like if, while, for, begin)\n",
    "            for arg in expr.args\n",
    "                collect_variables(arg, variables)\n",
    "            end\n",
    "        elseif expr.head == :assign\n",
    "            # For assignments, collect the left-hand side as a variable\n",
    "            if expr.args[1] isa Symbol\n",
    "                push!(variables, expr.args[1])\n",
    "            end\n",
    "            # Recursively process the right-hand side of the assignment\n",
    "            collect_variables(expr.args[2], variables)\n",
    "        else\n",
    "            # For other expressions, recursively process arguments\n",
    "            for arg in expr.args\n",
    "                collect_variables(arg, variables)\n",
    "            end\n",
    "        end\n",
    "    elseif expr isa Symbol\n",
    "        # Collect the symbol if it is a variable\n",
    "        push!(variables, expr)\n",
    "    end\n",
    "    return variables\n",
    "end"
   ]
  },
  {
   "cell_type": "code",
   "execution_count": 38,
   "metadata": {},
   "outputs": [
    {
     "data": {
      "text/plain": [
       "5-element Vector{Symbol}:\n",
       " :a\n",
       " :b\n",
       " :d\n",
       " :z\n",
       " :x"
      ]
     },
     "execution_count": 38,
     "metadata": {},
     "output_type": "execute_result"
    }
   ],
   "source": [
    "m = quote\n",
    "    a = 0\n",
    "    b = 4\n",
    "    if z == 4\n",
    "        @loopOverNeighbors d\n",
    "    end\n",
    "    cos(x)\n",
    "end\n",
    "\n",
    "[i for i in collect_variables(m) if !(i in names(Base)) && !(i in names(CellBasedModels))]"
   ]
  },
  {
   "cell_type": "code",
   "execution_count": null,
   "metadata": {},
   "outputs": [],
   "source": []
  }
 ],
 "metadata": {
  "kernelspec": {
   "display_name": "Julia 10 (4 threads) 1.10.4",
   "language": "julia",
   "name": "julia-10-_4-threads_-1.10"
  },
  "language_info": {
   "file_extension": ".jl",
   "mimetype": "application/julia",
   "name": "julia",
   "version": "1.10.4"
  }
 },
 "nbformat": 4,
 "nbformat_minor": 2
}
