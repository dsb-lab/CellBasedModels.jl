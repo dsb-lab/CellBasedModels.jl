{
 "cells": [
  {
   "cell_type": "code",
   "execution_count": 1,
   "metadata": {},
   "outputs": [],
   "source": [
    "using AgentBasedModels"
   ]
  },
  {
   "attachments": {},
   "cell_type": "markdown",
   "metadata": {},
   "source": [
    "# Defining an Agent model\n",
    "\n",
    "The `Agent` structure contains all the information of a Agent Based model, their parameters and rules of evolution. There are four elements to take into account when defining agents:\n",
    "\n",
    " - **Parameters**. These can be splited in:\n",
    "    - User-defined parameters: Parameters that are defined for the specific model that is being used.\n",
    "    - Default parameters: Parameters that are defined for all models by default.\n",
    " - **Update rules**. Rules that describe the behavior of the agents during the course of time.\n",
    " - **Model inheritance**. More simple models over which we want to build more complex models.\n",
    "\n",
    "Constructing an agent we use\n",
    "\n",
    "```julia\n",
    "Agent(dim,kwArgs...)\n",
    "```\n",
    "where `dim` is the only required argument of the model and defined the dimensionality of the agent and can take values 0-3. The `kwArgs` are keyword arguments that define the parameters, rules and base models of the present model and that will be seing in detail in the following.\n",
    "\n",
    "## Parameters\n",
    "\n",
    "The agents parameters have several scopes:\n",
    "\n",
    " - **Global**: Parameters that affect all the agents.\n",
    " - **Local**: Parameters have a different value for each agent.\n",
    " - **Medium**: Parameters that belong to the medium in which the model is embedded (if there is a medium defined for this model).\n",
    "\n",
    "### Parameters - Default Parameters\n",
    "\n",
    "By default, all agent models have a set of defined set of parameters. A list of the most relevant parameters for a user is:\n",
    "\n",
    "|**Topic**|**Symbol**|**Scope**|**Description**|\n",
    "|:---:|:---:|:---:|:---|\n",
    "|**Time**|||\n",
    "||t|Global|Absolute time of evolution of the community.|\n",
    "||dt|Global|Time increments in each step of the evolution.|\n",
    "|**Size Community**|||\n",
    "||N|Global|The number of agents active in the community.|\n",
    "||NMedium|Global|Size of the grid in which the medium is being computed. This is necessary to be declared if medium parameters are declared by the user.|\n",
    "|**Id tracking**|||\n",
    "||id|Local|Unique identifier of the agent.|\n",
    "|**Simulation space**|||\n",
    "||simBox|Global|Simulation box in which cells are moving. This is necessary to define a region of space in which a medium will be simulated or for computing neighbors with CellLinked methods.|\n",
    "|**Neighbors**|||\n",
    "||skin|Global|Distance below which a cell is considered a neighbor in Verlet neighbor algorithms.|\n",
    "||dtNeighborRecompute|Global|Time before recomputing neighborhoods in VerletTime algorithm.|\n",
    "||nMaxNeighbors|Global|Maximum number of neighbors. Necessary for Verlet-like algorithms.|\n",
    "||cellEdge|Global|Distance of the grid used to compute neighbors. Necessary for CellLinked algorithms.|\n",
    "|**Position**|||\n",
    "||x|Local|Position of the agent in the x axis.|\n",
    "||y|Local|Position of the agent in the y axis.|\n",
    "||z|Local|Position of the agent in the z axis.|\n",
    "\n",
    "There are more parameters predefined in the model. The other parameters however are used internaly for the package to work properly and should in rare case used directly by the user. A complete list can be seen in the definition of the `Community` structure in `API`. You can identify them because they have a lower underscore in the end of their name.\n",
    "\n",
    "### Parameters - User defined parmaeters\n",
    "\n",
    "Apart from the default parameters, the user can define any other parameters necessary for its model of the scopes above mentioned. In addition to the scope, the user has to define:\n",
    "\n",
    " - **Data type**. Data type of the parameter to be selected between:\n",
    "   - **Int**\n",
    "   - **Float**\n",
    "\n",
    " - **Behavior**. Behavior of the parameter that defines if the parameter has to be reset to zero before declaring an interaction. (It will become more clear when seeing the definition of Interaction Updates)\n",
    "   - **(Default)** \n",
    "   - **Interaction**\n",
    "\n",
    "Which this consideration, in the present implementation, the user can declare parameters of the following types:\n",
    "\n",
    "| Agent kwArg | Comments |\n",
    "|:---:|:---|\n",
    "| `localInt` | |\n",
    "| `localIntInteraction` | |\n",
    "| `localFloat` | |\n",
    "| `localFloatInteraction` | |\n",
    "| `globalFloat` | |\n",
    "| `globalInt` | |\n",
    "| `globalFloatInteraction` | |\n",
    "| `globalIntInteraction` | |\n",
    "| `medium` | Implicitely is of dtype Float and (default). As medium models will be continuum models that evolve under PDE. |\n",
    "\n",
    "User defined parameters will be declared using this keyword arguments and providing a vector of declared symbols."
   ]
  },
  {
   "cell_type": "code",
   "execution_count": null,
   "metadata": {},
   "outputs": [
    {
     "data": {
      "text/plain": []
     },
     "metadata": {},
     "output_type": "display_data"
    },
    {
     "name": "stdout",
     "output_type": "stream",
     "text": [
      "PARAMETERS\n",
      "\ta (Float Local)\n",
      "\tb (Float Local)\n",
      "\tgfi (Float Global)\n",
      "\tc (Int Global)\n",
      "\n",
      "\n",
      "UPDATE RULES\n"
     ]
    }
   ],
   "source": [
    "agent = Agent(3,\n",
    "                localFloat = [:a,:b],\n",
    "                globalInt = [:c],\n",
    "                globalFloatInteraction = [:gfi]\n",
    "            )"
   ]
  },
  {
   "cell_type": "markdown",
   "metadata": {},
   "source": [
    "> **WARNING: User default parameters name convention** \n",
    "> \n",
    "> The is no rule to declare user-defined parameters but we advise that the names do not end with underscore (e.g. :a_). \n",
    "> This nomenclarute is in general used to name hidden parameters that are kept for internal use.\n",
    "\n",
    "> **INFO Changing data type**\n",
    "> \n",
    "> By default, Float types will be stored as `Float64` and Int types as `Int64` in CPU computations, and `32` format for GPU computations. \n",
    "> \n",
    "> If you want to change this formats, you can always change them redefining the corresponding entry of `AgentBasedModels.DTYPE`.\n",
    ">\n",
    "> ```julia\n",
    "> >>>AgentBasedModels.DTYPE\n",
    "> Dict{Symbol, Dict{Symbol, DataType}} with 2 entries:\n",
    ">   :Float => Dict(:CPU=>Float64, :GPU=>Float32)\n",
    ">   :Int   => Dict(:CPU=>Int64, :GPU=>Int32)\n",
    "> ```\n",
    "> Be aware that most part of GPU only work with 32 precission so changing this value may run into errors at execution time."
   ]
  },
  {
   "attachments": {},
   "cell_type": "markdown",
   "metadata": {},
   "source": [
    "## Update Rules\n",
    "\n",
    "After setting up the parameters of our agent, we can define the rules of evolution of our model and of recomputation.\n",
    "\n",
    "An overview of the update rules and the special symbols that can be provided to a model are:\n",
    "\n",
    "|Agent kwArg|Special Symbols|Special functions|Description|\n",
    "|:---:|:---:|:---:|:---|\n",
    "|`upateLocal`|`.new`|`addAgent(kwArgs...)`,`removeAgent()`|Define update rules that affect each agent independently.|\n",
    "|`updateGlobal`|`.new`|`addAgent(kwArgs...)`|Define update rules that affect the global of a model.|\n",
    "|`updateInteraction`|`.i`,`.j`||Compute interactions between pairs of neighbors.|\n",
    "|`updateVariable`|`d()`,`dt()`,`dW()`||Define SDE or ODE rules to evolve local parameters of the agents independently.|\n",
    "\n",
    "### Writting update rules\n",
    "\n",
    "Update rules in agents is normal julia code that you can write in a simplified level and then, when constructing the `Agent` structure, the code will be vectorized and adapted to be run in the corresponding platform. \n",
    "In general any mathematical function from module `Base` and random 1D distributions from `Distributions.jl` will work, as well as any if, for, while and declarations and modification of variables. \n",
    "To provide a rule to the `Agent`, you will need to give the code to the `kwArg` in form of \n",
    "\n",
    "```julia\n",
    "quote \n",
    "#code of update rule in here...\n",
    "end\n",
    "```\n",
    "\n",
    "Let's see some examples to make it more clear.\n",
    "\n",
    "## - Local Update\n",
    "\n",
    "Local rules modify each agent independently. We write the code simply by calling the parameters declared, the contructor is in charge of transforming the code to construct the actual function.\n",
    "\n",
    "All the basics of Julia code can be used to write in here. In addition, there are a couple of special functions:\n",
    "\n",
    " - `addAgent(kwArs...)`: Adds an agent to the `Community`. The `kwArgs` passed to the agent are the new values of the local parameters of the agent that is constructed. The local parmaeters that are not provided will be inherited from the agent that activated the macro.\n",
    " - `removeAgent()`: Removes the agent from the `Community`.\n",
    "\n",
    "In addition you can use the operator `.new` to indicate that you want to use the value in the future of a parameter that has been updated.\n",
    "\n",
    "**Example** We want to create and agent that, at each step:\n",
    " 1. Makes a jump to left or right brought from a gaussian. \n",
    " 2. If the agent surpasses a certain limit in the left limit, is removed. \n",
    " 3. At random, with certain probability, it divides with a new parameter `l`."
   ]
  },
  {
   "cell_type": "code",
   "execution_count": null,
   "metadata": {},
   "outputs": [
    {
     "data": {
      "text/plain": []
     },
     "metadata": {},
     "output_type": "display_data"
    },
    {
     "name": "stdout",
     "output_type": "stream",
     "text": [
      "PARAMETERS\n",
      "\tl (Float Local)\n",
      "\tσ2 (Float Global)\n",
      "\tpDivision (Float Global)\n",
      "\n",
      "\n",
      "UPDATE RULES\n",
      "UpdateLocal\n",
      " begin\n",
      "    x.new += Normal(0, σ2)\n",
      "    if x.new > simBox[1, 2]\n",
      "        removeAgent()\n",
      "    elseif pDivision < Uniform(0, 1)\n",
      "        addAgent(l = sin(Uniform(0, 3π)))\n",
      "    end\n",
      "end\n",
      "\n"
     ]
    }
   ],
   "source": [
    "model = Agent(1, #Dimensions of the model\n",
    "    localFloat = [:l], #Declaration of a local parameter named l\n",
    "    globalFloat = [\n",
    "        :σ2,    #Spread of the gaussian\n",
    "        :pDivision, #Global variable to set the probability at which it will divide\n",
    "    ],\n",
    "    updateLocal = quote\n",
    "        x += Normal(0,σ2) #We can call to distributions from Distributions.jl that are 1D\n",
    "        #We can make conditionals\n",
    "        if x.new > simBox[1,2] #We can use the default parameter simBox to define where is the left margin at which cells are removed. \n",
    "            removeAgent()\n",
    "        elseif pDivision < Uniform(0,1) #We can make conditionals\n",
    "            addAgent(l = sin(Uniform(0,3*π))) #We add an agent that inherits x and initialize it with a new parameter l\n",
    "        end\n",
    "    end\n",
    ")"
   ]
  },
  {
   "cell_type": "markdown",
   "metadata": {},
   "source": [
    "> **NOTE: Use of the .new symbol** Obverse that, by default, the special symbol `.new` has been added wherever a user-defined parameter is reassigned to specify that this is the value at the future timepoint. \n",
    ">\n",
    "> However, if you do not make explicit that asignement, the condition would look like in `x > simBox[1,2]`, using the old position.\n",
    "\n",
    "You can see how the code looks like when you declare it in the dictionary field `Agent.declaredUpdates`. We use the function `prettify` to clean up the comment lines of the code and make the code more visible."
   ]
  },
  {
   "cell_type": "code",
   "execution_count": null,
   "metadata": {},
   "outputs": [
    {
     "name": "stdout",
     "output_type": "stream",
     "text": [
      "begin\n",
      "    x.new += Normal(0, σ2)\n",
      "    if x.new > simBox[1, 2]\n",
      "        removeAgent()\n",
      "    elseif pDivision < Uniform(0, 1)\n",
      "        addAgent(l = sin(Uniform(0, 3π)))\n",
      "    end\n",
      "end\n"
     ]
    }
   ],
   "source": [
    "println(AgentBasedModels.prettify(model.declaredUpdates[:UpdateLocal]))"
   ]
  },
  {
   "cell_type": "markdown",
   "metadata": {},
   "source": [
    "> **NOTE. Internals of Agent** When declaring an update rule, the code is transformed to low level code that can be executed afterwards with the object `Community`. You can see the final function(s) constructed after compilation in `Agent.DeclaredUpdatesCode`.\n",
    ">> \n",
    ">> ```julia\n",
    ">> println(AgentBasedModels.prettify(model.declaredUpdatesCode[:UpdateLocal_]))\n",
    ">> ```\n",
    ">\n",
    ">> ```\n",
    ">> (t, dt, N, NMedium, nMax_, id, idMax_, simBox, NAdd_, NRemove_, NSurvive_, flagSurvive_, holeFromRemoveAt_, repositionAgentInPos_, skin, dtNeighborRecompute, nMaxNeighbors, cellEdge, flagRecomputeNeighbors_, flagNeighbors_, neighborN_, neighborList_, neighborTimeLastRecompute_, posOld_, accumulatedDistance_, nCells_, cellAssignedToAgent_, cellNumAgents_, cellCumSum_, x, y, z, xNew_, yNew_, zNew_, varAux_, varAuxΔW_, liNM_, liM_, liMNew_, lii_, lfNM_, lfM_, lfMNew_, lfi_, gfNM_, gfM_, gfMNew_, gfi_, giNM_, giM_, giMNew_, gii_, mediumNM_, mediumM_, mediumMNew_)->@inbounds(Threads.@threads(for i1_ = 1:1:N[1]\n",
    ">>                 flagSurvive_[i1_] = 1\n",
    ">>                 xNew_[i1_] += AgentBasedModels.rand(AgentBasedModels.Normal(0, gfM_[1]))\n",
    ">>                 if xNew_[i1_] > simBox[1, 2]\n",
    ">>                     idNew_ = Threads.atomic_add!(NRemove_, (Int64)(1)) + 1\n",
    ">>                     holeFromRemoveAt_[idNew_] = i1_\n",
    ">>                     flagSurvive_[i1_] = 0\n",
    ">>                     flagRecomputeNeighbors_[1] = 1\n",
    ">>                     flagNeighbors_[i1_] = 1\n",
    ">>                 elseif gfM_[2] < AgentBasedModels.rand(AgentBasedModels.Uniform(0, 1))\n",
    ">>                     i1New_ = N[1] + Threads.atomic_add!(NAdd_, (Int64)(1)) + 1\n",
    ">>                     idNew_ = Threads.atomic_add!(idMax_, (Int64)(1)) + 1\n",
    ">>                     if nMax_[1] >= i1New_\n",
    ">>                         flagNeighbors_[i1New_] = 1\n",
    ">>                         id[i1New_] = idNew_\n",
    ">>                         flagRecomputeNeighbors_[1] = 1\n",
    ">>                         flagNeighbors_[i1New_] = 1\n",
    ">>                         lfMNew_[i1New_, 1] = sin(AgentBasedModels.rand(AgentBasedModels.Uniform(0, 3π)))\n",
    ">>                         xNew_[i1New_] = x[i1_]\n",
    ">>                     else\n",
    ">>                         Threads.atomic_add!(NAdd_, (Int64)(-1))\n",
    ">>                     end\n",
    ">>                 end\n",
    ">>             end))\n",
    ">> ```\n",
    ">\n",
    "> If you observe the compiled code carefully you can see how the code has been internally converted to the appropiate objects and steps.\n",
    ">\n",
    ">  ```julia\n",
    "> @inbounds Threads.@threads for i1_ = 1:1:N[1] #Go over all agents in model\n",
    ">                 flagSurvive_[i1_] = 1\n",
    ">                 #x += Normal(0,σ2)\n",
    ">                 xNew_[i1_] += AgentBasedModels.rand(AgentBasedModels.Normal(0, gfM_[1])) # symbol σ2 has been vectorized to the gfM_ (global float Modifiable ) array.\n",
    ">                 if xNew_[i1_] > simBox[1, 2] # x.new > simBox[1,2]\n",
    ">                     #removeAgent()\n",
    ">                     idNew_ = Threads.atomic_add!(NRemove_, (Int64)(1)) + 1\n",
    ">                     holeFromRemoveAt_[idNew_] = i1_\n",
    ">                     flagSurvive_[i1_] = 0\n",
    ">                     flagRecomputeNeighbors_[1] = 1\n",
    ">                     flagNeighbors_[i1_] = 1\n",
    ">                 elseif gfM_[2] < AgentBasedModels.rand(AgentBasedModels.Uniform(0, 1))\n",
    ">                     #addAgent()\n",
    ">                     i1New_ = N[1] + Threads.atomic_add!(NAdd_, (Int64)(1)) + 1\n",
    ">                     idNew_ = Threads.atomic_add!(idMax_, (Int64)(1)) + 1\n",
    ">                     if nMax_[1] >= i1New_\n",
    ">                         flagNeighbors_[i1New_] = 1\n",
    ">                         id[i1New_] = idNew_\n",
    ">                         flagRecomputeNeighbors_[1] = 1\n",
    ">                         flagNeighbors_[i1New_] = 1\n",
    ">                         lfMNew_[i1New_, 1] = sin(AgentBasedModels.rand(AgentBasedModels.Uniform(0, 3π)))\n",
    ">                         xNew_[i1New_] = x[i1_]\n",
    ">                     else\n",
    ">                         Threads.atomic_add!(NAdd_, (Int64)(-1))\n",
    ">                     end\n",
    ">                 end\n",
    ">             end\n",
    "> ```\n",
    ">"
   ]
  },
  {
   "attachments": {},
   "cell_type": "markdown",
   "metadata": {},
   "source": [
    "## - Global Update\n",
    "\n",
    "Global rules are used to modify global parameters of the model. \n",
    "\n",
    "There is a special function:\n",
    "\n",
    " - `addAgent(kwArs...)`: Adds an agent to the `Community`. The `kwArgs` passed to the agent are the values of the local parameters of the agent that is constructed. Contrary to the `addAgent` defined in `updateLocal`, all local parmaeters of the agent has to be specified.\n",
    "\n",
    "Similarly to Local, the marker `.new` indicates if you want to use the current parameter or the value in the future.\n",
    "\n",
    "**Example** Freeze the agents. Imagine that if certain time is met, we want to freeze all the agents that we described in local. One of the ways we can do it is by setting the jump to zero.\n"
   ]
  },
  {
   "cell_type": "code",
   "execution_count": null,
   "metadata": {},
   "outputs": [
    {
     "data": {
      "text/plain": []
     },
     "metadata": {},
     "output_type": "display_data"
    },
    {
     "name": "stdout",
     "output_type": "stream",
     "text": [
      "PARAMETERS\n",
      "\tl (Float Local)\n",
      "\tσ2 (Float Global)\n",
      "\tpDivision (Float Global)\n",
      "\tfreeze (Int Global)\n",
      "\n",
      "\n",
      "UPDATE RULES\n",
      "UpdateGlobal\n",
      " if t < 10.0\n",
      "    freeze.new = 1\n",
      "else\n",
      "    freeze.new = 0\n",
      "end\n",
      "\n",
      "UpdateLocal\n",
      " begin\n",
      "    x.new += freeze * Normal(0, σ2)\n",
      "    if x.new > simBox[1, 2]\n",
      "        removeAgent()\n",
      "    elseif pDivision < Uniform(0, 1)\n",
      "        addAgent(l = sin(Uniform(0, 3π)))\n",
      "    end\n",
      "end\n",
      "\n"
     ]
    }
   ],
   "source": [
    "model = Agent(1, #Dimensions of the model\n",
    "    localFloat = [:l],\n",
    "    globalFloat = [\n",
    "        :σ2, \n",
    "        :pDivision,\n",
    "    ],\n",
    "    globalInt = [:freeze], #Add the constant freeze\n",
    "    updateLocal = quote\n",
    "        x += freeze*Normal(0,σ2) \n",
    "        if x.new > simBox[1,2]\n",
    "            removeAgent()\n",
    "        elseif pDivision < Uniform(0,1)\n",
    "            addAgent(l = sin(Uniform(0,3*π)))\n",
    "        end\n",
    "    end,\n",
    "    updateGlobal = quote #Set freeze to zero at some point\n",
    "        if t < 10.\n",
    "            freeze = 1\n",
    "        else\n",
    "            freeze = 0\n",
    "        end\n",
    "    end\n",
    ")"
   ]
  },
  {
   "attachments": {},
   "cell_type": "markdown",
   "metadata": {},
   "source": [
    "# - Interaction Update\n",
    "\n",
    "Interaction update are set to compute parameters that need to be computed running through all neighbors of agents (e.g. the force of repulsion between agents). The force will be set as,\n",
    "\n",
    "$$f_i = \\sum_{j\\in \\mathcal{N}_i} F(x_i,x_j)$$\n",
    "where $i$ goes over all the agents and $j$ goes over all the neighbors of agent $i$. \n",
    "\n",
    "There is three things to have in consideration:\n",
    "\n",
    " - Interaction parameters are recomputed each time that we want to compute a new interaction and hence have to be reinitialized. We hence need to define them as `scopeDtyeInteraction`. In this way, the package will know that they have to be set to zero before computing them.\n",
    " - Since the interaction go over all agents and all the neighbors of agents, we need to specify in the code declared if we are using a parameter of the agent with an `.i` or a neighbor with a `.j`.\n",
    " - There computation goes over the neighbors of the agent. There are different algorithms implemented to keep track of the neighbors and that may matter tot the speed of the simulations. You can choose the neighborhood algorithm with the argument `neighbors`. See a comparative of neighbor algorithms in the examples section.\n",
    "\n",
    "|Implemented Neighbor algorthms|Description|\n",
    "|:---:|:---|\n",
    "|Full|Compute all the interactions among all pairs.|\n",
    "|VerletTime|Compute a Verlet List and update it at fixed times.|\n",
    "|VerletDistances|Compute a Verlet List and update it when some cell overpasses certain limit.|\n",
    "|CellLinked|Assign cells to a matrix and compute neighbors of neighboring cells only.|\n",
    "|CLVD|Combination of CellLinked and VerletDistances, it uses CellLinked to compute the VerletLists|\n",
    "\n",
    "**Example** We want to compute mean euclidean distance of an agent to all its neighbors in a specific radius of distance."
   ]
  },
  {
   "cell_type": "code",
   "execution_count": null,
   "metadata": {},
   "outputs": [
    {
     "data": {
      "text/plain": []
     },
     "metadata": {},
     "output_type": "display_data"
    },
    {
     "name": "stdout",
     "output_type": "stream",
     "text": [
      "PARAMETERS\n",
      "\tnNeighs (Int Local)\n",
      "\tmDis (Float Local)\n",
      "\tdist (Float Global)\n",
      "\n",
      "\n",
      "UPDATE RULES\n",
      "UpdateInteraction\n",
      " begin\n",
      "    d = euclideanMetric(x.i, x.j, y.i, y.j, z.i, z.j)\n",
      "    if d < dist\n",
      "        nNeighs.i += 1\n",
      "        mDist.i = (mDist.i * (nNeighs.i - 1) + d) / nNeighs.i\n",
      "    end\n",
      "end\n",
      "\n"
     ]
    }
   ],
   "source": [
    "model = Agent(3,\n",
    "    globalFloat = [:dist], #Maximum distance to compute neighbor distance\n",
    "    localFloatInteraction = [:mDis], #Interaction variable where to store the mean distance\n",
    "    localIntInteraction = [:nNeighs], #Number of neighbors that the agent has\n",
    "    updateInteraction = quote\n",
    "        d = euclideanMetric(x.i,x.j,y.i,y.j,z.i,z.j) #Using euclidean matric provided in package\n",
    "        if d < dist\n",
    "            nNeighs.i += 1 #Add 1 to neighbors\n",
    "            mDist.i = (mDist.i*(nNeighs.i-1) + d)/nNeighs.i\n",
    "        end\n",
    "    end,\n",
    "    neighbors = :Full, #specifying neighbor algorithm\n",
    ")"
   ]
  },
  {
   "attachments": {},
   "cell_type": "markdown",
   "metadata": {},
   "source": [
    "## - Variable Update\n",
    "\n",
    "An alternative to a local update for continuous local parameters is to define differential equations that describe the evolution of the parameter. \n",
    "\n",
    "Again, we can write anything we need in normal julia code. When writting an equation, it will be very similar to writting a SDE equation:\n",
    "\n",
    "$$dx = f(x,t) dt + g(x,t) dW$$\n",
    "\n",
    "The equations have to be written as:\n",
    "\n",
    "```julia\n",
    "d(localParameter) = dt(deterministicContrubution)\n",
    "d(localParameter) = dW(stochasticContribution)\n",
    "d(localParameter) = dt(deterministicContrubution) + dW(stochasticContribution)\n",
    "```\n",
    "\n",
    "The integration method of the equations can be chosen specifying the `integrator` argument.\n",
    "\n",
    "|Implemented Integrators|\n",
    "|:---:|\n",
    "|Euler|\n",
    "|Heun|\n",
    "|RungeKutta4|\n",
    "\n",
    "**Example** [Ornstein–Uhlenbeck](https://en.wikipedia.org/wiki/Ornstein%E2%80%93Uhlenbeck_process) process."
   ]
  },
  {
   "cell_type": "code",
   "execution_count": null,
   "metadata": {},
   "outputs": [
    {
     "data": {
      "text/plain": []
     },
     "metadata": {},
     "output_type": "display_data"
    },
    {
     "name": "stdout",
     "output_type": "stream",
     "text": [
      "PARAMETERS\n",
      "\tσ (Float Global)\n",
      "\tΘ (Float Global)\n",
      "\n",
      "\n",
      "UPDATE RULES\n",
      "UpdateVariable\n",
      " begin\n",
      "    d(x) = dt(-θ * x) + dW(σ)\n",
      "    d(y) = dt(-θ * y) + dW(σ)\n",
      "end\n",
      "\n"
     ]
    }
   ],
   "source": [
    "model = Agent(2,\n",
    "    globalFloat = [\n",
    "        :σ, #Diffussion constant\n",
    "        :Θ  #Drifft force\n",
    "    ],\n",
    "    updateVariable = quote\n",
    "        d(x) = dt(-θ*x)+dW(σ)\n",
    "        d(y) = dt(-θ*y)+dW(σ)\n",
    "    end,\n",
    "    integrator = :Heun\n",
    ")"
   ]
  },
  {
   "cell_type": "markdown",
   "metadata": {},
   "source": [
    "## Model inheritance\n",
    "\n",
    "The above set of parameters and rules can be used to define all type of agent models. Once we have a developed a model, we can extend the model with additional rules and parameters. This allows to contruct the models in a modular maner.\n",
    "\n",
    "There are two keyword parameters in the structure `Agent` for doing that:\n",
    "\n",
    " 1. `baseModelInit`: Models whose rules apply before the rules of the present Agent model.\n",
    " 2. `baseModelEnd`: Models whose rules apply after the rules of the present Agent model.\n",
    "\n",
    "The models provided will be concatenated in order of declaration.\n",
    "\n",
    "**Example** Let's make modular the random walker and boundary conditions of the example provided in **Local** and **Global** updates."
   ]
  },
  {
   "cell_type": "code",
   "execution_count": null,
   "metadata": {},
   "outputs": [
    {
     "data": {
      "text/plain": []
     },
     "metadata": {},
     "output_type": "display_data"
    },
    {
     "name": "stdout",
     "output_type": "stream",
     "text": [
      "PARAMETERS\n",
      "\tσ2 (Float Global)\n",
      "\tfreeze (Int Global)\n",
      "\tl (Float Local)\n",
      "\tpDivision (Float Global)\n",
      "\n",
      "\n",
      "UPDATE RULES\n",
      "UpdateGlobal\n",
      " if t < 10.0\n",
      "    freeze.new = 1\n",
      "else\n",
      "    freeze.new = 0\n",
      "end\n",
      "\n",
      "UpdateLocal\n",
      " begin\n",
      "    x.new += freeze * Normal(0, σ2)\n",
      "    if pDivision < Uniform(0, 1)\n",
      "        addAgent(l = sin(Uniform(0, 3π)))\n",
      "    elseif x.new > simBox[1, 2]\n",
      "        removeAgent()\n",
      "    end\n",
      "end\n",
      "\n"
     ]
    }
   ],
   "source": [
    "modelWalker = Agent(1, #Dimensions of the model\n",
    "    globalFloat = [\n",
    "        :σ2, \n",
    "    ],\n",
    "    globalInt = [:freeze], #Add the constant freeze\n",
    "    updateLocal = quote\n",
    "        x += freeze*Normal(0,σ2) \n",
    "    end,\n",
    ")\n",
    "\n",
    "modelBoundaries = Agent(1, #Dimensions of the model\n",
    "    localFloat = [:l],\n",
    "    globalFloat = [\n",
    "        :pDivision,\n",
    "    ],\n",
    "    updateLocal = quote\n",
    "        if pDivision < Uniform(0,1)\n",
    "            addAgent(l = sin(Uniform(0,3*π)))\n",
    "        elseif x.new > simBox[1,2]\n",
    "            removeAgent()\n",
    "        end\n",
    "\n",
    "    end,\n",
    ")\n",
    "\n",
    "modelFreeze = Agent(1, #Dimensions of the model\n",
    "    updateGlobal = quote #Set freeze to zero at some point\n",
    "        if t < 10.\n",
    "            freeze = 1\n",
    "        else\n",
    "            freeze = 0\n",
    "        end\n",
    "    end\n",
    ")\n",
    "\n",
    "modelFull = Agent(1,\n",
    "    baseModelInit = [\n",
    "        modelWalker,\n",
    "        modelBoundaries,\n",
    "        modelFreeze\n",
    "        ]\n",
    ")"
   ]
  },
  {
   "cell_type": "markdown",
   "metadata": {},
   "source": [
    "As you can see the fumm model is the same as the model that we declared with all the rules together."
   ]
  }
 ],
 "metadata": {
  "kernelspec": {
   "display_name": "Julia 1.8.0",
   "language": "julia",
   "name": "julia-1.8"
  },
  "language_info": {
   "file_extension": ".jl",
   "mimetype": "application/julia",
   "name": "julia",
   "version": "1.7.3"
  },
  "orig_nbformat": 4,
  "vscode": {
   "interpreter": {
    "hash": "e7370f93d1d0cde622a1f8e1c04877d8463912d04d973331ad4851f04de6915a"
   }
  }
 },
 "nbformat": 4,
 "nbformat_minor": 2
}
