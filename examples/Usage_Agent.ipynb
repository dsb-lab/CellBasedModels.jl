{
 "cells": [
  {
   "cell_type": "code",
   "execution_count": 9,
   "metadata": {},
   "outputs": [],
   "source": [
    "using CellBasedModels"
   ]
  },
  {
   "attachments": {},
   "cell_type": "markdown",
   "metadata": {},
   "source": [
    "# Defining an ABM model\n",
    "\n",
    "The `ABM` structure contains all the information of a ABM Based model, their parameters and rules of evolution. There are four elements to take into account when defining agents:\n",
    "\n",
    " - **Parameters**. These can be splited in:\n",
    "    - User-defined parameters: Parameters that are defined for the specific model that is being used.\n",
    "    - Default parameters: Parameters that are defined for all models by default.\n",
    " - **Update rules**. Rules that describe the behavior of the agents during the course of time.\n",
    " - **Model inheritance**. More simple models over which we want to build more complex models.\n",
    "\n",
    "Constructing an agent we use\n",
    "\n",
    "```julia\n",
    "ABM(dim,kwArgs...)\n",
    "```\n",
    "where `dim` is the only required argument of the model and defined the dimensionality of the agent and can take values 0-3. The `kwArgs` are keyword arguments that define the parameters, rules and base models of the present model and that will be seing in detail in the following.\n",
    "\n",
    "## Parameters\n",
    "\n",
    "### Parameters - Default Parameters\n",
    "\n",
    "By default, all agent models have a set of defined set of parameters. A list of the most relevant parameters for a user is:\n",
    "\n",
    "|**Topic**|**Symbol**|**dtype**|**Description**|\n",
    "|:---:|:---:|:---:|:---|\n",
    "|**Time**|t|Float64|Absolute time of evolution of the community.|\n",
    "||dt|Float64|Time increments in each step of the evolution.|\n",
    "|**Size Community**|N|Int64|The number of agents active in the community.|\n",
    "||NMedium|Vector{Int64}|Size of the grid in which the medium is being computed. This is necessary to be declared if medium parameters are declared by the user.|\n",
    "|**Id tracking**|id|Int64|Unique identifier of the agent.|\n",
    "|**Simulation space**|simBox|Matrix{Float64}|Simulation box in which cells are moving. This is necessary to define a region of space in which a medium will be simulated or for computing neighbors with CellLinked methods.|\n",
    "|**Position**|x|Vector{Float64}|Position of the agent in the x axis.|\n",
    "||y|Vector{Float64}|Position of the agent in the y axis.|\n",
    "||z|Vector{Float64}|Position of the agent in the z axis.|\n",
    "|**Position Medium**|x $_m$|Array{Float64}|Position of the medium gridpoints in the x axis. The shape will depend on the dimensionality o the model. This parameter is only present is a model with medium parameters is declared.|\n",
    "||y $_m$|Array{Float64}|Position of the medium gridpoints in the y axis. The shape will depend on the dimensionality o the model. This parameter is only present is a model with medium parameters is declared.|\n",
    "||z $_m$|Array{Float64}|Position of the medium gridpoints in the z axis. The shape will depend on the dimensionality o the model. This parameter is only present is a model with medium parameters is declared.|\n",
    "|**Grid size Medium**|dx|Float64|Grid separation of the medium in the x axis. This parameter is only present is a model with medium parameters is declared.|\n",
    "||dy|Float64|Grid separation of the medium in the y axis. This parameter is only present is a model with medium parameters is declared.|\n",
    "||dz|Float64|Grid separation of the medium in the z axis. This parameter is only present is a model with medium parameters is declared.|\n",
    "|**Grid position Medium**|i1_|Int64|Index of the medium grid in the x coordinate.|\n",
    "||i2_|Int64|Index of the medium grid in the x coordinate.|\n",
    "||i3_|Int64|Index of the medium grid in the x coordinate.|\n",
    "\n",
    "There are more parameters predefined in the model. The other parameters, however, are used internaly for the package to work properly and should in rare case used directly by the user. A complete list can be seen in the definition of the `Community` structure in `API`. You can identify them because they have a lower underscore in the end of their name.\n",
    "\n",
    "### Parameters - User defined parmaeters\n",
    "\n",
    "Apart from the default parameters, the user can define other parameters necessary for its model. \n",
    "\n",
    "The user parameters can have three scopes:\n",
    "\n",
    " - **model**: Parameters that affect all the agents. These can be scalars or arrays of any shape.\n",
    " - **agent**: Parameters have a different value for each agent. These will be stored as length N vectors. These can be scalars.\n",
    " - **medium**: Parameters that belong to the medium in which the model is embedded (if there is a medium defined for this model). These can be scalars only.\n",
    "\n",
    "For declaring the parameters, you will have to pass a dictionary-like object with keys as symbols of the parameters and datatypes as the stored values. Alternatively you can provide a structure and the `ABM` object will take the fields as the parameters."
   ]
  },
  {
   "cell_type": "code",
   "execution_count": 10,
   "metadata": {},
   "outputs": [
    {
     "name": "stdout",
     "output_type": "stream",
     "text": [
      "PARAMETERS\n",
      "\tx (Float64 agent)\n",
      "\ty (Float64 agent)\n",
      "\tz (Float64 agent)\n",
      "\txₘ (Float64 medium)\n",
      "\tyₘ (Float64 medium)\n",
      "\tzₘ (Float64 medium)\n",
      "\ta2 ("
     ]
    },
    {
     "name": "stdout",
     "output_type": "stream",
     "text": [
      "Int64 agent)\n",
      "\ta1 (Float64 agent)\n",
      "\tg2 ("
     ]
    },
    {
     "name": "stdout",
     "output_type": "stream",
     "text": [
      "Array{"
     ]
    },
    {
     "data": {
      "text/plain": []
     },
     "metadata": {},
     "output_type": "display_data"
    },
    {
     "name": "stdout",
     "output_type": "stream",
     "text": [
      "Float64} model)\n",
      "\tg1 (Int64 model)\n",
      "\tm (Float64 medium)\n",
      "\n",
      "\n",
      "UPDATE RULES\n"
     ]
    }
   ],
   "source": [
    "agent = ABM(3,                                  #Dimensions of the model\n",
    "                agent = Dict(                   # Agent parameters\n",
    "                    :a1=> Float64,\n",
    "                    :a2=> Int64\n",
    "                    ),\n",
    "                model = Dict(                   # Model parameters\n",
    "                    :g1=> Int64,\n",
    "                    :g2=> Array{Float64}\n",
    "                    ),\n",
    "                medium = Dict(                  # Medium parameters\n",
    "                    :m=>Float64\n",
    "                    )\n",
    "            )"
   ]
  },
  {
   "attachments": {},
   "cell_type": "markdown",
   "metadata": {},
   "source": [
    "> **WARNING: User default parameters name convention** \n",
    "> \n",
    "> The is no rule to declare user-defined parameters but we advise that the names do not end with underscore (e.g. :a_). \n",
    "> This nomenclarute is in general used to name hidden parameters that are kept for internal use."
   ]
  },
  {
   "attachments": {},
   "cell_type": "markdown",
   "metadata": {},
   "source": [
    "## Update Rules\n",
    "\n",
    "After setting up the parameters of our agent, we can define the rules of evolution of our model and of recomputation.\n",
    "\n",
    "We can evolve all parameters in all the scopes with two methods:\n",
    "\n",
    " - Differential Equations: In the most general form we can define up to Stochastic Differential Equations. In these rules we will define the deterministic function $f$ and stochastic functions $g$ separately.\n",
    "\n",
    "$$d(x) = \\underbrace{f(x,t)}_{ODE}dt + \\underbrace{g(x,t)}_{SDE}dW$$\n",
    "\n",
    " - Rules: Rules that do not have any underlying differential equation to describe their evolution.\n",
    "\n",
    "### Writting update rules\n",
    "\n",
    "Update rules in agents is almost normal julia code that you can write in a simplified level and then, when constructing the `ABM` structure, the code will be vectorized and adapted to be run in the corresponding platform.\n",
    "\n",
    "To provide a rule to the `ABM`, you will need to give the code to the `kwArg` in form of \n",
    "\n",
    "```julia\n",
    "quote \n",
    "#code of update rule in here...\n",
    "end\n",
    "```\n",
    "\n",
    "Let's see some examples to make it more clear.\n",
    "\n",
    "### Rules\n",
    "\n",
    "**Example** We want to create an agent that, at each step:\n",
    " 1. Makes a jump to left or right brought from a gaussian. \n",
    " 2. If the agent surpasses a certain limit in the left limit, is removed. \n",
    " 3. At random, with certain probability, it divides with a new parameter `l`."
   ]
  },
  {
   "cell_type": "code",
   "execution_count": 11,
   "metadata": {},
   "outputs": [
    {
     "data": {
      "text/plain": []
     },
     "metadata": {},
     "output_type": "display_data"
    },
    {
     "name": "stdout",
     "output_type": "stream",
     "text": [
      "PARAMETERS\n",
      "\tx (Float64 agent)\n",
      "\tl (Float64 agent)\n",
      "\tpDivision (Float64 model)\n",
      "\tσ2 (Float64 model)\n",
      "\n",
      "\n",
      "UPDATE RULES\n",
      "agentRule\n",
      " begin\n",
      "    x__ += CBMRandom.normal(0.0, σ2)\n",
      "    if x__ > simBox[1, 2]\n",
      "        @removeAgent\n",
      "    elseif pDivision < Uniform(0, 1)\n",
      "        @addAgent l__ = sin(CBMRandom.uniform(0, 3π))\n",
      "    end\n",
      "end\n",
      "\n"
     ]
    }
   ],
   "source": [
    "model = ABM(1, #Dimensions of the model\n",
    "    agent = Dict(\n",
    "        :l => Float64\n",
    "    ),\n",
    "    model = Dict(\n",
    "        :σ2 => Float64,    #Spread of the gaussian\n",
    "        :pDivision => Float64 #Global variable to set the probability at which it will divide\n",
    "    ),\n",
    "    agentRule = quote\n",
    "        x += CBMRandom.normal(0.,σ2) #We can call to distributions from Distributions.jl that are 1D\n",
    "        #We can make conditionals\n",
    "        if x__ > simBox[1,2] #We can use the default parameter simBox to define where is the left margin at which cells are removed. \n",
    "            @removeAgent()\n",
    "        elseif pDivision < Uniform(0,1) #We can make conditionals\n",
    "            @addAgent(\n",
    "                l = sin(CBMRandom.uniform(0,3*π))\n",
    "                ) #We add an agent that inherits x and initialize it with a new parameter l\n",
    "        end\n",
    "    end\n",
    ")"
   ]
  },
  {
   "attachments": {},
   "cell_type": "markdown",
   "metadata": {},
   "source": [
    "Several things to notice: \n",
    "\n",
    " 1. Parameters with double lower underline. If you notice, the update rule shows that when the modified parameters `x` and `l`, when reasiged with an updating operator, they where converted into `x__` and `l__`, respectively. The underscore variables are the variables that store the modifications of the parameters before making the final step. This is performed this way to avoid modificating the parameters before all the modifications to all the agents, medium and model parameters are made. When calling the functions `update!` or `evolve!`, the new modifications will take place and will be incorporated into the original parameters. \n",
    " 2. Random numbers and GPU. To generate random numbers from distributions we can use the package `Distributions.jl`. This is perfectly fine if your code is going to run only on CPU. However, `Distributions.jl` is not compatible with GPU hence we provide the submodule `CBMRandom` with some random generators from different distributions that may run both in CPU and GPU.\n",
    " 3. Macros. `CellBasedModels` provide several macros that are handy to perform some special functions of Agent Based Models. You can see the all the provided macros in `API - Macros`. In here we use the macro for adding agents to a model `@addAgent` and the one for removing agents `@removeAgent`.\n",
    " 4. Use of Base parameters. For checking that the particle has left the simulation space, we use the base parameter `simBox` that defines the boundaries of the simulation.\n",
    "\n",
    "Let's try now other example but now we want to modify a model parameter. For that, we will define a model rule."
   ]
  },
  {
   "attachments": {},
   "cell_type": "markdown",
   "metadata": {},
   "source": [
    "**Example** Freeze the agents. Imagine that if certain time is met, we want to freeze all the agents that we described in local. One of the ways we can do it is by setting the jump to zero.\n"
   ]
  },
  {
   "cell_type": "code",
   "execution_count": 12,
   "metadata": {},
   "outputs": [
    {
     "name": "stdout",
     "output_type": "stream",
     "text": [
      "PARAMETERS\n",
      "\tx (Float64 agent)\n",
      "\tl (Float64 agent)\n",
      "\tpDivision (Float64 model)\n",
      "\tσ2 (Float64 model)\n",
      "\tfreeze ("
     ]
    },
    {
     "data": {
      "text/plain": []
     },
     "metadata": {},
     "output_type": "display_data"
    },
    {
     "name": "stdout",
     "output_type": "stream",
     "text": [
      "Bool model)\n",
      "\n",
      "\n",
      "UPDATE RULES\n",
      "modelRule\n",
      " if t < 10.0\n",
      "    freeze__ = true\n",
      "else\n",
      "    freeze__ = false\n",
      "end\n",
      "\n",
      "agentRule\n",
      " begin\n",
      "    x__ += freeze * Normal(0, σ2)\n",
      "    if x__ > simBox[1, 2]\n",
      "        @removeAgent\n",
      "    elseif pDivision < Uniform(0, 1)\n",
      "        @addAgent l__ = sin(Uniform(0, 3π))\n",
      "    end\n",
      "end\n",
      "\n"
     ]
    }
   ],
   "source": [
    "model = ABM(1, #Dimensions of the model\n",
    "    agent = Dict(\n",
    "        :l => Float64\n",
    "    ),\n",
    "    model = Dict(\n",
    "        :σ2 => Float64,    #Spread of the gaussian\n",
    "        :pDivision => Float64, #Global variable to set the probability at which it will divide\n",
    "        :freeze => Bool\n",
    "    ),\n",
    "    agentRule = quote\n",
    "        x += freeze*Normal(0,σ2) \n",
    "        if x__ > simBox[1,2]\n",
    "            @removeAgent()\n",
    "        elseif pDivision < Uniform(0,1)\n",
    "            @addAgent(l = sin(Uniform(0,3*π)))\n",
    "        end\n",
    "    end,\n",
    "    modelRule = quote #Set freeze to false\n",
    "        if t < 10.\n",
    "            freeze = true\n",
    "        else\n",
    "            freeze = false\n",
    "        end\n",
    "    end\n",
    ")"
   ]
  },
  {
   "attachments": {},
   "cell_type": "markdown",
   "metadata": {},
   "source": [
    "### Differential Equations\n",
    "\n",
    "Parameters can be evolved also using Differential Equation. The way of defining the equations is very similar to that of `DifferentialEquations.jl`. `CellBasedModels` is currently compatible with ODE and SDE problems. The most general form of such problems is,\n",
    "\n",
    "$$d(x) = \\underbrace{f(x,t)}_{ODE}dt + \\underbrace{g(x,t)}_{SDE}dW$$\n",
    "\n",
    "Where the functions $f$ and $g$ define the deterministic and stochastic terms, in general. Let's see an example to learn how to define models with these equations.\n",
    "\n",
    "**Example** The [Ornstein–Uhlenbeck](https://en.wikipedia.org/wiki/Ornstein%E2%80%93Uhlenbeck_process) process is described by a function of the form:\n",
    "\n",
    "$$d(x) = -xdt + DdW$$\n",
    "\n",
    "We want a model that:\n",
    " 1. Evolves under a 2D OU process\n",
    " 2. Keeps track of the number of neighboring cells in a radius"
   ]
  },
  {
   "cell_type": "code",
   "execution_count": 15,
   "metadata": {},
   "outputs": [
    {
     "data": {
      "text/plain": []
     },
     "metadata": {},
     "output_type": "display_data"
    },
    {
     "name": "stdout",
     "output_type": "stream",
     "text": [
      "PARAMETERS\n",
      "\tx (Float64 agent)\n",
      "\ty (Float64 agent)\n",
      "\tnNeighs (Int64 agent)\n",
      "\tD (Float64 model)\n",
      "\tdist (Float64 model)\n",
      "\n",
      "\n",
      "UPDATE RULES\n",
      "agentSDE\n",
      " begin\n",
      "    dt__x = D\n",
      "    dt__y = D\n",
      "end\n",
      "\n",
      "agentRule\n",
      " begin\n",
      "    nNeighs__ = 0\n",
      "    @loopOverNeighbors it2 begin\n",
      "            d = CBMMetrics.euclidean(x, x[it2], y, y[it2])\n",
      "            if d < dist\n",
      "                nNeighs__ += 1\n",
      "            end\n",
      "        end\n",
      "end\n",
      "\n",
      "agentODE\n",
      " begin\n",
      "    dt__x = -x\n",
      "    dt__y = -y\n",
      "end\n",
      "\n"
     ]
    }
   ],
   "source": [
    "model = ABM(2,\n",
    "    model = Dict(\n",
    "        :dist => Float64, #Maximum distance to compute neighbor distance\n",
    "        :D => Float64\n",
    "        ),\n",
    "    agent = Dict(\n",
    "        :nNeighs=> Int64  #Number of neighbors that the agent has\n",
    "        ),\n",
    "    agentRule = quote\n",
    "        nNeighs = 0 #Set it to zero before starting the computation\n",
    "        @loopOverNeighbors it2 begin\n",
    "            d = CBMMetrics.euclidean(x,x[it2],y,y[it2]) #Using euclidean matric provided in package\n",
    "            if d < dist\n",
    "                nNeighs += 1 #Add 1 to neighbors\n",
    "            end\n",
    "        end\n",
    "    end,\n",
    "    agentODE = quote #Here we put the deterministic term\n",
    "        dt(x) = -x\n",
    "        dt(y) = -y\n",
    "    end,\n",
    "    agentSDE = quote #Here we put the stochastic term\n",
    "        dt(x) = D\n",
    "        dt(y) = D\n",
    "    end,\n",
    "\n",
    "    platform = CPU(),\n",
    "    neighborsAlg = CBMNeighbors.CellLinked(cellEdge=1)\n",
    ")"
   ]
  },
  {
   "attachments": {},
   "cell_type": "markdown",
   "metadata": {},
   "source": [
    "Several things to notice:\n",
    "\n",
    " 1. The function `dt` and the parameter decorator `dt__`. Similarly what we do with rules adding a double underscore, we mark differential terms with the function `dt`, this function defines that this parameter is described by a differential equation and a new parameter is added to define that this variable is the differential term.\n",
    " 2. ODE and SDE. We put the deterministic term un the rule `agentODE` and the stochatic term in the rule `agentSDE`. We may not have a deterministic term or no stochastic term, that is not a problem.\n",
    " 3. Use of neighbors macros. To go over the neighbors of an agent, we use the `@loopOverNeighbors` macro that requires that you specify an iterator index. Inside neighbors macros, you need to make a difference to which parameters are from the agent and which are the neighbors agent. If you see the line where the euclidean distance is computed you will realise that we specify the parameters of the second agent by providing the corresponding index of the neighboring position to them.\n",
    "\n",
    "Let's see another example.\n",
    "\n",
    "**Example** Consider that we want to define a model with a diffusive medium along the x axis and static cells secreting to medium. For now we will limit to have a medium without agents. The equation of diffusion has the form:\n",
    "\n",
    "$$\\frac{\\partial p(x,t)}{\\partial t} = D\\frac{\\partial^2 p(x,t)}{\\partial x^2}$$\n",
    "\n",
    "This continuous equation has to be discretized to be able to be integrated. We can use the macros we provide in the code.\n",
    "\n",
    "For the boundary solutions we can implement Dirichlet conditions:\n",
    "\n",
    "$$p(x_{max},t) = 0$$\n",
    "\n",
    "and Newman (reflective):\n",
    "\n",
    "$$\\partial_x p(x,t)|_{x=x_{min}} = 0$$\n",
    "\n",
    "which in discrete form will correspond to (taking a backward discretization):\n",
    "\n",
    "$$ \\frac{p(x_{min})-p(x_{min}-\\Delta x)}{\\Delta x} = 0$$\n",
    "\n",
    "and isolating:\n",
    "\n",
    "$$ p(x_{min})=p(x_{min}-\\Delta x)$$"
   ]
  },
  {
   "cell_type": "code",
   "execution_count": 16,
   "metadata": {},
   "outputs": [
    {
     "data": {
      "text/plain": []
     },
     "metadata": {},
     "output_type": "display_data"
    },
    {
     "name": "stdout",
     "output_type": "stream",
     "text": [
      "PARAMETERS\n",
      "\tx (Float64 agent)\n",
      "\txₘ (Float64 medium)\n",
      "\tsecrete (Float64 agent)\n",
      "\tD (Float64 model)\n",
      "\tp (Float64 medium)\n",
      "\n",
      "\n",
      "UPDATE RULES\n",
      "mediumODE\n",
      " if @mediumInside()\n",
      "    dt__p = @∂2(1, p)\n",
      "elseif @mediumBorder(1, -1)\n",
      "    p__ = p[2]\n",
      "elseif @mediumBorder(1, 1)\n",
      "    p__ = 0\n",
      "end\n",
      "\n",
      "agentRule\n",
      " p__ += ((secrete * dt) / dx) * dy\n",
      "\n"
     ]
    }
   ],
   "source": [
    "model = ABM(2,\n",
    "    model = Dict(\n",
    "        :D => Float64\n",
    "        ),\n",
    "    agent = Dict(\n",
    "        :secrete => Float64\n",
    "    ),\n",
    "    medium = Dict(\n",
    "        :p=> Float64  #Number of neighbors that the agent has\n",
    "        ),\n",
    "    agentRule = quote\n",
    "        p += secrete*dt/dx*dy #Add to the medium the secretion content of each neighbor at each time point\n",
    "    end,\n",
    "    mediumODE = quote\n",
    "        if @mediumInside() #Diffusion inside bourders\n",
    "            dt(p) = @∂2(1,p)      #Second order diffusive term along x axis\n",
    "        elseif @mediumBorder(1,-1) #Newman (reflective) boundaries on the xmin border\n",
    "            p = p[2,i2_]    #Reflective at x border, along all y points             \n",
    "        elseif @mediumBorder(1,1) #Dirichlet (absorvant) boundary on the xmax border\n",
    "            p = 0                   \n",
    "        end\n",
    "    end,\n",
    "    mediumAlg = DifferentialEquations.AutoTsit5(DifferentialEquations.Rosenbrock23())\n",
    ")"
   ]
  },
  {
   "cell_type": "markdown",
   "metadata": {},
   "source": [
    "By now you can already identify all the things that are happening:\n",
    "\n",
    " 1. In an agent rule we are adding to the medium whatever the agent is secreting.\n",
    " 2. We used some provided macros to help out the writing of the model.\n",
    " 3. Updated parameters adquire the underscore and `dt__` decorators."
   ]
  },
  {
   "cell_type": "markdown",
   "metadata": {},
   "source": [
    "# Algorithm arguments\n",
    "\n",
    "Once defined the rules, you can define specific algorithms for the computation of the model. The possible arguments are:\n",
    "\n",
    "- `platform` argument to define the type of platform in which you want to evolve the model.\n",
    "- `agentAlg`, `modelAlg` and `mediumAlg` to define the integrator that you want to use. You can use our own integrators provided in the submodule `CBMIntegrators` that may be faster in general but in complex cases with stiff operation or in which you need high precission, you can always use the integrators from `DifferentialEquations.jl` suite. \n",
    "- `agentSolveArgs`, `modelSolveArgs` and `mediumSolveArgs` to define additional arguments required by the integrators to work. This arguments are the ones present when definind a problem in `DifferentialEquations.jl`. \n",
    "- `neighbors` algorithm. This defines the way of computing neighbors. This step is one of the most cost expensive in ABMs and the correct selection of algorithm can really afect your computational efficientcy. We provide several possible algorithms in the submodule `CBMNeighbors`.\n",
    "\n",
    "You should have seen some of this arguments declared in the code above.\n",
    "\n",
    "> **WARNING**  In Version v0.1.0, these arguments where declared in the 'Community' object. They where moved to this object to solve a [World agent problem](https://arxiv.org/abs/2010.07516) when creating Communities inside functions."
   ]
  },
  {
   "attachments": {},
   "cell_type": "markdown",
   "metadata": {},
   "source": [
    "## Model inheritance\n",
    "\n",
    "The above set of parameters and rules can be used to define all type of agent models. Once we have a developed a model, we can extend the model with additional rules and parameters. This allows to contruct the models in a modular maner.\n",
    "\n",
    "There are two keyword parameters in the structure `ABM` for doing that:\n",
    "\n",
    " 1. `baseModelInit`: Models whose rules apply before the rules of the present ABM model.\n",
    " 2. `baseModelEnd`: Models whose rules apply after the rules of the present ABM model.\n",
    "\n",
    "The models provided will be concatenated in order of declaration.\n",
    "\n",
    "**Example** Let's make modular the random walker and boundary conditions of the example provided above in **Rules**."
   ]
  },
  {
   "cell_type": "code",
   "execution_count": 17,
   "metadata": {},
   "outputs": [
    {
     "data": {
      "text/plain": []
     },
     "metadata": {},
     "output_type": "display_data"
    },
    {
     "name": "stdout",
     "output_type": "stream",
     "text": [
      "PARAMETERS\n",
      "\tx (Float64 agent)\n",
      "\tl (Float64 agent)\n",
      "\tpDivision (Float64 model)\n",
      "\tσ2 (Float64 model)\n",
      "\tfreeze (Bool model)\n",
      "\n",
      "\n",
      "UPDATE RULES\n",
      "modelRule\n",
      " if t < 10.0\n",
      "    freeze__ = true\n",
      "else\n",
      "    freeze__ = false\n",
      "end\n",
      "\n",
      "agentRule\n",
      " begin\n",
      "    x__ += freeze * Normal(0, σ2)\n",
      "    if x__ > simBox[1, 2]\n",
      "        @removeAgent\n",
      "    elseif pDivision < Uniform(0, 1)\n",
      "        @addAgent l__ = sin(Uniform(0, 3π))\n",
      "    end\n",
      "end\n",
      "\n"
     ]
    }
   ],
   "source": [
    "modelFreeze = ABM(1, #Dimensions of the model\n",
    "    model = Dict(\n",
    "        :freeze => Bool\n",
    "    ),\n",
    "    modelRule = quote #Set freeze to false\n",
    "        if t < 10.\n",
    "            freeze = true\n",
    "        else\n",
    "            freeze = false\n",
    "        end\n",
    "    end,\n",
    ")\n",
    "\n",
    "modelCombined = ABM(1, #Dimensions of the model\n",
    "    agent = Dict(\n",
    "        :l => Float64\n",
    "    ),\n",
    "    model = Dict(\n",
    "        :σ2 => Float64,    #Spread of the gaussian\n",
    "        :pDivision => Float64, #Global variable to set the probability at which it will divide\n",
    "    ),\n",
    "    agentRule = quote\n",
    "        x += freeze*Normal(0,σ2) \n",
    "        if x__ > simBox[1,2]\n",
    "            @removeAgent()\n",
    "        elseif pDivision < Uniform(0,1)\n",
    "            @addAgent(l = sin(Uniform(0,3*π)))\n",
    "        end\n",
    "    end,\n",
    "\n",
    "    baseModelInit = [modelFreeze]\n",
    ")"
   ]
  },
  {
   "attachments": {},
   "cell_type": "markdown",
   "metadata": {},
   "source": [
    "As you can see the combined model is the same as the model that we declared with all the rules together.\n",
    "\n",
    "Notice that note all models will be inheritable. For example, if we tried to inherit the model the other way around iwe will find that the parameter `freeze` should have been declared in without declaring what it is. "
   ]
  }
 ],
 "metadata": {
  "kernelspec": {
   "display_name": "Julia 1.8.5",
   "language": "julia",
   "name": "julia-1.8"
  },
  "language_info": {
   "file_extension": ".jl",
   "mimetype": "application/julia",
   "name": "julia",
   "version": "1.8.5"
  },
  "orig_nbformat": 4,
  "vscode": {
   "interpreter": {
    "hash": "e7370f93d1d0cde622a1f8e1c04877d8463912d04d973331ad4851f04de6915a"
   }
  }
 },
 "nbformat": 4,
 "nbformat_minor": 2
}
