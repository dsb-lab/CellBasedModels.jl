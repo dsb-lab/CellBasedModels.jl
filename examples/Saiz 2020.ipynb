{
 "cells": [
  {
   "cell_type": "code",
   "execution_count": 4,
   "metadata": {},
   "outputs": [
    {
     "name": "stderr",
     "output_type": "stream",
     "text": [
      "┌ Info: Precompiling AgentBasedModels [388cb286-f2b1-4654-a3bb-2e137a39c658]\n",
      "└ @ Base loading.jl:1317\n",
      "WARNING: Method definition get_cache(Any, typeof(CUDA.CUBLAS.juliaStorageType)) in module CUBLAS at /home/gabriel/.julia/packages/Memoization/Z03rY/src/Memoization.jl:115 overwritten on the same line (check for duplicate calls to `include`).\n",
      "  ** incremental compilation may be fatally broken for this module **\n",
      "\n",
      "\u001b[91m\u001b[1mERROR: \u001b[22m\u001b[39mLoadError: LoadError: LoadError: LoadError: MethodError: no method matching var\"@capture\"(::LineNumberNode, ::Module, ::Expr)\n",
      "\u001b[0mClosest candidates are:\n",
      "\u001b[0m  var\"@capture\"(::LineNumberNode, ::Module, ::Any, \u001b[91m::Any\u001b[39m) at /home/gabriel/.julia/packages/MacroTools/gME9C/src/match/macro.jl:67\n",
      "Stacktrace:\n",
      " [1] \u001b[0m\u001b[1m(::DocStringExtensions.var\"#29#30\"{typeof(DocStringExtensions.template_hook)})\u001b[22m\u001b[0m\u001b[1m(\u001b[22m::\u001b[0mLineNumberNode, ::\u001b[0mVararg\u001b[90m{Any, N} where N\u001b[39m\u001b[0m\u001b[1m)\u001b[22m\n",
      "\u001b[90m   @ \u001b[39m\u001b[35mDocStringExtensions\u001b[39m \u001b[90m~/.julia/packages/DocStringExtensions/9Ot5N/src/\u001b[39m\u001b[90;4mtemplates.jl:11\u001b[0m\n",
      " [2] \u001b[0m\u001b[1mvar\"@doc\"\u001b[22m\u001b[0m\u001b[1m(\u001b[22m\u001b[90m__source__\u001b[39m::\u001b[0mLineNumberNode, \u001b[90m__module__\u001b[39m::\u001b[0mModule, \u001b[90mx\u001b[39m::\u001b[0mVararg\u001b[90m{Any, N} where N\u001b[39m\u001b[0m\u001b[1m)\u001b[22m\n",
      "\u001b[90m   @ \u001b[39m\u001b[90mCore\u001b[39m \u001b[90m./\u001b[39m\u001b[90;4mboot.jl:508\u001b[0m\n",
      " [3] \u001b[0m\u001b[1minclude\u001b[22m\u001b[0m\u001b[1m(\u001b[22m\u001b[90mx\u001b[39m::\u001b[0mString\u001b[0m\u001b[1m)\u001b[22m\n",
      "\u001b[90m   @ \u001b[39m\u001b[36mAgentBasedModels\u001b[39m \u001b[90m~/Documents/PhD/Projects/Agent Based Simulator/AgentBasedModels.jl/src/\u001b[39m\u001b[90;4mAgentBasedModels.jl:1\u001b[0m\n",
      " [4] top-level scope\n",
      "\u001b[90m   @ \u001b[39m\u001b[90m~/Documents/PhD/Projects/Agent Based Simulator/AgentBasedModels.jl/src/\u001b[39m\u001b[90;4mAgentBasedModels.jl:38\u001b[0m\n",
      " [5] top-level scope\u001b[90m (repeats 2 times)\u001b[39m\n",
      "\u001b[90m   @ \u001b[39m\u001b[90;4mnone:1\u001b[0m\n",
      "in expression starting at /home/gabriel/Documents/PhD/Projects/Agent Based Simulator/AgentBasedModels.jl/src/model/agentCode.jl:449\n",
      "in expression starting at /home/gabriel/Documents/PhD/Projects/Agent Based Simulator/AgentBasedModels.jl/src/model/agentCode.jl:437\n",
      "in expression starting at /home/gabriel/Documents/PhD/Projects/Agent Based Simulator/AgentBasedModels.jl/src/model/agentCode.jl:437\n",
      "in expression starting at /home/gabriel/Documents/PhD/Projects/Agent Based Simulator/AgentBasedModels.jl/src/AgentBasedModels.jl:1\n"
     ]
    },
    {
     "ename": "LoadError",
     "evalue": "Failed to precompile AgentBasedModels [388cb286-f2b1-4654-a3bb-2e137a39c658] to /home/gabriel/.julia/compiled/v1.6/AgentBasedModels/jl_tUtBKB.",
     "output_type": "error",
     "traceback": [
      "Failed to precompile AgentBasedModels [388cb286-f2b1-4654-a3bb-2e137a39c658] to /home/gabriel/.julia/compiled/v1.6/AgentBasedModels/jl_tUtBKB.",
      "",
      "Stacktrace:",
      " [1] compilecache(pkg::Base.PkgId, path::String, internal_stderr::IJulia.IJuliaStdio{Base.PipeEndpoint}, internal_stdout::IJulia.IJuliaStdio{Base.PipeEndpoint})",
      "   @ Base ./loading.jl:1360",
      " [2] compilecache(pkg::Base.PkgId, path::String)",
      "   @ Base ./loading.jl:1306",
      " [3] _require(pkg::Base.PkgId)",
      "   @ Base ./loading.jl:1021",
      " [4] require(uuidkey::Base.PkgId)",
      "   @ Base ./loading.jl:914",
      " [5] require(into::Module, mod::Symbol)",
      "   @ Base ./loading.jl:901",
      " [6] eval",
      "   @ ./boot.jl:360 [inlined]",
      " [7] include_string(mapexpr::typeof(REPL.softscope), mod::Module, code::String, filename::String)",
      "   @ Base ./loading.jl:1094"
     ]
    }
   ],
   "source": [
    "using AgentBasedModels\n",
    "abm = AgentBasedModels\n",
    "\n",
    "using Random\n",
    "using Distributions\n",
    "using CUDA\n",
    "\n",
    "using Makie"
   ]
  },
  {
   "cell_type": "markdown",
   "metadata": {},
   "source": [
    "# Define the agent"
   ]
  },
  {
   "cell_type": "code",
   "execution_count": 2,
   "metadata": {},
   "outputs": [
    {
     "ename": "LoadError",
     "evalue": "LoadError: UndefVarError: @agent not defined\nin expression starting at In[2]:1",
     "output_type": "error",
     "traceback": [
      "LoadError: UndefVarError: @agent not defined\nin expression starting at In[2]:1",
      "",
      "Stacktrace:",
      " [1] top-level scope",
      "   @ :0",
      " [2] eval",
      "   @ ./boot.jl:360 [inlined]",
      " [3] include_string(mapexpr::typeof(REPL.softscope), mod::Module, code::String, filename::String)",
      "   @ Base ./loading.jl:1094"
     ]
    }
   ],
   "source": [
    "m = @agent(saiz,\n",
    "    \n",
    "    #Mechanics\n",
    "    \n",
    "    [x,y,z,vx,vy,vz]::Local, #Variables\n",
    "    [Fix,Fiy,Fiz]::Local,    #Interaction forces\n",
    "    id::Identity,            #Identity\n",
    "    [m,r]::Local,            #Mass and radius of the model\n",
    "    [μ,b]::Global,           #Global parameters of the model\n",
    "    F₀::GlobalArray,         #Matrix of interaction forces\n",
    "    \n",
    "    Equation = begin\n",
    "        d_vx = (-b*vx/m+Fix/m)*dt\n",
    "        d_vy = (-b*vy/m+Fiy/m)*dt\n",
    "        d_vz = (-b*vz/m+Fiz/m)*dt\n",
    "        d_x = vx*dt\n",
    "        d_y = vy*dt\n",
    "        d_z = vz*dt\n",
    "    end,\n",
    "    \n",
    "    UpdateInteraction = begin\n",
    "        dij = sqrt((dx_i-dx_j)^2+(dy_i-dy_j)^2+(dz_i-dz_j)^2)\n",
    "        rij = r_i+r_j\n",
    "        if dij < μ*rij && dij > 0\n",
    "            Fix_i += F₀[id_i,id_j]*(rij/dij-1)*(μ*rij/dij-1)*(x_i-x_j)/dij\n",
    "            Fiy_i += F₀[id_i,id_j]*(rij/dij-1)*(μ*rij/dij-1)*(y_i-y_j)/dij\n",
    "            Fiz_i += F₀[id_i,id_j]*(rij/dij-1)*(μ*rij/dij-1)*(z_i-z_j)/dij   \n",
    "        end\n",
    "    end,\n",
    "    \n",
    "    #Biochemistry\n",
    "    \n",
    "    c::Local,             #Biochemical component\n",
    "    [ci,ni]::Local,       #Interaction parameters for the mean\n",
    "    [α,n,mm,K]::Global,\n",
    "    frange::Global,       #Distance of communication\n",
    "    [toff,tonn]::Global,\n",
    "    \n",
    "    Equation = begin\n",
    "        if t < toff && t > ton\n",
    "            d_c = (α*(1+c^n)^mm/((1+c^n)^mm+(1+(ci/ni)/K)^(2*mm))-c)*dt\n",
    "        else\n",
    "            d_c = 0*dt\n",
    "        end\n",
    "    end,\n",
    "        \n",
    "    UpdateInteraction= begin\n",
    "        if dij < frange*rij #Unnecessary to compute dij and rij again, previously computed in UpdateInteraction\n",
    "            ni += 1\n",
    "            ci += c_j\n",
    "        end \n",
    "    end,\n",
    "    \n",
    "    #Growth\n",
    "    \n",
    "    tu::Local,\n",
    "    [τdiv,σdiv,σc]::Global,\n",
    "\n",
    "    EventDivision = begin\n",
    "        #Choose random direction in unit sphere\n",
    "        xₐ = Normal(0,1); yₐ = Normal(0,1); zₐ = Normal(0,1)\n",
    "        Tₐ = sqrt(xₐ^2+yₐ^2+zₐ^2)\n",
    "        xₐ /= Tₐ;yₐ /= Tₐ;zₐ /= Tₐ    \n",
    "\n",
    "        #Chose a random distribution\n",
    "        dist = Uniform(1+σc1,1-σc)\n",
    "\n",
    "        #Update things of first cell\n",
    "        x_1 = x+r*xₐ/2; y_1 = y+r*yₐ/2; z_1 = z+r*zₐ/2\n",
    "        vx_1 = 0.; vy_1 = 0.; vz_1 = 0.\n",
    "        r_1 = r/2. ^(1. /3)\n",
    "        m_1 = m/2\n",
    "        tu_1 = t + Uniform(τdiv-σdiv,τdiv+σdiv)\n",
    "        c_1 = c*dist\n",
    "        \n",
    "        #Update things of second cell\n",
    "        x_2 = x+r*xₐ/2; y_2 = y+r*yₐ/2; z_2 = z+r*zₐ/2\n",
    "        vx_2 = 0.; vy_2 = 0.; vz_2 = 0.\n",
    "        r_2 = r/2. ^(1. /3)\n",
    "        m_2 = m/2\n",
    "        tu_2 = t + Uniform(τdiv-σdiv,τdiv+σdiv)\n",
    "        c_2 = c*(2-dist)\n",
    "    end,\n",
    ")"
   ]
  },
  {
   "cell_type": "markdown",
   "metadata": {},
   "source": [
    "# Compile the model"
   ]
  },
  {
   "cell_type": "code",
   "execution_count": 3,
   "metadata": {
    "scrolled": false
   },
   "outputs": [
    {
     "ename": "LoadError",
     "evalue": "UndefVarError: compile not defined",
     "output_type": "error",
     "traceback": [
      "UndefVarError: compile not defined",
      "",
      "Stacktrace:",
      " [1] top-level scope",
      "   @ In[3]:1",
      " [2] eval",
      "   @ ./boot.jl:360 [inlined]",
      " [3] include_string(mapexpr::typeof(REPL.softscope), mod::Module, code::String, filename::String)",
      "   @ Base ./loading.jl:1094"
     ]
    }
   ],
   "source": [
    "mCompiled = compile(m,platform=\"cpu\",save=\"RAM\",integrator=\"Heun\",debug=true)"
   ]
  },
  {
   "cell_type": "markdown",
   "metadata": {},
   "source": [
    "### Test final model"
   ]
  },
  {
   "cell_type": "code",
   "execution_count": 17,
   "metadata": {},
   "outputs": [],
   "source": [
    "compile!(m,platform=\"cpu\",saveRAM=true,saveVTK=false,positionsVTK=[:x,:y,:z],debug=false)"
   ]
  },
  {
   "cell_type": "code",
   "execution_count": 18,
   "metadata": {},
   "outputs": [
    {
     "data": {
      "text/plain": [
       "10.0"
      ]
     },
     "execution_count": 18,
     "metadata": {},
     "output_type": "execute_result"
    }
   ],
   "source": [
    "com = Community(m,N=1)\n",
    "\n",
    "##########Mechanics##############################\n",
    "#Initialise global\n",
    "com[:b] = 10^-6\n",
    "com[:F₀] = 10^-4\n",
    "com[:μ] = 2\n",
    "\n",
    "#########Division#################################\n",
    "#Initialise global\n",
    "com[:τdiv] = 10\n",
    "com[:σdiv] = 0.5\n",
    "com[:σx] = 0.01\n",
    "\n",
    "#########Chemical#################################\n",
    "#Initialise Global\n",
    "com[:ton] = 0 #Start deactivated\n",
    "com[:Ncirc] = 20\n",
    "com[:fmin] = 0.05\n",
    "com[:fmax] = 0.95\n",
    "com[:α] = 10\n",
    "com[:n] = 2\n",
    "com[:mm] = 2\n",
    "com[:K] = 0.9\n",
    "com[:frange] = 1.2\n",
    "\n",
    "#########Local parameters and variables###########\n",
    "#Initialise locals\n",
    "mᵢ = 10^-6\n",
    "rᵢ = 5\n",
    "com[:m] = mᵢ\n",
    "com[:r] = rᵢ\n",
    "com[:toff] = 1 #Start activated\n",
    "com[:fate] = 0 #Start neutral fate\n",
    "#Initialise variables\n",
    "com[:x] = 0. #They are only separed in this axis\n",
    "com[:y] = 0.\n",
    "com[:z] = 0.\n",
    "com[:vx] = 0.\n",
    "com[:vy] = 0.\n",
    "com[:vz] = 0.\n",
    "\n",
    "x₀=3.\n",
    "com[:xx] = x₀\n",
    "com[:tu] = 10."
   ]
  },
  {
   "cell_type": "code",
   "execution_count": 19,
   "metadata": {},
   "outputs": [],
   "source": [
    "c = m.evolve(com,dt=0.001,tMax_=60,tSaveStep_=1,nMax_=1000);"
   ]
  },
  {
   "cell_type": "code",
   "execution_count": 20,
   "metadata": {},
   "outputs": [],
   "source": [
    "c[last][:xx];"
   ]
  },
  {
   "cell_type": "markdown",
   "metadata": {},
   "source": [
    "## Visualization"
   ]
  },
  {
   "cell_type": "markdown",
   "metadata": {},
   "source": [
    "### Plot community"
   ]
  },
  {
   "cell_type": "code",
   "execution_count": 21,
   "metadata": {},
   "outputs": [
    {
     "data": {
      "text/plain": [
       "GLMakie.Screen(...)"
      ]
     },
     "execution_count": 21,
     "metadata": {},
     "output_type": "execute_result"
    }
   ],
   "source": [
    "figure = plotCommunitySpheres(c[50],[:x,:y,:z],:r,:fate)\n",
    "display(figure)"
   ]
  },
  {
   "cell_type": "markdown",
   "metadata": {},
   "source": [
    "### Make video"
   ]
  },
  {
   "cell_type": "code",
   "execution_count": 22,
   "metadata": {},
   "outputs": [],
   "source": [
    "using Makie\n",
    "using AbstractPlotting"
   ]
  },
  {
   "cell_type": "code",
   "execution_count": 40,
   "metadata": {},
   "outputs": [
    {
     "data": {
      "text/plain": [
       "plotDivisionTree (generic function with 2 methods)"
      ]
     },
     "execution_count": 40,
     "metadata": {},
     "output_type": "execute_result"
    }
   ],
   "source": []
  },
  {
   "cell_type": "code",
   "execution_count": 44,
   "metadata": {},
   "outputs": [
    {
     "ename": "LoadError",
     "evalue": "MethodError: no method matching names(::Dict{Symbol,Int64})\nClosest candidates are:\n  names(!Matched::DataFrames.Index) at /home/gabriel/.julia/packages/DataFrames/Zx5mm/src/other/index.jl:34\n  names(!Matched::Module; all, imported) at reflection.jl:98\n  names(!Matched::DataFrames.SubIndex) at /home/gabriel/.julia/packages/DataFrames/Zx5mm/src/other/index.jl:425\n  ...",
     "output_type": "error",
     "traceback": [
      "MethodError: no method matching names(::Dict{Symbol,Int64})\nClosest candidates are:\n  names(!Matched::DataFrames.Index) at /home/gabriel/.julia/packages/DataFrames/Zx5mm/src/other/index.jl:34\n  names(!Matched::Module; all, imported) at reflection.jl:98\n  names(!Matched::DataFrames.SubIndex) at /home/gabriel/.julia/packages/DataFrames/Zx5mm/src/other/index.jl:425\n  ...",
      "",
      "Stacktrace:",
      " [1] top-level scope at In[44]:1"
     ]
    }
   ],
   "source": [
    "names(Dict([:a=>1]))"
   ]
  },
  {
   "cell_type": "code",
   "execution_count": 41,
   "metadata": {},
   "outputs": [
    {
     "ename": "LoadError",
     "evalue": "UndefVarError: key not defined",
     "output_type": "error",
     "traceback": [
      "UndefVarError: key not defined",
      "",
      "Stacktrace:",
      " [1] plotDivisionTree(::CommunityInTime, ::Symbol, ::String) at ./In[40]:23",
      " [2] plotDivisionTree(::CommunityInTime, ::Symbol) at ./In[40]:9",
      " [3] top-level scope at In[41]:1"
     ]
    }
   ],
   "source": [
    "figure = plotDivisionTree(c,:fate)\n",
    "display(figure)"
   ]
  },
  {
   "cell_type": "code",
   "execution_count": null,
   "metadata": {},
   "outputs": [],
   "source": []
  }
 ],
 "metadata": {
  "hide_input": false,
  "kernelspec": {
   "display_name": "Julia 1.5.3",
   "language": "julia",
   "name": "julia-1.5"
  },
  "language_info": {
   "file_extension": ".jl",
   "mimetype": "application/julia",
   "name": "julia",
   "version": "1.6.1"
  },
  "toc": {
   "base_numbering": 1,
   "nav_menu": {},
   "number_sections": true,
   "sideBar": true,
   "skip_h1_title": false,
   "title_cell": "Table of Contents",
   "title_sidebar": "Contents",
   "toc_cell": false,
   "toc_position": {
    "height": "calc(100% - 180px)",
    "left": "10px",
    "top": "150px",
    "width": "336px"
   },
   "toc_section_display": true,
   "toc_window_display": true
  }
 },
 "nbformat": 4,
 "nbformat_minor": 4
}
