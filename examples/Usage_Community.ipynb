{
 "cells": [
  {
   "cell_type": "code",
   "execution_count": 1,
   "metadata": {},
   "outputs": [],
   "source": [
    "using CellBasedModels"
   ]
  },
  {
   "attachments": {},
   "cell_type": "markdown",
   "metadata": {},
   "source": [
    "# Creating and evolving a Community\n",
    "\n",
    "The `Community` structure contains the realization of an agent model. This structure will store the parameters of the agent and will be prepared to be evolved by the update rules defined.\n",
    "\n",
    "Let's use for reference the [Ornstein–Uhlenbeck](https://en.wikipedia.org/wiki/Ornstein%E2%80%93Uhlenbeck_process) process."
   ]
  },
  {
   "cell_type": "code",
   "execution_count": 2,
   "metadata": {},
   "outputs": [
    {
     "name": "stdout",
     "output_type": "stream",
     "text": [
      "PARAMETERS\n",
      "\tx ("
     ]
    },
    {
     "name": "stdout",
     "output_type": "stream",
     "text": [
      "Float64 agent)\n",
      "\ty (Float64 agent)\n",
      "\tσ (Float64 model)\n",
      "\ttheta (Float64 model)\n",
      "\n",
      "\n",
      "UPDATE RULES\n"
     ]
    },
    {
     "name": "stdout",
     "output_type": "stream",
     "text": [
      "agentSDE\n"
     ]
    },
    {
     "name": "stdout",
     "output_type": "stream",
     "text": [
      " begin"
     ]
    },
    {
     "data": {
      "text/plain": []
     },
     "metadata": {},
     "output_type": "display_data"
    },
    {
     "name": "stdout",
     "output_type": "stream",
     "text": [
      "\n",
      "    dt__x = σ\n",
      "    dt__y = σ\n",
      "end\n",
      "\n",
      "agentODE\n",
      " begin\n",
      "    dt__x = -theta * x\n",
      "    dt__y = -theta * y\n",
      "end\n",
      "\n"
     ]
    }
   ],
   "source": [
    "model = ABM(2,\n",
    "    model = Dict(\n",
    "        :σ => Float64, #Diffussion constant\n",
    "        :theta => Float64  #Drifft force\n",
    "    ),\n",
    "    agentODE = quote\n",
    "        dt(x) = -theta*x\n",
    "        dt(y) = -theta*y\n",
    "    end,\n",
    "    agentSDE = quote\n",
    "        dt(x) = σ\n",
    "        dt(y) = σ\n",
    "    end,\n",
    "    agentAlg = DifferentialEquations.EM(), #Let's use an algorithm from DifferentialEquations suite\n",
    ")"
   ]
  },
  {
   "attachments": {},
   "cell_type": "markdown",
   "metadata": {},
   "source": [
    "To create an initial community we just need to call a Community structure with an `ABM` model. "
   ]
  },
  {
   "cell_type": "code",
   "execution_count": 3,
   "metadata": {},
   "outputs": [
    {
     "data": {
      "text/plain": []
     },
     "metadata": {},
     "output_type": "display_data"
    },
    {
     "name": "stdout",
     "output_type": "stream",
     "text": [
      "Community with 1 agents.\n"
     ]
    }
   ],
   "source": [
    "com = Community(model,\n",
    "                dt=0.1,\n",
    "                )"
   ]
  },
  {
   "attachments": {},
   "cell_type": "markdown",
   "metadata": {},
   "source": [
    "## KwArgs of the Community constructor\n",
    "\n",
    "In addition to the model structure, we can provide the Community structure with keyword arguments. You can see all pf them in the API - Community documentation. Among them you will find:\n",
    "\n",
    " - Base parameters like the time `dt` or the simulation box `simBox`.\n",
    " - User parameters.\n",
    "\n",
    "For example, we can define a community with more agents `N`, a `simulationBox` and random positions (`x`,`y`) in the unit box by constructing the Community as"
   ]
  },
  {
   "cell_type": "code",
   "execution_count": 4,
   "metadata": {},
   "outputs": [
    {
     "data": {
      "text/plain": []
     },
     "metadata": {},
     "output_type": "display_data"
    },
    {
     "name": "stdout",
     "output_type": "stream",
     "text": [
      "Community with 10 agents.\n"
     ]
    }
   ],
   "source": [
    "N = 10\n",
    "com = Community(model,\n",
    "        N=N,\n",
    "        simBox=[0 1;0 1.],\n",
    "        dt = 0.1,\n",
    "        x=Vector(1.:N),\n",
    "        y=rand(N)\n",
    "    )"
   ]
  },
  {
   "attachments": {},
   "cell_type": "markdown",
   "metadata": {},
   "source": [
    "## Accessing and manipulating a Community\n",
    "\n",
    "You can access a community in two ways:\n",
    "\n",
    " - Property: `com.parameter`\n",
    " - Index: `com[:parameter]`"
   ]
  },
  {
   "cell_type": "code",
   "execution_count": 5,
   "metadata": {},
   "outputs": [
    {
     "name": "stdout",
     "output_type": "stream",
     "text": [
      "[1.0, 2.0, 3.0, 4.0, 5.0, 6.0, 7.0, 8.0, 9.0, 10.0]\n"
     ]
    }
   ],
   "source": [
    "println(com.x)"
   ]
  },
  {
   "cell_type": "code",
   "execution_count": 6,
   "metadata": {},
   "outputs": [
    {
     "name": "stdout",
     "output_type": "stream",
     "text": [
      "[1.0, 2.0, 3.0, 4.0, 5.0, 6.0, 7.0, 8.0, 9.0, 10.0]\n"
     ]
    }
   ],
   "source": [
    "println(com[:x])"
   ]
  },
  {
   "attachments": {},
   "cell_type": "markdown",
   "metadata": {},
   "source": [
    "You can manipulate certain parameters in a community and assigning new values using the `=` operator.\n",
    "\n",
    "It works both for assigning a new array."
   ]
  },
  {
   "cell_type": "code",
   "execution_count": 7,
   "metadata": {},
   "outputs": [
    {
     "name": "stdout",
     "output_type": "stream",
     "text": [
      "[2.0, 3.0, 4.0, 5.0, 6.0, 7.0, 8.0, 9.0, 10.0, 11.0]\n"
     ]
    }
   ],
   "source": [
    "com.x = Vector(2:11.)\n",
    "println(com.x)"
   ]
  },
  {
   "attachments": {},
   "cell_type": "markdown",
   "metadata": {},
   "source": [
    "and broad casting:"
   ]
  },
  {
   "cell_type": "code",
   "execution_count": 8,
   "metadata": {},
   "outputs": [
    {
     "name": "stdout",
     "output_type": "stream",
     "text": [
      "[10.0, 10.0, 10.0, 10.0, 10.0, 10.0, 10.0, 10.0, 10.0, 10.0]\n"
     ]
    }
   ],
   "source": [
    "com.x = 10\n",
    "println(com.x)"
   ]
  },
  {
   "attachments": {},
   "cell_type": "markdown",
   "metadata": {},
   "source": [
    "> **NOTE Protected parameters** You will not be able and modify later some of the parameters of the model such as `N`. This behavior is intended to not break the functionality of the program. For example:\n",
    "> \n",
    ">> ```julia\n",
    ">> com.N = 10\n",
    ">> ```\n",
    "> \n",
    ">> ```julia\n",
    ">> Parameter of community N is protected. If you really need to change it declare a new Community or use setfield! method (can be unstable).\n",
    ">> \n",
    ">> Stacktrace:\n",
    ">>  [1] setproperty!(com::Community, var::Symbol, v::Int64)\n",
    ">>    @ CellBasedModels ~/Documents/CellBasedModels.jl/src/CommunityStructure/communityStructure.jl:370\n",
    ">>  [2] top-level scope\n",
    ">>    @ ~/Documents/CellBasedModels.jl/examples/Usage_Community.ipynb:1\n",
    ">> ```\n",
    "> \n",
    "> If you really need to change you can always use the function `setfield!` at your own risk of breacking the code.\n",
    "\n",
    "> **WARNING Avoid broadcasting** As you can see the assign operator has been defined in such a way that works both for assigning new arrays to the parameters and broadcasting. I do not advice to use the broadcasted operator `.=` as it may change the behavior of protedted parameters which may modify in unexpected ways the results of the simulations,"
   ]
  },
  {
   "attachments": {},
   "cell_type": "markdown",
   "metadata": {},
   "source": [
    "## IO\n",
    "\n",
    "When evolving the system, you will want to save instances of the community. Currently there are two ways of saving them:\n",
    "\n",
    "#### RAM\n",
    "\n",
    "For saving a function in RAM we can invoke the function `saveRam!`. This will save an instance of the current state in `Community.pastTimes`."
   ]
  },
  {
   "cell_type": "code",
   "execution_count": 9,
   "metadata": {},
   "outputs": [
    {
     "name": "stdout",
     "output_type": "stream",
     "text": [
      "Current state of x: [0.5, 0.5, 0.5, 0.5, 0.5, 0.5, 0.5, 0.5, 0.5, 0.5]\n"
     ]
    }
   ],
   "source": [
    "com.x = 10\n",
    "saveRAM!(com)\n",
    "com.x = 0.5\n",
    "println(\"Current state of x: \", com.x)"
   ]
  },
  {
   "attachments": {},
   "cell_type": "markdown",
   "metadata": {},
   "source": [
    "You can check how many instances have been saved using the function `length` on the community."
   ]
  },
  {
   "cell_type": "code",
   "execution_count": 10,
   "metadata": {},
   "outputs": [
    {
     "data": {
      "text/plain": [
       "1"
      ]
     },
     "metadata": {},
     "output_type": "display_data"
    }
   ],
   "source": [
    "length(com)"
   ]
  },
  {
   "attachments": {},
   "cell_type": "markdown",
   "metadata": {},
   "source": [
    "And you can access any past community instance calling by index of the position."
   ]
  },
  {
   "cell_type": "code",
   "execution_count": 11,
   "metadata": {},
   "outputs": [
    {
     "name": "stdout",
     "output_type": "stream",
     "text": [
      "Past community x: [10.0, 10.0, 10.0, 10.0, 10.0, 10.0, 10.0, 10.0, 10.0, 10.0]\n",
      "Current community x: [0.5, 0.5, 0.5, 0.5, 0.5, 0.5, 0.5, 0.5, 0.5, 0.5]\n"
     ]
    }
   ],
   "source": [
    "println(\"Past community x: \", com[1].x)\n",
    "println(\"Current community x: \", com.x)"
   ]
  },
  {
   "attachments": {},
   "cell_type": "markdown",
   "metadata": {},
   "source": [
    "#### JLD2\n",
    "\n",
    "We can also save the instances in JLD2 format, a format based in H5MD saving files system that is compatible and readable from many other programming languages and platforms."
   ]
  },
  {
   "cell_type": "code",
   "execution_count": 12,
   "metadata": {},
   "outputs": [],
   "source": [
    "saveJLD2(\"test.jld2\",com)"
   ]
  },
  {
   "attachments": {},
   "cell_type": "markdown",
   "metadata": {},
   "source": [
    "And you can always call back the model from a JLD2 file."
   ]
  },
  {
   "cell_type": "code",
   "execution_count": 13,
   "metadata": {},
   "outputs": [
    {
     "data": {
      "text/plain": [
       "false"
      ]
     },
     "metadata": {},
     "output_type": "display_data"
    }
   ],
   "source": [
    "com  = loadJLD2(\"test.jld2\")\n",
    "com.loaded"
   ]
  },
  {
   "attachments": {},
   "cell_type": "markdown",
   "metadata": {},
   "source": [
    "This file will have all Community instances from the file loaded in `Community.pastTimes` and a copy of the last saved time in the current community itself."
   ]
  },
  {
   "attachments": {},
   "cell_type": "markdown",
   "metadata": {},
   "source": [
    "# Evolving the community\n",
    "\n",
    "Once we have defined a model and constructed an initial community, we can evolve it by the rules of the model.\n",
    "\n",
    "In the following schema we describe the basic collection of functions provided by the package to evolve the model, where some functions perform automatically all the step that are described on the right.\n",
    "\n",
    "<table>\n",
    "    <thead>\n",
    "        <th colspan=3> Functions </th>\n",
    "        <th> Description </th>\n",
    "    </thead>\n",
    "    <tbody>\n",
    "        <tr>\n",
    "            <td rowspan=12>evolve!</td>\n",
    "            <td colspan=2>loadToPlatform!</td>\n",
    "            <td>Function that loads the community information to the appropiate platform (CPU or GPU) for being able to evolve it. In CPU in fact nothing happens.</td>\n",
    "        </tr>\n",
    "        <tr>\n",
    "            <td rowspan=9>step!</td>\n",
    "        </tr>\n",
    "        <tr>\n",
    "            <td>agentStepDE!</td>\n",
    "            <td>Performs the agent DE step.</td>\n",
    "        </tr>\n",
    "        <tr>\n",
    "            <td>agentStepRule!</td>\n",
    "            <td>Performs the agent rule step.</td>\n",
    "        </tr>\n",
    "        <tr>\n",
    "            <td>mediumStepDE!</td>\n",
    "            <td>Performs the medium DE step.</td>\n",
    "        </tr>\n",
    "        <tr>\n",
    "            <td>mediumStepRule!</td>\n",
    "            <td>Performs the medium rule step.</td>\n",
    "        </tr>\n",
    "        <tr>\n",
    "            <td>modelStepDE!</td>\n",
    "            <td>Performs the model DE step.</td>\n",
    "        </tr>\n",
    "        <tr>\n",
    "            <td>modelStepRule!</td>\n",
    "            <td>Performs the model rule step.</td>\n",
    "        </tr>\n",
    "        <tr>\n",
    "            <td>update!</td>\n",
    "            <td>Saves all the updated parameters of the community as the present time. Until this function is called all the steps are stored as the future time and the step has not taken place yet!</td>\n",
    "        </tr>\n",
    "        <tr>\n",
    "            <td>computeNeighbors!</td>\n",
    "            <td>Uptdates de neighborhoods of the agents if necessary.</td>\n",
    "        </tr>\n",
    "        <tr>\n",
    "            <td colspan=2>saveRAM!/saveJLD2!</td>\n",
    "            <td>Save the current instance of the community.</td>\n",
    "        </tr>\n",
    "        <tr>\n",
    "            <td colspan=2>bringFromPlatform!</td>\n",
    "            <td>Brings back the community to RAM again.</td>\n",
    "        </tr>\n",
    "    </tbody>\n",
    "</table>\n",
    "\n",
    "Depending on the control that the user wants to have on the call of the evolution functions, they can decide to use one of the three column schemas proposed above.\n",
    "\n",
    "So simple evolutions in which we want only to evolve the model after initialization for certain time and save steps at fixed time points, the package already includes the function `evolve!`."
   ]
  },
  {
   "cell_type": "code",
   "execution_count": 14,
   "metadata": {},
   "outputs": [],
   "source": [
    "evolve!(com,steps=100,saveEach=10)"
   ]
  },
  {
   "attachments": {},
   "cell_type": "markdown",
   "metadata": {},
   "source": [
    "And we can see that our model has now ten more saved points."
   ]
  },
  {
   "cell_type": "code",
   "execution_count": 15,
   "metadata": {},
   "outputs": [
    {
     "data": {
      "text/plain": [
       "10"
      ]
     },
     "metadata": {},
     "output_type": "display_data"
    }
   ],
   "source": [
    "length(com)"
   ]
  },
  {
   "attachments": {},
   "cell_type": "markdown",
   "metadata": {},
   "source": [
    "#### Customizing your evolution function\n",
    "\n",
    "If you want a more fancy stepping function, you can use more atomic functions to have more control of the stepping process.\n",
    "\n",
    "**Example** Imagine that we want to save an instance only after some agent `x` has surpassed a a certain limit."
   ]
  },
  {
   "cell_type": "code",
   "execution_count": 16,
   "metadata": {},
   "outputs": [],
   "source": [
    "function evolveCustom!(com,steps)\n",
    "    loadToPlatform!(com) #Always necessary to load the parameters to the platform\n",
    "    for i in 1:steps\n",
    "        agentStepDE!(com) #This model only has an SDE that is updated with this function. \n",
    "        update!(com) #Always necessary to update the parameters at the end of all the steps.\n",
    "        if any(com.x .> 5.0)\n",
    "            saveRAM!(com)\n",
    "        end\n",
    "    end\n",
    "    bringFromPlatform!(com) #Always necessary to bring the data back to RAM after evolution lo unlock the agent.\n",
    "end;"
   ]
  },
  {
   "cell_type": "code",
   "execution_count": 17,
   "metadata": {},
   "outputs": [],
   "source": [
    "com = com[1] #Get initial instance of the agent above defined\n",
    "\n",
    "evolveCustom!(com,10)"
   ]
  }
 ],
 "metadata": {
  "kernelspec": {
   "display_name": "Julia 1.8.0",
   "language": "julia",
   "name": "julia-1.8"
  },
  "language_info": {
   "file_extension": ".jl",
   "mimetype": "application/julia",
   "name": "julia",
   "version": "1.8.0"
  },
  "orig_nbformat": 4
 },
 "nbformat": 4,
 "nbformat_minor": 2
}
