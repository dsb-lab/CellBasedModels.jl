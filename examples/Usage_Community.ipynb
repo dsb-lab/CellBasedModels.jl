{
 "cells": [
  {
   "cell_type": "code",
   "execution_count": 147,
   "metadata": {},
   "outputs": [],
   "source": [
    "using CellBasedModels"
   ]
  },
  {
   "attachments": {},
   "cell_type": "markdown",
   "metadata": {},
   "source": [
    "# Creating and evolving a Community\n",
    "\n",
    "The `Community` structure contains the realization of an agent model. This structure will store the parameters of the agent and will be prepared to be evolved by the update rules defined.\n",
    "\n",
    "Let's use for reference the [Ornstein–Uhlenbeck](https://en.wikipedia.org/wiki/Ornstein%E2%80%93Uhlenbeck_process) process."
   ]
  },
  {
   "cell_type": "code",
   "execution_count": 148,
   "metadata": {},
   "outputs": [
    {
     "data": {
      "text/plain": []
     },
     "metadata": {},
     "output_type": "display_data"
    },
    {
     "name": "stdout",
     "output_type": "stream",
     "text": [
      "PARAMETERS\n",
      "\tσ (Float Global)\n",
      "\ttheta (Float Global)\n",
      "\n",
      "\n",
      "UPDATE RULES\n",
      "UpdateVariable\n",
      " begin\n",
      "    d(x) = dt(-theta * x) + dW(σ)\n",
      "    d(y) = dt(-theta * y) + dW(σ)\n",
      "end\n",
      "\n"
     ]
    }
   ],
   "source": [
    "model = ABM(2,\n",
    "    globalFloat = [\n",
    "        :σ, #Diffussion constant\n",
    "        :theta  #Drifft force\n",
    "    ],\n",
    "    updateVariable = quote\n",
    "        d(x) = dt(-theta*x)+dW(σ)\n",
    "        d(y) = dt(-theta*y)+dW(σ)\n",
    "    end,\n",
    "    integrator = :Heun\n",
    ")"
   ]
  },
  {
   "attachments": {},
   "cell_type": "markdown",
   "metadata": {},
   "source": [
    "To create an initial community we just need to call a Community structure with an `ABM` model. "
   ]
  },
  {
   "cell_type": "code",
   "execution_count": 149,
   "metadata": {},
   "outputs": [
    {
     "data": {
      "text/plain": []
     },
     "metadata": {},
     "output_type": "display_data"
    },
    {
     "name": "stdout",
     "output_type": "stream",
     "text": [
      "Community with 1 agents.\n"
     ]
    }
   ],
   "source": [
    "com = Community(model)"
   ]
  },
  {
   "attachments": {},
   "cell_type": "markdown",
   "metadata": {},
   "source": [
    "## KwArgs of the Community constructor\n",
    "\n",
    "In addition to the model structure, we can provide the Community structure with keyword arguments corresponding to any of the Default Parameters or User Defined parameters of an ABM (see Constructing ABMs - Parameters). \n",
    "\n",
    "For example, we can define a community with more agents `N`, a `simulationBox` and random positions (`x`,`y`) in the unit box by constructing the Community as"
   ]
  },
  {
   "cell_type": "code",
   "execution_count": 150,
   "metadata": {},
   "outputs": [
    {
     "data": {
      "text/plain": []
     },
     "metadata": {},
     "output_type": "display_data"
    },
    {
     "name": "stdout",
     "output_type": "stream",
     "text": [
      "Community with 10 agents.\n"
     ]
    }
   ],
   "source": [
    "N = 10\n",
    "com = Community(model,\n",
    "        N=[N],\n",
    "        simBox=[0 1;0 1.],\n",
    "        x=Vector(1.:N),\n",
    "        y=rand(N)\n",
    "    )"
   ]
  },
  {
   "attachments": {},
   "cell_type": "markdown",
   "metadata": {},
   "source": [
    "> **NOTE Shape of Scalars**. Notice that even parameters that we expect to be scalars as the number of agents `N` are defined as arrays of size `(1,)`. Although it may look weird in the beggining this is necessary for of how the internals of the package work. Maybe in future versions, it will be possible to declare them without specifying them into brackets."
   ]
  },
  {
   "attachments": {},
   "cell_type": "markdown",
   "metadata": {},
   "source": [
    "## Accessing and manipulating a Community\n",
    "\n",
    "You can access a community in two ways:\n",
    "\n",
    " - Property: `com.parameter`\n",
    " - Index: `com[:parameter]`"
   ]
  },
  {
   "cell_type": "code",
   "execution_count": 151,
   "metadata": {},
   "outputs": [
    {
     "name": "stdout",
     "output_type": "stream",
     "text": [
      "[1.0, 2.0, 3.0, 4.0, 5.0, 6.0, 7.0, 8.0, 9.0, 10.0]\n"
     ]
    }
   ],
   "source": [
    "println(com.x)"
   ]
  },
  {
   "cell_type": "code",
   "execution_count": 152,
   "metadata": {},
   "outputs": [
    {
     "name": "stdout",
     "output_type": "stream",
     "text": [
      "[1.0, 2.0, 3.0, 4.0, 5.0, 6.0, 7.0, 8.0, 9.0, 10.0]\n"
     ]
    }
   ],
   "source": [
    "println(com[:x])"
   ]
  },
  {
   "attachments": {},
   "cell_type": "markdown",
   "metadata": {},
   "source": [
    "You can manipulate certain parameters in a community and assigning new values using the `=` operator.\n",
    "\n",
    "It works both for assigning a new array."
   ]
  },
  {
   "cell_type": "code",
   "execution_count": 153,
   "metadata": {},
   "outputs": [
    {
     "name": "stdout",
     "output_type": "stream",
     "text": [
      "[2.0, 3.0, 4.0, 5.0, 6.0, 7.0, 8.0, 9.0, 10.0, 11.0]\n"
     ]
    }
   ],
   "source": [
    "com.x = Vector(2:11.)\n",
    "println(com.x)"
   ]
  },
  {
   "attachments": {},
   "cell_type": "markdown",
   "metadata": {},
   "source": [
    "and broad casting:"
   ]
  },
  {
   "cell_type": "code",
   "execution_count": 154,
   "metadata": {},
   "outputs": [
    {
     "name": "stdout",
     "output_type": "stream",
     "text": [
      "[10.0, 10.0, 10.0, 10.0, 10.0, 10.0, 10.0, 10.0, 10.0, 10.0]\n"
     ]
    }
   ],
   "source": [
    "com.x = 10\n",
    "println(com.x)"
   ]
  },
  {
   "attachments": {},
   "cell_type": "markdown",
   "metadata": {},
   "source": [
    "> **NOTE Protected parameters** You will not be able and modify later some of the parameters of the model such as `N`. This behavior is intended to not break the functionality of the program. For example:\n",
    "> \n",
    ">> ```julia\n",
    ">> com.N = 10\n",
    ">> ```\n",
    "> \n",
    ">> ```julia\n",
    ">> Parameter of community N is protected. If you really need to change it declare a new Community or use setfield! method (can be unstable).\n",
    ">> \n",
    ">> Stacktrace:\n",
    ">>  [1] setproperty!(com::Community, var::Symbol, v::Int64)\n",
    ">>    @ CellBasedModels ~/Documents/CellBasedModels.jl/src/CommunityStructure/communityStructure.jl:370\n",
    ">>  [2] top-level scope\n",
    ">>    @ ~/Documents/CellBasedModels.jl/examples/Usage_Community.ipynb:1\n",
    ">> ```\n",
    "> \n",
    "> If you really need to change you can always use the function `setfield!` at your own risk of breacking the code.\n",
    "\n",
    "> **WARNING Avoid broadcasting** As you can see the assign operator has been defined in such a way that works both for assigning new arrays to the parameters and broadcasting. I do not advice to use the broadcasted operator `.=` as it may change the behavior of protedted parameters which may modify in unexpected ways the results of the simulations,"
   ]
  },
  {
   "attachments": {},
   "cell_type": "markdown",
   "metadata": {},
   "source": [
    "## IO\n",
    "\n",
    "When evolving the system, you will want to save instances of the community. Currently there are two ways of saving them:\n",
    "\n",
    "#### RAM\n",
    "\n",
    "For saving a function in RAM we can invoke the function `saveRam!`. This will save an instance of the current state in `Community.pastTimes`."
   ]
  },
  {
   "cell_type": "code",
   "execution_count": 155,
   "metadata": {},
   "outputs": [
    {
     "name": "stdout",
     "output_type": "stream",
     "text": [
      "Current state of x: [0.5, 0.5, 0.5, 0.5, 0.5, 0.5, 0.5, 0.5, 0.5, 0.5]\n"
     ]
    }
   ],
   "source": [
    "com.x = 10\n",
    "saveRAM!(com)\n",
    "com.x = 0.5\n",
    "println(\"Current state of x: \", com.x)"
   ]
  },
  {
   "attachments": {},
   "cell_type": "markdown",
   "metadata": {},
   "source": [
    "You can check how many instances have been saved using the function `length` on the community."
   ]
  },
  {
   "cell_type": "code",
   "execution_count": 156,
   "metadata": {},
   "outputs": [
    {
     "data": {
      "text/plain": [
       "1"
      ]
     },
     "metadata": {},
     "output_type": "display_data"
    }
   ],
   "source": [
    "length(com)"
   ]
  },
  {
   "attachments": {},
   "cell_type": "markdown",
   "metadata": {},
   "source": [
    "And you can access any past community instance calling by index of the position."
   ]
  },
  {
   "cell_type": "code",
   "execution_count": 157,
   "metadata": {},
   "outputs": [
    {
     "name": "stdout",
     "output_type": "stream",
     "text": [
      "Past community x: [10.0, 10.0, 10.0, 10.0, 10.0, 10.0, 10.0, 10.0, 10.0, 10.0]\n",
      "Current community x: [0.5, 0.5, 0.5, 0.5, 0.5, 0.5, 0.5, 0.5, 0.5, 0.5]\n"
     ]
    }
   ],
   "source": [
    "println(\"Past community x: \", com[1].x)\n",
    "println(\"Current community x: \", com.x)"
   ]
  },
  {
   "attachments": {},
   "cell_type": "markdown",
   "metadata": {},
   "source": [
    "Alternatively, you can get a parameter for all saved points using the function `getParameter`. This function is a lot faster than asking to call any instance of a past time."
   ]
  },
  {
   "cell_type": "code",
   "execution_count": 158,
   "metadata": {},
   "outputs": [
    {
     "data": {
      "text/plain": [
       "1-element Vector{Vector{Float64}}:\n",
       " [10.0, 10.0, 10.0, 10.0, 10.0, 10.0, 10.0, 10.0, 10.0, 10.0]"
      ]
     },
     "metadata": {},
     "output_type": "display_data"
    }
   ],
   "source": [
    "getParameter(com,:x)"
   ]
  },
  {
   "cell_type": "code",
   "execution_count": 159,
   "metadata": {},
   "outputs": [
    {
     "data": {
      "text/plain": [
       "Dict{Symbol, Vector} with 2 entries:\n",
       "  :t => [[0.0]]\n",
       "  :x => [[10.0, 10.0, 10.0, 10.0, 10.0, 10.0, 10.0, 10.0, 10.0, 10.0]]"
      ]
     },
     "metadata": {},
     "output_type": "display_data"
    }
   ],
   "source": [
    "getParameter(com,[:t,:x])"
   ]
  },
  {
   "attachments": {},
   "cell_type": "markdown",
   "metadata": {},
   "source": [
    "#### JLD2\n",
    "\n",
    "We can also save the instances in JLD2 format, a format based in H5MD saving files system that is compatible and readable from many other programming languajes and platforms.\n",
    "\n",
    "To save in this format we will have to provide the field `Community.fileSaving`."
   ]
  },
  {
   "cell_type": "code",
   "execution_count": 160,
   "metadata": {},
   "outputs": [
    {
     "data": {
      "text/plain": [
       "\"test.jld2\""
      ]
     },
     "metadata": {},
     "output_type": "display_data"
    }
   ],
   "source": [
    "com.fileSaving = \"test.jld2\""
   ]
  },
  {
   "cell_type": "code",
   "execution_count": 161,
   "metadata": {},
   "outputs": [
    {
     "ename": "UndefVarError",
     "evalue": "UndefVarError: com not defined",
     "output_type": "error",
     "traceback": [
      "UndefVarError: com not defined\n",
      "\n",
      "Stacktrace:\n",
      " [1] saveJLD2(community::Community; saveLevel::Int64)\n",
      "   @ AgentBasedModels ~/Documents/AgentBasedModels.jl/src/CommunityStructure/IO.jl:99\n",
      " [2] saveJLD2(community::Community)\n",
      "   @ AgentBasedModels ~/Documents/AgentBasedModels.jl/src/CommunityStructure/IO.jl:74\n",
      " [3] top-level scope\n",
      "   @ ~/Documents/AgentBasedModels.jl/examples/Usage_Community.ipynb:1"
     ]
    }
   ],
   "source": [
    "saveJLD2(com)\n",
    "close(com.fileSaving)"
   ]
  },
  {
   "attachments": {},
   "cell_type": "markdown",
   "metadata": {},
   "source": [
    "And you can always call back the model from a JLD2 file."
   ]
  },
  {
   "cell_type": "code",
   "execution_count": 162,
   "metadata": {},
   "outputs": [
    {
     "ename": "ArgumentError",
     "evalue": "ArgumentError: attempted to open file read-only, but file was already open read/write",
     "output_type": "error",
     "traceback": [
      "ArgumentError: attempted to open file read-only, but file was already open read/write\n",
      "\n",
      "Stacktrace:\n",
      " [1] jldopen(fname::String, wr::Bool, create::Bool, truncate::Bool, iotype::Type{JLD2.MmapIO}; fallback::Type{IOStream}, compress::Bool, mmaparrays::Bool, typemap::Dict{String, Any})\n",
      "   @ JLD2 ~/.julia/packages/JLD2/r5t7Q/src/JLD2.jl:329\n",
      " [2] jldopen(fname::String, wr::Bool, create::Bool, truncate::Bool, iotype::Type{JLD2.MmapIO})\n",
      "   @ JLD2 ~/.julia/packages/JLD2/r5t7Q/src/JLD2.jl:306\n",
      " [3] jldopen(fname::String, mode::String; iotype::Type, kwargs::Base.Pairs{Symbol, Union{}, Tuple{}, NamedTuple{(), Tuple{}}})\n",
      "   @ JLD2 ~/.julia/packages/JLD2/r5t7Q/src/JLD2.jl:423\n",
      " [4] jldopen(fname::String, mode::String)\n",
      "   @ JLD2 ~/.julia/packages/JLD2/r5t7Q/src/JLD2.jl:418\n",
      " [5] jldopen(::Function, ::String, ::Vararg{String}; kws::Base.Pairs{Symbol, Union{}, Tuple{}, NamedTuple{(), Tuple{}}})\n",
      "   @ JLD2 ~/.julia/packages/JLD2/r5t7Q/src/loadsave.jl:2\n",
      " [6] jldopen\n",
      "   @ ~/.julia/packages/JLD2/r5t7Q/src/loadsave.jl:2 [inlined]\n",
      " [7] loadJLD2(file::String)\n",
      "   @ AgentBasedModels ~/Documents/AgentBasedModels.jl/src/CommunityStructure/IO.jl:180\n",
      " [8] top-level scope\n",
      "   @ ~/Documents/AgentBasedModels.jl/examples/Usage_Community.ipynb:1"
     ]
    }
   ],
   "source": [
    "com  = loadJLD2(\"test.jld2\")"
   ]
  },
  {
   "attachments": {},
   "cell_type": "markdown",
   "metadata": {},
   "source": [
    "This file will have all Community instances from the file loaded in `Community.pastTimes` and a copy of the last saved time in the current community itself."
   ]
  },
  {
   "attachments": {},
   "cell_type": "markdown",
   "metadata": {},
   "source": [
    "# Evolving the community\n",
    "\n",
    "Once we have defined a model and constructed an initial community, we can evolve it by the rules of the model.\n",
    "\n",
    "In the following schema we describe the basic collection of functions provided by the package to evolve the model, where some functions perform automatically all the step that are described on the right.\n",
    "\n",
    "<table>\n",
    "    <thead>\n",
    "        <th colspan=3> Functions </th>\n",
    "        <th> Description </th>\n",
    "    </thead>\n",
    "    <tbody>\n",
    "        <tr>\n",
    "            <td rowspan=9>evolve!</td>\n",
    "            <td colspan=2>loadToPlatform!</td>\n",
    "            <td>Function that loads the community information to the appropiate platform (CPU or GPU) for being able to evolve it. In CPU in fact nothing happens.</td>\n",
    "        </tr>\n",
    "        <tr>\n",
    "            <td rowspan=6>step!</td>\n",
    "            <td>interactionStep!</td>\n",
    "            <td>Computes the interaction properties between agents as defined in updateInteractions.</td>\n",
    "        </tr>\n",
    "        <tr>\n",
    "            <td>integrationStep!</td>\n",
    "            <td>Performs the integration step as defined in updateVariable</td>\n",
    "        </tr>\n",
    "        <tr>\n",
    "            <td>localStep!</td>\n",
    "            <td>Performs the local step as defined in updateLocal.</td>\n",
    "        </tr>\n",
    "        <tr>\n",
    "            <td>globalStep!</td>\n",
    "            <td>Performs the global step as defined in updateGlobal.</td>\n",
    "        </tr>\n",
    "        <tr>\n",
    "            <td>update!</td>\n",
    "            <td>Saves all the updated parameters of the community as the present time. Until this function is called all the steps are stored as the future time and the step has not taken place yet!>/td>\n",
    "        </tr>\n",
    "        <tr>\n",
    "            <td>computeNeighbors!</td>\n",
    "            <td>Uptdates de neighborhoods of the agents if necessary.</td>\n",
    "        </tr>\n",
    "        <tr>\n",
    "            <td colspan=2>saveRAM!/saveJLD2!</td>\n",
    "            <td>Save the current instance of the community.</td>\n",
    "        </tr>\n",
    "        <tr>\n",
    "            <td colspan=2>bringFromPlatform!</td>\n",
    "            <td>Brings back the community to RAM again.</td>\n",
    "        </tr>\n",
    "    </tbody>\n",
    "</table>\n",
    "\n",
    "Depending on the control that the user wants to have on the call of the evolution functions, they can decide to use one of the three column schemas proposed above.\n",
    "\n",
    "So simple evolutions in which we want only to evolve the model after initialization for certain time and save steps at fixed time points, the package already includes the function `evolve!`."
   ]
  },
  {
   "cell_type": "code",
   "execution_count": 163,
   "metadata": {},
   "outputs": [],
   "source": [
    "evolve!(com,steps=100,saveFunction=saveRAM!,saveEach=10)"
   ]
  },
  {
   "attachments": {},
   "cell_type": "markdown",
   "metadata": {},
   "source": [
    "And we can see that our model has now ten more saved points."
   ]
  },
  {
   "cell_type": "code",
   "execution_count": 164,
   "metadata": {},
   "outputs": [
    {
     "data": {
      "text/plain": [
       "11"
      ]
     },
     "metadata": {},
     "output_type": "display_data"
    }
   ],
   "source": [
    "length(com)"
   ]
  },
  {
   "attachments": {},
   "cell_type": "markdown",
   "metadata": {},
   "source": [
    "#### Customizing your evolution function\n",
    "\n",
    "If you want a more fancy stepping function, you can use more atomic functions to have more control of the stepping process.\n",
    "\n",
    "**Example** Imagine that we want to save an instance only after some agent `x` has surpassed a a certain limit."
   ]
  },
  {
   "cell_type": "code",
   "execution_count": 165,
   "metadata": {},
   "outputs": [],
   "source": [
    "function evolveCustom!(com,steps)\n",
    "    loadToPlatform!(com) #Always necessary to load the parameters to the platform\n",
    "    for i in 1:steps\n",
    "        integrationStep!(com) #This model only has an SDE that is updated with this function. \n",
    "        update!(com) #Always necessary to update the parameters at the end of all the steps.\n",
    "        if any(getfield(com,:x) .> 5.0)\n",
    "            saveRAM!(com)\n",
    "        end\n",
    "    end\n",
    "    bringFromPlatform!(com) #Always necessary to bring the data back to RAM after evolution lo unlock the agent.\n",
    "end;"
   ]
  },
  {
   "cell_type": "code",
   "execution_count": 166,
   "metadata": {},
   "outputs": [],
   "source": [
    "com = com[1] #Get initial instance of the agent above defined\n",
    "\n",
    "evolveCustom!(com,10)"
   ]
  }
 ],
 "metadata": {
  "kernelspec": {
   "display_name": "Julia 1.8.0",
   "language": "julia",
   "name": "julia-1.8"
  },
  "language_info": {
   "file_extension": ".jl",
   "mimetype": "application/julia",
   "name": "julia",
   "version": "1.7.3"
  },
  "orig_nbformat": 4
 },
 "nbformat": 4,
 "nbformat_minor": 2
}
