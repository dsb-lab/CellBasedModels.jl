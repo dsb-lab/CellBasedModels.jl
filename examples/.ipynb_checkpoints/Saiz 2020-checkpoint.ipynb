{
 "cells": [
  {
   "cell_type": "code",
   "execution_count": 115,
   "metadata": {},
   "outputs": [],
   "source": [
    "using AgentBasedModels\n",
    "abm = AgentBasedModels\n",
    "\n",
    "using Random\n",
    "using Distributions\n",
    "using CUDA\n",
    "\n",
    "using GLMakie"
   ]
  },
  {
   "cell_type": "markdown",
   "metadata": {},
   "source": [
    "# Define the agent"
   ]
  },
  {
   "cell_type": "code",
   "execution_count": 125,
   "metadata": {},
   "outputs": [
    {
     "data": {
      "text/plain": []
     },
     "execution_count": 125,
     "metadata": {},
     "output_type": "execute_result"
    },
    {
     "name": "stdout",
     "output_type": "stream",
     "text": [
      "PARAMETERS\n",
      "Identity\n",
      "\t agentId, id,\n",
      "Global\n",
      "\t μ, b, F₀, α, n, mm, K, frange, fmin, fmax, Non, τdiv, σdiv, σc,\n",
      "Local\n",
      "\t x, y, z, vx, vy, vz, Fix, Fiy, Fiz, m, r, c, ci, ni, toff, tu,\n",
      "\n",
      "\n",
      "UPDATE RULES\n",
      "Equation\n",
      " begin\n",
      "    d_vx = ((-b * vx) / m + Fix / m) * dt\n",
      "    d_vy = ((-b * vy) / m + Fiy / m) * dt\n",
      "    d_vz = ((-b * vz) / m + Fiz / m) * dt\n",
      "    d_x = vx * dt\n",
      "    d_y = vy * dt\n",
      "    d_z = vz * dt\n",
      "    if t < toff && N > Non\n",
      "        d_c = ((α * (1 + c ^ n) ^ mm) / ((1 + c ^ n) ^ mm + (1 + (ci / ni) / K) ^ (2mm)) - c) * dt\n",
      "    else\n",
      "        d_c = 0dt\n",
      "    end\n",
      "end\n",
      "\n",
      "EventDivision\n",
      " begin\n",
      "    if t > tu\n",
      "        xₐ = Normal(0, 1)\n",
      "        yₐ = Normal(0, 1)\n",
      "        zₐ = Normal(0, 1)\n",
      "        Tₐ = sqrt(xₐ ^ 2 + yₐ ^ 2 + zₐ ^ 2)\n",
      "        xₐ /= Tₐ\n",
      "        yₐ /= Tₐ\n",
      "        zₐ /= Tₐ\n",
      "        dist = Uniform(1 - σc, 1 + σc)\n",
      "        x_1 = x + (r * xₐ) / 2\n",
      "        y_1 = y + (r * yₐ) / 2\n",
      "        z_1 = z + (r * zₐ) / 2\n",
      "        vx_1 = 0.0\n",
      "        vy_1 = 0.0\n",
      "        vz_1 = 0.0\n",
      "        r_1 = r / 2.0 ^ (1.0 / 3)\n",
      "        m_1 = m / 2\n",
      "        tu_1 = t + Uniform(τdiv - σdiv, τdiv + σdiv)\n",
      "        c_1 = c * dist\n",
      "        x_2 = x - (r * xₐ) / 2\n",
      "        y_2 = y - (r * yₐ) / 2\n",
      "        z_2 = z - (r * zₐ) / 2\n",
      "        vx_2 = 0.0\n",
      "        vy_2 = 0.0\n",
      "        vz_2 = 0.0\n",
      "        r_2 = r / 2.0 ^ (1.0 / 3)\n",
      "        m_2 = m / 2\n",
      "        tu_2 = t + Uniform(τdiv - σdiv, τdiv + σdiv)\n",
      "        c_2 = c * (2 - dist)\n",
      "    end\n",
      "end\n",
      "\n",
      "UpdateInteraction\n",
      " begin\n",
      "    dij = sqrt((x_i - x_j) ^ 2 + (y_i - y_j) ^ 2 + (z_i - z_j) ^ 2)\n",
      "    rij = r_i + r_j\n",
      "    if dij < μ * rij && dij > 0\n",
      "        Fix += (F₀ * (rij / dij - 1) * ((μ * rij) / dij - 1) * (x_i - x_j)) / dij\n",
      "        Fiy += (F₀ * (rij / dij - 1) * ((μ * rij) / dij - 1) * (y_i - y_j)) / dij\n",
      "        Fiz += (F₀ * (rij / dij - 1) * ((μ * rij) / dij - 1) * (z_i - z_j)) / dij\n",
      "    end\n",
      "    if dij < frange * rij\n",
      "        ni += 1\n",
      "        ci += c_j\n",
      "    end\n",
      "end\n",
      "\n"
     ]
    }
   ],
   "source": [
    "m = @agent(saiz,\n",
    "    \n",
    "    #Mechanics\n",
    "    \n",
    "    [x,y,z,vx,vy,vz]::Local, #Variables\n",
    "    [Fix,Fiy,Fiz]::Local,    #Interaction forces\n",
    "    id::Identity,            #Identity\n",
    "    [m,r]::Local,            #Mass and radius of the model\n",
    "    [μ,b]::Global,           #Global parameters of the model\n",
    "    F₀::Global,         #Matrix of interaction forces\n",
    "    \n",
    "    Equation = begin\n",
    "        d_vx = (-b*vx/m+Fix/m)*dt\n",
    "        d_vy = (-b*vy/m+Fiy/m)*dt\n",
    "        d_vz = (-b*vz/m+Fiz/m)*dt\n",
    "        d_x = vx*dt\n",
    "        d_y = vy*dt\n",
    "        d_z = vz*dt\n",
    "    end,\n",
    "    \n",
    "    UpdateInteraction = begin\n",
    "        dij = sqrt((x_i-x_j)^2+(y_i-y_j)^2+(z_i-z_j)^2)\n",
    "        rij = r_i+r_j\n",
    "        if dij < μ*rij && dij > 0\n",
    "            Fix += F₀*(rij/dij-1)*(μ*rij/dij-1)*(x_i-x_j)/dij\n",
    "            Fiy += F₀*(rij/dij-1)*(μ*rij/dij-1)*(y_i-y_j)/dij\n",
    "            Fiz += F₀*(rij/dij-1)*(μ*rij/dij-1)*(z_i-z_j)/dij   \n",
    "        end\n",
    "    end,\n",
    "    \n",
    "    #Biochemistry\n",
    "    \n",
    "    c::Local,             #Biochemical component\n",
    "    [ci,ni]::Local,       #Interaction parameters for the mean\n",
    "    toff::Local,\n",
    "    [α,n,mm,K]::Global,\n",
    "    [frange,fmin,fmax]::Global,       #Distance of communication\n",
    "    Non::Global,\n",
    "    \n",
    "    Equation = begin\n",
    "        if t < toff && N > Non\n",
    "            d_c = (α*(1+c^n)^mm/((1+c^n)^mm+(1+(ci/ni)/K)^(2*mm))-c)*dt\n",
    "        else\n",
    "            d_c = 0*dt\n",
    "        end\n",
    "    end,\n",
    "        \n",
    "    UpdateInteraction= begin\n",
    "        if dij < frange*rij #Unnecessary to compute dij and rij again, previously computed in UpdateInteraction\n",
    "            ni += 1\n",
    "            ci += c_j\n",
    "        end \n",
    "    end,\n",
    "    \n",
    "    #Growth\n",
    "    \n",
    "    tu::Local,\n",
    "    [τdiv,σdiv,σc]::Global,\n",
    "\n",
    "    EventDivision = begin\n",
    "        if t > tu\n",
    "            #Choose random direction in unit sphere\n",
    "            xₐ = Normal(0,1); yₐ = Normal(0,1); zₐ = Normal(0,1)\n",
    "            Tₐ = sqrt(xₐ^2+yₐ^2+zₐ^2)\n",
    "            xₐ /= Tₐ;yₐ /= Tₐ;zₐ /= Tₐ    \n",
    "\n",
    "            #Chose a random distribution\n",
    "            dist = Uniform(1-σc,1+σc)\n",
    "\n",
    "            #Update things of first cell\n",
    "            x_1 = x+r*xₐ/2; y_1 = y+r*yₐ/2; z_1 = z+r*zₐ/2\n",
    "            vx_1 = 0.; vy_1 = 0.; vz_1 = 0.\n",
    "            r_1 = r/2. ^(1. /3)\n",
    "            m_1 = m/2\n",
    "            tu_1 = t + Uniform(τdiv-σdiv,τdiv+σdiv)\n",
    "            c_1 = c*dist\n",
    "\n",
    "            #Update things of second cell\n",
    "            x_2 = x-r*xₐ/2; y_2 = y-r*yₐ/2; z_2 = z-r*zₐ/2\n",
    "            vx_2 = 0.; vy_2 = 0.; vz_2 = 0.\n",
    "            r_2 = r/2. ^(1. /3)\n",
    "            m_2 = m/2\n",
    "            tu_2 = t + Uniform(τdiv-σdiv,τdiv+σdiv)\n",
    "            c_2 = c*(2-dist)\n",
    "        end\n",
    "    end,\n",
    ")"
   ]
  },
  {
   "cell_type": "markdown",
   "metadata": {},
   "source": [
    "# Compile the model"
   ]
  },
  {
   "cell_type": "code",
   "execution_count": 126,
   "metadata": {
    "scrolled": false
   },
   "outputs": [],
   "source": [
    "mCompiled = compile(m,platform=\"cpu\",save=\"RAM\",integrator=\"Heun\",debug=false);"
   ]
  },
  {
   "cell_type": "markdown",
   "metadata": {},
   "source": [
    "# Initialise the Community"
   ]
  },
  {
   "cell_type": "code",
   "execution_count": 147,
   "metadata": {},
   "outputs": [
    {
     "data": {
      "text/plain": [
       "1-element view(::Matrix{Float64}, :, 16) with eltype Float64:\n",
       " 10.0"
      ]
     },
     "execution_count": 147,
     "metadata": {},
     "output_type": "execute_result"
    }
   ],
   "source": [
    "com = Community(mCompiled,N=1)\n",
    "\n",
    "##########Mechanics##############################\n",
    "#Initialise global\n",
    "com.b = 10^-6\n",
    "com.F₀ = 10^-4 #.*zeros(2,2)\n",
    "com.μ = 2\n",
    "\n",
    "#########Division#################################\n",
    "#Initialise global\n",
    "com.τdiv = 10\n",
    "com.σdiv = 0.5\n",
    "com.σc = 0.01\n",
    "\n",
    "#########Chemical#################################\n",
    "#Initialise Global\n",
    "com.Non = 3 #Start deactivated\n",
    "com.fmin = 0.05\n",
    "com.fmax = 0.95\n",
    "com.α = 10\n",
    "com.n = 2\n",
    "com.mm = 2\n",
    "com.K = 0.9\n",
    "com.frange = 1.2\n",
    "\n",
    "#########Local parameters and variables###########\n",
    "#Initialise locals\n",
    "mᵢ = 10^-6\n",
    "rᵢ = 5\n",
    "com.m .= mᵢ\n",
    "com.r .= rᵢ\n",
    "com.id .= 1 #Start neutral fate\n",
    "com.toff .= 10 #Start activated\n",
    "#Initialise variables\n",
    "com.x .= 0. #They are only separed in this axis\n",
    "com.y .= 0.\n",
    "com.z .= 0.\n",
    "com.vx .= 0.\n",
    "com.vy .= 0.\n",
    "com.vz .= 0.\n",
    "\n",
    "c₀=3.\n",
    "com.c .= c₀\n",
    "com.tu .= 10."
   ]
  },
  {
   "cell_type": "code",
   "execution_count": 148,
   "metadata": {},
   "outputs": [],
   "source": [
    "c = mCompiled.evolve(com,dt=0.001,tMax=60,nMax=1000);"
   ]
  },
  {
   "cell_type": "code",
   "execution_count": 149,
   "metadata": {},
   "outputs": [
    {
     "data": {
      "text/plain": [
       "54"
      ]
     },
     "execution_count": 149,
     "metadata": {},
     "output_type": "execute_result"
    }
   ],
   "source": [
    "c[end].N"
   ]
  },
  {
   "cell_type": "markdown",
   "metadata": {},
   "source": [
    "## Visualization"
   ]
  },
  {
   "cell_type": "code",
   "execution_count": 164,
   "metadata": {},
   "outputs": [],
   "source": [
    "for i in 1:100:6000\n",
    "\n",
    "    i = 1000\n",
    "    x = c[i].x\n",
    "    y = c[i].y\n",
    "    z = c[i].z\n",
    "    r = c[i].r;\n",
    "    col = c[i].c;\n",
    "\n",
    "    fig = scatter(x,y,z,markersize=1000*r,color=col)\n",
    "\n",
    "    save(string(\"it\",i,\".png\"),fig)\n",
    "end"
   ]
  },
  {
   "cell_type": "code",
   "execution_count": null,
   "metadata": {},
   "outputs": [],
   "source": []
  }
 ],
 "metadata": {
  "hide_input": false,
  "kernelspec": {
   "display_name": "Julia 1.5.3",
   "language": "julia",
   "name": "julia-1.5"
  },
  "language_info": {
   "file_extension": ".jl",
   "mimetype": "application/julia",
   "name": "julia",
   "version": "1.6.1"
  },
  "toc": {
   "base_numbering": 1,
   "nav_menu": {},
   "number_sections": true,
   "sideBar": true,
   "skip_h1_title": false,
   "title_cell": "Table of Contents",
   "title_sidebar": "Contents",
   "toc_cell": false,
   "toc_position": {
    "height": "calc(100% - 180px)",
    "left": "10px",
    "top": "150px",
    "width": "336px"
   },
   "toc_section_display": true,
   "toc_window_display": true
  }
 },
 "nbformat": 4,
 "nbformat_minor": 4
}
