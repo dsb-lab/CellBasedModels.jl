{
 "cells": [
  {
   "cell_type": "code",
   "execution_count": 1,
   "metadata": {},
   "outputs": [
    {
     "name": "stderr",
     "output_type": "stream",
     "text": [
      "┌ Info: Precompiling AgentBasedModels [388cb286-f2b1-4654-a3bb-2e137a39c658]\n",
      "└ @ Base loading.jl:1317\n",
      "WARNING: Method definition get_cache(Any, typeof(CUDA.CUBLAS.juliaStorageType)) in module CUBLAS at /home/gabriel/.julia/packages/Memoization/Z03rY/src/Memoization.jl:115 overwritten on the same line (check for duplicate calls to `include`).\n",
      "  ** incremental compilation may be fatally broken for this module **\n",
      "\n"
     ]
    }
   ],
   "source": [
    "using AgentBasedModels\n",
    "abm = AgentBasedModels\n",
    "\n",
    "using Random\n",
    "using Distributions\n",
    "using CUDA\n",
    "\n",
    "using Makie"
   ]
  },
  {
   "cell_type": "markdown",
   "metadata": {},
   "source": [
    "# Define the agent"
   ]
  },
  {
   "cell_type": "code",
   "execution_count": 2,
   "metadata": {},
   "outputs": [
    {
     "name": "stdout",
     "output_type": "stream",
     "text": [
      "PARAMETERS\n",
      "Identity\n",
      "\t agentId, id,\n",
      "Global\n",
      "\t μ, b, α, n, mm, K, frange, toff, tonn, τdiv, σdiv, σc,\n",
      "GlobalArray\n",
      "\t F₀,\n",
      "Local\n",
      "\t x, y, z, vx, vy, vz, Fix, Fiy, Fiz, m, r, c, ci, ni, tu,\n",
      "\n",
      "\n",
      "UPDATE RULES\n",
      "Equation\n",
      " begin"
     ]
    },
    {
     "data": {
      "text/plain": []
     },
     "execution_count": 2,
     "metadata": {},
     "output_type": "execute_result"
    },
    {
     "name": "stdout",
     "output_type": "stream",
     "text": [
      "\n",
      "    d_vx = ((-b * vx) / m + Fix / m) * dt\n",
      "    d_vy = ((-b * vy) / m + Fiy / m) * dt\n",
      "    d_vz = ((-b * vz) / m + Fiz / m) * dt\n",
      "    d_x = vx * dt\n",
      "    d_y = vy * dt\n",
      "    d_z = vz * dt\n",
      "    if t < toff && t > ton\n",
      "        d_c = ((α * (1 + c ^ n) ^ mm) / ((1 + c ^ n) ^ mm + (1 + (ci / ni) / K) ^ (2mm)) - c) * dt\n",
      "    else\n",
      "        d_c = 0dt\n",
      "    end\n",
      "end\n",
      "\n",
      "EventDivision\n",
      " begin\n",
      "    xₐ = Normal(0, 1)\n",
      "    yₐ = Normal(0, 1)\n",
      "    zₐ = Normal(0, 1)\n",
      "    Tₐ = sqrt(xₐ ^ 2 + yₐ ^ 2 + zₐ ^ 2)\n",
      "    xₐ /= Tₐ\n",
      "    yₐ /= Tₐ\n",
      "    zₐ /= Tₐ\n",
      "    dist = Uniform(1 + σc1, 1 - σc)\n",
      "    x_1 = x + (r * xₐ) / 2\n",
      "    y_1 = y + (r * yₐ) / 2\n",
      "    z_1 = z + (r * zₐ) / 2\n",
      "    vx_1 = 0.0\n",
      "    vy_1 = 0.0\n",
      "    vz_1 = 0.0\n",
      "    r_1 = r / 2.0 ^ (1.0 / 3)\n",
      "    m_1 = m / 2\n",
      "    tu_1 = t + Uniform(τdiv - σdiv, τdiv + σdiv)\n",
      "    c_1 = c * dist\n",
      "    x_2 = x + (r * xₐ) / 2\n",
      "    y_2 = y + (r * yₐ) / 2\n",
      "    z_2 = z + (r * zₐ) / 2\n",
      "    vx_2 = 0.0\n",
      "    vy_2 = 0.0\n",
      "    vz_2 = 0.0\n",
      "    r_2 = r / 2.0 ^ (1.0 / 3)\n",
      "    m_2 = m / 2\n",
      "    tu_2 = t + Uniform(τdiv - σdiv, τdiv + σdiv)\n",
      "    c_2 = c * (2 - dist)\n",
      "end\n",
      "\n",
      "UpdateInteraction\n",
      " begin\n",
      "    dij = sqrt((dx_i - dx_j) ^ 2 + (dy_i - dy_j) ^ 2 + (dz_i - dz_j) ^ 2)\n",
      "    rij = r_i + r_j\n",
      "    if dij < μ * rij && dij > 0\n",
      "        Fix_i += (F₀[id_i, id_j] * (rij / dij - 1) * ((μ * rij) / dij - 1) * (x_i - x_j)) / dij\n",
      "        Fiy_i += (F₀[id_i, id_j] * (rij / dij - 1) * ((μ * rij) / dij - 1) * (y_i - y_j)) / dij\n",
      "        Fiz_i += (F₀[id_i, id_j] * (rij / dij - 1) * ((μ * rij) / dij - 1) * (z_i - z_j)) / dij\n",
      "    end\n",
      "    if dij < frange * rij\n",
      "        ni += 1\n",
      "        ci += c_j\n",
      "    end\n",
      "end\n",
      "\n"
     ]
    }
   ],
   "source": [
    "m = @agent(saiz,\n",
    "    \n",
    "    #Mechanics\n",
    "    \n",
    "    [x,y,z,vx,vy,vz]::Local, #Variables\n",
    "    [Fix,Fiy,Fiz]::Local,    #Interaction forces\n",
    "    id::Identity,            #Identity\n",
    "    [m,r]::Local,            #Mass and radius of the model\n",
    "    [μ,b]::Global,           #Global parameters of the model\n",
    "    F₀::GlobalArray,         #Matrix of interaction forces\n",
    "    \n",
    "    Equation = begin\n",
    "        d_vx = (-b*vx/m+Fix/m)*dt\n",
    "        d_vy = (-b*vy/m+Fiy/m)*dt\n",
    "        d_vz = (-b*vz/m+Fiz/m)*dt\n",
    "        d_x = vx*dt\n",
    "        d_y = vy*dt\n",
    "        d_z = vz*dt\n",
    "    end,\n",
    "    \n",
    "    UpdateInteraction = begin\n",
    "        dij = sqrt((dx_i-dx_j)^2+(dy_i-dy_j)^2+(dz_i-dz_j)^2)\n",
    "        rij = r_i+r_j\n",
    "        if dij < μ*rij && dij > 0\n",
    "            Fix_i += F₀[id_i,id_j]*(rij/dij-1)*(μ*rij/dij-1)*(x_i-x_j)/dij\n",
    "            Fiy_i += F₀[id_i,id_j]*(rij/dij-1)*(μ*rij/dij-1)*(y_i-y_j)/dij\n",
    "            Fiz_i += F₀[id_i,id_j]*(rij/dij-1)*(μ*rij/dij-1)*(z_i-z_j)/dij   \n",
    "        end\n",
    "    end,\n",
    "    \n",
    "    #Biochemistry\n",
    "    \n",
    "    c::Local,             #Biochemical component\n",
    "    [ci,ni]::Local,       #Interaction parameters for the mean\n",
    "    [α,n,mm,K]::Global,\n",
    "    frange::Global,       #Distance of communication\n",
    "    [toff,tonn]::Global,\n",
    "    \n",
    "    Equation = begin\n",
    "        if t < toff && t > ton\n",
    "            d_c = (α*(1+c^n)^mm/((1+c^n)^mm+(1+(ci/ni)/K)^(2*mm))-c)*dt\n",
    "        else\n",
    "            d_c = 0*dt\n",
    "        end\n",
    "    end,\n",
    "        \n",
    "    UpdateInteraction= begin\n",
    "        if dij < frange*rij #Unnecessary to compute dij and rij again, previously computed in UpdateInteraction\n",
    "            ni += 1\n",
    "            ci += c_j\n",
    "        end \n",
    "    end,\n",
    "    \n",
    "    #Growth\n",
    "    \n",
    "    tu::Local,\n",
    "    [τdiv,σdiv,σc]::Global,\n",
    "\n",
    "    EventDivision = begin\n",
    "        if t > tu\n",
    "            #Choose random direction in unit sphere\n",
    "            xₐ = Normal(0,1); yₐ = Normal(0,1); zₐ = Normal(0,1)\n",
    "            Tₐ = sqrt(xₐ^2+yₐ^2+zₐ^2)\n",
    "            xₐ /= Tₐ;yₐ /= Tₐ;zₐ /= Tₐ    \n",
    "\n",
    "            #Chose a random distribution\n",
    "            dist = Uniform(1+σc1,1-σc)\n",
    "\n",
    "            #Update things of first cell\n",
    "            x_1 = x+r*xₐ/2; y_1 = y+r*yₐ/2; z_1 = z+r*zₐ/2\n",
    "            vx_1 = 0.; vy_1 = 0.; vz_1 = 0.\n",
    "            r_1 = r/2. ^(1. /3)\n",
    "            m_1 = m/2\n",
    "            tu_1 = t + Uniform(τdiv-σdiv,τdiv+σdiv)\n",
    "            c_1 = c*dist\n",
    "\n",
    "            #Update things of second cell\n",
    "            x_2 = x+r*xₐ/2; y_2 = y+r*yₐ/2; z_2 = z+r*zₐ/2\n",
    "            vx_2 = 0.; vy_2 = 0.; vz_2 = 0.\n",
    "            r_2 = r/2. ^(1. /3)\n",
    "            m_2 = m/2\n",
    "            tu_2 = t + Uniform(τdiv-σdiv,τdiv+σdiv)\n",
    "            c_2 = c*(2-dist)\n",
    "        end\n",
    "    end,\n",
    ")"
   ]
  },
  {
   "cell_type": "markdown",
   "metadata": {},
   "source": [
    "# Compile the model"
   ]
  },
  {
   "cell_type": "code",
   "execution_count": 3,
   "metadata": {
    "scrolled": false
   },
   "outputs": [
    {
     "name": "stdout",
     "output_type": "stream",
     "text": [
      "function (com::Community,; dt::Real, tMax::Real, t::Real = com.t, N::Integer = com.N, nMax::Integer = com.N)\n",
      "    dt = Float64(dt)\n",
      "    tMax = Float64(tMax)\n",
      "    t = Float64(t)\n",
      "    N = Int(N)\n",
      "    localV = Array(Float64.([com.local_; Base.zeros(nMax - N, 15)]))\n",
      "    localVCopy = zeros(Float64, (size(localV))[1], 10)\n",
      "    identityV = Array([Int.(com.identity_); Base.zeros(Int, nMax - N, 2)])\n",
      "    globalV = Array(Float64.(com.global_))\n",
      "    F₀ = Array(com.globArray[1])\n",
      "    K₁_ = copy(zeros(Float64, nMax, 7))\n",
      "    NV = Threads.Atomic{Int}(N)\n",
      "    agentIdMax = Threads.Atomic{Int}(N)\n",
      "    commRAM_ = CommunityInTime()\n",
      "    function cleanInteraction_!(ARGS_)\n",
      "        Threads.@threads for ic1_ = 1:N\n",
      "                localV[ic1_, nothing] = 0\n",
      "                localV[ic1_, nothing] = 0\n",
      "                localV[ic1_, nothing] = 0\n",
      "                localV[ic1_, 14] = 0\n",
      "                localV[ic1_, 13] = 0\n",
      "            end\n",
      "        return nothing\n",
      "    end\n",
      "    function cleanLocalInteraction_!(ARGS_)\n",
      "        Threads.@threads for ic1_ = 1:N\n",
      "            end\n",
      "        return nothing\n",
      "    end\n",
      "    function initialiseLocGlobCopy_!(ARGS_)\n",
      "        Threads.@threads for ic1_ = 1:N\n",
      "                if ic1_ == 1\n",
      "                end\n",
      "                localVCopy[ic1_, 4] = localV[ic1_, 4]\n",
      "                localVCopy[ic1_, 8] = localV[ic1_, 10]\n",
      "                localVCopy[ic1_, 2] = localV[ic1_, 2]\n",
      "                localVCopy[ic1_, 5] = localV[ic1_, 5]\n",
      "                localVCopy[ic1_, 7] = localV[ic1_, 12]\n",
      "                localVCopy[ic1_, 3] = localV[ic1_, 3]\n",
      "                localVCopy[ic1_, 6] = localV[ic1_, 6]\n",
      "                localVCopy[ic1_, 9] = localV[ic1_, 11]\n",
      "                localVCopy[ic1_, 10] = localV[ic1_, 15]\n",
      "                localVCopy[ic1_, 1] = localV[ic1_, 1]\n",
      "            end\n",
      "        return nothing\n",
      "    end\n",
      "    function initialiseCopy_!(ARGS_)\n",
      "        initialiseLocGlobCopy_!(ARGS_)\n",
      "        return\n",
      "    end\n",
      "    function interactionStep1_(ARGS_)\n",
      "        Threads.@threads for ic1_ = 1:N\n",
      "                for ic2_ = 1:N\n",
      "                    dij = sqrt((dx_i - dx_j) ^ 2 + (dy_i - dy_j) ^ 2 + (dz_i - dz_j) ^ 2)\n",
      "                    rij = localV[ic1_, 11] + localV[ic2_, 11]\n",
      "                    if dij < globalV[1] * rij && dij > 0\n",
      "                        localV[ic1_, 7] += (F₀[identityV[ic1_, 2], identityV[ic2_, 2]] * (rij / dij - 1) * ((globalV[1] * rij) / dij - 1) * (localV[ic1_, 1] - localV[ic2_, 1])) / dij\n",
      "                        localV[ic1_, 8] += (F₀[identityV[ic1_, 2], identityV[ic2_, 2]] * (rij / dij - 1) * ((globalV[1] * rij) / dij - 1) * (localV[ic1_, 2] - localV[ic2_, 2])) / dij\n",
      "                        localV[ic1_, 9] += (F₀[identityV[ic1_, 2], identityV[ic2_, 2]] * (rij / dij - 1) * ((globalV[1] * rij) / dij - 1) * (localV[ic1_, 3] - localV[ic2_, 3])) / dij\n",
      "                    end\n",
      "                    if dij < globalV[7] * rij\n",
      "                        localV[ic1_, 14] += 1\n",
      "                        localV[ic1_, 13] += localV[ic2_, 12]\n",
      "                    end\n",
      "                end\n",
      "            end\n",
      "        return nothing\n",
      "    end\n",
      "    function integrationStep1_(ARGS_)\n",
      "        Threads.@threads for ic1_ = 1:N\n",
      "                K₁_[ic1_, 4] = ((-(globalV[2]) * localV[ic1_, 4]) / localV[ic1_, 10] + localV[ic1_, 7] / localV[ic1_, 10]) * dt\n",
      "                K₁_[ic1_, 5] = ((-(globalV[2]) * localV[ic1_, 5]) / localV[ic1_, 10] + localV[ic1_, 8] / localV[ic1_, 10]) * dt\n",
      "                K₁_[ic1_, 6] = ((-(globalV[2]) * localV[ic1_, 6]) / localV[ic1_, 10] + localV[ic1_, 9] / localV[ic1_, 10]) * dt\n",
      "                K₁_[ic1_, 1] = localV[ic1_, 4] * dt\n",
      "                K₁_[ic1_, 2] = localV[ic1_, 5] * dt\n",
      "                K₁_[ic1_, 3] = localV[ic1_, 6] * dt\n",
      "                if t < globalV[8] && t > ton\n",
      "                    K₁_[ic1_, 7] = ((globalV[3] * (1 + localV[ic1_, 12] ^ globalV[4]) ^ globalV[5]) / ((1 + localV[ic1_, 12] ^ globalV[4]) ^ globalV[5] + (1 + (localV[ic1_, 13] / localV[ic1_, 14]) / globalV[6]) ^ (2 * globalV[5])) - localV[ic1_, 12]) * dt\n",
      "                else\n",
      "                    K₁_[ic1_, 7] = 0dt\n",
      "                end\n",
      "                localVCopy[ic1_, 1] = localV[ic1_, 1] + K₁_[ic1_, 1]\n",
      "                localVCopy[ic1_, 2] = localV[ic1_, 2] + K₁_[ic1_, 2]\n",
      "                localVCopy[ic1_, 3] = localV[ic1_, 3] + K₁_[ic1_, 3]\n",
      "                localVCopy[ic1_, 4] = localV[ic1_, 4] + K₁_[ic1_, 4]\n",
      "                localVCopy[ic1_, 5] = localV[ic1_, 5] + K₁_[ic1_, 5]\n",
      "                localVCopy[ic1_, 6] = localV[ic1_, 6] + K₁_[ic1_, 6]\n",
      "                localVCopy[ic1_, 7] = localV[ic1_, 12] + K₁_[ic1_, 7]\n",
      "            end\n",
      "        return nothing\n",
      "    end\n",
      "    function interactionStep2_(ARGS_)\n",
      "        Threads.@threads for ic1_ = 1:N\n",
      "                for ic2_ = 1:N\n",
      "                    dij = sqrt((dx_i - dx_j) ^ 2 + (dy_i - dy_j) ^ 2 + (dz_i - dz_j) ^ 2)\n",
      "                    rij = localV[ic1_, 11] + localV[ic2_, 11]\n",
      "                    if dij < globalV[1] * rij && dij > 0\n",
      "                        localV[ic1_, 7] += (F₀[identityV[ic1_, 2], identityV[ic2_, 2]] * (rij / dij - 1) * ((globalV[1] * rij) / dij - 1) * (localV[ic1_, 1] - localV[ic2_, 1])) / dij\n",
      "                        localV[ic1_, 8] += (F₀[identityV[ic1_, 2], identityV[ic2_, 2]] * (rij / dij - 1) * ((globalV[1] * rij) / dij - 1) * (localV[ic1_, 2] - localV[ic2_, 2])) / dij\n",
      "                        localV[ic1_, 9] += (F₀[identityV[ic1_, 2], identityV[ic2_, 2]] * (rij / dij - 1) * ((globalV[1] * rij) / dij - 1) * (localV[ic1_, 3] - localV[ic2_, 3])) / dij\n",
      "                    end\n",
      "                    if dij < globalV[7] * rij\n",
      "                        localV[ic1_, 14] += 1\n",
      "                        localV[ic1_, 13] += localV[ic2_, 12]\n",
      "                    end\n",
      "                end\n",
      "            end\n",
      "        return nothing\n",
      "    end\n",
      "    function integrationStep2_(ARGS_)\n",
      "        Threads.@threads for ic1_ = 1:N\n",
      "                localVCopy[ic1_, 4] = ((-(globalV[2]) * (localV[ic1_, 4] + K₁_[ic1_, 4])) / localV[ic1_, 10] + localV[ic1_, 7] / localV[ic1_, 10]) * dt\n",
      "                localVCopy[ic1_, 5] = ((-(globalV[2]) * (localV[ic1_, 5] + K₁_[ic1_, 5])) / localV[ic1_, 10] + localV[ic1_, 8] / localV[ic1_, 10]) * dt\n",
      "                localVCopy[ic1_, 6] = ((-(globalV[2]) * (localV[ic1_, 6] + K₁_[ic1_, 6])) / localV[ic1_, 10] + localV[ic1_, 9] / localV[ic1_, 10]) * dt\n",
      "                localVCopy[ic1_, 1] = (localV[ic1_, 4] + K₁_[ic1_, 4]) * dt\n",
      "                localVCopy[ic1_, 2] = (localV[ic1_, 5] + K₁_[ic1_, 5]) * dt\n",
      "                localVCopy[ic1_, 3] = (localV[ic1_, 6] + K₁_[ic1_, 6]) * dt\n",
      "                if ((((((t + dt) + dt) + dt) + dt) + dt) + dt) + dt < globalV[8] && ((((((t + dt) + dt) + dt) + dt) + dt) + dt) + dt > ton\n",
      "                    localVCopy[ic1_, 7] = ((globalV[3] * (1 + (localV[ic1_, 12] + K₁_[ic1_, 7]) ^ globalV[4]) ^ globalV[5]) / ((1 + (localV[ic1_, 12] + K₁_[ic1_, 7]) ^ globalV[4]) ^ globalV[5] + (1 + (localV[ic1_, 13] / localV[ic1_, 14]) / globalV[6]) ^ (2 * globalV[5])) - (localV[ic1_, 12] + K₁_[ic1_, 7])) * dt\n",
      "                else\n",
      "                    localVCopy[ic1_, 7] = 0dt\n",
      "                end\n",
      "                localVCopy[ic1_, 1] = localV[ic1_, 1] + (localVCopy[ic1_, 1] + K₁_[ic1_, 1]) / 2\n",
      "                localVCopy[ic1_, 2] = localV[ic1_, 2] + (localVCopy[ic1_, 2] + K₁_[ic1_, 2]) / 2\n",
      "                localVCopy[ic1_, 3] = localV[ic1_, 3] + (localVCopy[ic1_, 3] + K₁_[ic1_, 3]) / 2\n",
      "                localVCopy[ic1_, 4] = localV[ic1_, 4] + (localVCopy[ic1_, 4] + K₁_[ic1_, 4]) / 2\n",
      "                localVCopy[ic1_, 5] = localV[ic1_, 5] + (localVCopy[ic1_, 5] + K₁_[ic1_, 5]) / 2\n",
      "                localVCopy[ic1_, 6] = localV[ic1_, 6] + (localVCopy[ic1_, 6] + K₁_[ic1_, 6]) / 2\n",
      "                localVCopy[ic1_, 7] = localV[ic1_, 12] + (localVCopy[ic1_, 7] + K₁_[ic1_, 7]) / 2\n",
      "            end\n",
      "        return nothing\n",
      "    end\n",
      "    function integrationStep_!(ARGS_)\n",
      "        cleanInteraction_!(ARGS_)\n",
      "        interactionStep1_(ARGS_)\n",
      "        integrationStep1_(ARGS_)\n",
      "        cleanInteraction_!(ARGS_)\n",
      "        interactionStep2_(ARGS_)\n",
      "        integrationStep1_(ARGS_)\n",
      "        return\n",
      "    end\n",
      "    function updateLocGlob_!(ARGS_)\n",
      "        Threads.@threads for ic1_ = 1:N\n",
      "                if ic1_ == 1\n",
      "                end\n",
      "                localV[ic1_, 4] = localVCopy[ic1_, 4]\n",
      "                localV[ic1_, 10] = localVCopy[ic1_, 8]\n",
      "                localV[ic1_, 2] = localVCopy[ic1_, 2]\n",
      "                localV[ic1_, 5] = localVCopy[ic1_, 5]\n",
      "                localV[ic1_, 12] = localVCopy[ic1_, 7]\n",
      "                localV[ic1_, 3] = localVCopy[ic1_, 3]\n",
      "                localV[ic1_, 6] = localVCopy[ic1_, 6]\n",
      "                localV[ic1_, 11] = localVCopy[ic1_, 9]\n",
      "                localV[ic1_, 15] = localVCopy[ic1_, 10]\n",
      "                localV[ic1_, 1] = localVCopy[ic1_, 1]\n",
      "            end\n",
      "        return nothing\n",
      "    end\n",
      "    function update_!(ARGS_)\n",
      "        updateLocGlob_!(ARGS_)\n",
      "        return\n",
      "    end\n",
      "    function division_!(ARGS_)\n",
      "        Threads.@threads for ic1_ = 1:N\n",
      "                if xₐ = Normal(0, 1), yₐ = Normal(0, 1), zₐ = Normal(0, 1), Tₐ = sqrt(xₐ ^ 2 + yₐ ^ 2 + zₐ ^ 2), xₐ /= Tₐ, yₐ /= Tₐ, zₐ /= Tₐ, dist = Uniform(1 + σc1, 1 - globalV[12]), x_1 = localV[ic1_, 1] + (localV[ic1_, 11] * xₐ) / 2, y_1 = localV[ic1_, 2] + (localV[ic1_, 11] * yₐ) / 2, z_1 = localV[ic1_, 3] + (localV[ic1_, 11] * zₐ) / 2, vx_1 = 0.0, vy_1 = 0.0, vz_1 = 0.0, r_1 = localV[ic1_, 11] / 2.0 ^ (1.0 / 3), m_1 = localV[ic1_, 10] / 2, tu_1 = t + Uniform(globalV[10] - globalV[11], globalV[10] + globalV[11]), c_1 = localV[ic1_, 12] * dist, x_2 = localV[ic1_, 1] + (localV[ic1_, 11] * xₐ) / 2, y_2 = localV[ic1_, 2] + (localV[ic1_, 11] * yₐ) / 2, z_2 = localV[ic1_, 3] + (localV[ic1_, 11] * zₐ) / 2, vx_2 = 0.0, vy_2 = 0.0, vz_2 = 0.0, r_2 = localV[ic1_, 11] / 2.0 ^ (1.0 / 3), m_2 = localV[ic1_, 10] / 2, tu_2 = t + Uniform(globalV[10] - globalV[11], globalV[10] + globalV[11]), c_2 = localV[ic1_, 12] * (2 - dist)\n",
      "                    idNew_ = Threads.atomic_add!(agentIdMax, Int(2)) + 1\n",
      "                    ic1New_ = Threads.atomic_add!(NV, Int(1)) + 1\n",
      "                    xₐ = Normal(0, 1)\n",
      "                    yₐ = Normal(0, 1)\n",
      "                    zₐ = Normal(0, 1)\n",
      "                    Tₐ = sqrt(xₐ ^ 2 + yₐ ^ 2 + zₐ ^ 2)\n"
     ]
    },
    {
     "name": "stdout",
     "output_type": "stream",
     "text": [
      "                    xₐ /= Tₐ\n",
      "                    yₐ /= Tₐ\n",
      "                    zₐ /= Tₐ\n",
      "                    dist = Uniform(1 + σc1, 1 - globalV[12])\n",
      "                    localVCopy[ic1_, 1] = localV[ic1_, 1] + (localV[ic1_, 11] * xₐ) / 2\n",
      "                    localVCopy[ic1_, 2] = localV[ic1_, 2] + (localV[ic1_, 11] * yₐ) / 2\n",
      "                    localVCopy[ic1_, 3] = localV[ic1_, 3] + (localV[ic1_, 11] * zₐ) / 2\n",
      "                    localVCopy[ic1_, 4] = 0.0\n",
      "                    localVCopy[ic1_, 5] = 0.0\n",
      "                    localVCopy[ic1_, 6] = 0.0\n",
      "                    localVCopy[ic1_, 9] = localV[ic1_, 11] / 2.0 ^ (1.0 / 3)\n",
      "                    localVCopy[ic1_, 8] = localV[ic1_, 10] / 2\n",
      "                    localVCopy[ic1_, 10] = t + Uniform(globalV[10] - globalV[11], globalV[10] + globalV[11])\n",
      "                    localVCopy[ic1_, 7] = localV[ic1_, 12] * dist\n",
      "                    localVCopy[ic1New_, 1] = localV[ic1_, 1] + (localV[ic1_, 11] * xₐ) / 2\n",
      "                    localVCopy[ic1New_, 2] = localV[ic1_, 2] + (localV[ic1_, 11] * yₐ) / 2\n",
      "                    localVCopy[ic1New_, 3] = localV[ic1_, 3] + (localV[ic1_, 11] * zₐ) / 2\n",
      "                    localVCopy[ic1New_, 4] = 0.0\n",
      "                    localVCopy[ic1New_, 5] = 0.0\n",
      "                    localVCopy[ic1New_, 6] = 0.0\n",
      "                    localVCopy[ic1New_, 9] = localV[ic1_, 11] / 2.0 ^ (1.0 / 3)\n",
      "                    localVCopy[ic1New_, 8] = localV[ic1_, 10] / 2\n",
      "                    localVCopy[ic1New_, 10] = t + Uniform(globalV[10] - globalV[11], globalV[10] + globalV[11])\n",
      "                    localVCopy[ic1New_, 7] = localV[ic1_, 12] * (2 - dist)\n",
      "                    localV[ic1_, 1] = localVCopy[ic1_, 1]\n",
      "                    localV[ic1New_, 1] = localVCopy[ic1New_, 1]\n",
      "                    localV[ic1_, 2] = localVCopy[ic1_, 2]\n",
      "                    localV[ic1New_, 2] = localVCopy[ic1New_, 2]\n",
      "                    localV[ic1_, 3] = localVCopy[ic1_, 3]\n",
      "                    localV[ic1New_, 3] = localVCopy[ic1New_, 3]\n",
      "                    localV[ic1_, 4] = localVCopy[ic1_, 4]\n",
      "                    localV[ic1New_, 4] = localVCopy[ic1New_, 4]\n",
      "                    localV[ic1_, 5] = localVCopy[ic1_, 5]\n",
      "                    localV[ic1New_, 5] = localVCopy[ic1New_, 5]\n",
      "                    localV[ic1_, 6] = localVCopy[ic1_, 6]\n",
      "                    localV[ic1New_, 6] = localVCopy[ic1New_, 6]\n",
      "                    localV[ic1New_, 7] = localV[ic1_, 7]\n",
      "                    localV[ic1New_, 8] = localV[ic1_, 8]\n",
      "                    localV[ic1New_, 9] = localV[ic1_, 9]\n",
      "                    localV[ic1_, 10] = localVCopy[ic1_, 8]\n",
      "                    localV[ic1New_, 10] = localVCopy[ic1New_, 8]\n",
      "                    localV[ic1_, 11] = localVCopy[ic1_, 9]\n",
      "                    localV[ic1New_, 11] = localVCopy[ic1New_, 9]\n",
      "                    localV[ic1_, 12] = localVCopy[ic1_, 7]\n",
      "                    localV[ic1New_, 12] = localVCopy[ic1New_, 7]\n",
      "                    localV[ic1New_, 13] = localV[ic1_, 13]\n",
      "                    localV[ic1New_, 14] = localV[ic1_, 14]\n",
      "                    localV[ic1_, 15] = localVCopy[ic1_, 10]\n",
      "                    localV[ic1New_, 15] = localVCopy[ic1New_, 10]\n",
      "                    identityV[ic1_, 1] = idNew_\n",
      "                    identityV[ic1New_, 1] = idNew_ + 1\n",
      "                    identityV[ic1New_, 2] = identityV[ic1_, 2]\n",
      "                end\n",
      "            end\n",
      "        return nothing\n",
      "    end\n",
      "    initialiseCopy_!(ARGS_)\n",
      "    cleanInteraction_!(ARGS_)\n",
      "    interactionCompute_!(ARGS_)\n",
      "    integrationStep_!(ARGS_)\n",
      "    ob = Community(t, N, com.declaredSymbols_, (Core.Array(localV))[1:N, :], (Core.Array(identityV))[1:N, :], Core.Array(globalV), Core.Array([copy(F₀)]))\n",
      "    push!(commRAM_, ob)\n",
      "    while t <= tMax - dt\n",
      "        integrationStep_!(ARGS_)\n",
      "        update_!(ARGS_)\n",
      "        division_!(ARGS_)\n",
      "        N = NV[]\n",
      "        ob = Community(t + dt, N, com.declaredSymbols_, (Core.Array(localV))[1:N, :], (Core.Array(identityV))[1:N, :], Core.Array(globalV), Core.Array([copy(F₀)]))\n",
      "        push!(commRAM_, ob)\n",
      "        t += dt\n",
      "    end\n",
      "    return commRAM_\n",
      "end\n"
     ]
    },
    {
     "ename": "LoadError",
     "evalue": "Base.Meta.ParseError(\"unexpected \\\",\\\"\")",
     "output_type": "error",
     "traceback": [
      "Base.Meta.ParseError(\"unexpected \\\",\\\"\")",
      "",
      "Stacktrace:",
      " [1] parse",
      "   @ ./meta.jl:258 [inlined]",
      " [2] subsArguments_(exp::Expr, ob::Symbol, tar::Vector{Symbol})",
      "   @ AgentBasedModels ~/Documents/PhD/Projects/Agent Based Simulator/AgentBasedModels.jl/src/auxiliar/substitution.jl:44",
      " [3] compile(abmOriginal::Agent, space::SimulationFree; platform::String, integrator::String, save::String, debug::Bool, user_::Bool)",
      "   @ AgentBasedModels ~/Documents/PhD/Projects/Agent Based Simulator/AgentBasedModels.jl/src/model/compile.jl:74",
      " [4] top-level scope",
      "   @ In[3]:1",
      " [5] eval",
      "   @ ./boot.jl:360 [inlined]",
      " [6] include_string(mapexpr::typeof(REPL.softscope), mod::Module, code::String, filename::String)",
      "   @ Base ./loading.jl:1094"
     ]
    }
   ],
   "source": [
    "mCompiled = compile(m,platform=\"cpu\",save=\"RAM\",integrator=\"Heun\",debug=true)"
   ]
  },
  {
   "cell_type": "markdown",
   "metadata": {},
   "source": [
    "### Test final model"
   ]
  },
  {
   "cell_type": "code",
   "execution_count": 17,
   "metadata": {},
   "outputs": [],
   "source": [
    "compile!(m,platform=\"cpu\",saveRAM=true,saveVTK=false,positionsVTK=[:x,:y,:z],debug=false)"
   ]
  },
  {
   "cell_type": "code",
   "execution_count": 18,
   "metadata": {},
   "outputs": [
    {
     "data": {
      "text/plain": [
       "10.0"
      ]
     },
     "execution_count": 18,
     "metadata": {},
     "output_type": "execute_result"
    }
   ],
   "source": [
    "com = Community(m,N=1)\n",
    "\n",
    "##########Mechanics##############################\n",
    "#Initialise global\n",
    "com[:b] = 10^-6\n",
    "com[:F₀] = 10^-4\n",
    "com[:μ] = 2\n",
    "\n",
    "#########Division#################################\n",
    "#Initialise global\n",
    "com[:τdiv] = 10\n",
    "com[:σdiv] = 0.5\n",
    "com[:σx] = 0.01\n",
    "\n",
    "#########Chemical#################################\n",
    "#Initialise Global\n",
    "com[:ton] = 0 #Start deactivated\n",
    "com[:Ncirc] = 20\n",
    "com[:fmin] = 0.05\n",
    "com[:fmax] = 0.95\n",
    "com[:α] = 10\n",
    "com[:n] = 2\n",
    "com[:mm] = 2\n",
    "com[:K] = 0.9\n",
    "com[:frange] = 1.2\n",
    "\n",
    "#########Local parameters and variables###########\n",
    "#Initialise locals\n",
    "mᵢ = 10^-6\n",
    "rᵢ = 5\n",
    "com[:m] = mᵢ\n",
    "com[:r] = rᵢ\n",
    "com[:toff] = 1 #Start activated\n",
    "com[:fate] = 0 #Start neutral fate\n",
    "#Initialise variables\n",
    "com[:x] = 0. #They are only separed in this axis\n",
    "com[:y] = 0.\n",
    "com[:z] = 0.\n",
    "com[:vx] = 0.\n",
    "com[:vy] = 0.\n",
    "com[:vz] = 0.\n",
    "\n",
    "x₀=3.\n",
    "com[:xx] = x₀\n",
    "com[:tu] = 10."
   ]
  },
  {
   "cell_type": "code",
   "execution_count": 19,
   "metadata": {},
   "outputs": [],
   "source": [
    "c = m.evolve(com,dt=0.001,tMax_=60,tSaveStep_=1,nMax_=1000);"
   ]
  },
  {
   "cell_type": "code",
   "execution_count": 20,
   "metadata": {},
   "outputs": [],
   "source": [
    "c[last][:xx];"
   ]
  },
  {
   "cell_type": "markdown",
   "metadata": {},
   "source": [
    "## Visualization"
   ]
  },
  {
   "cell_type": "markdown",
   "metadata": {},
   "source": [
    "### Plot community"
   ]
  },
  {
   "cell_type": "code",
   "execution_count": 21,
   "metadata": {},
   "outputs": [
    {
     "data": {
      "text/plain": [
       "GLMakie.Screen(...)"
      ]
     },
     "execution_count": 21,
     "metadata": {},
     "output_type": "execute_result"
    }
   ],
   "source": [
    "figure = plotCommunitySpheres(c[50],[:x,:y,:z],:r,:fate)\n",
    "display(figure)"
   ]
  },
  {
   "cell_type": "markdown",
   "metadata": {},
   "source": [
    "### Make video"
   ]
  },
  {
   "cell_type": "code",
   "execution_count": 22,
   "metadata": {},
   "outputs": [],
   "source": [
    "using Makie\n",
    "using AbstractPlotting"
   ]
  },
  {
   "cell_type": "code",
   "execution_count": 40,
   "metadata": {},
   "outputs": [
    {
     "data": {
      "text/plain": [
       "plotDivisionTree (generic function with 2 methods)"
      ]
     },
     "execution_count": 40,
     "metadata": {},
     "output_type": "execute_result"
    }
   ],
   "source": []
  },
  {
   "cell_type": "code",
   "execution_count": 44,
   "metadata": {},
   "outputs": [
    {
     "ename": "LoadError",
     "evalue": "MethodError: no method matching names(::Dict{Symbol,Int64})\nClosest candidates are:\n  names(!Matched::DataFrames.Index) at /home/gabriel/.julia/packages/DataFrames/Zx5mm/src/other/index.jl:34\n  names(!Matched::Module; all, imported) at reflection.jl:98\n  names(!Matched::DataFrames.SubIndex) at /home/gabriel/.julia/packages/DataFrames/Zx5mm/src/other/index.jl:425\n  ...",
     "output_type": "error",
     "traceback": [
      "MethodError: no method matching names(::Dict{Symbol,Int64})\nClosest candidates are:\n  names(!Matched::DataFrames.Index) at /home/gabriel/.julia/packages/DataFrames/Zx5mm/src/other/index.jl:34\n  names(!Matched::Module; all, imported) at reflection.jl:98\n  names(!Matched::DataFrames.SubIndex) at /home/gabriel/.julia/packages/DataFrames/Zx5mm/src/other/index.jl:425\n  ...",
      "",
      "Stacktrace:",
      " [1] top-level scope at In[44]:1"
     ]
    }
   ],
   "source": [
    "names(Dict([:a=>1]))"
   ]
  },
  {
   "cell_type": "code",
   "execution_count": 41,
   "metadata": {},
   "outputs": [
    {
     "ename": "LoadError",
     "evalue": "UndefVarError: key not defined",
     "output_type": "error",
     "traceback": [
      "UndefVarError: key not defined",
      "",
      "Stacktrace:",
      " [1] plotDivisionTree(::CommunityInTime, ::Symbol, ::String) at ./In[40]:23",
      " [2] plotDivisionTree(::CommunityInTime, ::Symbol) at ./In[40]:9",
      " [3] top-level scope at In[41]:1"
     ]
    }
   ],
   "source": [
    "figure = plotDivisionTree(c,:fate)\n",
    "display(figure)"
   ]
  },
  {
   "cell_type": "code",
   "execution_count": null,
   "metadata": {},
   "outputs": [],
   "source": []
  }
 ],
 "metadata": {
  "hide_input": false,
  "kernelspec": {
   "display_name": "Julia 1.5.3",
   "language": "julia",
   "name": "julia-1.5"
  },
  "language_info": {
   "file_extension": ".jl",
   "mimetype": "application/julia",
   "name": "julia",
   "version": "1.6.1"
  },
  "toc": {
   "base_numbering": 1,
   "nav_menu": {},
   "number_sections": true,
   "sideBar": true,
   "skip_h1_title": false,
   "title_cell": "Table of Contents",
   "title_sidebar": "Contents",
   "toc_cell": false,
   "toc_position": {
    "height": "calc(100% - 180px)",
    "left": "10px",
    "top": "150px",
    "width": "336px"
   },
   "toc_section_display": true,
   "toc_window_display": true
  }
 },
 "nbformat": 4,
 "nbformat_minor": 4
}
