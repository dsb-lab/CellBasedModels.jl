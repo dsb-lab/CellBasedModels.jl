{
 "cells": [
  {
   "cell_type": "code",
   "execution_count": 9,
   "metadata": {},
   "outputs": [],
   "source": [
    "push!(LOAD_PATH,\".. /src/\")\n",
    "using AgentBasedModels\n",
    "using Makie\n",
    "using Distributions\n",
    "using DifferentialEquations"
   ]
  },
  {
   "cell_type": "code",
   "execution_count": 10,
   "metadata": {},
   "outputs": [
    {
     "data": {
      "text/plain": [
       "fs0 (generic function with 1 method)"
      ]
     },
     "execution_count": 10,
     "metadata": {},
     "output_type": "execute_result"
    }
   ],
   "source": [
    "fσ(x) = (1+tanh(2*x))/2\n",
    "\n",
    "fs0(x,t) = S0*fσ(1-t/τg)*(exp(-x^2/(2*L^2))+exp(-(1-x)^2/(2*L^2))) + fσ(t/τg-1)*(exp(-x^2/(2*l^2))+exp(-(1-x)^2/(2*l^2)))"
   ]
  },
  {
   "cell_type": "code",
   "execution_count": 11,
   "metadata": {},
   "outputs": [],
   "source": [
    "model = Model()\n",
    "\n",
    "addGlobal!(model,[:a0,:a1,:τ,:l,:D,:S0,:τg,:L])\n",
    "\n",
    "update =\n",
    "\"\n",
    "s0 = fs0(x,t)\n",
    "\"\n",
    "addLocal!(model,[:x,:y,:s0],updates=update)\n",
    "\n",
    "coupling =\n",
    "\"\n",
    "dₐ = minimum(\n",
    "        [(x₁-x₂)^2+(y₁-y₂)^2,\n",
    "        (x₁-x₂+1)^2+(y₁-y₂)^2,\n",
    "        (x₁-x₂-1)^2+(y₁-y₂)^2,\n",
    "        (x₁-x₂)^2+(y₁-y₂+1)^2,\n",
    "        (x₁-x₂)^2+(y₁-y₂-1)^2,\n",
    "        (x₁-x₂+1)^2+(y₁-y₂+1)^2,\n",
    "        (x₁-x₂+1)^2+(y₁-y₂-1)^2,\n",
    "        (x₁-x₂-1)^2+(y₁-y₂+1)^2,\n",
    "        (x₁-x₂-1)^2+(y₁-y₂-1)^2])\n",
    "if dₐ > 0\n",
    "    s₁ += exp(-dₐ/(2*l^2)) * u₂*(a0 + 3*u₂^3*a1/(1+u₂^2))\n",
    "end\n",
    "\"\n",
    "addInteraction!(model,[:s],coupling)\n",
    "\n",
    "eqs = \n",
    "\"\n",
    "du = (fσ(2*(u-s-s0))/τ -u/τ)*dt #+D*ξ_\n",
    "\"\n",
    "addVariable!(model,[:u],eqs)"
   ]
  },
  {
   "cell_type": "code",
   "execution_count": 16,
   "metadata": {},
   "outputs": [
    {
     "ename": "LoadError",
     "evalue": "LoadError: UndefVarError: CUDA not defined\nin expression starting at none:1",
     "output_type": "error",
     "traceback": [
      "LoadError: UndefVarError: CUDA not defined\nin expression starting at none:1",
      "",
      "Stacktrace:",
      " [1] top-level scope",
      " [2] eval at ./boot.jl:331 [inlined]",
      " [3] eval(::Expr) at ./client.jl:467",
      " [4] compile!(::Model; platform::String, integrator::String, saveRAM::Bool, saveVTK::Bool, positionsVTK::Array{Symbol,1}, debug::Bool) at /home/gabriel/Documents/PhD/3 Simulation/Simulator/AgentBasedModels.jl/src/compile/compile.jl:152",
      " [5] top-level scope at In[16]:6"
     ]
    }
   ],
   "source": [
    "Lx = 1\n",
    "Ly = 1\n",
    "Nx = 18\n",
    "Ny = 9\n",
    "\n",
    "compile!(model,integrator=\"euler\",saveRAM=true,platform=\"cpu\")\n",
    "com = Community(model,N=2*Nx*Ny)\n",
    "\n",
    "#Global parameters\n",
    "λ = 5*10^-6; a0 = .05; a1 = 1 - a0; τ = 1/2; l = 0.085#1.75*λ; \n",
    "D = 5*10^-5; S0 = 2; τg = 1; L = .2; N = 324\n",
    "com[:a0] = a0\n",
    "com[:a1] = a1\n",
    "com[:τ] = τ\n",
    "com[:l] = l\n",
    "com[:D] = D\n",
    "com[:s0] = S0\n",
    "com[:L] = L\n",
    "\n",
    "#Positions\n",
    "dist = Uniform(-1,1)\n",
    "posx = zeros(2*Nx*Ny); posy = zeros(2*Nx*Ny)\n",
    "for i in 1:Nx\n",
    "    for j in 1:Ny\n",
    "        posx[Nx*(j-1)+i] = Lx*(i-0.5)/Nx +0.01*rand(dist)\n",
    "        posy[Nx*(j-1)+i] = Ly*(j-0.5)/Ny +0.01*rand(dist)\n",
    "    end\n",
    "end\n",
    "for i in 1:Nx\n",
    "    for j in 1:Ny\n",
    "        posx[Nx*Ny+Nx*(j-1)+i] = Lx*(i)/Nx +0.01*rand(dist)\n",
    "        posy[Nx*Ny+Nx*(j-1)+i] = Ly*(j-0.5+cos(pi/3))/Ny +0.01*rand(dist)\n",
    "    end\n",
    "end\n",
    "\n",
    "com[:x] = posx; com[:y] = posy;\n",
    "#Concentration\n",
    "u0 = [fs0(i,0.) for i in posx]\n",
    "com[:u] = u0;\n",
    "com[:s0] = u0;"
   ]
  },
  {
   "cell_type": "code",
   "execution_count": 13,
   "metadata": {},
   "outputs": [],
   "source": [
    "#figure = meshscatter(com[:x],com[:y],marker=Circle,markersize=5*10^-2,color=com[:u])\n",
    "#display(figure)"
   ]
  },
  {
   "cell_type": "code",
   "execution_count": 15,
   "metadata": {},
   "outputs": [
    {
     "ename": "LoadError",
     "evalue": "UndefVarError: randn! not defined",
     "output_type": "error",
     "traceback": [
      "UndefVarError: randn! not defined",
      "",
      "Stacktrace:",
      " [1] (::var\"#1#3\")(::Community; tMax_::Int64, dt::Float64, t::Float64, N::Int64, nMax_::Int64, neighMax_::Int64, tSave_::Float64, tSaveStep_::Float64, threads_::Int64) at /home/gabriel/Documents/PhD/3 Simulation/Simulator/AgentBasedModels.jl/src/compile/compile.jl:130",
      " [2] top-level scope at In[15]:1"
     ]
    }
   ],
   "source": [
    "c = model.evolve(com,dt=0.01,tMax_=10);"
   ]
  },
  {
   "cell_type": "code",
   "execution_count": 338,
   "metadata": {},
   "outputs": [],
   "source": [
    "comOut = c[1]\n",
    "figure = meshscatter(comOut[:x],comOut[:y],marker=Circle,markersize=5*10^-2,color=comOut[:u])\n",
    "#display(figure)\n",
    "save(\"corson2017self1.png\",figure)"
   ]
  },
  {
   "cell_type": "code",
   "execution_count": 339,
   "metadata": {},
   "outputs": [],
   "source": [
    "comOut = c[250]\n",
    "figure = meshscatter(comOut[:x],comOut[:y],marker=Circle,markersize=5*10^-2,color=comOut[:u])\n",
    "#display(figure)\n",
    "save(\"corson2017self250.png\",figure)"
   ]
  },
  {
   "cell_type": "code",
   "execution_count": 342,
   "metadata": {},
   "outputs": [],
   "source": [
    "comOut = c[500]\n",
    "figure = meshscatter(comOut[:x],comOut[:y],marker=Circle,markersize=5*10^-2,color=comOut[:u])\n",
    "#display(figure)\n",
    "save(\"corson2017self500.png\",figure)"
   ]
  },
  {
   "cell_type": "code",
   "execution_count": 343,
   "metadata": {},
   "outputs": [],
   "source": [
    "comOut = c[750]\n",
    "figure = meshscatter(comOut[:x],comOut[:y],marker=Circle,markersize=5*10^-2,color=comOut[:u])\n",
    "#display(figure)\n",
    "save(\"corson2017self750.png\",figure)"
   ]
  },
  {
   "cell_type": "code",
   "execution_count": 344,
   "metadata": {},
   "outputs": [],
   "source": [
    "comOut = c[1000]\n",
    "figure = meshscatter(comOut[:x],comOut[:y],marker=Circle,markersize=5*10^-2,color=comOut[:u])\n",
    "display(figure)\n",
    "#display(figure)\n",
    "save(\"corson2017self1000.png\",figure)"
   ]
  },
  {
   "cell_type": "code",
   "execution_count": null,
   "metadata": {},
   "outputs": [],
   "source": []
  }
 ],
 "metadata": {
  "kernelspec": {
   "display_name": "Julia 1.5.3",
   "language": "julia",
   "name": "julia-1.5"
  },
  "language_info": {
   "file_extension": ".jl",
   "mimetype": "application/julia",
   "name": "julia",
   "version": "1.5.3"
  },
  "toc": {
   "base_numbering": 1,
   "nav_menu": {},
   "number_sections": true,
   "sideBar": true,
   "skip_h1_title": false,
   "title_cell": "Table of Contents",
   "title_sidebar": "Contents",
   "toc_cell": false,
   "toc_position": {},
   "toc_section_display": true,
   "toc_window_display": false
  }
 },
 "nbformat": 4,
 "nbformat_minor": 4
}
