{
 "cells": [
  {
   "cell_type": "markdown",
   "metadata": {},
   "source": [
    "This is the model implemented from [this paper](https://www.pnas.org/content/pnas/105/40/15346.full.pdf)."
   ]
  },
  {
   "cell_type": "code",
   "execution_count": 8,
   "metadata": {},
   "outputs": [],
   "source": [
    "using AgentBasedModels\n",
    "using GLMakie\n",
    "#import GLMakie.GeometryBasics as gm\n",
    "using Random\n",
    "using Distributions\n",
    "#using CUDA\n",
    "\n",
    "using BenchmarkTools"
   ]
  },
  {
   "cell_type": "markdown",
   "metadata": {},
   "source": [
    "# First model: Interaction model"
   ]
  },
  {
   "cell_type": "code",
   "execution_count": 205,
   "metadata": {},
   "outputs": [],
   "source": [
    "model = @agent(2,\n",
    "            [vx,vy,theta,ω,d,l,m,I,Fx,Fy,W,px,py]::Local, #Local parameters\n",
    "            [kn,γn,γt,μcc,μcw,β,βω]::Global,        #Global parameters\n",
    "            contact::Identity,\n",
    "\n",
    "            UpdateInteraction = begin\n",
    "                #Compute distance between centers of mass\n",
    "                dAux = sqrt((x.i-x.j)^2+(y.i-y.j)^2)\n",
    "                if dAux > 0 && dAux < (l.i+l.j)/2\n",
    "                    if abs(theta.i-theta.j)>0.001 #If not aligned\n",
    "                        #Compute intersecting point virtual spheres\n",
    "                        cxAux = (x.i-x.j)\n",
    "                        cyAux = (y.i-y.j)\n",
    "                        normAux = cos(theta.i)*sin(theta.j)-sin(theta.i)*cos(theta.j)\n",
    "                        scaleAux = (-sin(theta.j)*cxAux+cos(theta.j)*cyAux)/normAux\n",
    "                        pxAux = scaleAux*cos(theta.i)+x.i\n",
    "                        pyAux = scaleAux*sin(theta.i)+y.i\n",
    "                        \n",
    "                        #Compute distance from mass center\n",
    "                \n",
    "                        di = sqrt((x.i-pxAux)^2+(y.i-pyAux)^2)\n",
    "                        dxi = (pxAux-x.i)/di\n",
    "                        dyi = (pyAux-y.i)/di\n",
    "                        xiAux = .9999*min(di,l.i/2)*dxi+x.i\n",
    "                        yiAux = .9999*min(di,l.i/2)*dyi+y.i\n",
    "\n",
    "                        dj = sqrt((x.j-pxAux)^2+(y.j-pyAux)^2)\n",
    "                        dxj = (pxAux-x.j)/dj\n",
    "                        dyj = (pyAux-y.j)/dj\n",
    "                        xjAux = .9999*min(dj,l.j/2)*dxj+x.j\n",
    "                        yjAux = .9999*min(dj,l.j/2)*dyj+y.j\n",
    "                    else #If aligned\n",
    "                        xiAux = -0.49*(x.i-x.j)*cos(theta.i)+x.i\n",
    "                        yiAux = -0.49*(y.i-y.j)*sin(theta.i)+y.i\n",
    "                        xjAux = -0.49*(x.j-x.i)*cos(theta.j)+x.j\n",
    "                        yjAux = -0.49*(y.j-y.i)*sin(theta.j)+y.j         \n",
    "                    end\n",
    "            \n",
    "                    if id.i == 2\n",
    "                        px.i = xiAux\n",
    "                        py.i = yiAux\n",
    "                        px.j = xjAux\n",
    "                        py.j = yjAux\n",
    "                    end\n",
    "                    #Compute distance between virtual spheres\n",
    "                    rij = sqrt((xiAux-xjAux)^2 +(yiAux-yjAux)^2)\n",
    "                    if rij > 0 && rij < d.i #If it is smaller than a diameter\n",
    "                        #Compute auxiliar\n",
    "                        δAux = d.i - rij\n",
    "                        MeAux = m.i/2\n",
    "                        #Compute interaction\n",
    "                        nijx = (xiAux-xjAux)/rij\n",
    "                        nijy = (yiAux-yjAux)/rij\n",
    "                        vijx = (vx.i-vx.j)\n",
    "                        vijy = (vy.i-vy.j)\n",
    "                        #Compute inner product\n",
    "                        vnAux = nijx*vijx+nijy*vijy\n",
    "                        #Compute normal and tangential forces\n",
    "                        FnAux = kn*δAux^1.5-γn*MeAux*δAux*vnAux\n",
    "                        FtAux = -min(γt*MeAux*δAux^.5,μcc*FnAux)\n",
    "                        #Append to interaction forces\n",
    "                        Fijx = FnAux*nijx + FtAux*(vijx-vnAux*nijx)\n",
    "                        Fijy = FnAux*nijy + FtAux*(vijy-vnAux*nijx)\n",
    "                        Fx.i += Fijx\n",
    "                        Fy.i += Fijy\n",
    "                        #Append radial forces\n",
    "                        W.i += (xiAux-x.i)*Fijy - (yiAux-y.i)*Fijx\n",
    "                    end\n",
    "                end\n",
    "            end,\n",
    "\n",
    "            Equation = begin\n",
    "                d(x) = vx*dt\n",
    "                d(y) = vy*dt\n",
    "                d(vx) = -β*vx*dt+Fx/m*dt\n",
    "                d(vy) = -β*vy*dt+Fy/m*dt\n",
    "                d(ω) = W/(m*(d+l)^2/12+m*d^2)*dt-βω*ω*dt\n",
    "                d(theta) = ω*dt\n",
    "            end,\n",
    "\n",
    "            UpdateLocal = begin #Bound cells\n",
    "                if theta < -π/2\n",
    "                    theta += π\n",
    "                elseif theta > π/2\n",
    "                    theta -= π\n",
    "                end\n",
    "            end\n",
    "    );\n",
    "\n",
    "model = compile(model,integrator=\"Euler\",platform=\"cpu\");\n",
    "#model.program"
   ]
  },
  {
   "cell_type": "markdown",
   "metadata": {},
   "source": [
    "## Checking mechanics of two bacterial cells"
   ]
  },
  {
   "cell_type": "code",
   "execution_count": 223,
   "metadata": {},
   "outputs": [],
   "source": [
    "com = Community(model,N=2);\n",
    "\n",
    "com.kn = 1.\n",
    "com.γn = 1.\n",
    "com.γt = 1.\n",
    "com.μcc = 0.1\n",
    "com.μcw = 0.8\n",
    "com.β = 5.\n",
    "com.βω = 5.\n",
    "\n",
    "com.m .= 1.\n",
    "com.d .= 1.\n",
    "com.l .= 5.;\n",
    "\n",
    "com.x = [0,1]\n",
    "com.y = [0,0]\n",
    "com.ω .= 0\n",
    "com.theta = [0,.0*π];"
   ]
  },
  {
   "cell_type": "code",
   "execution_count": 224,
   "metadata": {},
   "outputs": [],
   "source": [
    "comt = model.evolve(com,dt=0.01,tMax=1000,dtSave=.1);"
   ]
  },
  {
   "cell_type": "code",
   "execution_count": 225,
   "metadata": {},
   "outputs": [
    {
     "data": {
      "image/png": "[encoded data removed]",
      "text/plain": [
       "Figure()"
      ]
     },
     "execution_count": 225,
     "metadata": {},
     "output_type": "execute_result"
    }
   ],
   "source": [
    "t_list = [2,20,30,10000]\n",
    "\n",
    "fig = Figure(resolution=(1000,1000))\n",
    "\n",
    "for (i,t) in enumerate(t_list)\n",
    "    dir = zeros(comt[1].N,2)\n",
    "    for i in 1:comt[t].N\n",
    "        dir[i,1] = cos(comt[t].theta[i])\n",
    "        dir[i,2] = sin(comt[t].theta[i])\n",
    "    end\n",
    "    ax = plotCylinders(fig[1,i],comt[t],dir,:l,:d)\n",
    "    meshscatter!(ax,comt[t].px,comt[t].py,[0,0],color=\"red\",markersize=.5)\n",
    "\n",
    "    xlims!(ax,-10,10)\n",
    "    ylims!(ax,-10,10)\n",
    "end\n",
    "\n",
    "fig"
   ]
  },
  {
   "cell_type": "markdown",
   "metadata": {
    "tags": []
   },
   "source": [
    "## Simulation of many bacteries"
   ]
  },
  {
   "cell_type": "code",
   "execution_count": 212,
   "metadata": {},
   "outputs": [],
   "source": [
    "com = Community(model,N=1000);\n",
    "\n",
    "com.kn = 1.\n",
    "com.γn = 1.\n",
    "com.γt = 1.\n",
    "com.μcc = 0.1\n",
    "com.μcw = 0.8\n",
    "com.β = 5.\n",
    "com.βω = 1.\n",
    "\n",
    "com.m .= 1.\n",
    "com.d .= 1.\n",
    "com.l .= 5.;\n",
    "\n",
    "com.x = rand(Uniform(-20,20),com.N)\n",
    "com.y = rand(Uniform(-20,20),com.N)\n",
    "com.theta = rand(Uniform(-π/2,π/2),com.N);"
   ]
  },
  {
   "cell_type": "code",
   "execution_count": 213,
   "metadata": {},
   "outputs": [],
   "source": [
    "comt = model.evolve(com,dt=0.1,tMax=1000,dtSave=10);"
   ]
  },
  {
   "cell_type": "code",
   "execution_count": 214,
   "metadata": {},
   "outputs": [
    {
     "ename": "LoadError",
     "evalue": "InterruptException:",
     "output_type": "error",
     "traceback": [
      "InterruptException:",
      "",
      "Stacktrace:",
      "  [1] optimize_ticks_typed(x_min::Float64, x_max::Float64, extend_ticks::Bool, Q::Vector{Tuple{Float64, Float64}}, k_min::Int64, k_max::Int64, k_ideal::Int64, granularity_weight::Float64, simplicity_weight::Float64, coverage_weight::Float64, niceness_weight::Float64, strict_span::Bool, span_buffer::Nothing, scale::Nothing)",
      "    @ PlotUtils ~/.julia/packages/PlotUtils/xekml/src/ticks.jl:254",
      "  [2] optimize_ticks(x_min::Float64, x_max::Float64; extend_ticks::Bool, Q::Vector{Tuple{Float64, Float64}}, k_min::Int64, k_max::Int64, k_ideal::Int64, granularity_weight::Float64, simplicity_weight::Float64, coverage_weight::Float64, niceness_weight::Float64, strict_span::Bool, span_buffer::Nothing, scale::Nothing)",
      "    @ PlotUtils ~/.julia/packages/PlotUtils/xekml/src/ticks.jl:154",
      "  [3] get_tickvalues",
      "    @ ~/.julia/packages/Makie/GTyed/src/makielayout/ticklocators/wilkinson.jl:21 [inlined]",
      "  [4] get_tickvalues",
      "    @ ~/.julia/packages/Makie/GTyed/src/makielayout/ticklocators/wilkinson.jl:17 [inlined]",
      "  [5] get_tickvalues",
      "    @ ~/.julia/packages/Makie/GTyed/src/makielayout/lineaxis.jl:463 [inlined]",
      "  [6] get_ticks",
      "    @ ~/.julia/packages/Makie/GTyed/src/makielayout/lineaxis.jl:451 [inlined]",
      "  [7] (::Makie.MakieLayout.var\"#354#367\")(lims::GeometryBasics.HyperRectangle{3, Float32}, ticks::WilkinsonTicks, format::MakieCore.Automatic)",
      "    @ Makie.MakieLayout ~/.julia/packages/Makie/GTyed/src/makielayout/layoutables/axis3d.jl:56",
      "  [8] (::Observables.MapUpdater{Makie.MakieLayout.var\"#354#367\", Tuple{Vector{Float64}, Vector{String}}})(::GeometryBasics.HyperRectangle{3, Float32}, ::Vararg{Any, N} where N)",
      "    @ Observables ~/.julia/packages/Observables/OFj0u/src/Observables.jl:372",
      "  [9] (::Observables.OnUpdate{Observables.MapUpdater{Makie.MakieLayout.var\"#354#367\", Tuple{Vector{Float64}, Vector{String}}}, Tuple{Observable{GeometryBasics.HyperRectangle{3, Float32}}, Observable{Any}, Observable{Any}}})(#unused#::GeometryBasics.HyperRectangle{3, Float32})",
      "    @ Observables ~/.julia/packages/Observables/OFj0u/src/Observables.jl:334",
      " [10] #invokelatest#2",
      "    @ ./essentials.jl:708 [inlined]",
      " [11] invokelatest",
      "    @ ./essentials.jl:706 [inlined]",
      " [12] notify",
      "    @ ~/.julia/packages/Observables/OFj0u/src/Observables.jl:88 [inlined]",
      " [13] setindex!",
      "    @ ~/.julia/packages/Observables/OFj0u/src/Observables.jl:248 [inlined]",
      " [14] (::Makie.MakieLayout.var\"#363#376\"{Axis3})(lims::GeometryBasics.HyperRectangle{3, Float32})",
      "    @ Makie.MakieLayout ~/.julia/packages/Makie/GTyed/src/makielayout/layoutables/axis3d.jl:139",
      " [15] #invokelatest#2",
      "    @ ./essentials.jl:708 [inlined]",
      " [16] invokelatest",
      "    @ ./essentials.jl:706 [inlined]",
      " [17] notify",
      "    @ ~/.julia/packages/Observables/OFj0u/src/Observables.jl:88 [inlined]",
      " [18] setindex!(observable::Observable{Any}, val::GeometryBasics.HyperRectangle{3, Float32})",
      "    @ Observables ~/.julia/packages/Observables/OFj0u/src/Observables.jl:248",
      " [19] reset_limits!(ax::Axis3; xauto::Bool, yauto::Bool, zauto::Bool)",
      "    @ Makie.MakieLayout ~/.julia/packages/Makie/GTyed/src/makielayout/layoutables/axis.jl:544",
      " [20] reset_limits!",
      "    @ ~/.julia/packages/Makie/GTyed/src/makielayout/layoutables/axis.jl:467 [inlined]",
      " [21] plot!(::Axis3, ::Type{MeshScatter{ArgType} where ArgType}, ::Attributes, ::Vector{Float64}, ::Vararg{Vector{Float64}, N} where N; kw_attributes::Base.Iterators.Pairs{Union{}, Union{}, Tuple{}, NamedTuple{(), Tuple{}}})",
      "    @ Makie.MakieLayout ~/.julia/packages/Makie/GTyed/src/makielayout/layoutables/axis3d.jl:279",
      " [22] plot!(::Axis3, ::Type{MeshScatter{ArgType} where ArgType}, ::Attributes, ::Vector{Float64}, ::Vector{Float64}, ::Vector{Float64})",
      "    @ Makie.MakieLayout ~/.julia/packages/Makie/GTyed/src/makielayout/layoutables/axis3d.jl:272",
      " [23] plot!(::Type{MeshScatter{ArgType} where ArgType}, ::Axis3, ::Vector{Float64}, ::Vararg{Vector{Float64}, N} where N; kw_attributes::Base.Iterators.Pairs{Symbol, Any, Tuple{Symbol, Symbol}, NamedTuple{(:color, :marker), Tuple{String, GeometryBasics.Cylinder2{Float64}}}})",
      "    @ Makie.MakieLayout ~/.julia/packages/Makie/GTyed/src/makielayout/layoutables/axis3d.jl:285",
      " [24] meshscatter!(::Axis3, ::Vararg{Any, N} where N; attributes::Base.Iterators.Pairs{Symbol, Any, Tuple{Symbol, Symbol}, NamedTuple{(:color, :marker), Tuple{String, GeometryBasics.Cylinder2{Float64}}}})",
      "    @ MakieCore ~/.julia/packages/MakieCore/A0hGm/src/recipes.jl:37",
      " [25] plotCylinders(a::GridPosition, com::Community, direction::Matrix{Float64}, len::Symbol, radius::Symbol; factor::Int64)",
      "    @ AgentBasedModels ~/.julia/packages/AgentBasedModels/iMKfd/src/plotting/cylinders.jl:64",
      " [26] plotCylinders(a::GridPosition, com::Community, direction::Matrix{Float64}, len::Symbol, radius::Symbol)",
      "    @ AgentBasedModels ~/.julia/packages/AgentBasedModels/iMKfd/src/plotting/cylinders.jl:20",
      " [27] top-level scope",
      "    @ ./In[214]:11",
      " [28] eval",
      "    @ ./boot.jl:360 [inlined]",
      " [29] include_string(mapexpr::typeof(REPL.softscope), mod::Module, code::String, filename::String)",
      "    @ Base ./loading.jl:1116"
     ]
    }
   ],
   "source": [
    "t_list = [1,50,100]\n",
    "\n",
    "fig = Figure(resolution=(1000,1000))\n",
    "\n",
    "for (i,t) in enumerate(t_list)\n",
    "    dir = zeros(comt[1].N,2)\n",
    "    for i in 1:comt[t].N\n",
    "        dir[i,1] = cos(comt[t].theta[i])\n",
    "        dir[i,2] = sin(comt[t].theta[i])\n",
    "    end\n",
    "    ax = plotCylinders(fig[i,1],comt[t],dir,:l,:d)\n",
    "\n",
    "    xlims!(ax,-100,100)\n",
    "    ylims!(ax,-100,100)\n",
    "end\n",
    "\n",
    "fig"
   ]
  },
  {
   "cell_type": "code",
   "execution_count": 76,
   "metadata": {},
   "outputs": [
    {
     "data": {
      "text/plain": [
       "GLMakie.Screen(...)"
      ]
     },
     "execution_count": 76,
     "metadata": {},
     "output_type": "execute_result"
    }
   ],
   "source": [
    "save(\"bacteriesSimulation.png\",fig)"
   ]
  },
  {
   "cell_type": "markdown",
   "metadata": {},
   "source": [
    "## Benchmark"
   ]
  },
  {
   "cell_type": "code",
   "execution_count": 58,
   "metadata": {},
   "outputs": [],
   "source": [
    "N_list = [10,100,1000,10000]\n",
    "t_list = []\n",
    "\n",
    "for n in N_list\n",
    "\n",
    "    com = Community(model,N=n);\n",
    "\n",
    "    com.kn = 1.\n",
    "    com.γn = 1.\n",
    "    com.γt = 1.\n",
    "    com.μcc = 0.1\n",
    "    com.μcw = 0.8\n",
    "    com.β = 5.\n",
    "    com.βω = 1.\n",
    "\n",
    "    com.m .= 1.\n",
    "    com.d .= 1.\n",
    "    com.l .= 5.;\n",
    "\n",
    "    com.x = rand(Uniform(-n,n),com.N)\n",
    "    com.y = rand(Uniform(-n,n),com.N)\n",
    "    com.theta = rand(Uniform(-π/2,π/2),com.N);\n",
    "    \n",
    "    t = @benchmark comt = model.evolve(com,dt=0.1,tMax=10,dtSave=1);\n",
    "    \n",
    "    push!(t_list,t)\n",
    "end"
   ]
  },
  {
   "cell_type": "code",
   "execution_count": 59,
   "metadata": {},
   "outputs": [
    {
     "data": {
      "image/png": "[encoded data removed]",
      "text/plain": [
       "Figure()"
      ]
     },
     "execution_count": 59,
     "metadata": {},
     "output_type": "execute_result"
    }
   ],
   "source": [
    "fig = Figure()\n",
    "ax = Axis(fig[1,1])\n",
    "\n",
    "object = lines!(ax,N_list,[median(i.times) for i in t_list].*10^-9)\n",
    "\n",
    "Legend(fig[1,2],[object],[\"full gpu\"])\n",
    "ax.xscale = log10\n",
    "\n",
    "fig"
   ]
  },
  {
   "cell_type": "code",
   "execution_count": 61,
   "metadata": {},
   "outputs": [
    {
     "data": {
      "text/plain": [
       "GLMakie.Screen(...)"
      ]
     },
     "execution_count": 61,
     "metadata": {},
     "output_type": "execute_result"
    }
   ],
   "source": [
    "save(\"bacteria.png\",fig)"
   ]
  },
  {
   "cell_type": "markdown",
   "metadata": {},
   "source": [
    "# Second model: Growth"
   ]
  },
  {
   "cell_type": "code",
   "execution_count": 105,
   "metadata": {},
   "outputs": [],
   "source": [
    "model = @agent(2,\n",
    "            [vx,vy,theta,ω,d,l,m,I,Fx,Fy,W]::Local, #Local parameters\n",
    "            [kn,γn,γt,μcc,μcw,β,βω,growth,lMax]::Global,        #Global parameters\n",
    "            contact::Identity,\n",
    "\n",
    "            UpdateInteraction = begin\n",
    "                #Compute distance between centers of mass\n",
    "                dAux = sqrt((x.i-x.j)^2+(y.i-y.j)^2)\n",
    "                if dAux > 0 && dAux < (l.i+l.j)/2\n",
    "                    if abs(theta.i-theta.j)>0.001 #If not aligned\n",
    "                        #Compute intersecting point virtual spheres\n",
    "                        cxAux = (x.i-x.j)\n",
    "                        cyAux = (y.i-y.j)\n",
    "                        normAux = cos(theta.i)*sin(theta.j)-sin(theta.i)*cos(theta.j)\n",
    "                        scaleAux = (-sin(theta.j)*cxAux+cos(theta.j)*cyAux)/normAux\n",
    "                        pxAux = scaleAux*cos(theta.i)+x.i\n",
    "                        pyAux = scaleAux*sin(theta.i)+y.i\n",
    "                        \n",
    "                        #Compute distance fron mass center\n",
    "                        di = sqrt((x.i-pxAux)^2+(y.i-pyAux)^2)\n",
    "                        if di <= l.i/2 #Cross point in cylinder\n",
    "                            xiAux = 0.999*scaleAux*cos(theta.i)+x.i\n",
    "                            yiAux = 0.999*scaleAux*sin(theta.i)+y.i\n",
    "                            scaleAux = (-sin(theta.i)*cxAux+cos(theta.i)*cyAux)/normAux\n",
    "                            xjAux = 0.999*scaleAux*cos(theta.j)+x.j\n",
    "                            yjAux = 0.999*scaleAux*sin(theta.j)+y.j\n",
    "                        else #Cross point outside cylinder\n",
    "                            xiAux = l.i/2*cos(theta.i)+x.i\n",
    "                            yiAux = l.i/2*sin(theta.i)+y.i\n",
    "                            xjAux = l.j/2*cos(theta.j)+x.j\n",
    "                            yjAux = l.j/2*sin(theta.j)+y.j\n",
    "                        end\n",
    "                    else #If aligned\n",
    "                        xiAux = -0.49*(x.i-x.j)*cos(theta.i)+x.i\n",
    "                        yiAux = -0.49*(y.i-y.j)*sin(theta.i)+y.i\n",
    "                        xjAux = -0.49*(x.j-x.i)*cos(theta.j)+x.j\n",
    "                        yjAux = -0.49*(y.j-y.i)*sin(theta.j)+y.j         \n",
    "                    end\n",
    "\n",
    "                    #Compute distance between virtual spheres\n",
    "                    rij = sqrt((xiAux-xjAux)^2 +(yiAux-yjAux)^2)\n",
    "                    if rij > 0 && rij < d.i #If it is smaller than a diameter\n",
    "                        #Compute auxiliar\n",
    "                        δAux = d.i - rij\n",
    "                        MeAux = m.i/2\n",
    "                        #Compute interaction\n",
    "                        nijx = (xiAux-xjAux)/rij\n",
    "                        nijy = (yiAux-yjAux)/rij\n",
    "                        vijx = (vx.i-vx.j)\n",
    "                        vijy = (vy.i-vy.j)\n",
    "                        #Compute inner product\n",
    "                        vnAux = nijx*vijx+nijy*vijy\n",
    "                        #Compute normal and tangential forces\n",
    "                        FnAux = kn*δAux^1.5-γn*MeAux*δAux*vnAux\n",
    "                        FtAux = -min(γt*MeAux*δAux^.5,μcc*FnAux)\n",
    "                        #Append to interaction forces\n",
    "                        Fijx = FnAux*nijx + FtAux*(vijx-vnAux*nijx)\n",
    "                        Fijy = FnAux*nijy + FtAux*(vijy-vnAux*nijx)\n",
    "                        Fx.i += Fijx\n",
    "                        Fy.i += Fijy\n",
    "                        #Append radial forces\n",
    "                        W.i += (xiAux-x.i)*Fijy - (yiAux-y.i)*Fijx\n",
    "                    end\n",
    "                end\n",
    "            end,\n",
    "\n",
    "            Equation = begin\n",
    "                d(x) = vx*dt\n",
    "                d(y) = vy*dt\n",
    "                d(vx) = -β*vx*dt+Fx/m*dt\n",
    "                d(vy) = -β*vy*dt+Fy/m*dt\n",
    "                d(ω) = W/(m*(d+l)^2/12+m*d^2)*dt-βω*ω*dt\n",
    "                d(theta) = ω*dt\n",
    "                d(l) = growth*dt\n",
    "            end,\n",
    "\n",
    "            UpdateLocal = begin #Bound cells\n",
    "                if theta < -π/2\n",
    "                    theta += π\n",
    "                elseif theta > π/2\n",
    "                    theta -= π\n",
    "                end\n",
    "        \n",
    "                #Add division\n",
    "                if l > lMax && N < 2\n",
    "                    addAgent(\n",
    "                            x=l/5*cos(theta)+x,\n",
    "                            y=l/5*sin(theta)+y,\n",
    "                            l=l/2,\n",
    "                            vx = vx,\n",
    "                            vy = vy,\n",
    "                            theta = theta+Uniform(-.1,.1),\n",
    "                            ω = 0,\n",
    "                            d = d,\n",
    "                            m = m,\n",
    "                            I = I,\n",
    "                            Fx = 0,\n",
    "                            Fy = 0,\n",
    "                            W = 0,\n",
    "                            contact = 1)\n",
    "                    addAgent(\n",
    "                            x=-l/5*cos(theta)+x,\n",
    "                            y=-l/5*sin(theta)+y,\n",
    "                            l=l/2,\n",
    "                            vx = vx,\n",
    "                            vy = vy,\n",
    "                            theta = theta+Uniform(-.1,.1),\n",
    "                            ω = 0,\n",
    "                            d = d,\n",
    "                            m = m,\n",
    "                            I = I,\n",
    "                            Fx = 0,\n",
    "                            Fy = 0,\n",
    "                            W = 0,\n",
    "                            contact = 1)\n",
    "                    removeAgent()\n",
    "                end\n",
    "            end\n",
    "    );\n",
    "\n",
    "model = compile(model,integrator=\"Euler\",platform=\"cpu\");\n",
    "#model.program"
   ]
  },
  {
   "cell_type": "code",
   "execution_count": 106,
   "metadata": {},
   "outputs": [],
   "source": [
    "com = Community(model,N=1);\n",
    "\n",
    "com.kn = 1.\n",
    "com.γn = 1.\n",
    "com.γt = 1.\n",
    "com.μcc = 0.1\n",
    "com.μcw = 0.8\n",
    "com.β = 1.\n",
    "com.βω = 5.\n",
    "com.growth = 0.001\n",
    "com.lMax = 6\n",
    "\n",
    "com.m .= 1.\n",
    "com.d .= 1.\n",
    "com.l .= 5.;\n",
    "\n",
    "com.x .= 0\n",
    "com.y .= 0\n",
    "com.theta = rand(Uniform(-π/2,π/2),com.N);"
   ]
  },
  {
   "cell_type": "code",
   "execution_count": 107,
   "metadata": {},
   "outputs": [],
   "source": [
    "comt = model.evolve(com,dt=0.1,nMax=1000,tMax=5000,dtSave=10);"
   ]
  },
  {
   "cell_type": "code",
   "execution_count": 110,
   "metadata": {},
   "outputs": [
    {
     "data": {
      "image/png": "[encoded data removed]",
      "text/plain": [
       "Figure()"
      ]
     },
     "execution_count": 110,
     "metadata": {},
     "output_type": "execute_result"
    }
   ],
   "source": [
    "t_list = [1,120]\n",
    "\n",
    "fig = Figure(resolution=(1000,1000))\n",
    "\n",
    "for (i,t) in enumerate(t_list)\n",
    "    dir = zeros(comt[t].N,2)\n",
    "    for i in 1:comt[t].N\n",
    "        dir[i,1] = cos(comt[t].theta[i])\n",
    "        dir[i,2] = sin(comt[t].theta[i])\n",
    "    end\n",
    "    ax = plotCylinders(fig[i,1],comt[t],dir,:l,:d)\n",
    "\n",
    "    xlims!(ax,-10,10)\n",
    "    ylims!(ax,-10,10)\n",
    "end\n",
    "\n",
    "fig"
   ]
  },
  {
   "cell_type": "markdown",
   "metadata": {},
   "source": [
    "# Third model"
   ]
  },
  {
   "cell_type": "code",
   "execution_count": 6,
   "metadata": {},
   "outputs": [
    {
     "ename": "LoadError",
     "evalue": "LoadError: UndefVarError: @agent not defined\nin expression starting at In[6]:1",
     "output_type": "error",
     "traceback": [
      "LoadError: UndefVarError: @agent not defined\nin expression starting at In[6]:1",
      "",
      "Stacktrace:",
      " [1] top-level scope",
      "   @ :0",
      " [2] eval",
      "   @ ./boot.jl:360 [inlined]",
      " [3] include_string(mapexpr::typeof(REPL.softscope), mod::Module, code::String, filename::String)",
      "   @ Base ./loading.jl:1116"
     ]
    }
   ],
   "source": [
    "model = @agent(2,\n",
    "            [gₖ,gₗ,C,Vₖ₀,Vₗ₀,δₖ,δₗ,Sₜₕ,Vₜₕ,α₀,β,m,σ,γₛ,αₛ,η,ϵ,βₖ,V₀,αₑ,γₑ,E₀,q,Kₑ,αₖ,βₖ,Dₖ]::Global,  #Global parameters\n",
    "            [V,n,S,Ki,E]::Local, #Bichemical variables\n",
    "            [VK,VL,P]::Local,    #Biochemical parameters\n",
    "\n",
    "            Ke::Medium,\n",
    "\n",
    "            UpdateLocal = begin\n",
    "                VK = Vₖ₀+δₖ*(Kₑ+K)       #Resting potential\n",
    "                VL = Vₗ₀+δₗ*(Kₑ+K)       #Resting potential\n",
    "                P = Ke^q/((E-E₀)^q+Kₑ^q) #Tumbling dynamics\n",
    "            end;\n",
    "\n",
    "            Equation = begin #Eqautions of the chemical\n",
    "                d_V = (-gₖ*n^4*(V-Vₖ)-gₗ*(V-Vₗ))/(η*C)*dt         #Membrane potential\n",
    "                d_n = (α₀S^m/(Sₜₕ^m+S^m)*(1-n)-β*n)/η*dt          #Potasium levels\n",
    "                d_S = (αₛ*(Vₜₕ-V)/(exp((Vₜₕ-V)/σ)-1)-γₛ*S)/η*dt   #Stress\n",
    "                d_Ki = (-ϵ*gₖ*n^4*(V-Vₖ)+βₖ*max((V₀-V),0))*dt     #Intrecellular potassium\n",
    "                d_E = (-αₑ*V-γₑ*E)*dt                             #Energy\n",
    "            end;\n",
    "\n",
    "            UpdateMedium = begin\n",
    "                ∂t_Ke = δx(x)+Dₖ*(Δx(Ke)+Δx(Ke)) #Difussion model\n",
    "            end\n",
    ")"
   ]
  },
  {
   "cell_type": "code",
   "execution_count": null,
   "metadata": {},
   "outputs": [],
   "source": []
  }
 ],
 "metadata": {
  "kernelspec": {
   "display_name": "Julia 1.6.3",
   "language": "julia",
   "name": "julia-1.6"
  },
  "language_info": {
   "file_extension": ".jl",
   "mimetype": "application/julia",
   "name": "julia",
   "version": "1.6.5"
  }
 },
 "nbformat": 4,
 "nbformat_minor": 4
}
