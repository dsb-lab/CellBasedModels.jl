{
 "cells": [
  {
   "attachments": {},
   "cell_type": "markdown",
   "metadata": {},
   "source": [
    "# [Bacterial Colony Growth](@id Bacteries)\n",
    "\n",
    "In this example, we are going to create a bacterial model and grow a colony using it.\n",
    "\n",
    " - The implementation of the force interaction dynamics is the one presented by [Volfson et al. (2008)](https://www.pnas.org/doi/abs/10.1073/pnas.0706805105)\n",
    " - We use GPU accelerated dynamics\n",
    "\n",
    "As described in other models, it is advised that the models are constructed by parts to avoid having to find bugs in a very complex system. Hence, we will split the model in two parts:\n",
    "\n",
    " - Forces model\n",
    " - Growth model"
   ]
  },
  {
   "cell_type": "markdown",
   "metadata": {},
   "source": [
    "## Load the packages"
   ]
  },
  {
   "cell_type": "code",
   "execution_count": 6,
   "metadata": {},
   "outputs": [],
   "source": [
    "using CellBasedModels\n",
    "using CUDA\n",
    "using Distributions\n",
    "using GLMakie #Can be changes to Cairo or CLMakie\n",
    "using GeometryBasics\n",
    "Makie.inline!(true);"
   ]
  },
  {
   "attachments": {},
   "cell_type": "markdown",
   "metadata": {},
   "source": [
    "## Forces model\n",
    "\n",
    "We already use the defined forces model that is implemented in CBMModels. This is an exact copy of the rod model that you can find already predefined in `Models/rods.jl`. You can check the `Models` section of the documentation for more details.\n"
   ]
  },
  {
   "cell_type": "code",
   "execution_count": 7,
   "metadata": {},
   "outputs": [],
   "source": [
    "rod2D = ABM(2,\n",
    "    agent = Dict(\n",
    "            :vx=>Float64,\n",
    "            :vy=>Float64,\n",
    "            :theta=>Float64,\n",
    "            :ω=>Float64,\n",
    "            :d=>Float64,\n",
    "            :l=>Float64,\n",
    "            :m=>Float64,\n",
    "            :fx=>Float64,\n",
    "            :fy=>Float64,\n",
    "            :W=>Float64,\n",
    "            :pressure=>Float64\n",
    "        ),    #Local Interaction Parameters\n",
    "\n",
    "    model = Dict(\n",
    "            :kn=>Float64,\n",
    "            :γn=>Float64,\n",
    "            :γt=>Float64,\n",
    "            :μcc=>Float64,\n",
    "            :μcw=>Float64,\n",
    "            :β=>Float64,\n",
    "            :βω=>Float64\n",
    "        ),        #Global parameters\n",
    "\n",
    "    agentODE = quote\n",
    "\n",
    "        fx = 0\n",
    "        fy = 0\n",
    "        W = 0\n",
    "        pressure = 0\n",
    "        @loopOverNeighbors i2 begin\n",
    "\n",
    "            #Use the model provided in the documentation\n",
    "            Fijx, Fijy, Wij = CBMModels.rodForces(\n",
    "                                    x,y,d,l,theta,vx,vy,m,\n",
    "                                    x[i2],y[i2],d[i2],l[i2],theta[i2],vx[i2],vy[i2],m[i2],\n",
    "                                    kn,γn,γt,μcc,μcw\n",
    "                                )\n",
    "\n",
    "            #Append the interaction forces\n",
    "            fx += Fijx\n",
    "            fy += Fijy\n",
    "            #Append radial forces\n",
    "            W += Wij\n",
    "            #Keep track of preassure in the media\n",
    "            pressure += sqrt(Fijx^2+Fijy^2)\n",
    "            \n",
    "        end\n",
    "\n",
    "        #Equations\n",
    "        dt(x) =  vx \n",
    "        dt(y) =  vy \n",
    "        dt(vx) =  -β*vx+fx/m \n",
    "        dt(vy) =  -β*vy+fy/m \n",
    "        dt(theta) =  ω \n",
    "        dt(ω) =  W/(m*(d+l)^2/12+m*d^2)-βω*ω \n",
    "        \n",
    "    end,\n",
    "\n",
    "    neighborsAlg=CBMNeighbors.CellLinked(cellEdge=4),\n",
    "    platform=GPU(),\n",
    "    agentAlg = CBMIntegrators.Heun()\n",
    ");\n"
   ]
  },
  {
   "attachments": {},
   "cell_type": "markdown",
   "metadata": {},
   "source": [
    "### Initialize a community with two bacteries and check forces"
   ]
  },
  {
   "cell_type": "code",
   "execution_count": 43,
   "metadata": {},
   "outputs": [],
   "source": [
    "com = Community(rod2D,\n",
    "            N=2,\n",
    "            dt=0.1,\n",
    "            simBox = [-20 20;-20 20.],\n",
    "            );\n",
    "\n",
    "#Natural units scales\n",
    "m = 1/100\n",
    "g = 1/10000\n",
    "d = 1\n",
    "#Model constants\n",
    "com.kn = 2E6      * (m*g/d)\n",
    "com.γn = 2.2E2    * sqrt(g/d)\n",
    "com.γt = 2.2E2    * sqrt(g/d)\n",
    "com.μcc = 0.1\n",
    "com.μcw = 0.8\n",
    "com.β = .8\n",
    "com.βω = .8\n",
    "#Agent parameters\n",
    "com.m = 1\n",
    "com.d = 1\n",
    "com.l = 3;\n",
    "    # You can play to put different positions and angles here and see the behaviour of the interacting bacteries\n",
    "com.x = [0.,1]\n",
    "com.y = [0.,1]\n",
    "com.theta = [0,π/2];"
   ]
  },
  {
   "cell_type": "code",
   "execution_count": 44,
   "metadata": {},
   "outputs": [],
   "source": [
    "evolve!(com,steps=50,saveEach=1,preallocateAgents=0)"
   ]
  },
  {
   "cell_type": "code",
   "execution_count": 45,
   "metadata": {},
   "outputs": [],
   "source": [
    "function CBMPlots.plotRods2D!(ax, x, y, d, l, angle; kargs...)\n",
    "\n",
    "    Main.meshscatter!(ax,\n",
    "                x.+l./2 .*cos.(angle),\n",
    "                y.+l./2 .*sin.(angle),\n",
    "                marker=GeometryBasics.Sphere(Point3f0(0,0,0.),Float32(1)),\n",
    "                markersize=[\n",
    "                    Point3f0(i/2,i/2,0)\n",
    "                    for i in d\n",
    "                ];\n",
    "                kargs...\n",
    "            )\n",
    "\n",
    "    Main.meshscatter!(ax,\n",
    "                x.-l./2 .*cos.(angle),\n",
    "                y.-l./2 .*sin.(angle),\n",
    "                marker=GeometryBasics.Sphere(Point3f0(0,0,0),Float32(1)),\n",
    "                markersize=[\n",
    "                    Point3f0(i/2,i/2,0)\n",
    "                    for i in d\n",
    "                ];\n",
    "                kargs...\n",
    "            )\n",
    "            \n",
    "    Main.meshscatter!(ax,\n",
    "                x,\n",
    "                y,\n",
    "                marker=GeometryBasics.Cylinder(Point3f0(-.5,0,0),Point3f0(.5,0,0),Float32(1)),\n",
    "                markersize=[Point3f0(ll,dd/2,dd/2) for (ll,dd) in zip(l,d)],\n",
    "                rotations=angle;\n",
    "                kargs...\n",
    "            )\n",
    "\n",
    "    return\n",
    "\n",
    "end\n"
   ]
  },
  {
   "cell_type": "code",
   "execution_count": 46,
   "metadata": {},
   "outputs": [
    {
     "data": {
      "image/png": "[encoded data removed]"
     },
     "metadata": {},
     "output_type": "display_data"
    }
   ],
   "source": [
    "fig = Figure(resolution=(1500,300))\n",
    "\n",
    "for (i,j) in enumerate([1:round(Int,length(com)/4):length(com);length(com)])\n",
    "    ax = Axis3(fig[1,i],\n",
    "                azimuth=3*π/2,\n",
    "                elevation=π/2,\n",
    "                zlabelvisible=false,\n",
    "                zticklabelsvisible=false,\n",
    "                zgridvisible=false,\n",
    "                zspinesvisible=false\n",
    "            )\n",
    "\n",
    "    CBMPlots.plotRods2D!(ax,com[j][:x],com[j][:y],com[j][:d],com[j][:l],com[j][:theta],color=[:red,:blue])\n",
    "    xlims!(-5,5)\n",
    "    ylims!(-5,5)\n",
    "end\n",
    "\n",
    "display(fig)"
   ]
  },
  {
   "attachments": {},
   "cell_type": "markdown",
   "metadata": {},
   "source": [
    "## Growth model\n",
    "\n",
    "We construct over the forces model to add bacterial growth and cell division rules."
   ]
  },
  {
   "cell_type": "code",
   "execution_count": 47,
   "metadata": {},
   "outputs": [],
   "source": [
    "rods2dGrowth = ABM(2,\n",
    "    baseModelInit = [rod2D],\n",
    "\n",
    "    agent = Dict(\n",
    "                :lTarget => Float64\n",
    "            ),\n",
    "\n",
    "    model = Dict(\n",
    "                :growth=>Float64,\n",
    "                :σlTarget=>Float64,\n",
    "                :lMax=>Float64,\n",
    "                :α=>Float64\n",
    "            ),\n",
    "\n",
    "    agentODE = quote\n",
    "        dt(l) = growth/(1+α*pressure) #linear growth with growth dependent on the pressure over the cell\n",
    "    end,\n",
    "\n",
    "    agentRule = quote #Bound cells\n",
    "        #Add division\n",
    "        if l > lTarget\n",
    "            ww = CBMDistributions.uniform(-.1,.1) #To add some random torque at division time\n",
    "            #Add a new cell\n",
    "            @addAgent(\n",
    "                    x=(l+d)/4*cos(theta)+x,\n",
    "                    y=(l+d)/4*sin(theta)+y,\n",
    "                    l=(l-d)/2,\n",
    "                    ω = ww,\n",
    "                    lTarget = CBMDistributions.uniform(lMax-σlTarget,lMax+σlTarget) #New target length at which the bactery should divide\n",
    "                    )\n",
    "            #Add a second cell\n",
    "            @addAgent(\n",
    "                    x=-(l+d)/4*cos(theta)+x,\n",
    "                    y=-(l+d)/4*sin(theta)+y,\n",
    "                    l=(l-d)/2,\n",
    "                    ω = -ww,\n",
    "                    lTarget = CBMDistributions.uniform(lMax-σlTarget,lMax+σlTarget) #New target length at which the bactery should divide\n",
    "                    )\n",
    "            #Remove the old cell\n",
    "            @removeAgent()\n",
    "        end\n",
    "    end,\n",
    "\n",
    "    neighborsAlg=CBMNeighbors.CellLinked(cellEdge=4),\n",
    "    platform=GPU(),\n",
    "    agentAlg=CBMIntegrators.Heun()\n",
    ");"
   ]
  },
  {
   "cell_type": "markdown",
   "metadata": {},
   "source": [
    "## Grow colony from one cell"
   ]
  },
  {
   "cell_type": "code",
   "execution_count": 56,
   "metadata": {},
   "outputs": [],
   "source": [
    "com = Community(rods2dGrowth,\n",
    "            N=1,\n",
    "            dt=0.1,\n",
    "            simBox = [-100 100;-100 100.],\n",
    "            );\n",
    "\n",
    "m = 1/100\n",
    "g = 1/10000\n",
    "d = 1\n",
    "com.kn = 2E6      * (m*g/d)\n",
    "com.γn = 2.2E2    * sqrt(g/d)\n",
    "com.γt = 2.2E2    * sqrt(g/d)\n",
    "com.μcc = 0.1\n",
    "com.μcw = 0.8\n",
    "com.β = .8\n",
    "com.βω = .8\n",
    "com.growth = 1E-6 * (sqrt(g*d)) *100000\n",
    "com.lMax = 3.     \n",
    "com.σlTarget = .2 \n",
    "com.α = 50\n",
    "\n",
    "com.m = 1.        \n",
    "com.d = 1.        \n",
    "com.l = 2.99      \n",
    "com.lTarget = 3.  \n",
    "\n",
    "com.x = 0\n",
    "com.y = 0\n",
    "com.theta = 0;"
   ]
  },
  {
   "cell_type": "code",
   "execution_count": 57,
   "metadata": {},
   "outputs": [
    {
     "name": "stdout",
     "output_type": "stream",
     "text": [
      "Step: 1000\n"
     ]
    },
    {
     "name": "stdout",
     "output_type": "stream",
     "text": [
      "Step: 2000\n"
     ]
    },
    {
     "name": "stdout",
     "output_type": "stream",
     "text": [
      "Step: 3000\n"
     ]
    },
    {
     "name": "stdout",
     "output_type": "stream",
     "text": [
      "Step: 4000\n"
     ]
    },
    {
     "name": "stdout",
     "output_type": "stream",
     "text": [
      "Step: 5000\n"
     ]
    },
    {
     "name": "stdout",
     "output_type": "stream",
     "text": [
      "Step: 6000\n"
     ]
    },
    {
     "name": "stdout",
     "output_type": "stream",
     "text": [
      "Step: 7000\n"
     ]
    },
    {
     "name": "stdout",
     "output_type": "stream",
     "text": [
      "Step: 8000\n"
     ]
    },
    {
     "name": "stdout",
     "output_type": "stream",
     "text": [
      "Step: 9000\n"
     ]
    },
    {
     "name": "stdout",
     "output_type": "stream",
     "text": [
      "Step: 10000\n"
     ]
    },
    {
     "name": "stdout",
     "output_type": "stream",
     "text": [
      "Step: 11000\n"
     ]
    },
    {
     "name": "stdout",
     "output_type": "stream",
     "text": [
      "Step: 12000\n"
     ]
    },
    {
     "name": "stdout",
     "output_type": "stream",
     "text": [
      "Step: 13000\n"
     ]
    },
    {
     "name": "stdout",
     "output_type": "stream",
     "text": [
      "Step: 14000\n"
     ]
    },
    {
     "name": "stdout",
     "output_type": "stream",
     "text": [
      "Step: 15000\n"
     ]
    },
    {
     "name": "stdout",
     "output_type": "stream",
     "text": [
      "Step: 16000\n"
     ]
    },
    {
     "name": "stdout",
     "output_type": "stream",
     "text": [
      "Step: 17000\n"
     ]
    },
    {
     "name": "stdout",
     "output_type": "stream",
     "text": [
      "Step: 18000\n"
     ]
    },
    {
     "name": "stdout",
     "output_type": "stream",
     "text": [
      "Step: 19000\n"
     ]
    },
    {
     "name": "stdout",
     "output_type": "stream",
     "text": [
      "Step: 20000\n"
     ]
    },
    {
     "name": "stdout",
     "output_type": "stream",
     "text": [
      "Step: 21000\n"
     ]
    },
    {
     "name": "stdout",
     "output_type": "stream",
     "text": [
      "Step: 22000\n"
     ]
    },
    {
     "name": "stdout",
     "output_type": "stream",
     "text": [
      "Step: 23000\n"
     ]
    },
    {
     "name": "stdout",
     "output_type": "stream",
     "text": [
      "Step: 24000\n"
     ]
    },
    {
     "name": "stdout",
     "output_type": "stream",
     "text": [
      "Step: 25000\n"
     ]
    },
    {
     "name": "stdout",
     "output_type": "stream",
     "text": [
      "Step: 26000\n"
     ]
    },
    {
     "name": "stdout",
     "output_type": "stream",
     "text": [
      "Step: 27000\n"
     ]
    },
    {
     "name": "stdout",
     "output_type": "stream",
     "text": [
      "Step: 28000\n"
     ]
    },
    {
     "name": "stdout",
     "output_type": "stream",
     "text": [
      "Step: 29000\n"
     ]
    },
    {
     "name": "stdout",
     "output_type": "stream",
     "text": [
      "Step: 30000\n"
     ]
    },
    {
     "name": "stdout",
     "output_type": "stream",
     "text": [
      "Step: 31000\n"
     ]
    },
    {
     "name": "stdout",
     "output_type": "stream",
     "text": [
      "Step: 32000\n"
     ]
    },
    {
     "name": "stdout",
     "output_type": "stream",
     "text": [
      "Step: 33000\n"
     ]
    },
    {
     "name": "stdout",
     "output_type": "stream",
     "text": [
      "Step: 34000\n"
     ]
    },
    {
     "name": "stdout",
     "output_type": "stream",
     "text": [
      "Step: 35000\n"
     ]
    },
    {
     "name": "stdout",
     "output_type": "stream",
     "text": [
      "Step: 36000\n"
     ]
    },
    {
     "name": "stdout",
     "output_type": "stream",
     "text": [
      "Step: 37000\n"
     ]
    },
    {
     "name": "stdout",
     "output_type": "stream",
     "text": [
      "Step: 38000\n"
     ]
    },
    {
     "name": "stdout",
     "output_type": "stream",
     "text": [
      "Step: 39000\n"
     ]
    },
    {
     "name": "stdout",
     "output_type": "stream",
     "text": [
      "Step: 40000\n"
     ]
    },
    {
     "name": "stdout",
     "output_type": "stream",
     "text": [
      "Step: 41000\n"
     ]
    },
    {
     "name": "stdout",
     "output_type": "stream",
     "text": [
      "Step: 42000\n"
     ]
    },
    {
     "name": "stdout",
     "output_type": "stream",
     "text": [
      "Step: 43000\n"
     ]
    },
    {
     "name": "stdout",
     "output_type": "stream",
     "text": [
      "Step: 44000\n"
     ]
    },
    {
     "name": "stdout",
     "output_type": "stream",
     "text": [
      "Step: 45000\n"
     ]
    },
    {
     "name": "stdout",
     "output_type": "stream",
     "text": [
      "Step: 46000\n"
     ]
    },
    {
     "name": "stdout",
     "output_type": "stream",
     "text": [
      "Step: 47000\n"
     ]
    },
    {
     "name": "stdout",
     "output_type": "stream",
     "text": [
      "Step: 48000\n"
     ]
    },
    {
     "name": "stdout",
     "output_type": "stream",
     "text": [
      "Step: 49000\n"
     ]
    },
    {
     "name": "stdout",
     "output_type": "stream",
     "text": [
      "Step: 50000\n"
     ]
    },
    {
     "name": "stdout",
     "output_type": "stream",
     "text": [
      "Step: 51000\n"
     ]
    },
    {
     "name": "stdout",
     "output_type": "stream",
     "text": [
      "Step: 52000\n"
     ]
    },
    {
     "name": "stdout",
     "output_type": "stream",
     "text": [
      "Step: 53000\n"
     ]
    },
    {
     "name": "stdout",
     "output_type": "stream",
     "text": [
      "Step: 54000\n"
     ]
    },
    {
     "name": "stdout",
     "output_type": "stream",
     "text": [
      "Step: 55000\n"
     ]
    },
    {
     "name": "stdout",
     "output_type": "stream",
     "text": [
      "Step: 56000\n"
     ]
    },
    {
     "name": "stdout",
     "output_type": "stream",
     "text": [
      "Step: 57000\n"
     ]
    },
    {
     "name": "stdout",
     "output_type": "stream",
     "text": [
      "Step: 58000\n"
     ]
    },
    {
     "name": "stdout",
     "output_type": "stream",
     "text": [
      "Step: 59000\n"
     ]
    },
    {
     "name": "stdout",
     "output_type": "stream",
     "text": [
      "Step: 60000\n"
     ]
    },
    {
     "name": "stdout",
     "output_type": "stream",
     "text": [
      "Step: 61000\n"
     ]
    },
    {
     "name": "stdout",
     "output_type": "stream",
     "text": [
      "Step: 62000\n"
     ]
    },
    {
     "name": "stdout",
     "output_type": "stream",
     "text": [
      "Step: 63000\n"
     ]
    },
    {
     "name": "stdout",
     "output_type": "stream",
     "text": [
      "Step: 64000\n"
     ]
    },
    {
     "name": "stdout",
     "output_type": "stream",
     "text": [
      "Step: 65000\n"
     ]
    },
    {
     "name": "stdout",
     "output_type": "stream",
     "text": [
      "Step: 66000\n"
     ]
    },
    {
     "name": "stdout",
     "output_type": "stream",
     "text": [
      "Step: 67000\n"
     ]
    },
    {
     "name": "stdout",
     "output_type": "stream",
     "text": [
      "Step: 68000\n"
     ]
    },
    {
     "name": "stdout",
     "output_type": "stream",
     "text": [
      "Step: 69000\n"
     ]
    },
    {
     "name": "stdout",
     "output_type": "stream",
     "text": [
      "Step: 70000\n"
     ]
    },
    {
     "name": "stdout",
     "output_type": "stream",
     "text": [
      "Step: 71000\n"
     ]
    },
    {
     "name": "stdout",
     "output_type": "stream",
     "text": [
      "Step: 72000\n"
     ]
    },
    {
     "name": "stdout",
     "output_type": "stream",
     "text": [
      "Step: 73000\n"
     ]
    },
    {
     "name": "stdout",
     "output_type": "stream",
     "text": [
      "Step: 74000\n"
     ]
    },
    {
     "name": "stdout",
     "output_type": "stream",
     "text": [
      "Step: 75000\n"
     ]
    },
    {
     "name": "stdout",
     "output_type": "stream",
     "text": [
      "Step: 76000\n"
     ]
    },
    {
     "name": "stdout",
     "output_type": "stream",
     "text": [
      "Step: 77000\n"
     ]
    },
    {
     "name": "stdout",
     "output_type": "stream",
     "text": [
      "Step: 78000\n"
     ]
    },
    {
     "name": "stdout",
     "output_type": "stream",
     "text": [
      "Step: 79000\n"
     ]
    },
    {
     "name": "stdout",
     "output_type": "stream",
     "text": [
      "Step: 80000\n"
     ]
    },
    {
     "name": "stdout",
     "output_type": "stream",
     "text": [
      "Step: 81000\n"
     ]
    },
    {
     "name": "stdout",
     "output_type": "stream",
     "text": [
      "Step: 82000\n"
     ]
    },
    {
     "name": "stdout",
     "output_type": "stream",
     "text": [
      "Step: 83000\n"
     ]
    },
    {
     "name": "stdout",
     "output_type": "stream",
     "text": [
      "Step: 84000\n"
     ]
    },
    {
     "name": "stdout",
     "output_type": "stream",
     "text": [
      "Step: 85000\n"
     ]
    },
    {
     "name": "stdout",
     "output_type": "stream",
     "text": [
      "Step: 86000\n"
     ]
    },
    {
     "name": "stdout",
     "output_type": "stream",
     "text": [
      "Step: 87000\n"
     ]
    },
    {
     "name": "stdout",
     "output_type": "stream",
     "text": [
      "Step: 88000\n"
     ]
    },
    {
     "name": "stdout",
     "output_type": "stream",
     "text": [
      "Step: 89000\n"
     ]
    },
    {
     "name": "stdout",
     "output_type": "stream",
     "text": [
      "Step: 90000\n"
     ]
    },
    {
     "name": "stdout",
     "output_type": "stream",
     "text": [
      "Step: 91000\n"
     ]
    },
    {
     "name": "stdout",
     "output_type": "stream",
     "text": [
      "Step: 92000\n"
     ]
    },
    {
     "name": "stdout",
     "output_type": "stream",
     "text": [
      "Step: 93000\n"
     ]
    },
    {
     "name": "stdout",
     "output_type": "stream",
     "text": [
      "Step: 94000\n"
     ]
    },
    {
     "name": "stdout",
     "output_type": "stream",
     "text": [
      "Step: 95000\n"
     ]
    },
    {
     "name": "stdout",
     "output_type": "stream",
     "text": [
      "Step: 96000\n"
     ]
    },
    {
     "name": "stdout",
     "output_type": "stream",
     "text": [
      "Step: 97000\n"
     ]
    },
    {
     "name": "stdout",
     "output_type": "stream",
     "text": [
      "Step: 98000\n"
     ]
    },
    {
     "name": "stdout",
     "output_type": "stream",
     "text": [
      "Step: 99000\n"
     ]
    },
    {
     "name": "stdout",
     "output_type": "stream",
     "text": [
      "Step: 100000\n"
     ]
    },
    {
     "name": "stdout",
     "output_type": "stream",
     "text": [
      "Step: 101000\n"
     ]
    },
    {
     "name": "stdout",
     "output_type": "stream",
     "text": [
      "Step: 102000\n"
     ]
    },
    {
     "name": "stdout",
     "output_type": "stream",
     "text": [
      "Step: 103000\n"
     ]
    },
    {
     "name": "stdout",
     "output_type": "stream",
     "text": [
      "Step: 104000\n"
     ]
    },
    {
     "name": "stdout",
     "output_type": "stream",
     "text": [
      "Step: 105000\n"
     ]
    },
    {
     "name": "stdout",
     "output_type": "stream",
     "text": [
      "Step: 106000\n"
     ]
    },
    {
     "name": "stdout",
     "output_type": "stream",
     "text": [
      "Step: 107000\n"
     ]
    },
    {
     "name": "stdout",
     "output_type": "stream",
     "text": [
      "Step: 108000\n"
     ]
    },
    {
     "name": "stdout",
     "output_type": "stream",
     "text": [
      "Step: 109000\n"
     ]
    },
    {
     "name": "stdout",
     "output_type": "stream",
     "text": [
      "Step: 110000\n"
     ]
    },
    {
     "name": "stdout",
     "output_type": "stream",
     "text": [
      "Step: 111000\n"
     ]
    },
    {
     "name": "stdout",
     "output_type": "stream",
     "text": [
      "Step: 112000\n"
     ]
    },
    {
     "name": "stdout",
     "output_type": "stream",
     "text": [
      "Step: 113000\n"
     ]
    },
    {
     "name": "stdout",
     "output_type": "stream",
     "text": [
      "Step: 114000\n"
     ]
    },
    {
     "name": "stdout",
     "output_type": "stream",
     "text": [
      "Step: 115000\n"
     ]
    },
    {
     "name": "stdout",
     "output_type": "stream",
     "text": [
      "Step: 116000\n"
     ]
    },
    {
     "name": "stdout",
     "output_type": "stream",
     "text": [
      "Step: 117000\n"
     ]
    },
    {
     "name": "stdout",
     "output_type": "stream",
     "text": [
      "Step: 118000\n"
     ]
    },
    {
     "name": "stdout",
     "output_type": "stream",
     "text": [
      "Step: 119000\n"
     ]
    },
    {
     "name": "stdout",
     "output_type": "stream",
     "text": [
      "Step: 120000\n"
     ]
    },
    {
     "name": "stdout",
     "output_type": "stream",
     "text": [
      "Step: 121000\n"
     ]
    },
    {
     "name": "stdout",
     "output_type": "stream",
     "text": [
      "Step: 122000\n"
     ]
    },
    {
     "name": "stdout",
     "output_type": "stream",
     "text": [
      "Step: 123000\n"
     ]
    },
    {
     "name": "stdout",
     "output_type": "stream",
     "text": [
      "Step: 124000\n"
     ]
    },
    {
     "name": "stdout",
     "output_type": "stream",
     "text": [
      "Step: 125000\n"
     ]
    },
    {
     "name": "stdout",
     "output_type": "stream",
     "text": [
      "Step: 126000\n"
     ]
    },
    {
     "name": "stdout",
     "output_type": "stream",
     "text": [
      "Step: 127000\n"
     ]
    },
    {
     "name": "stdout",
     "output_type": "stream",
     "text": [
      "Step: 128000\n"
     ]
    },
    {
     "name": "stdout",
     "output_type": "stream",
     "text": [
      "Step: 129000\n"
     ]
    },
    {
     "name": "stdout",
     "output_type": "stream",
     "text": [
      "Step: 130000\n"
     ]
    },
    {
     "name": "stdout",
     "output_type": "stream",
     "text": [
      "Step: 131000\n"
     ]
    },
    {
     "name": "stdout",
     "output_type": "stream",
     "text": [
      "Step: 132000\n"
     ]
    },
    {
     "name": "stdout",
     "output_type": "stream",
     "text": [
      "Step: 133000\n"
     ]
    },
    {
     "name": "stdout",
     "output_type": "stream",
     "text": [
      "Step: 134000\n"
     ]
    },
    {
     "name": "stdout",
     "output_type": "stream",
     "text": [
      "Step: 135000\n"
     ]
    },
    {
     "name": "stdout",
     "output_type": "stream",
     "text": [
      "Step: 136000\n"
     ]
    },
    {
     "name": "stdout",
     "output_type": "stream",
     "text": [
      "Step: 137000\n"
     ]
    },
    {
     "name": "stdout",
     "output_type": "stream",
     "text": [
      "Step: 138000\n"
     ]
    },
    {
     "name": "stdout",
     "output_type": "stream",
     "text": [
      "Step: 139000\n"
     ]
    },
    {
     "name": "stdout",
     "output_type": "stream",
     "text": [
      "Step: 140000\n"
     ]
    },
    {
     "name": "stdout",
     "output_type": "stream",
     "text": [
      "Step: 141000\n"
     ]
    },
    {
     "name": "stdout",
     "output_type": "stream",
     "text": [
      "Step: 142000\n"
     ]
    },
    {
     "name": "stdout",
     "output_type": "stream",
     "text": [
      "Step: 143000\n"
     ]
    },
    {
     "name": "stdout",
     "output_type": "stream",
     "text": [
      "Step: 144000\n"
     ]
    },
    {
     "name": "stdout",
     "output_type": "stream",
     "text": [
      "Step: 145000\n"
     ]
    },
    {
     "name": "stdout",
     "output_type": "stream",
     "text": [
      "Step: 146000\n"
     ]
    },
    {
     "name": "stdout",
     "output_type": "stream",
     "text": [
      "Step: 147000\n"
     ]
    },
    {
     "name": "stdout",
     "output_type": "stream",
     "text": [
      "Step: 148000\n"
     ]
    },
    {
     "name": "stdout",
     "output_type": "stream",
     "text": [
      "Step: 149000\n"
     ]
    },
    {
     "name": "stdout",
     "output_type": "stream",
     "text": [
      "Step: 150000\n"
     ]
    }
   ],
   "source": [
    "evolve!(com,\n",
    "        steps=150000,saveEach=1000,\n",
    "        preallocateAgents=1000,\n",
    "        saveCurrentState=true,\n",
    "        progressMessage=(com)->if round(Int,com.t/com.dt)%10000 == 0; println(\"Step: \",round(Int,com.t/com.dt), \" N: \", com.N); end)"
   ]
  },
  {
   "cell_type": "code",
   "execution_count": 59,
   "metadata": {},
   "outputs": [
    {
     "data": {
      "image/png": "[encoded data removed]"
     },
     "metadata": {},
     "output_type": "display_data"
    }
   ],
   "source": [
    "fig = Figure(resolution=(1500,300))\n",
    "\n",
    "for (i,j) in enumerate([1:round(Int,length(com)/4):length(com);length(com)])\n",
    "    ax = Axis3(fig[1,i],\n",
    "                azimuth=3*π/2,\n",
    "                elevation=π/2,\n",
    "                zlabelvisible=false,\n",
    "                zticklabelsvisible=false,\n",
    "                zgridvisible=false,\n",
    "                zspinesvisible=false\n",
    "            )\n",
    "\n",
    "    CBMPlots.plotRods2D!(ax,com[j][:x],com[j][:y],com[j][:d],com[j][:l],com[j][:theta],\n",
    "            color=com[j][:pressure], colorrange=(0,0.05))\n",
    "    xlims!(-20,20)\n",
    "    ylims!(-20,20)\n",
    "end\n",
    "\n",
    "display(fig)"
   ]
  }
 ],
 "metadata": {
  "kernelspec": {
   "display_name": "Julia 1.8.0",
   "language": "julia",
   "name": "julia-1.8"
  },
  "language_info": {
   "file_extension": ".jl",
   "mimetype": "application/julia",
   "name": "julia",
   "version": "1.8.0"
  },
  "orig_nbformat": 4
 },
 "nbformat": 4,
 "nbformat_minor": 2
}
