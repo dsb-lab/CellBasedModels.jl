{
 "cells": [
  {
   "cell_type": "markdown",
   "source": [
    "This is the model implemented from [this paper](https://www.pnas.org/content/pnas/105/40/15346.full.pdf)."
   ],
   "metadata": {}
  },
  {
   "cell_type": "code",
   "execution_count": 903,
   "source": [
    "using AgentBasedModels\n",
    "using GLMakie\n",
    "import GLMakie.GeometryBasics as gm\n",
    "using Random\n",
    "using Distributions\n",
    "using CUDA"
   ],
   "outputs": [],
   "metadata": {}
  },
  {
   "cell_type": "code",
   "execution_count": 913,
   "source": [
    "model = @agent(2,\n",
    "            [vx,vy,theta,ω,d,l,m,I,Fx,Fy,W]::Local, #Local parameters\n",
    "            [kn,γn,γt,μcc,μcw,β,βω]::Global,          #Global parameters\n",
    "            contact::Identity,\n",
    "\n",
    "            UpdateInteraction = begin\n",
    "                #Compute distance between centers of mass\n",
    "                dAux = sqrt((x_i-x_j)^2+(y_i-y_j)^2)\n",
    "                if dAux > 0 && dAux < (l_i+l_j)/2\n",
    "                    if abs(theta_i-theta_j)>0.001 #If not aligned\n",
    "                        #Compute intersecting point virtual spheres\n",
    "                        cxAux = (x_i-x_j)\n",
    "                        cyAux = (y_i-y_j)\n",
    "                        normAux = cos(theta_i)*sin(theta_j)-sin(theta_i)*cos(theta_j)\n",
    "                        scaleAux = (-sin(theta_j)*cxAux+cos(theta_j)*cyAux)/normAux\n",
    "                        pxAux = scaleAux*cos(theta_i)+x_i\n",
    "                        pyAux = scaleAux*sin(theta_i)+y_i\n",
    "                        \n",
    "                        #Compute distance fron mass center\n",
    "                        di = sqrt((x_i-pxAux)^2+(y_i-pyAux)^2)\n",
    "                        if di <= l_i/2 #Cross point in cylinder\n",
    "                            xiAux = 0.999*scaleAux*cos(theta_i)+x_i\n",
    "                            yiAux = 0.999*scaleAux*sin(theta_i)+y_i\n",
    "                            scaleAux = (-sin(theta_i)*cxAux+cos(theta_i)*cyAux)/normAux\n",
    "                            xjAux = 0.999*scaleAux*cos(theta_j)+x_j\n",
    "                            yjAux = 0.999*scaleAux*sin(theta_j)+y_j\n",
    "                        else #Cross point outside cylinder\n",
    "                            xiAux = l_i/2*cos(theta_i)+x_i\n",
    "                            yiAux = l_i/2*sin(theta_i)+y_i\n",
    "                            xjAux = l_j/2*cos(theta_j)+x_j\n",
    "                            yjAux = l_j/2*sin(theta_j)+y_j\n",
    "                        end\n",
    "                    else #If aligned\n",
    "                        xiAux = -0.49*(x_i-x_j)*cos(theta_i)+x_i\n",
    "                        yiAux = -0.49*(y_i-y_j)*sin(theta_i)+y_i\n",
    "                        xjAux = -0.49*(x_j-x_i)*cos(theta_j)+x_j\n",
    "                        yjAux = -0.49*(y_j-y_i)*sin(theta_j)+y_j         \n",
    "                    end\n",
    "\n",
    "                    #Compute distance between virtual spheres\n",
    "                    rij = sqrt((xiAux-xjAux)^2+(yiAux-yjAux)^2)\n",
    "                    if rij > 0 && rij < d_i #If it is smaller than a diameter\n",
    "                        #Compute auxiliar\n",
    "                        δAux = d - rij\n",
    "                        MeAux = m_i/2\n",
    "                        #Compute interaction\n",
    "                        nijx = (xiAux-xjAux)/rij\n",
    "                        nijy = (yiAux-yjAux)/rij\n",
    "                        vijx = (vx_i-vx_j)\n",
    "                        vijy = (vy_i-vy_j)\n",
    "                        #Compute inner product\n",
    "                        vnAux = nijx*vijx+nijy*vijy\n",
    "                        #Compute normal and tangential forces\n",
    "                        FnAux = kn*δAux^1.5-γn*MeAux*δAux*vnAux\n",
    "                        FtAux = -min(γt*MeAux*δAux^0.5,μcc*FnAux)\n",
    "                        #Append to interaction forces\n",
    "                        Fijx = FnAux*nijx #+ FtAux*(vijx-vnAux*nijx)\n",
    "                        Fijy = FnAux*nijy #+ FtAux*(vijy-vnAux*nijx)\n",
    "                        Fx_i += Fijx\n",
    "                        Fy_i += Fijy\n",
    "                        #Append radial forces\n",
    "                        W += (xiAux-x_i)*Fijy - (yiAux-y_i)*Fijx\n",
    "                    end\n",
    "                end\n",
    "            end,\n",
    "\n",
    "            Equation = begin\n",
    "                d_x = vx*dt\n",
    "                d_y = vy*dt\n",
    "                d_vx = -β*vx*dt+Fx/m*dt\n",
    "                d_vy = -β*vy*dt+Fy/m*dt\n",
    "                d_ω = W/(m*(d+l)^2/12+m*d^2)*dt-βω*ω*dt\n",
    "                d_theta = ω*dt\n",
    "            end,\n",
    "\n",
    "            UpdateLocal = begin #Bound cells\n",
    "                if theta < -π/2\n",
    "                    theta += π\n",
    "                elseif theta > π/2\n",
    "                    theta -= π\n",
    "                end\n",
    "            end\n",
    "    );\n",
    "\n",
    "space = \n",
    "\n",
    "model = compile(model,integrator=\"Heun\",platform=\"cpu\");\n",
    "#model.program"
   ],
   "outputs": [],
   "metadata": {}
  },
  {
   "cell_type": "code",
   "execution_count": 914,
   "source": [
    "com = Community(model,N=1000);\n",
    "\n",
    "com.kn = 1\n",
    "com.γn = 1\n",
    "com.γt = 1\n",
    "com.μcc = 0.1\n",
    "com.μcw = 0.8\n",
    "com.β = 5\n",
    "com.βω = 1\n",
    "\n",
    "com.m .= 1\n",
    "com.d .= 1\n",
    "com.l .= 5;\n",
    "\n",
    "com.x = rand(Uniform(-1,1),com.N)\n",
    "com.y = rand(Uniform(-1,1),com.N)\n",
    "com.theta = rand(Uniform(-π/2,π/2),com.N);"
   ],
   "outputs": [],
   "metadata": {}
  },
  {
   "cell_type": "code",
   "execution_count": 915,
   "source": [
    "comt = model.evolve(com,dt=0.1,tMax=1000,dtSave=1);"
   ],
   "outputs": [],
   "metadata": {}
  },
  {
   "cell_type": "code",
   "execution_count": 924,
   "source": [
    "t = 1\n",
    "\n",
    "fig = Figure(resolution=(1000,1000))\n",
    "ax = Axis(fig[1,1])\n",
    "\n",
    "# lx = (comt[t].l[1]/2+comt[t].d[1])*cos(comt[t].theta[1])\n",
    "# ly = (comt[t].l[1]/2+comt[t].d[1])*sin(comt[t].theta[1])\n",
    "# x = [comt[t].x[1]-lx, comt[t].x[1]+lx]\n",
    "# y = [comt[t].y[1]-ly, comt[t].y[1]+ly]\n",
    "# fig,ax = lines(x,y,linewidth=45*comt[t].d[1])\n",
    "for i in range(1,comt[t].N,step=1)\n",
    "    lx = (comt[t].l[i]/2)*cos(comt[t].theta[i])\n",
    "    ly = (comt[t].l[i]/2)*sin(comt[t].theta[i])\n",
    "    x = [comt[t].x[i]-lx, comt[t].x[i]+lx]\n",
    "    y = [comt[t].y[i]-ly, comt[t].y[i]+ly]\n",
    "    lines!(ax, x, y, linewidth=1*comt[t].d[i])\n",
    "end\n",
    "\n",
    "xlims!(ax,-100,100)\n",
    "ylims!(ax,-100,100)\n",
    "\n",
    "fig"
   ],
   "outputs": [
    {
     "output_type": "execute_result",
     "data": {
      "text/plain": [
       "Figure()"
      ],
      "image/png": "[encoded data removed]"
     },
     "metadata": {},
     "execution_count": 924
    }
   ],
   "metadata": {}
  },
  {
   "cell_type": "code",
   "execution_count": 566,
   "source": [
    "model = @agent(2,\n",
    "            [gₖ,gₗ,C,Vₖ₀,Vₗ₀,δₖ,δₗ,Sₜₕ,Vₜₕ,α₀,β,m,σ,γₛ,αₛ,η,ϵ,βₖ,V₀,αₑ,γₑ,E₀,q,Kₑ,αₖ,βₖ,Dₖ]::Global,  #Global parameters\n",
    "            [V,n,S,Ki,E]::Local, #Bichemical variables\n",
    "            [VK,VL,P]::Local,    #Biochemical parameters\n",
    "\n",
    "            Ke::Medium,\n",
    "\n",
    "            UpdateLocal = begin\n",
    "                VK = Vₖ₀+δₖ*(Kₑ+K)       #Resting potential\n",
    "                VL = Vₗ₀+δₗ*(Kₑ+K)       #Resting potential\n",
    "                P = Ke^q/((E-E₀)^q+Kₑ^q) #Tumbling dynamics\n",
    "            end;\n",
    "\n",
    "            Equation = begin #Eqautions of the chemical\n",
    "                d_V = (-gₖ*n^4*(V-Vₖ)-gₗ*(V-Vₗ))/(η*C)*dt         #Membrane potential\n",
    "                d_n = (α₀S^m/(Sₜₕ^m+S^m)*(1-n)-β*n)/η*dt          #Potasium levels\n",
    "                d_S = (αₛ*(Vₜₕ-V)/(exp((Vₜₕ-V)/σ)-1)-γₛ*S)/η*dt   #Stress\n",
    "                d_Ki = (-ϵ*gₖ*n^4*(V-Vₖ)+βₖ*max((V₀-V),0))*dt     #Intrecellular potassium\n",
    "                d_E = (-αₑ*V-γₑ*E)*dt                             #Energy\n",
    "            end;\n",
    "\n",
    "            UpdateMedium = begin\n",
    "                ∂t_Ke = δx(x)+Dₖ*(Δx(Ke)+Δx(Ke)) #Difussion model\n",
    "            end\n",
    ")"
   ],
   "outputs": [
    {
     "output_type": "error",
     "ename": "LoadError",
     "evalue": "LoadError: MethodError: \u001b[0mCannot `convert` an object of type \u001b[92mExpr\u001b[39m\u001b[0m to an object of type \u001b[91mInt64\u001b[39m\n\u001b[0mClosest candidates are:\n\u001b[0m  convert(::Type{T}, \u001b[91m::LLVM.GenericValue\u001b[39m) where T<:Signed at /home/gabriel/.julia/packages/LLVM/XEOgl/src/execution.jl:27\n\u001b[0m  convert(::Type{T}, \u001b[91m::LLVM.ConstantInt\u001b[39m) where T<:Signed at /home/gabriel/.julia/packages/LLVM/XEOgl/src/core/value/constant.jl:76\n\u001b[0m  convert(::Type{T}, \u001b[91m::Base.TwicePrecision\u001b[39m) where T<:Number at twiceprecision.jl:250\n\u001b[0m  ...\nin expression starting at In[566]:1",
     "traceback": [
      "LoadError: MethodError: \u001b[0mCannot `convert` an object of type \u001b[92mExpr\u001b[39m\u001b[0m to an object of type \u001b[91mInt64\u001b[39m\n\u001b[0mClosest candidates are:\n\u001b[0m  convert(::Type{T}, \u001b[91m::LLVM.GenericValue\u001b[39m) where T<:Signed at /home/gabriel/.julia/packages/LLVM/XEOgl/src/execution.jl:27\n\u001b[0m  convert(::Type{T}, \u001b[91m::LLVM.ConstantInt\u001b[39m) where T<:Signed at /home/gabriel/.julia/packages/LLVM/XEOgl/src/core/value/constant.jl:76\n\u001b[0m  convert(::Type{T}, \u001b[91m::Base.TwicePrecision\u001b[39m) where T<:Number at twiceprecision.jl:250\n\u001b[0m  ...\nin expression starting at In[566]:1",
      "",
      "Stacktrace:",
      " [1] setproperty!(x::Agent, f::Symbol, v::Expr)",
      "   @ Base ./Base.jl:34",
      " [2] var\"@agent\"(__source__::LineNumberNode, __module__::Module, dims::Any, varargs::Vararg{Any, N} where N)",
      "   @ AgentBasedModels /home2/Bulk PhD/Projects/Agent Based Simulator/AgentBasedModels.jl/src/agent/constructAgent.jl:147",
      " [3] eval",
      "   @ ./boot.jl:360 [inlined]",
      " [4] include_string(mapexpr::typeof(REPL.softscope), mod::Module, code::String, filename::String)",
      "   @ Base ./loading.jl:1116"
     ]
    }
   ],
   "metadata": {}
  },
  {
   "cell_type": "code",
   "execution_count": null,
   "source": [],
   "outputs": [],
   "metadata": {}
  }
 ],
 "metadata": {
  "orig_nbformat": 4,
  "language_info": {
   "file_extension": ".jl",
   "name": "julia",
   "mimetype": "application/julia",
   "version": "1.6.3"
  },
  "kernelspec": {
   "name": "julia-1.6",
   "display_name": "Julia 1.6.1",
   "language": "julia"
  }
 },
 "nbformat": 4,
 "nbformat_minor": 2
}