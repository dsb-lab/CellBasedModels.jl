{
 "cells": [
  {
   "cell_type": "markdown",
   "source": [
    "# Neighbors"
   ],
   "metadata": {}
  },
  {
   "cell_type": "code",
   "execution_count": 1,
   "source": [
    "using CUDA\n",
    "using BenchmarkTools\n",
    "using Random"
   ],
   "outputs": [],
   "metadata": {}
  },
  {
   "cell_type": "code",
   "execution_count": 2,
   "source": [
    "using DataFrames"
   ],
   "outputs": [],
   "metadata": {}
  },
  {
   "cell_type": "code",
   "execution_count": 49,
   "source": [
    "struct a\n",
    "    a\n",
    "    b\n",
    "    c\n",
    "    d\n",
    "    e\n",
    "    f\n",
    "    g\n",
    "    h\n",
    "    i\n",
    "    j\n",
    "    k\n",
    "    l\n",
    "end\n",
    "\n",
    "var = a([1],[2],[3],[4],[5],[6],[7],[8],[9],[10],[11],[12])\n",
    "\n",
    "d = Dict(\n",
    "        :a => [1],\n",
    "        :b => [1],\n",
    "        :c => [1],\n",
    "        :d => [1],\n",
    "        :e => [1],\n",
    "        :f => [1],\n",
    "        :g => [1],\n",
    "        :h => [1],\n",
    "        :i => [1],\n",
    "        :j => [1],\n",
    "        :k => [1],\n",
    "        :l => [1]\n",
    "    );"
   ],
   "outputs": [],
   "metadata": {}
  },
  {
   "cell_type": "code",
   "execution_count": 55,
   "source": [
    "function f1(a,b,c,d,e,f,g,h,i,j,k,l)\n",
    "\n",
    "    return \n",
    "\n",
    "end\n",
    "\n",
    "function f2(var)\n",
    "\n",
    "    f1(var.a,var.b,var.c,var.d,var.e,var.f,var.g,var.h,var.i,var.j,var.k,var.l)\n",
    "\n",
    "    return \n",
    "end\n",
    "\n",
    "function f3(d)\n",
    "\n",
    "    f1(d[:a],d[:b],d[:c],d[:d],d[:e],d[:f],d[:g],d[:h],d[:i],d[:j],d[:k],d[:l])\n",
    "\n",
    "    return \n",
    "end"
   ],
   "outputs": [
    {
     "output_type": "execute_result",
     "data": {
      "text/plain": [
       "f3 (generic function with 1 method)"
      ]
     },
     "metadata": {},
     "execution_count": 55
    }
   ],
   "metadata": {}
  },
  {
   "cell_type": "code",
   "execution_count": 59,
   "source": [
    "l = ([1],[2],[3],[4],[5],[6],[7],[8],[9],[10],[11],[12])\n",
    "@btime f1(l...)\n",
    "@btime f1(var.a,var.b,var.c,var.d,var.e,var.f,var.g,var.h,var.i,var.j,var.k,var.l)\n",
    "@btime f1(d[:a],d[:b],d[:c],d[:d],d[:e],d[:f],d[:g],d[:h],d[:i],d[:j],d[:k],d[:l])\n",
    "@btime f2(var)\n",
    "@btime f3(d)"
   ],
   "outputs": [
    {
     "output_type": "stream",
     "name": "stdout",
     "text": [
      "  234.459 ns (12 allocations: 1.12 KiB)\n",
      "  292.034 ns (12 allocations: 1.31 KiB)\n",
      "  160.383 ns (0 allocations: 0 bytes)\n",
      "  7.854 ns (0 allocations: 0 bytes)\n",
      "  74.618 ns (0 allocations: 0 bytes)\n"
     ]
    }
   ],
   "metadata": {}
  },
  {
   "cell_type": "code",
   "execution_count": 24,
   "source": [
    "function kernel(x::CuArray)\n",
    "\n",
    "    print(\"Cuda\")\n",
    "\n",
    "    return\n",
    "\n",
    "end\n",
    "\n",
    "function kernel(x::Array)\n",
    "\n",
    "    print(\"Cpu\")\n",
    "\n",
    "    return\n",
    "\n",
    "end\n",
    "\n",
    "x = zeros(10)\n",
    "x2 = CUDA.zeros(10)\n",
    "\n",
    "kernel(x2)"
   ],
   "outputs": [
    {
     "output_type": "stream",
     "name": "stdout",
     "text": [
      "Cuda"
     ]
    }
   ],
   "metadata": {}
  },
  {
   "cell_type": "code",
   "execution_count": 26,
   "source": [
    "using BenchmarkTools"
   ],
   "outputs": [],
   "metadata": {}
  },
  {
   "cell_type": "code",
   "execution_count": 2,
   "source": [
    "using AgentBasedModels"
   ],
   "outputs": [],
   "metadata": {}
  },
  {
   "cell_type": "code",
   "execution_count": 25,
   "source": [
    "agent = Agent(3,\n",
    "            updateLocal=quote\n",
    "                x += 1\n",
    "            end\n",
    "            )\n",
    "community = Community(agent,N=10)\n",
    "\n",
    "community.x .= 1\n",
    "\n",
    "loadToPlatform!(community,addAgents=10)\n",
    "\n",
    "community.xNew_ .= 2\n",
    "\n",
    "update!(community)\n",
    "\n",
    "community.x"
   ],
   "outputs": [
    {
     "output_type": "execute_result",
     "data": {
      "text/plain": [
       "20-element Vector{Float64}:\n",
       " 2.0\n",
       " 2.0\n",
       " 2.0\n",
       " 2.0\n",
       " 2.0\n",
       " 2.0\n",
       " 2.0\n",
       " 2.0\n",
       " 2.0\n",
       " 2.0\n",
       " 2.0\n",
       " 2.0\n",
       " 2.0\n",
       " 2.0\n",
       " 2.0\n",
       " 2.0\n",
       " 2.0\n",
       " 2.0\n",
       " 2.0\n",
       " 2.0"
      ]
     },
     "metadata": {},
     "execution_count": 25
    }
   ],
   "metadata": {}
  },
  {
   "cell_type": "code",
   "execution_count": null,
   "source": [],
   "outputs": [],
   "metadata": {}
  }
 ],
 "metadata": {
  "orig_nbformat": 4,
  "language_info": {
   "file_extension": ".jl",
   "name": "julia",
   "mimetype": "application/julia",
   "version": "1.6.3"
  },
  "kernelspec": {
   "name": "julia-1.6",
   "display_name": "Julia 1.6.3",
   "language": "julia"
  }
 },
 "nbformat": 4,
 "nbformat_minor": 2
}