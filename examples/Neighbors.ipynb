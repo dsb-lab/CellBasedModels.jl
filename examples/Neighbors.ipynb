{
 "cells": [
  {
   "cell_type": "markdown",
   "source": [
    "# Neighbors"
   ],
   "metadata": {}
  },
  {
   "cell_type": "code",
   "execution_count": null,
   "source": [
    "using AgentBasedModels"
   ],
   "outputs": [],
   "metadata": {}
  },
  {
   "cell_type": "markdown",
   "source": [],
   "metadata": {}
  }
 ],
 "metadata": {
  "orig_nbformat": 4,
  "language_info": {
   "name": "julia"
  },
  "kernelspec": {
   "name": "julia-1.6",
   "display_name": "Julia 1.6.3"
  }
 },
 "nbformat": 4,
 "nbformat_minor": 2
}