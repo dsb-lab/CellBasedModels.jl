{
 "cells": [
  {
   "cell_type": "markdown",
   "source": [
    "# Neighbors"
   ],
   "metadata": {}
  },
  {
   "cell_type": "code",
   "execution_count": 25,
   "source": [
    "using JLD2"
   ],
   "outputs": [],
   "metadata": {}
  },
  {
   "cell_type": "code",
   "execution_count": 47,
   "source": [
    "f = jldopen(\"example.jld2\", \"a+\")\n",
    "f[\"base\"] = \"hola\"\n",
    "group = JLD2.Group(f, \"times\")\n",
    "for i in 1:10\n",
    "    group[string(i)] = a(i,i)\n",
    "end\n",
    "close(f)"
   ],
   "outputs": [],
   "metadata": {}
  },
  {
   "cell_type": "code",
   "execution_count": 52,
   "source": [
    "1 < 3 < 5"
   ],
   "outputs": [
    {
     "output_type": "execute_result",
     "data": {
      "text/plain": [
       "true"
      ]
     },
     "metadata": {},
     "execution_count": 52
    }
   ],
   "metadata": {}
  },
  {
   "cell_type": "code",
   "execution_count": 50,
   "source": [
    "f = jldopen(\"example.jld2\", \"a+\")"
   ],
   "outputs": [
    {
     "output_type": "execute_result",
     "data": {
      "text/plain": [
       "JLDFile /home2/Bulk PhD/Projects/AgentBasedModels.jl/examples/example.jld2 (read/write)\n",
       " ├─🔢 base\n",
       " └─📂 times\n",
       "    ├─🔢 1\n",
       "    ├─🔢 2\n",
       "    ├─🔢 3\n",
       "    ├─🔢 4\n",
       "    ├─🔢 5\n",
       "    ├─🔢 6\n",
       "    ├─🔢 7\n",
       "    └─ ⋯ (3 more entries)"
      ]
     },
     "metadata": {},
     "execution_count": 50
    }
   ],
   "metadata": {}
  },
  {
   "cell_type": "code",
   "execution_count": 51,
   "source": [
    "f[\"base\"]"
   ],
   "outputs": [
    {
     "output_type": "execute_result",
     "data": {
      "text/plain": [
       "\"hola\""
      ]
     },
     "metadata": {},
     "execution_count": 51
    }
   ],
   "metadata": {}
  },
  {
   "cell_type": "code",
   "execution_count": 20,
   "source": [
    "using CUDA\n",
    "using BenchmarkTools\n",
    "using Random\n",
    "using Distributions"
   ],
   "outputs": [],
   "metadata": {}
  },
  {
   "cell_type": "code",
   "execution_count": 22,
   "source": [
    "N = 100000\n",
    "n = 100000\n",
    "x = CUDA.zeros(N,3)\n",
    "y = CUDA.zeros(N,3)\n",
    "\n",
    "@btime kernel(x)\n",
    "@btime kernel2(y,Uniform(0,1))"
   ],
   "outputs": [
    {
     "output_type": "stream",
     "name": "stdout",
     "text": [
      "  964.773 μs (0 allocations: 0 bytes)\n",
      "  939.335 μs (0 allocations: 0 bytes)\n"
     ]
    }
   ],
   "metadata": {}
  },
  {
   "cell_type": "code",
   "execution_count": 31,
   "source": [
    "function f(x;kargs...)\n",
    "    println(:a in keys(kargs))\n",
    "    return\n",
    "end\n",
    "f(0;a=9)"
   ],
   "outputs": [
    {
     "output_type": "stream",
     "name": "stdout",
     "text": [
      "true\n"
     ]
    }
   ],
   "metadata": {}
  },
  {
   "cell_type": "code",
   "execution_count": 3,
   "source": [
    "function f1(a,b,c,d,e,f,g,h,i,j,k,l)\n",
    "\n",
    "    return \n",
    "\n",
    "end\n",
    "\n",
    "function f2(var)\n",
    "\n",
    "    f1(var.a,var.b,var.c,var.d,var.e,var.f,var.g,var.h,var.i,var.j,var.k,var.l)\n",
    "\n",
    "    return \n",
    "end\n",
    "\n",
    "function f3(d)\n",
    "\n",
    "    f1(d[:a],d[:b],d[:c],d[:d],d[:e],d[:f],d[:g],d[:h],d[:i],d[:j],d[:k],d[:l])\n",
    "\n",
    "    return \n",
    "end"
   ],
   "outputs": [
    {
     "output_type": "execute_result",
     "data": {
      "text/plain": [
       "f3 (generic function with 1 method)"
      ]
     },
     "metadata": {},
     "execution_count": 3
    }
   ],
   "metadata": {}
  },
  {
   "cell_type": "code",
   "execution_count": 4,
   "source": [
    "l = ([1],[2],[3],[4],[5],[6],[7],[8],[9],[10],[11],[12])\n",
    "@btime f1(l...)\n",
    "@btime f1(var.a,var.b,var.c,var.d,var.e,var.f,var.g,var.h,var.i,var.j,var.k,var.l)\n",
    "@btime f1(d[:a],d[:b],d[:c],d[:d],d[:e],d[:f],d[:g],d[:h],d[:i],d[:j],d[:k],d[:l])\n",
    "@btime f2(var)\n",
    "@btime f3(d)"
   ],
   "outputs": [
    {
     "output_type": "stream",
     "name": "stdout",
     "text": [
      "  49.712 ns (0 allocations: 0 bytes)\n",
      "  206.088 ns (0 allocations: 0 bytes)\n",
      "  165.778 ns (0 allocations: 0 bytes)\n",
      "  7.863 ns (0 allocations: 0 bytes)\n",
      "  73.349 ns (0 allocations: 0 bytes)\n"
     ]
    }
   ],
   "metadata": {}
  },
  {
   "cell_type": "code",
   "execution_count": 24,
   "source": [
    "function kernel(x::CuArray)\n",
    "\n",
    "    print(\"Cuda\")\n",
    "\n",
    "    return\n",
    "\n",
    "end\n",
    "\n",
    "function kernel(x::Array)\n",
    "\n",
    "    print(\"Cpu\")\n",
    "\n",
    "    return\n",
    "\n",
    "end\n",
    "\n",
    "x = zeros(10)\n",
    "x2 = CUDA.zeros(10)\n",
    "\n",
    "kernel(x2)"
   ],
   "outputs": [
    {
     "output_type": "stream",
     "name": "stdout",
     "text": [
      "Cuda"
     ]
    }
   ],
   "metadata": {}
  },
  {
   "cell_type": "code",
   "execution_count": 26,
   "source": [
    "using BenchmarkTools"
   ],
   "outputs": [],
   "metadata": {}
  },
  {
   "cell_type": "code",
   "execution_count": 2,
   "source": [
    "using AgentBasedModels"
   ],
   "outputs": [],
   "metadata": {}
  },
  {
   "cell_type": "code",
   "execution_count": 25,
   "source": [
    "agent = Agent(3,\n",
    "            updateLocal=quote\n",
    "                x += 1\n",
    "            end\n",
    "            )\n",
    "community = Community(agent,N=10)\n",
    "\n",
    "community.x .= 1\n",
    "\n",
    "loadToPlatform!(community,addAgents=10)\n",
    "\n",
    "community.xNew_ .= 2\n",
    "\n",
    "update!(community)\n",
    "\n",
    "community.x"
   ],
   "outputs": [
    {
     "output_type": "execute_result",
     "data": {
      "text/plain": [
       "20-element Vector{Float64}:\n",
       " 2.0\n",
       " 2.0\n",
       " 2.0\n",
       " 2.0\n",
       " 2.0\n",
       " 2.0\n",
       " 2.0\n",
       " 2.0\n",
       " 2.0\n",
       " 2.0\n",
       " 2.0\n",
       " 2.0\n",
       " 2.0\n",
       " 2.0\n",
       " 2.0\n",
       " 2.0\n",
       " 2.0\n",
       " 2.0\n",
       " 2.0\n",
       " 2.0"
      ]
     },
     "metadata": {},
     "execution_count": 25
    }
   ],
   "metadata": {}
  },
  {
   "cell_type": "code",
   "execution_count": null,
   "source": [],
   "outputs": [],
   "metadata": {}
  }
 ],
 "metadata": {
  "orig_nbformat": 4,
  "language_info": {
   "file_extension": ".jl",
   "name": "julia",
   "mimetype": "application/julia",
   "version": "1.6.3"
  },
  "kernelspec": {
   "name": "julia-1.6",
   "display_name": "Julia 1.6.3",
   "language": "julia"
  }
 },
 "nbformat": 4,
 "nbformat_minor": 2
}